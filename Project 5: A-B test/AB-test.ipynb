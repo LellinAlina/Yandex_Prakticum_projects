{
 "cells": [
  {
   "cell_type": "markdown",
   "metadata": {},
   "source": [
    "# Проект \"Принятие решений в бизнеесе\""
   ]
  },
  {
   "cell_type": "markdown",
   "metadata": {},
   "source": [
    "Вы — аналитик крупного интернет-магазина. Вместе с отделом маркетинга вы подготовили список гипотез для увеличения выручки.\\\n",
    "Приоритизируйте гипотезы, запустите A/B-тест и проанализируйте результаты.\\\n",
    "<b>План выполнения проекта:</b>\\\n",
    "Шаг 1. Приоритизация гипотез\\\n",
    "Шаг 2. Анализ A/B-теста:\n",
    " - Предобработка данных.\n",
    " - Постройте график кумулятивной выручки по группам. Сделайте выводы и предположения.\n",
    " - Постройте график кумулятивного среднего чека по группам. Сделайте выводы и предположения.\n",
    " - Постройте график относительного изменения кумулятивного среднего чека группы B к группе A. Сделайте выводы и предположения.\n",
    " - Постройте график кумулятивного среднего количества заказов на посетителя по группам. Сделайте выводы и предположения.\n",
    " - Постройте график относительного изменения кумулятивного среднего количества заказов на посетителя группы B к группе A. \n",
    " - Сделайте выводы и предположения.\n",
    " - Постройте точечный график количества заказов по пользователям. Сделайте выводы и предположения.\n",
    " - Посчитайте 95-й и 99-й перцентили количества заказов на пользователя. Выберите границу для определения аномальных пользователей.\n",
    " - Постройте точечный график стоимостей заказов. Сделайте выводы и предположения.\n",
    " - Посчитайте 95-й и 99-й перцентили стоимости заказов. Выберите границу для определения аномальных заказов.\n",
    " - Посчитайте статистическую значимость различий в среднем количестве заказов на посетителя между группами по «сырым» данным.  - Сделайте выводы и предположения.\n",
    " - Посчитайте статистическую значимость различий в среднем чеке заказа между группами по «сырым» данным. Сделайте выводы и предположения.\n",
    " - Посчитайте статистическую значимость различий в среднем количестве заказов на посетителя между группами по «очищенным» данным. Сделайте выводы и предположения.\n",
    " - Посчитайте статистическую значимость различий в среднем чеке заказа между группами по «очищенным» данным. Сделайте выводы и предположения.\n",
    " - Принять решение по результатам теста и объясните его. Варианты решений:\n",
    "   1. Остановить тест, зафиксировать победу одной из групп.\n",
    "   2. Остановить тест, зафиксировать отсутствие различий между группами.\n",
    "   3. Продолжить тест.\n"
   ]
  },
  {
   "cell_type": "markdown",
   "metadata": {},
   "source": [
    "<b>Описание данных</b>\\\n",
    "Данные для первой части:\\\n",
    "Файл hypothesis.csv. \n",
    " - Hypothesis — краткое описание гипотезы;\n",
    " - Reach — охват пользователей по 10-балльной шкале;\n",
    " - Impact — влияние на пользователей по 10-балльной шкале;\n",
    " - Confidence — уверенность в гипотезе по 10-балльной шкале;\n",
    " - Efforts — затраты ресурсов на проверку гипотезы по 10-балльной шкале. Чем больше значение Efforts, тем дороже проверка гипотезы.\n",
    " \\\n",
    "Данные для второй части:\\\n",
    "\n",
    "Файл orders.csv.\n",
    "- transactionId — идентификатор заказа;\n",
    "- visitorId — идентификатор пользователя, совершившего заказ;\n",
    "- date — дата, когда был совершён заказ;\n",
    "- revenue — выручка заказа;\n",
    "- group — группа A/B-теста, в которую попал заказ.\n",
    "\n",
    "\n",
    "Файл visitors.csv.\n",
    "- date — дата;\n",
    "- group — группа A/B-теста;\n",
    "- visitors — количество пользователей в указанную дату в указанной группе A/B-теста"
   ]
  },
  {
   "cell_type": "markdown",
   "metadata": {},
   "source": [
    "## Приоритизация гипотез"
   ]
  },
  {
   "cell_type": "code",
   "execution_count": 1,
   "metadata": {},
   "outputs": [],
   "source": [
    "import pandas as pd\n",
    "import datetime as dt\n",
    "import seaborn as sns\n",
    "import numpy as np\n",
    "import matplotlib.pyplot as plt\n",
    "import scipy.stats as stats"
   ]
  },
  {
   "cell_type": "code",
   "execution_count": 2,
   "metadata": {},
   "outputs": [],
   "source": [
    "df = pd.read_csv('C\\\\datasets\\\\hypothesis.csv')"
   ]
  },
  {
   "cell_type": "code",
   "execution_count": 3,
   "metadata": {},
   "outputs": [
    {
     "data": {
      "text/html": [
       "<div>\n",
       "<style scoped>\n",
       "    .dataframe tbody tr th:only-of-type {\n",
       "        vertical-align: middle;\n",
       "    }\n",
       "\n",
       "    .dataframe tbody tr th {\n",
       "        vertical-align: top;\n",
       "    }\n",
       "\n",
       "    .dataframe thead th {\n",
       "        text-align: right;\n",
       "    }\n",
       "</style>\n",
       "<table border=\"1\" class=\"dataframe\">\n",
       "  <thead>\n",
       "    <tr style=\"text-align: right;\">\n",
       "      <th></th>\n",
       "      <th>Hypothesis</th>\n",
       "      <th>Reach</th>\n",
       "      <th>Impact</th>\n",
       "      <th>Confidence</th>\n",
       "      <th>Efforts</th>\n",
       "    </tr>\n",
       "  </thead>\n",
       "  <tbody>\n",
       "    <tr>\n",
       "      <th>0</th>\n",
       "      <td>Добавить два новых канала привлечения трафика, что позволит привлекать на 30% больше пользователей</td>\n",
       "      <td>3</td>\n",
       "      <td>10</td>\n",
       "      <td>8</td>\n",
       "      <td>6</td>\n",
       "    </tr>\n",
       "    <tr>\n",
       "      <th>1</th>\n",
       "      <td>Запустить собственную службу доставки, что сократит срок доставки заказов</td>\n",
       "      <td>2</td>\n",
       "      <td>5</td>\n",
       "      <td>4</td>\n",
       "      <td>10</td>\n",
       "    </tr>\n",
       "    <tr>\n",
       "      <th>2</th>\n",
       "      <td>Добавить блоки рекомендаций товаров на сайт интернет магазина, чтобы повысить конверсию и средний чек заказа</td>\n",
       "      <td>8</td>\n",
       "      <td>3</td>\n",
       "      <td>7</td>\n",
       "      <td>3</td>\n",
       "    </tr>\n",
       "    <tr>\n",
       "      <th>3</th>\n",
       "      <td>Изменить структура категорий, что увеличит конверсию, т.к. пользователи быстрее найдут нужный товар</td>\n",
       "      <td>8</td>\n",
       "      <td>3</td>\n",
       "      <td>3</td>\n",
       "      <td>8</td>\n",
       "    </tr>\n",
       "    <tr>\n",
       "      <th>4</th>\n",
       "      <td>Изменить цвет фона главной страницы, чтобы увеличить вовлеченность пользователей</td>\n",
       "      <td>3</td>\n",
       "      <td>1</td>\n",
       "      <td>1</td>\n",
       "      <td>1</td>\n",
       "    </tr>\n",
       "    <tr>\n",
       "      <th>5</th>\n",
       "      <td>Добавить страницу отзывов клиентов о магазине, что позволит увеличить количество заказов</td>\n",
       "      <td>3</td>\n",
       "      <td>2</td>\n",
       "      <td>2</td>\n",
       "      <td>3</td>\n",
       "    </tr>\n",
       "    <tr>\n",
       "      <th>6</th>\n",
       "      <td>Показать на главной странице баннеры с актуальными акциями и распродажами, чтобы увеличить конверсию</td>\n",
       "      <td>5</td>\n",
       "      <td>3</td>\n",
       "      <td>8</td>\n",
       "      <td>3</td>\n",
       "    </tr>\n",
       "    <tr>\n",
       "      <th>7</th>\n",
       "      <td>Добавить форму подписки на все основные страницы, чтобы собрать базу клиентов для email-рассылок</td>\n",
       "      <td>10</td>\n",
       "      <td>7</td>\n",
       "      <td>8</td>\n",
       "      <td>5</td>\n",
       "    </tr>\n",
       "    <tr>\n",
       "      <th>8</th>\n",
       "      <td>Запустить акцию, дающую скидку на товар в день рождения</td>\n",
       "      <td>1</td>\n",
       "      <td>9</td>\n",
       "      <td>9</td>\n",
       "      <td>5</td>\n",
       "    </tr>\n",
       "  </tbody>\n",
       "</table>\n",
       "</div>"
      ],
      "text/plain": [
       "                                                                                                     Hypothesis  \\\n",
       "0            Добавить два новых канала привлечения трафика, что позволит привлекать на 30% больше пользователей   \n",
       "1                                     Запустить собственную службу доставки, что сократит срок доставки заказов   \n",
       "2  Добавить блоки рекомендаций товаров на сайт интернет магазина, чтобы повысить конверсию и средний чек заказа   \n",
       "3           Изменить структура категорий, что увеличит конверсию, т.к. пользователи быстрее найдут нужный товар   \n",
       "4                              Изменить цвет фона главной страницы, чтобы увеличить вовлеченность пользователей   \n",
       "5                      Добавить страницу отзывов клиентов о магазине, что позволит увеличить количество заказов   \n",
       "6          Показать на главной странице баннеры с актуальными акциями и распродажами, чтобы увеличить конверсию   \n",
       "7              Добавить форму подписки на все основные страницы, чтобы собрать базу клиентов для email-рассылок   \n",
       "8                                                       Запустить акцию, дающую скидку на товар в день рождения   \n",
       "\n",
       "   Reach  Impact  Confidence  Efforts  \n",
       "0      3      10           8        6  \n",
       "1      2       5           4       10  \n",
       "2      8       3           7        3  \n",
       "3      8       3           3        8  \n",
       "4      3       1           1        1  \n",
       "5      3       2           2        3  \n",
       "6      5       3           8        3  \n",
       "7     10       7           8        5  \n",
       "8      1       9           9        5  "
      ]
     },
     "execution_count": 3,
     "metadata": {},
     "output_type": "execute_result"
    }
   ],
   "source": [
    "pd.set_option('display.max_colwidth', None)\n",
    "df.head(10)"
   ]
  },
  {
   "cell_type": "code",
   "execution_count": 4,
   "metadata": {},
   "outputs": [
    {
     "name": "stdout",
     "output_type": "stream",
     "text": [
      "<class 'pandas.core.frame.DataFrame'>\n",
      "RangeIndex: 9 entries, 0 to 8\n",
      "Data columns (total 5 columns):\n",
      " #   Column      Non-Null Count  Dtype \n",
      "---  ------      --------------  ----- \n",
      " 0   Hypothesis  9 non-null      object\n",
      " 1   Reach       9 non-null      int64 \n",
      " 2   Impact      9 non-null      int64 \n",
      " 3   Confidence  9 non-null      int64 \n",
      " 4   Efforts     9 non-null      int64 \n",
      "dtypes: int64(4), object(1)\n",
      "memory usage: 488.0+ bytes\n"
     ]
    }
   ],
   "source": [
    "df.info()"
   ]
  },
  {
   "cell_type": "markdown",
   "metadata": {},
   "source": [
    "### Примение фреймворка ICE"
   ]
  },
  {
   "cell_type": "code",
   "execution_count": 5,
   "metadata": {},
   "outputs": [],
   "source": [
    "df['ICE'] = (df['Impact']*df['Confidence'])/df['Efforts']"
   ]
  },
  {
   "cell_type": "code",
   "execution_count": 6,
   "metadata": {},
   "outputs": [
    {
     "data": {
      "text/html": [
       "<div>\n",
       "<style scoped>\n",
       "    .dataframe tbody tr th:only-of-type {\n",
       "        vertical-align: middle;\n",
       "    }\n",
       "\n",
       "    .dataframe tbody tr th {\n",
       "        vertical-align: top;\n",
       "    }\n",
       "\n",
       "    .dataframe thead th {\n",
       "        text-align: right;\n",
       "    }\n",
       "</style>\n",
       "<table border=\"1\" class=\"dataframe\">\n",
       "  <thead>\n",
       "    <tr style=\"text-align: right;\">\n",
       "      <th></th>\n",
       "      <th>Hypothesis</th>\n",
       "      <th>ICE</th>\n",
       "    </tr>\n",
       "  </thead>\n",
       "  <tbody>\n",
       "    <tr>\n",
       "      <th>8</th>\n",
       "      <td>Запустить акцию, дающую скидку на товар в день рождения</td>\n",
       "      <td>16.200000</td>\n",
       "    </tr>\n",
       "    <tr>\n",
       "      <th>0</th>\n",
       "      <td>Добавить два новых канала привлечения трафика, что позволит привлекать на 30% больше пользователей</td>\n",
       "      <td>13.333333</td>\n",
       "    </tr>\n",
       "    <tr>\n",
       "      <th>7</th>\n",
       "      <td>Добавить форму подписки на все основные страницы, чтобы собрать базу клиентов для email-рассылок</td>\n",
       "      <td>11.200000</td>\n",
       "    </tr>\n",
       "    <tr>\n",
       "      <th>6</th>\n",
       "      <td>Показать на главной странице баннеры с актуальными акциями и распродажами, чтобы увеличить конверсию</td>\n",
       "      <td>8.000000</td>\n",
       "    </tr>\n",
       "    <tr>\n",
       "      <th>2</th>\n",
       "      <td>Добавить блоки рекомендаций товаров на сайт интернет магазина, чтобы повысить конверсию и средний чек заказа</td>\n",
       "      <td>7.000000</td>\n",
       "    </tr>\n",
       "    <tr>\n",
       "      <th>1</th>\n",
       "      <td>Запустить собственную службу доставки, что сократит срок доставки заказов</td>\n",
       "      <td>2.000000</td>\n",
       "    </tr>\n",
       "    <tr>\n",
       "      <th>5</th>\n",
       "      <td>Добавить страницу отзывов клиентов о магазине, что позволит увеличить количество заказов</td>\n",
       "      <td>1.333333</td>\n",
       "    </tr>\n",
       "    <tr>\n",
       "      <th>3</th>\n",
       "      <td>Изменить структура категорий, что увеличит конверсию, т.к. пользователи быстрее найдут нужный товар</td>\n",
       "      <td>1.125000</td>\n",
       "    </tr>\n",
       "    <tr>\n",
       "      <th>4</th>\n",
       "      <td>Изменить цвет фона главной страницы, чтобы увеличить вовлеченность пользователей</td>\n",
       "      <td>1.000000</td>\n",
       "    </tr>\n",
       "  </tbody>\n",
       "</table>\n",
       "</div>"
      ],
      "text/plain": [
       "                                                                                                     Hypothesis  \\\n",
       "8                                                       Запустить акцию, дающую скидку на товар в день рождения   \n",
       "0            Добавить два новых канала привлечения трафика, что позволит привлекать на 30% больше пользователей   \n",
       "7              Добавить форму подписки на все основные страницы, чтобы собрать базу клиентов для email-рассылок   \n",
       "6          Показать на главной странице баннеры с актуальными акциями и распродажами, чтобы увеличить конверсию   \n",
       "2  Добавить блоки рекомендаций товаров на сайт интернет магазина, чтобы повысить конверсию и средний чек заказа   \n",
       "1                                     Запустить собственную службу доставки, что сократит срок доставки заказов   \n",
       "5                      Добавить страницу отзывов клиентов о магазине, что позволит увеличить количество заказов   \n",
       "3           Изменить структура категорий, что увеличит конверсию, т.к. пользователи быстрее найдут нужный товар   \n",
       "4                              Изменить цвет фона главной страницы, чтобы увеличить вовлеченность пользователей   \n",
       "\n",
       "         ICE  \n",
       "8  16.200000  \n",
       "0  13.333333  \n",
       "7  11.200000  \n",
       "6   8.000000  \n",
       "2   7.000000  \n",
       "1   2.000000  \n",
       "5   1.333333  \n",
       "3   1.125000  \n",
       "4   1.000000  "
      ]
     },
     "metadata": {},
     "output_type": "display_data"
    }
   ],
   "source": [
    "pd.set_option('display.max_colwidth', None)\n",
    "display(df[['Hypothesis', 'ICE']].sort_values(by='ICE', ascending=False))"
   ]
  },
  {
   "cell_type": "markdown",
   "metadata": {},
   "source": [
    "<b>Вывод:</b>  При приоритизации по ICE, наиболее важными являются гипотезы - \"Запустить акцию, дающую скидку на товар в день рождения\", \"Добавить два новых канала привлечения трафика, что позволит привлекать на 30% больше пользователей\", \"Добавить форму подписки на все основные страницы, чтобы собрать базу клиентов для email-рассылок\".\n",
    "\n",
    "Наименее влиятельная гипотеза - \"Изменить цвет фона главной страницы, чтобы увеличить вовлеченность пользователей\"."
   ]
  },
  {
   "cell_type": "markdown",
   "metadata": {},
   "source": [
    "### Примение фреймворка RICE"
   ]
  },
  {
   "cell_type": "code",
   "execution_count": 7,
   "metadata": {},
   "outputs": [],
   "source": [
    "df['RICE'] = ((df['Reach']*df['Impact']*df['Confidence'])/df['Efforts'])"
   ]
  },
  {
   "cell_type": "code",
   "execution_count": 8,
   "metadata": {},
   "outputs": [
    {
     "data": {
      "text/html": [
       "<div>\n",
       "<style scoped>\n",
       "    .dataframe tbody tr th:only-of-type {\n",
       "        vertical-align: middle;\n",
       "    }\n",
       "\n",
       "    .dataframe tbody tr th {\n",
       "        vertical-align: top;\n",
       "    }\n",
       "\n",
       "    .dataframe thead th {\n",
       "        text-align: right;\n",
       "    }\n",
       "</style>\n",
       "<table border=\"1\" class=\"dataframe\">\n",
       "  <thead>\n",
       "    <tr style=\"text-align: right;\">\n",
       "      <th></th>\n",
       "      <th>Hypothesis</th>\n",
       "      <th>RICE</th>\n",
       "    </tr>\n",
       "  </thead>\n",
       "  <tbody>\n",
       "    <tr>\n",
       "      <th>7</th>\n",
       "      <td>Добавить форму подписки на все основные страницы, чтобы собрать базу клиентов для email-рассылок</td>\n",
       "      <td>112.0</td>\n",
       "    </tr>\n",
       "    <tr>\n",
       "      <th>2</th>\n",
       "      <td>Добавить блоки рекомендаций товаров на сайт интернет магазина, чтобы повысить конверсию и средний чек заказа</td>\n",
       "      <td>56.0</td>\n",
       "    </tr>\n",
       "    <tr>\n",
       "      <th>0</th>\n",
       "      <td>Добавить два новых канала привлечения трафика, что позволит привлекать на 30% больше пользователей</td>\n",
       "      <td>40.0</td>\n",
       "    </tr>\n",
       "    <tr>\n",
       "      <th>6</th>\n",
       "      <td>Показать на главной странице баннеры с актуальными акциями и распродажами, чтобы увеличить конверсию</td>\n",
       "      <td>40.0</td>\n",
       "    </tr>\n",
       "    <tr>\n",
       "      <th>8</th>\n",
       "      <td>Запустить акцию, дающую скидку на товар в день рождения</td>\n",
       "      <td>16.2</td>\n",
       "    </tr>\n",
       "    <tr>\n",
       "      <th>3</th>\n",
       "      <td>Изменить структура категорий, что увеличит конверсию, т.к. пользователи быстрее найдут нужный товар</td>\n",
       "      <td>9.0</td>\n",
       "    </tr>\n",
       "    <tr>\n",
       "      <th>1</th>\n",
       "      <td>Запустить собственную службу доставки, что сократит срок доставки заказов</td>\n",
       "      <td>4.0</td>\n",
       "    </tr>\n",
       "    <tr>\n",
       "      <th>5</th>\n",
       "      <td>Добавить страницу отзывов клиентов о магазине, что позволит увеличить количество заказов</td>\n",
       "      <td>4.0</td>\n",
       "    </tr>\n",
       "    <tr>\n",
       "      <th>4</th>\n",
       "      <td>Изменить цвет фона главной страницы, чтобы увеличить вовлеченность пользователей</td>\n",
       "      <td>3.0</td>\n",
       "    </tr>\n",
       "  </tbody>\n",
       "</table>\n",
       "</div>"
      ],
      "text/plain": [
       "                                                                                                     Hypothesis  \\\n",
       "7              Добавить форму подписки на все основные страницы, чтобы собрать базу клиентов для email-рассылок   \n",
       "2  Добавить блоки рекомендаций товаров на сайт интернет магазина, чтобы повысить конверсию и средний чек заказа   \n",
       "0            Добавить два новых канала привлечения трафика, что позволит привлекать на 30% больше пользователей   \n",
       "6          Показать на главной странице баннеры с актуальными акциями и распродажами, чтобы увеличить конверсию   \n",
       "8                                                       Запустить акцию, дающую скидку на товар в день рождения   \n",
       "3           Изменить структура категорий, что увеличит конверсию, т.к. пользователи быстрее найдут нужный товар   \n",
       "1                                     Запустить собственную службу доставки, что сократит срок доставки заказов   \n",
       "5                      Добавить страницу отзывов клиентов о магазине, что позволит увеличить количество заказов   \n",
       "4                              Изменить цвет фона главной страницы, чтобы увеличить вовлеченность пользователей   \n",
       "\n",
       "    RICE  \n",
       "7  112.0  \n",
       "2   56.0  \n",
       "0   40.0  \n",
       "6   40.0  \n",
       "8   16.2  \n",
       "3    9.0  \n",
       "1    4.0  \n",
       "5    4.0  \n",
       "4    3.0  "
      ]
     },
     "metadata": {},
     "output_type": "display_data"
    }
   ],
   "source": [
    "pd.set_option('display.max_colwidth', None)\n",
    "display(df[['Hypothesis', 'RICE']].sort_values(by='RICE', ascending=False))"
   ]
  },
  {
   "cell_type": "markdown",
   "metadata": {},
   "source": [
    "<b>Вывод:</b> При приоритизации по RICE топ-гипотез отличается от предыдущего ранжирования. 3 наиболее важных гипотезы - \"Добавить форму подписки на все основные страницы, чтобы собрать базу клиентов для email-рассылок\", \"Добавить блоки рекомендаций товаров на сайт интернет магазина, чтобы повысить конверсию и средний чек заказа\", \"Добавить два новых канала привлечения трафика, что позволит привлекать на 30% больше пользователей\". \n",
    "\n",
    "Наименне важная гипотеза осталась прежней - \"Изменить цвет фона главной страницы, чтобы увеличить вовлеченность пользователей\".\n",
    "\n",
    "Ранги в этих двух способах приоритизации отличаются, т.к. при расчете RICE дополнительно учитывется охват аудитории, т.е. на какое кол-во пользователей повлияет внедрение этой идеи. Соответсвенно, чем больше охват - тем важнее гипотеза. Для большей точности рекомендую опираться на ранжирование по RICE, т.к. в этом случае мы сможем тестировать гипотезы на максимально большой группе пользователей. "
   ]
  },
  {
   "cell_type": "markdown",
   "metadata": {},
   "source": [
    "## Анализ A/B-теста."
   ]
  },
  {
   "cell_type": "markdown",
   "metadata": {},
   "source": [
    "### Предобработка данных."
   ]
  },
  {
   "cell_type": "markdown",
   "metadata": {},
   "source": [
    "Ознакомимся с данными и проведем предобработку при необходимости:"
   ]
  },
  {
   "cell_type": "code",
   "execution_count": 9,
   "metadata": {},
   "outputs": [],
   "source": [
    "\n",
    "orders = pd.read_csv('C\\\\datasets\\\\orders.csv')"
   ]
  },
  {
   "cell_type": "code",
   "execution_count": 10,
   "metadata": {},
   "outputs": [
    {
     "name": "stdout",
     "output_type": "stream",
     "text": [
      "<class 'pandas.core.frame.DataFrame'>\n",
      "RangeIndex: 1197 entries, 0 to 1196\n",
      "Data columns (total 5 columns):\n",
      " #   Column         Non-Null Count  Dtype \n",
      "---  ------         --------------  ----- \n",
      " 0   transactionId  1197 non-null   int64 \n",
      " 1   visitorId      1197 non-null   int64 \n",
      " 2   date           1197 non-null   object\n",
      " 3   revenue        1197 non-null   int64 \n",
      " 4   group          1197 non-null   object\n",
      "dtypes: int64(3), object(2)\n",
      "memory usage: 46.9+ KB\n"
     ]
    }
   ],
   "source": [
    "orders.info()"
   ]
  },
  {
   "cell_type": "code",
   "execution_count": 11,
   "metadata": {},
   "outputs": [
    {
     "data": {
      "text/html": [
       "<div>\n",
       "<style scoped>\n",
       "    .dataframe tbody tr th:only-of-type {\n",
       "        vertical-align: middle;\n",
       "    }\n",
       "\n",
       "    .dataframe tbody tr th {\n",
       "        vertical-align: top;\n",
       "    }\n",
       "\n",
       "    .dataframe thead th {\n",
       "        text-align: right;\n",
       "    }\n",
       "</style>\n",
       "<table border=\"1\" class=\"dataframe\">\n",
       "  <thead>\n",
       "    <tr style=\"text-align: right;\">\n",
       "      <th></th>\n",
       "      <th>transactionId</th>\n",
       "      <th>visitorId</th>\n",
       "      <th>date</th>\n",
       "      <th>revenue</th>\n",
       "      <th>group</th>\n",
       "    </tr>\n",
       "  </thead>\n",
       "  <tbody>\n",
       "    <tr>\n",
       "      <th>0</th>\n",
       "      <td>3667963787</td>\n",
       "      <td>3312258926</td>\n",
       "      <td>2019-08-15</td>\n",
       "      <td>1650</td>\n",
       "      <td>B</td>\n",
       "    </tr>\n",
       "    <tr>\n",
       "      <th>1</th>\n",
       "      <td>2804400009</td>\n",
       "      <td>3642806036</td>\n",
       "      <td>2019-08-15</td>\n",
       "      <td>730</td>\n",
       "      <td>B</td>\n",
       "    </tr>\n",
       "    <tr>\n",
       "      <th>2</th>\n",
       "      <td>2961555356</td>\n",
       "      <td>4069496402</td>\n",
       "      <td>2019-08-15</td>\n",
       "      <td>400</td>\n",
       "      <td>A</td>\n",
       "    </tr>\n",
       "    <tr>\n",
       "      <th>3</th>\n",
       "      <td>3797467345</td>\n",
       "      <td>1196621759</td>\n",
       "      <td>2019-08-15</td>\n",
       "      <td>9759</td>\n",
       "      <td>B</td>\n",
       "    </tr>\n",
       "    <tr>\n",
       "      <th>4</th>\n",
       "      <td>2282983706</td>\n",
       "      <td>2322279887</td>\n",
       "      <td>2019-08-15</td>\n",
       "      <td>2308</td>\n",
       "      <td>B</td>\n",
       "    </tr>\n",
       "  </tbody>\n",
       "</table>\n",
       "</div>"
      ],
      "text/plain": [
       "   transactionId   visitorId        date  revenue group\n",
       "0     3667963787  3312258926  2019-08-15     1650     B\n",
       "1     2804400009  3642806036  2019-08-15      730     B\n",
       "2     2961555356  4069496402  2019-08-15      400     A\n",
       "3     3797467345  1196621759  2019-08-15     9759     B\n",
       "4     2282983706  2322279887  2019-08-15     2308     B"
      ]
     },
     "execution_count": 11,
     "metadata": {},
     "output_type": "execute_result"
    }
   ],
   "source": [
    "orders.head()"
   ]
  },
  {
   "cell_type": "code",
   "execution_count": 12,
   "metadata": {},
   "outputs": [],
   "source": [
    "orders.columns = [x.lower() for x in orders.columns] #приведем названия колонок к корректному виду"
   ]
  },
  {
   "cell_type": "code",
   "execution_count": 13,
   "metadata": {},
   "outputs": [],
   "source": [
    "orders['date'] = pd.to_datetime(orders['date'], format = '%Y-%m-%d') #приведем дату к корректному типу данных"
   ]
  },
  {
   "cell_type": "code",
   "execution_count": 14,
   "metadata": {},
   "outputs": [],
   "source": [
    "orders = orders.drop_duplicates()"
   ]
  },
  {
   "cell_type": "code",
   "execution_count": 15,
   "metadata": {},
   "outputs": [
    {
     "name": "stdout",
     "output_type": "stream",
     "text": [
      "<class 'pandas.core.frame.DataFrame'>\n",
      "Int64Index: 1197 entries, 0 to 1196\n",
      "Data columns (total 5 columns):\n",
      " #   Column         Non-Null Count  Dtype         \n",
      "---  ------         --------------  -----         \n",
      " 0   transactionid  1197 non-null   int64         \n",
      " 1   visitorid      1197 non-null   int64         \n",
      " 2   date           1197 non-null   datetime64[ns]\n",
      " 3   revenue        1197 non-null   int64         \n",
      " 4   group          1197 non-null   object        \n",
      "dtypes: datetime64[ns](1), int64(3), object(1)\n",
      "memory usage: 56.1+ KB\n"
     ]
    }
   ],
   "source": [
    "orders.info()"
   ]
  },
  {
   "cell_type": "markdown",
   "metadata": {},
   "source": [
    "Явных дубликатов не обнаружено. Проверим данные на наличие неявных дубликатов:"
   ]
  },
  {
   "cell_type": "code",
   "execution_count": 16,
   "metadata": {},
   "outputs": [
    {
     "name": "stdout",
     "output_type": "stream",
     "text": [
      "1031\n"
     ]
    },
    {
     "data": {
      "text/html": [
       "<div>\n",
       "<style scoped>\n",
       "    .dataframe tbody tr th:only-of-type {\n",
       "        vertical-align: middle;\n",
       "    }\n",
       "\n",
       "    .dataframe tbody tr th {\n",
       "        vertical-align: top;\n",
       "    }\n",
       "\n",
       "    .dataframe thead th {\n",
       "        text-align: right;\n",
       "    }\n",
       "</style>\n",
       "<table border=\"1\" class=\"dataframe\">\n",
       "  <thead>\n",
       "    <tr style=\"text-align: right;\">\n",
       "      <th></th>\n",
       "      <th>group_count</th>\n",
       "      <th>group</th>\n",
       "    </tr>\n",
       "    <tr>\n",
       "      <th>visitorid</th>\n",
       "      <th></th>\n",
       "      <th></th>\n",
       "    </tr>\n",
       "  </thead>\n",
       "  <tbody>\n",
       "    <tr>\n",
       "      <th>5114589</th>\n",
       "      <td>1</td>\n",
       "      <td>[B]</td>\n",
       "    </tr>\n",
       "    <tr>\n",
       "      <th>6958315</th>\n",
       "      <td>1</td>\n",
       "      <td>[B]</td>\n",
       "    </tr>\n",
       "    <tr>\n",
       "      <th>8300375</th>\n",
       "      <td>2</td>\n",
       "      <td>[B, A]</td>\n",
       "    </tr>\n",
       "    <tr>\n",
       "      <th>11685486</th>\n",
       "      <td>1</td>\n",
       "      <td>[A]</td>\n",
       "    </tr>\n",
       "    <tr>\n",
       "      <th>39475350</th>\n",
       "      <td>1</td>\n",
       "      <td>[B]</td>\n",
       "    </tr>\n",
       "  </tbody>\n",
       "</table>\n",
       "</div>"
      ],
      "text/plain": [
       "           group_count   group\n",
       "visitorid                     \n",
       "5114589              1     [B]\n",
       "6958315              1     [B]\n",
       "8300375              2  [B, A]\n",
       "11685486             1     [A]\n",
       "39475350             1     [B]"
      ]
     },
     "metadata": {},
     "output_type": "display_data"
    },
    {
     "data": {
      "text/html": [
       "<div>\n",
       "<style scoped>\n",
       "    .dataframe tbody tr th:only-of-type {\n",
       "        vertical-align: middle;\n",
       "    }\n",
       "\n",
       "    .dataframe tbody tr th {\n",
       "        vertical-align: top;\n",
       "    }\n",
       "\n",
       "    .dataframe thead th {\n",
       "        text-align: right;\n",
       "    }\n",
       "</style>\n",
       "<table border=\"1\" class=\"dataframe\">\n",
       "  <thead>\n",
       "    <tr style=\"text-align: right;\">\n",
       "      <th></th>\n",
       "      <th>visitorid</th>\n",
       "      <th>group_count</th>\n",
       "      <th>group</th>\n",
       "    </tr>\n",
       "  </thead>\n",
       "  <tbody>\n",
       "    <tr>\n",
       "      <th>0</th>\n",
       "      <td>8300375</td>\n",
       "      <td>2</td>\n",
       "      <td>[B, A]</td>\n",
       "    </tr>\n",
       "    <tr>\n",
       "      <th>1</th>\n",
       "      <td>199603092</td>\n",
       "      <td>2</td>\n",
       "      <td>[A, B]</td>\n",
       "    </tr>\n",
       "    <tr>\n",
       "      <th>2</th>\n",
       "      <td>232979603</td>\n",
       "      <td>2</td>\n",
       "      <td>[B, A]</td>\n",
       "    </tr>\n",
       "    <tr>\n",
       "      <th>3</th>\n",
       "      <td>237748145</td>\n",
       "      <td>2</td>\n",
       "      <td>[B, A]</td>\n",
       "    </tr>\n",
       "    <tr>\n",
       "      <th>4</th>\n",
       "      <td>276558944</td>\n",
       "      <td>2</td>\n",
       "      <td>[B, A]</td>\n",
       "    </tr>\n",
       "  </tbody>\n",
       "</table>\n",
       "</div>"
      ],
      "text/plain": [
       "   visitorid  group_count   group\n",
       "0    8300375            2  [B, A]\n",
       "1  199603092            2  [A, B]\n",
       "2  232979603            2  [B, A]\n",
       "3  237748145            2  [B, A]\n",
       "4  276558944            2  [B, A]"
      ]
     },
     "metadata": {},
     "output_type": "display_data"
    },
    {
     "data": {
      "text/plain": [
       "58"
      ]
     },
     "execution_count": 16,
     "metadata": {},
     "output_type": "execute_result"
    }
   ],
   "source": [
    "clients = orders.groupby('visitorid').agg({'group':['nunique','unique']})\n",
    "clients.columns = ['group_count','group']\n",
    "print(len(clients))\n",
    "display(clients.head())\n",
    "clients = clients.query('group_count>1').reset_index()\n",
    "display(clients.head(5))\n",
    "len(clients)"
   ]
  },
  {
   "cell_type": "markdown",
   "metadata": {},
   "source": [
    "Из 1031 уникального клиента, 58 попали в обе группы. Такого не должно происходить - это означает что на этапе А/А тестирования произошли ошибки. Кол-во небольшое, но для чистоты эксперимента удалим этих дублеров."
   ]
  },
  {
   "cell_type": "code",
   "execution_count": 17,
   "metadata": {},
   "outputs": [
    {
     "data": {
      "text/html": [
       "<div>\n",
       "<style scoped>\n",
       "    .dataframe tbody tr th:only-of-type {\n",
       "        vertical-align: middle;\n",
       "    }\n",
       "\n",
       "    .dataframe tbody tr th {\n",
       "        vertical-align: top;\n",
       "    }\n",
       "\n",
       "    .dataframe thead th {\n",
       "        text-align: right;\n",
       "    }\n",
       "</style>\n",
       "<table border=\"1\" class=\"dataframe\">\n",
       "  <thead>\n",
       "    <tr style=\"text-align: right;\">\n",
       "      <th></th>\n",
       "      <th>transactionid</th>\n",
       "      <th>visitorid</th>\n",
       "      <th>date</th>\n",
       "      <th>revenue</th>\n",
       "      <th>group</th>\n",
       "    </tr>\n",
       "  </thead>\n",
       "  <tbody>\n",
       "    <tr>\n",
       "      <th>0</th>\n",
       "      <td>3667963787</td>\n",
       "      <td>3312258926</td>\n",
       "      <td>2019-08-15</td>\n",
       "      <td>1650</td>\n",
       "      <td>B</td>\n",
       "    </tr>\n",
       "    <tr>\n",
       "      <th>1</th>\n",
       "      <td>2804400009</td>\n",
       "      <td>3642806036</td>\n",
       "      <td>2019-08-15</td>\n",
       "      <td>730</td>\n",
       "      <td>B</td>\n",
       "    </tr>\n",
       "    <tr>\n",
       "      <th>2</th>\n",
       "      <td>3797467345</td>\n",
       "      <td>1196621759</td>\n",
       "      <td>2019-08-15</td>\n",
       "      <td>9759</td>\n",
       "      <td>B</td>\n",
       "    </tr>\n",
       "    <tr>\n",
       "      <th>3</th>\n",
       "      <td>2282983706</td>\n",
       "      <td>2322279887</td>\n",
       "      <td>2019-08-15</td>\n",
       "      <td>2308</td>\n",
       "      <td>B</td>\n",
       "    </tr>\n",
       "    <tr>\n",
       "      <th>4</th>\n",
       "      <td>182168103</td>\n",
       "      <td>935554773</td>\n",
       "      <td>2019-08-15</td>\n",
       "      <td>2210</td>\n",
       "      <td>B</td>\n",
       "    </tr>\n",
       "  </tbody>\n",
       "</table>\n",
       "</div>"
      ],
      "text/plain": [
       "   transactionid   visitorid       date  revenue group\n",
       "0     3667963787  3312258926 2019-08-15     1650     B\n",
       "1     2804400009  3642806036 2019-08-15      730     B\n",
       "2     3797467345  1196621759 2019-08-15     9759     B\n",
       "3     2282983706  2322279887 2019-08-15     2308     B\n",
       "4      182168103   935554773 2019-08-15     2210     B"
      ]
     },
     "metadata": {},
     "output_type": "display_data"
    }
   ],
   "source": [
    "orders = pd.merge(orders, clients, on=['visitorid'], how='outer', indicator=True).query(\"_merge != 'both'\").drop('_merge', axis=1).reset_index(drop=True)\n",
    "orders.columns = ['transactionid', 'visitorid', 'date', 'revenue', 'group', 'group_count', 'group_n']\n",
    "orders = orders[['transactionid', 'visitorid', 'date', 'revenue', 'group']]\n",
    "display(orders.head())\n"
   ]
  },
  {
   "cell_type": "code",
   "execution_count": 18,
   "metadata": {},
   "outputs": [
    {
     "name": "stdout",
     "output_type": "stream",
     "text": [
      "<class 'pandas.core.frame.DataFrame'>\n",
      "RangeIndex: 1016 entries, 0 to 1015\n",
      "Data columns (total 5 columns):\n",
      " #   Column         Non-Null Count  Dtype         \n",
      "---  ------         --------------  -----         \n",
      " 0   transactionid  1016 non-null   int64         \n",
      " 1   visitorid      1016 non-null   int64         \n",
      " 2   date           1016 non-null   datetime64[ns]\n",
      " 3   revenue        1016 non-null   int64         \n",
      " 4   group          1016 non-null   object        \n",
      "dtypes: datetime64[ns](1), int64(3), object(1)\n",
      "memory usage: 39.8+ KB\n"
     ]
    }
   ],
   "source": [
    "orders.info()"
   ]
  },
  {
   "cell_type": "markdown",
   "metadata": {},
   "source": [
    "Дубликаты удалены. "
   ]
  },
  {
   "cell_type": "code",
   "execution_count": 19,
   "metadata": {},
   "outputs": [],
   "source": [
    "visitors = pd.read_csv('/datasets/visitors.csv')"
   ]
  },
  {
   "cell_type": "code",
   "execution_count": 20,
   "metadata": {},
   "outputs": [
    {
     "name": "stdout",
     "output_type": "stream",
     "text": [
      "<class 'pandas.core.frame.DataFrame'>\n",
      "RangeIndex: 62 entries, 0 to 61\n",
      "Data columns (total 3 columns):\n",
      " #   Column    Non-Null Count  Dtype \n",
      "---  ------    --------------  ----- \n",
      " 0   date      62 non-null     object\n",
      " 1   group     62 non-null     object\n",
      " 2   visitors  62 non-null     int64 \n",
      "dtypes: int64(1), object(2)\n",
      "memory usage: 1.6+ KB\n"
     ]
    }
   ],
   "source": [
    "visitors.info()"
   ]
  },
  {
   "cell_type": "code",
   "execution_count": 21,
   "metadata": {},
   "outputs": [
    {
     "data": {
      "text/html": [
       "<div>\n",
       "<style scoped>\n",
       "    .dataframe tbody tr th:only-of-type {\n",
       "        vertical-align: middle;\n",
       "    }\n",
       "\n",
       "    .dataframe tbody tr th {\n",
       "        vertical-align: top;\n",
       "    }\n",
       "\n",
       "    .dataframe thead th {\n",
       "        text-align: right;\n",
       "    }\n",
       "</style>\n",
       "<table border=\"1\" class=\"dataframe\">\n",
       "  <thead>\n",
       "    <tr style=\"text-align: right;\">\n",
       "      <th></th>\n",
       "      <th>date</th>\n",
       "      <th>group</th>\n",
       "      <th>visitors</th>\n",
       "    </tr>\n",
       "  </thead>\n",
       "  <tbody>\n",
       "    <tr>\n",
       "      <th>0</th>\n",
       "      <td>2019-08-01</td>\n",
       "      <td>A</td>\n",
       "      <td>719</td>\n",
       "    </tr>\n",
       "    <tr>\n",
       "      <th>1</th>\n",
       "      <td>2019-08-02</td>\n",
       "      <td>A</td>\n",
       "      <td>619</td>\n",
       "    </tr>\n",
       "    <tr>\n",
       "      <th>2</th>\n",
       "      <td>2019-08-03</td>\n",
       "      <td>A</td>\n",
       "      <td>507</td>\n",
       "    </tr>\n",
       "    <tr>\n",
       "      <th>3</th>\n",
       "      <td>2019-08-04</td>\n",
       "      <td>A</td>\n",
       "      <td>717</td>\n",
       "    </tr>\n",
       "    <tr>\n",
       "      <th>4</th>\n",
       "      <td>2019-08-05</td>\n",
       "      <td>A</td>\n",
       "      <td>756</td>\n",
       "    </tr>\n",
       "  </tbody>\n",
       "</table>\n",
       "</div>"
      ],
      "text/plain": [
       "         date group  visitors\n",
       "0  2019-08-01     A       719\n",
       "1  2019-08-02     A       619\n",
       "2  2019-08-03     A       507\n",
       "3  2019-08-04     A       717\n",
       "4  2019-08-05     A       756"
      ]
     },
     "execution_count": 21,
     "metadata": {},
     "output_type": "execute_result"
    }
   ],
   "source": [
    "visitors.head()"
   ]
  },
  {
   "cell_type": "code",
   "execution_count": 22,
   "metadata": {},
   "outputs": [],
   "source": [
    "visitors['date'] = pd.to_datetime(visitors['date'], format = '%Y-%m-%d') #приведем дату к корректному типу данных"
   ]
  },
  {
   "cell_type": "code",
   "execution_count": 23,
   "metadata": {},
   "outputs": [
    {
     "name": "stdout",
     "output_type": "stream",
     "text": [
      "<class 'pandas.core.frame.DataFrame'>\n",
      "RangeIndex: 62 entries, 0 to 61\n",
      "Data columns (total 3 columns):\n",
      " #   Column    Non-Null Count  Dtype         \n",
      "---  ------    --------------  -----         \n",
      " 0   date      62 non-null     datetime64[ns]\n",
      " 1   group     62 non-null     object        \n",
      " 2   visitors  62 non-null     int64         \n",
      "dtypes: datetime64[ns](1), int64(1), object(1)\n",
      "memory usage: 1.6+ KB\n"
     ]
    }
   ],
   "source": [
    "visitors.info()"
   ]
  },
  {
   "cell_type": "markdown",
   "metadata": {},
   "source": [
    "<b>Вывод:</b> При рассмотрении данных были выделены неправильно стилистически офорпмленные заголовки колонок и некорректный тип данных у дат. Эти моменты были исправлены."
   ]
  },
  {
   "cell_type": "markdown",
   "metadata": {},
   "source": [
    "### График кумулятивной выручки по группам"
   ]
  },
  {
   "cell_type": "code",
   "execution_count": 24,
   "metadata": {},
   "outputs": [],
   "source": [
    "datesGroups = orders[['date','group']].drop_duplicates() "
   ]
  },
  {
   "cell_type": "code",
   "execution_count": 25,
   "metadata": {},
   "outputs": [],
   "source": [
    "ordersAggregated = datesGroups.apply(lambda x: orders[np.logical_and(orders['date'] <= x['date'], orders['group'] == x['group'])]\\\n",
    ".agg({'date' : 'max', 'group' : 'max', 'transactionid' : 'nunique', 'visitorid' : 'nunique', 'revenue' : 'sum'}), axis=1).sort_values(by=['date','group']) "
   ]
  },
  {
   "cell_type": "code",
   "execution_count": 26,
   "metadata": {},
   "outputs": [],
   "source": [
    "visitorsAggregated = datesGroups.apply(lambda x: visitors[np.logical_and(visitors['date'] <= x['date'], visitors['group'] == x['group'])].agg({'date' : 'max', 'group' : 'max', 'visitors' : 'sum'}), axis=1).sort_values(by=['date','group']) "
   ]
  },
  {
   "cell_type": "code",
   "execution_count": 27,
   "metadata": {},
   "outputs": [
    {
     "data": {
      "text/html": [
       "<div>\n",
       "<style scoped>\n",
       "    .dataframe tbody tr th:only-of-type {\n",
       "        vertical-align: middle;\n",
       "    }\n",
       "\n",
       "    .dataframe tbody tr th {\n",
       "        vertical-align: top;\n",
       "    }\n",
       "\n",
       "    .dataframe thead th {\n",
       "        text-align: right;\n",
       "    }\n",
       "</style>\n",
       "<table border=\"1\" class=\"dataframe\">\n",
       "  <thead>\n",
       "    <tr style=\"text-align: right;\">\n",
       "      <th></th>\n",
       "      <th>date</th>\n",
       "      <th>group</th>\n",
       "      <th>transaction</th>\n",
       "      <th>visitors</th>\n",
       "      <th>revenue</th>\n",
       "      <th>visitors_count</th>\n",
       "    </tr>\n",
       "  </thead>\n",
       "  <tbody>\n",
       "    <tr>\n",
       "      <th>0</th>\n",
       "      <td>2019-08-01</td>\n",
       "      <td>A</td>\n",
       "      <td>23</td>\n",
       "      <td>19</td>\n",
       "      <td>142779</td>\n",
       "      <td>719</td>\n",
       "    </tr>\n",
       "    <tr>\n",
       "      <th>1</th>\n",
       "      <td>2019-08-01</td>\n",
       "      <td>B</td>\n",
       "      <td>17</td>\n",
       "      <td>17</td>\n",
       "      <td>59758</td>\n",
       "      <td>713</td>\n",
       "    </tr>\n",
       "    <tr>\n",
       "      <th>2</th>\n",
       "      <td>2019-08-02</td>\n",
       "      <td>A</td>\n",
       "      <td>42</td>\n",
       "      <td>36</td>\n",
       "      <td>234381</td>\n",
       "      <td>1338</td>\n",
       "    </tr>\n",
       "    <tr>\n",
       "      <th>3</th>\n",
       "      <td>2019-08-02</td>\n",
       "      <td>B</td>\n",
       "      <td>40</td>\n",
       "      <td>39</td>\n",
       "      <td>221801</td>\n",
       "      <td>1294</td>\n",
       "    </tr>\n",
       "    <tr>\n",
       "      <th>4</th>\n",
       "      <td>2019-08-03</td>\n",
       "      <td>A</td>\n",
       "      <td>66</td>\n",
       "      <td>60</td>\n",
       "      <td>346854</td>\n",
       "      <td>1845</td>\n",
       "    </tr>\n",
       "  </tbody>\n",
       "</table>\n",
       "</div>"
      ],
      "text/plain": [
       "        date group  transaction  visitors  revenue  visitors_count\n",
       "0 2019-08-01     A           23        19   142779             719\n",
       "1 2019-08-01     B           17        17    59758             713\n",
       "2 2019-08-02     A           42        36   234381            1338\n",
       "3 2019-08-02     B           40        39   221801            1294\n",
       "4 2019-08-03     A           66        60   346854            1845"
      ]
     },
     "metadata": {},
     "output_type": "display_data"
    }
   ],
   "source": [
    "# объединяем кумулятивные данные в одной таблице и присваиваем ее столбцам понятные названия\n",
    "cumulativeData = ordersAggregated.merge(visitorsAggregated, left_on=['date', 'group'], right_on=['date', 'group'])\n",
    "cumulativeData.columns = ['date', 'group', 'transaction', 'visitors', 'revenue', 'visitors_count']\n",
    "\n",
    "display(cumulativeData.head(5)) "
   ]
  },
  {
   "cell_type": "code",
   "execution_count": 28,
   "metadata": {},
   "outputs": [
    {
     "data": {
      "image/png": "[encoded data removed]",
      "text/plain": [
       "<Figure size 720x360 with 1 Axes>"
      ]
     },
     "metadata": {
      "needs_background": "light"
     },
     "output_type": "display_data"
    }
   ],
   "source": [
    "# датафрейм с кумулятивным количеством заказов и кумулятивной выручкой по дням в группе А\n",
    "cumulativeRevenueA = cumulativeData[cumulativeData['group']=='A'][['date','revenue', 'transaction']]\n",
    "\n",
    "# датафрейм с кумулятивным количеством заказов и кумулятивной выручкой по дням в группе B\n",
    "cumulativeRevenueB = cumulativeData[cumulativeData['group']=='B'][['date','revenue', 'transaction']]\n",
    "\n",
    "plt.figure(figsize=(10,5))\n",
    "# Строим график выручки группы А\n",
    "plt.plot(cumulativeRevenueA['date'], cumulativeRevenueA['revenue'], label='A')\n",
    "\n",
    "# Строим график выручки группы B\n",
    "plt.plot(cumulativeRevenueB['date'], cumulativeRevenueB['revenue'], label='B')\n",
    "plt.legend()\n",
    "plt.xticks(rotation=45)\n",
    "plt.title('График кумулятивной выручки по группам:')\n",
    "plt.xlabel('Дата')\n",
    "plt.ylabel('Выручка')\n",
    "plt.grid()\n",
    "plt.show()\n"
   ]
  },
  {
   "cell_type": "code",
   "execution_count": 29,
   "metadata": {},
   "outputs": [
    {
     "data": {
      "text/html": [
       "<div>\n",
       "<style scoped>\n",
       "    .dataframe tbody tr th:only-of-type {\n",
       "        vertical-align: middle;\n",
       "    }\n",
       "\n",
       "    .dataframe tbody tr th {\n",
       "        vertical-align: top;\n",
       "    }\n",
       "\n",
       "    .dataframe thead th {\n",
       "        text-align: right;\n",
       "    }\n",
       "</style>\n",
       "<table border=\"1\" class=\"dataframe\">\n",
       "  <thead>\n",
       "    <tr style=\"text-align: right;\">\n",
       "      <th></th>\n",
       "      <th>date</th>\n",
       "      <th>group</th>\n",
       "      <th>transaction</th>\n",
       "      <th>visitors</th>\n",
       "      <th>revenue</th>\n",
       "      <th>visitors_count</th>\n",
       "    </tr>\n",
       "  </thead>\n",
       "  <tbody>\n",
       "    <tr>\n",
       "      <th>32</th>\n",
       "      <td>2019-08-17</td>\n",
       "      <td>A</td>\n",
       "      <td>265</td>\n",
       "      <td>251</td>\n",
       "      <td>1817160</td>\n",
       "      <td>10459</td>\n",
       "    </tr>\n",
       "    <tr>\n",
       "      <th>33</th>\n",
       "      <td>2019-08-17</td>\n",
       "      <td>B</td>\n",
       "      <td>320</td>\n",
       "      <td>314</td>\n",
       "      <td>2155542</td>\n",
       "      <td>10434</td>\n",
       "    </tr>\n",
       "    <tr>\n",
       "      <th>34</th>\n",
       "      <td>2019-08-18</td>\n",
       "      <td>A</td>\n",
       "      <td>278</td>\n",
       "      <td>264</td>\n",
       "      <td>1876741</td>\n",
       "      <td>11127</td>\n",
       "    </tr>\n",
       "    <tr>\n",
       "      <th>35</th>\n",
       "      <td>2019-08-18</td>\n",
       "      <td>B</td>\n",
       "      <td>327</td>\n",
       "      <td>321</td>\n",
       "      <td>2190865</td>\n",
       "      <td>11171</td>\n",
       "    </tr>\n",
       "  </tbody>\n",
       "</table>\n",
       "</div>"
      ],
      "text/plain": [
       "         date group  transaction  visitors  revenue  visitors_count\n",
       "32 2019-08-17     A          265       251  1817160           10459\n",
       "33 2019-08-17     B          320       314  2155542           10434\n",
       "34 2019-08-18     A          278       264  1876741           11127\n",
       "35 2019-08-18     B          327       321  2190865           11171"
      ]
     },
     "metadata": {},
     "output_type": "display_data"
    }
   ],
   "source": [
    "display(cumulativeData.query(' \"2019-08-17\" <= date <= \"2019-08-18\"'))"
   ]
  },
  {
   "cell_type": "markdown",
   "metadata": {},
   "source": [
    "<b>Вывод:</b> на графике мы видим, что выручка в обоих группах растет. Но показатели группы А более плавные и на 01.09.2019  значительно ниже выручки группы В. Также на графике виден резкий рост выручки в группе В 18.08.2019 на который стоит обратить внимание и проанализировать сторонние факторы, которые могли повлиять на увеличение кол-ва клиентов и заказов в этот день."
   ]
  },
  {
   "cell_type": "markdown",
   "metadata": {},
   "source": [
    "### График кумулятивного среднего чека по группам"
   ]
  },
  {
   "cell_type": "code",
   "execution_count": 30,
   "metadata": {},
   "outputs": [
    {
     "data": {
      "image/png": "[encoded data removed]",
      "text/plain": [
       "<Figure size 720x360 with 1 Axes>"
      ]
     },
     "metadata": {
      "needs_background": "light"
     },
     "output_type": "display_data"
    }
   ],
   "source": [
    "plt.figure(figsize=(10,5))\n",
    "plt.plot(cumulativeRevenueA['date'], cumulativeRevenueA['revenue']/cumulativeRevenueA['transaction'], label='A')\n",
    "plt.plot(cumulativeRevenueB['date'], cumulativeRevenueB['revenue']/cumulativeRevenueB['transaction'], label='B')\n",
    "plt.legend() \n",
    "plt.xticks(rotation=45)\n",
    "plt.title('График кумулятивного среднего чека по группам:')\n",
    "plt.xlabel('Дата')\n",
    "plt.ylabel('Выручка')\n",
    "plt.grid()\n",
    "plt.show()"
   ]
  },
  {
   "cell_type": "markdown",
   "metadata": {},
   "source": [
    "<b>Вывод:</b> средний чек изначально был выше у группы А, но к 06.08  значительно снизился по отношению к группе В. После этого был резкий рост который достиг пика 13.08 и после этого оставался достаточно стабильным до конца рассматриваемого периода. Группа В показывает скачкообразный рост с пиками 4.08, 8.08 и максимальным пиком 18.08. После этого средний чек постепенно пошел на снижение. "
   ]
  },
  {
   "cell_type": "markdown",
   "metadata": {},
   "source": [
    "### График относительного изменения кумулятивного среднего чека группы B к группе A."
   ]
  },
  {
   "cell_type": "code",
   "execution_count": 31,
   "metadata": {},
   "outputs": [
    {
     "data": {
      "image/png": "[encoded data removed]",
      "text/plain": [
       "<Figure size 720x360 with 1 Axes>"
      ]
     },
     "metadata": {
      "needs_background": "light"
     },
     "output_type": "display_data"
    }
   ],
   "source": [
    "# собираем данные в одном датафрейме\n",
    "mergedCumulativeRevenue = cumulativeRevenueA.merge(cumulativeRevenueB, left_on='date', right_on='date', how='left', suffixes=['A', 'B'])\n",
    "plt.figure(figsize=(10,5))\n",
    "# cтроим отношение средних чеков\n",
    "plt.plot(mergedCumulativeRevenue['date'], (mergedCumulativeRevenue['revenueB']/mergedCumulativeRevenue['transactionB'])/(mergedCumulativeRevenue['revenueA']/mergedCumulativeRevenue['transactionA'])-1)\n",
    "\n",
    "# добавляем ось X\n",
    "plt.axhline(y=0, color='black', linestyle='--') \n",
    "plt.xticks(rotation=45)\n",
    "plt.title('График относительного изменения кумулятивного среднего чека группы B к группе A:')\n",
    "plt.xlabel('Дата')\n",
    "plt.ylabel('Изменение среднего чека')\n",
    "plt.grid()\n",
    "plt.show()"
   ]
  },
  {
   "cell_type": "markdown",
   "metadata": {},
   "source": [
    "<b>Вывод:</b> разница в средних чеках достаточно значительная - график \"скачет\" - значит есть аномалии и крупные заказы. "
   ]
  },
  {
   "cell_type": "markdown",
   "metadata": {},
   "source": [
    "### График кумулятивного среднего количества заказов на посетителя по группам."
   ]
  },
  {
   "cell_type": "code",
   "execution_count": 32,
   "metadata": {},
   "outputs": [
    {
     "data": {
      "image/png": "[encoded data removed]",
      "text/plain": [
       "<Figure size 1080x360 with 1 Axes>"
      ]
     },
     "metadata": {
      "needs_background": "light"
     },
     "output_type": "display_data"
    }
   ],
   "source": [
    "# считаем среднее количество заказов на посетителя\n",
    "cumulativeData['conversion'] = cumulativeData['transaction']/cumulativeData['visitors_count']\n",
    "\n",
    "# отделяем данные по группе A\n",
    "cumulativeDataA = cumulativeData[cumulativeData['group']=='A']\n",
    "\n",
    "# отделяем данные по группе B\n",
    "cumulativeDataB = cumulativeData[cumulativeData['group']=='B']\n",
    "\n",
    "# строим графики\n",
    "plt.figure(figsize=(15,5))\n",
    "plt.plot(cumulativeDataA['date'], cumulativeDataA['conversion'], label='A')\n",
    "plt.plot(cumulativeDataB['date'], cumulativeDataB['conversion'], label='B')\n",
    "plt.legend()\n",
    "plt.xticks(rotation=45)\n",
    "plt.title('График кумулятивного среднего количества заказов на посетителя по группам:')\n",
    "plt.xlabel('Дата')\n",
    "plt.ylabel('Конверсия')\n",
    "plt.grid()\n",
    "plt.show()"
   ]
  },
  {
   "cell_type": "markdown",
   "metadata": {},
   "source": [
    "<b>Вывод:</b> с 01.08 по 09.08 есть резкие колебания конверсии в обеих группах, при этом группа А показывает резкий спад, а группа В - резкий рост. Вероятно есть внешние факторы, которые повлияли на такое поведение покупателей. После 09.08 показатели обеих групп были достаточно стабильны, при этом конверсия группы А значительно меньше чем у группы В. "
   ]
  },
  {
   "cell_type": "markdown",
   "metadata": {},
   "source": [
    "### График относительного изменения кумулятивного среднего количества заказов на посетителя группы B к группе A."
   ]
  },
  {
   "cell_type": "code",
   "execution_count": 33,
   "metadata": {},
   "outputs": [
    {
     "data": {
      "image/png": "[encoded data removed]",
      "text/plain": [
       "<Figure size 720x360 with 1 Axes>"
      ]
     },
     "metadata": {
      "needs_background": "light"
     },
     "output_type": "display_data"
    }
   ],
   "source": [
    "mergedCumulativeConversions = cumulativeDataA[['date','conversion']].merge(cumulativeDataB[['date','conversion']], left_on='date', right_on='date', how='left', suffixes=['A', 'B'])\n",
    "\n",
    "plt.figure(figsize=(10,5))\n",
    "plt.plot(mergedCumulativeConversions['date'], mergedCumulativeConversions['conversionB']/mergedCumulativeConversions['conversionA']-1, label=\"Относительный прирост кумулятивного среднего количества заказов на посетителя группы B относительно группы A\")\n",
    "plt.legend()\n",
    "plt.axhline(y=0, color='black', linestyle='--')\n",
    "plt.axhline(y=0.15, color='grey', linestyle='--')\n",
    "\n",
    "plt.xticks(rotation=45)\n",
    "plt.title('График кумулятивного среднего количества заказов на посетителя по группам:')\n",
    "plt.xlabel('Дата')\n",
    "plt.ylabel('Конверсия')\n",
    "plt.grid()\n",
    "plt.show()"
   ]
  },
  {
   "cell_type": "markdown",
   "metadata": {},
   "source": [
    "<b>Вывод:</b> показатели в первые шесть дней сильно колебались - то значительно снижались, то возрастали и после 06.08 окончательно превысили группу А.  "
   ]
  },
  {
   "cell_type": "markdown",
   "metadata": {},
   "source": [
    "### Точечный график количества заказов по пользователям"
   ]
  },
  {
   "cell_type": "code",
   "execution_count": 34,
   "metadata": {},
   "outputs": [
    {
     "data": {
      "image/png": "[encoded data removed]",
      "text/plain": [
       "<Figure size 720x360 with 1 Axes>"
      ]
     },
     "metadata": {
      "needs_background": "light"
     },
     "output_type": "display_data"
    }
   ],
   "source": [
    "pivot_orders = orders.pivot_table(\n",
    "    index='visitorid', values='transactionid', aggfunc='count'\n",
    ").reset_index()\n",
    "pivot_orders.columns = ['user', 'orders']\n",
    "x_values = pd.Series(range(0,len(pivot_orders['orders'])))\n",
    "plt.figure(figsize=(10,5))\n",
    "plt.scatter(x_values, pivot_orders['orders']) \n",
    "plt.title('График количества заказов по пользователям:')\n",
    "plt.xlabel('Пользователи')\n",
    "plt.ylabel('Кол-во заказов')\n",
    "plt.grid()\n",
    "plt.show()"
   ]
  },
  {
   "cell_type": "markdown",
   "metadata": {},
   "source": [
    "<b>Вывод:</b> большинство покупателей делали 1 или 2 заказа. Свыше двух - редкие значения, скорее всего аномалии."
   ]
  },
  {
   "cell_type": "markdown",
   "metadata": {},
   "source": [
    "### 95-й и 99-й перцентили количества заказов на пользователя"
   ]
  },
  {
   "cell_type": "code",
   "execution_count": 35,
   "metadata": {},
   "outputs": [
    {
     "name": "stdout",
     "output_type": "stream",
     "text": [
      "[1. 2.]\n"
     ]
    }
   ],
   "source": [
    "print(np.percentile(pivot_orders['orders'], [95, 99])) "
   ]
  },
  {
   "cell_type": "markdown",
   "metadata": {},
   "source": [
    "<b>Вывод:</b> Не более 5% пользователей сделали 2 заказа и не более 1% клиентов сделали 4 заказа. Следовательно - клиенты, которые делали 4 и более заказов - аномалии. "
   ]
  },
  {
   "cell_type": "markdown",
   "metadata": {},
   "source": [
    "###  Точечный график стоимостей заказов"
   ]
  },
  {
   "cell_type": "code",
   "execution_count": 36,
   "metadata": {},
   "outputs": [
    {
     "data": {
      "image/png": "[encoded data removed]",
      "text/plain": [
       "<Figure size 720x360 with 1 Axes>"
      ]
     },
     "metadata": {
      "needs_background": "light"
     },
     "output_type": "display_data"
    }
   ],
   "source": [
    "x_values = pd.Series(range(0,len(orders['revenue'])))\n",
    "plt.figure(figsize=(10,5))\n",
    "plt.scatter(x_values, orders['revenue']) \n",
    "plt.title('График стоимостей заказов:')\n",
    "plt.xlabel('Пользователи')\n",
    "plt.ylabel('Стоимость заказов')\n",
    "plt.grid()\n",
    "plt.show()"
   ]
  },
  {
   "cell_type": "markdown",
   "metadata": {},
   "source": [
    "<b>Вывод:</b> на графике видно 2 выброса - 200 000 и свыше 1.2 млн. Это явные аномалии. "
   ]
  },
  {
   "cell_type": "code",
   "execution_count": 37,
   "metadata": {},
   "outputs": [
    {
     "data": {
      "image/png": "[encoded data removed]",
      "text/plain": [
       "<Figure size 720x360 with 1 Axes>"
      ]
     },
     "metadata": {
      "needs_background": "light"
     },
     "output_type": "display_data"
    }
   ],
   "source": [
    "plt.figure(figsize=(10,5))\n",
    "plt.scatter(x_values, orders['revenue']) \n",
    "plt.title('График стоимостей заказов:')\n",
    "plt.xlabel('Пользователи')\n",
    "plt.ylabel('Стоимость заказа')\n",
    "plt.ylim(0, 200000)\n",
    "plt.grid()\n",
    "plt.show()"
   ]
  },
  {
   "cell_type": "markdown",
   "metadata": {},
   "source": [
    "<b>Вывод:</b> после отсечения слишком больших аномалий, можно увидеть, что основная часть заказов стоила до 25 000. Свышее точечные явления, которые можно назвать аномалиями."
   ]
  },
  {
   "cell_type": "markdown",
   "metadata": {},
   "source": [
    "### 95-й и 99-й перцентили стоимости заказов"
   ]
  },
  {
   "cell_type": "code",
   "execution_count": 38,
   "metadata": {},
   "outputs": [
    {
     "name": "stdout",
     "output_type": "stream",
     "text": [
      "[26785. 53904.]\n"
     ]
    }
   ],
   "source": [
    "print(np.percentile(orders['revenue'], [95, 99])) "
   ]
  },
  {
   "cell_type": "markdown",
   "metadata": {},
   "source": [
    "<b>Вывод:</b> Расчет персентилей подтверждает выводы графика и чуть-чуть корректирует вывод - не более 5% заказов превышают стоимость 26 785 и не более 1% заказов превышают 53 904 по стоимости. Эти заказы - аномалии."
   ]
  },
  {
   "cell_type": "markdown",
   "metadata": {},
   "source": [
    "### Статистическая значимость различий в среднем количестве заказов на посетителя между группами по «сырым» данным"
   ]
  },
  {
   "cell_type": "markdown",
   "metadata": {},
   "source": [
    "Проверим гипотезы: \n",
    "- H0 - Нет различий между выборками по среднему кол-ву заказов на посетителя без учета аномалий.\n",
    "- H1 - Есть различия между выборками по среднему кол-ву заказов на посетителя без учета аномалий. "
   ]
  },
  {
   "cell_type": "code",
   "execution_count": 39,
   "metadata": {},
   "outputs": [
    {
     "data": {
      "text/html": [
       "<div>\n",
       "<style scoped>\n",
       "    .dataframe tbody tr th:only-of-type {\n",
       "        vertical-align: middle;\n",
       "    }\n",
       "\n",
       "    .dataframe tbody tr th {\n",
       "        vertical-align: top;\n",
       "    }\n",
       "\n",
       "    .dataframe thead th {\n",
       "        text-align: right;\n",
       "    }\n",
       "</style>\n",
       "<table border=\"1\" class=\"dataframe\">\n",
       "  <thead>\n",
       "    <tr style=\"text-align: right;\">\n",
       "      <th></th>\n",
       "      <th>date</th>\n",
       "      <th>ordersPerDateA</th>\n",
       "      <th>revenuePerDateA</th>\n",
       "      <th>ordersPerDateB</th>\n",
       "      <th>revenuePerDateB</th>\n",
       "      <th>ordersCummulativeA</th>\n",
       "      <th>revenueCummulativeA</th>\n",
       "      <th>ordersCummulativeB</th>\n",
       "      <th>revenueCummulativeB</th>\n",
       "      <th>visitorsPerDateA</th>\n",
       "      <th>visitorsPerDateB</th>\n",
       "      <th>visitorsCummulativeA</th>\n",
       "      <th>visitorsCummulativeB</th>\n",
       "    </tr>\n",
       "  </thead>\n",
       "  <tbody>\n",
       "    <tr>\n",
       "      <th>0</th>\n",
       "      <td>2019-08-01</td>\n",
       "      <td>19</td>\n",
       "      <td>142779</td>\n",
       "      <td>17</td>\n",
       "      <td>59758</td>\n",
       "      <td>19</td>\n",
       "      <td>142779</td>\n",
       "      <td>17</td>\n",
       "      <td>59758</td>\n",
       "      <td>719</td>\n",
       "      <td>713</td>\n",
       "      <td>719</td>\n",
       "      <td>713</td>\n",
       "    </tr>\n",
       "    <tr>\n",
       "      <th>1</th>\n",
       "      <td>2019-08-02</td>\n",
       "      <td>18</td>\n",
       "      <td>91602</td>\n",
       "      <td>23</td>\n",
       "      <td>162043</td>\n",
       "      <td>37</td>\n",
       "      <td>234381</td>\n",
       "      <td>40</td>\n",
       "      <td>221801</td>\n",
       "      <td>619</td>\n",
       "      <td>581</td>\n",
       "      <td>1338</td>\n",
       "      <td>1294</td>\n",
       "    </tr>\n",
       "    <tr>\n",
       "      <th>2</th>\n",
       "      <td>2019-08-03</td>\n",
       "      <td>24</td>\n",
       "      <td>112473</td>\n",
       "      <td>14</td>\n",
       "      <td>67049</td>\n",
       "      <td>61</td>\n",
       "      <td>346854</td>\n",
       "      <td>54</td>\n",
       "      <td>288850</td>\n",
       "      <td>507</td>\n",
       "      <td>509</td>\n",
       "      <td>1845</td>\n",
       "      <td>1803</td>\n",
       "    </tr>\n",
       "    <tr>\n",
       "      <th>3</th>\n",
       "      <td>2019-08-04</td>\n",
       "      <td>11</td>\n",
       "      <td>41176</td>\n",
       "      <td>14</td>\n",
       "      <td>96890</td>\n",
       "      <td>72</td>\n",
       "      <td>388030</td>\n",
       "      <td>68</td>\n",
       "      <td>385740</td>\n",
       "      <td>717</td>\n",
       "      <td>770</td>\n",
       "      <td>2562</td>\n",
       "      <td>2573</td>\n",
       "    </tr>\n",
       "    <tr>\n",
       "      <th>4</th>\n",
       "      <td>2019-08-05</td>\n",
       "      <td>22</td>\n",
       "      <td>86383</td>\n",
       "      <td>21</td>\n",
       "      <td>89908</td>\n",
       "      <td>94</td>\n",
       "      <td>474413</td>\n",
       "      <td>89</td>\n",
       "      <td>475648</td>\n",
       "      <td>756</td>\n",
       "      <td>707</td>\n",
       "      <td>3318</td>\n",
       "      <td>3280</td>\n",
       "    </tr>\n",
       "  </tbody>\n",
       "</table>\n",
       "</div>"
      ],
      "text/plain": [
       "        date  ordersPerDateA  revenuePerDateA  ordersPerDateB  \\\n",
       "0 2019-08-01              19           142779              17   \n",
       "1 2019-08-02              18            91602              23   \n",
       "2 2019-08-03              24           112473              14   \n",
       "3 2019-08-04              11            41176              14   \n",
       "4 2019-08-05              22            86383              21   \n",
       "\n",
       "   revenuePerDateB  ordersCummulativeA  revenueCummulativeA  \\\n",
       "0            59758                  19               142779   \n",
       "1           162043                  37               234381   \n",
       "2            67049                  61               346854   \n",
       "3            96890                  72               388030   \n",
       "4            89908                  94               474413   \n",
       "\n",
       "   ordersCummulativeB  revenueCummulativeB  visitorsPerDateA  \\\n",
       "0                  17                59758               719   \n",
       "1                  40               221801               619   \n",
       "2                  54               288850               507   \n",
       "3                  68               385740               717   \n",
       "4                  89               475648               756   \n",
       "\n",
       "   visitorsPerDateB  visitorsCummulativeA  visitorsCummulativeB  \n",
       "0               713                   719                   713  \n",
       "1               581                  1338                  1294  \n",
       "2               509                  1845                  1803  \n",
       "3               770                  2562                  2573  \n",
       "4               707                  3318                  3280  "
      ]
     },
     "metadata": {},
     "output_type": "display_data"
    }
   ],
   "source": [
    "visitorsADaily = visitors[visitors['group'] == 'A'][['date', 'visitors']]\n",
    "visitorsADaily.columns = ['date', 'visitorsPerDateA']\n",
    "\n",
    "visitorsACummulative = visitorsADaily.apply(\n",
    "    lambda x: visitorsADaily[visitorsADaily['date'] <= x['date']].agg(\n",
    "        {'date': 'max', 'visitorsPerDateA': 'sum'}\n",
    "    ),\n",
    "    axis=1,\n",
    ")\n",
    "visitorsACummulative.columns = ['date', 'visitorsCummulativeA']\n",
    "\n",
    "visitorsBDaily = visitors[visitors['group'] == 'B'][['date', 'visitors']]\n",
    "visitorsBDaily.columns = ['date', 'visitorsPerDateB']\n",
    "\n",
    "visitorsBCummulative = visitorsBDaily.apply(\n",
    "    lambda x: visitorsBDaily[visitorsBDaily['date'] <= x['date']].agg(\n",
    "        {'date': 'max', 'visitorsPerDateB': 'sum'}\n",
    "    ),\n",
    "    axis=1,\n",
    ")\n",
    "visitorsBCummulative.columns = ['date', 'visitorsCummulativeB']\n",
    "\n",
    "ordersADaily = (\n",
    "    orders[orders['group'] == 'A'][['date', 'transactionid', 'visitorid', 'revenue']]\n",
    "    .groupby('date', as_index=False)\n",
    "    .agg({'visitorid': pd.Series.nunique, 'revenue': 'sum'})\n",
    ")\n",
    "ordersADaily.columns = ['date', 'ordersPerDateA', 'revenuePerDateA']\n",
    "\n",
    "ordersACummulative = ordersADaily.apply(\n",
    "    lambda x: ordersADaily[ordersADaily['date'] <= x['date']].agg(\n",
    "        {'date': 'max', 'ordersPerDateA': 'sum', 'revenuePerDateA': 'sum'}\n",
    "    ),\n",
    "    axis=1,\n",
    ").sort_values(by=['date'])\n",
    "ordersACummulative.columns = [\n",
    "    'date',\n",
    "    'ordersCummulativeA',\n",
    "    'revenueCummulativeA',\n",
    "]\n",
    "\n",
    "ordersBDaily = (\n",
    "    orders[orders['group'] == 'B'][['date', 'transactionid', 'visitorid', 'revenue']]\n",
    "    .groupby('date', as_index=False)\n",
    "    .agg({'transactionid': pd.Series.nunique, 'revenue': 'sum'})\n",
    ")\n",
    "ordersBDaily.columns = ['date', 'ordersPerDateB', 'revenuePerDateB']\n",
    "\n",
    "ordersBCummulative = ordersBDaily.apply(\n",
    "    lambda x: ordersBDaily[ordersBDaily['date'] <= x['date']].agg(\n",
    "        {'date': 'max', 'ordersPerDateB': 'sum', 'revenuePerDateB': 'sum'}\n",
    "    ),\n",
    "    axis=1,\n",
    ").sort_values(by=['date'])\n",
    "ordersBCummulative.columns = [\n",
    "    'date',\n",
    "    'ordersCummulativeB',\n",
    "    'revenueCummulativeB',\n",
    "]\n",
    "\n",
    "data = (\n",
    "    ordersADaily.merge(\n",
    "        ordersBDaily, left_on='date', right_on='date', how='left'\n",
    "    )\n",
    "    .merge(ordersACummulative, left_on='date', right_on='date', how='left')\n",
    "    .merge(ordersBCummulative, left_on='date', right_on='date', how='left')\n",
    "    .merge(visitorsADaily, left_on='date', right_on='date', how='left')\n",
    "    .merge(visitorsBDaily, left_on='date', right_on='date', how='left')\n",
    "    .merge(visitorsACummulative, left_on='date', right_on='date', how='left')\n",
    "    .merge(visitorsBCummulative, left_on='date', right_on='date', how='left')\n",
    ")\n",
    "\n",
    "display(data.head(5)) "
   ]
  },
  {
   "cell_type": "code",
   "execution_count": 40,
   "metadata": {},
   "outputs": [],
   "source": [
    "ordersByUsersA = (\n",
    "    orders[orders['group'] == 'A']\n",
    "    .groupby('visitorid', as_index=False)\n",
    "    .agg({'transactionid': pd.Series.nunique})\n",
    ")\n",
    "ordersByUsersA.columns = ['user', 'orders']\n",
    "\n",
    "ordersByUsersB = (\n",
    "    orders[orders['group'] == 'B']\n",
    "    .groupby('visitorid', as_index=False)\n",
    "    .agg({'transactionid': pd.Series.nunique})\n",
    ")\n",
    "ordersByUsersB.columns = ['user', 'orders'] "
   ]
  },
  {
   "cell_type": "code",
   "execution_count": 41,
   "metadata": {},
   "outputs": [],
   "source": [
    "sampleA = pd.concat([ordersByUsersA['orders'],pd.Series(0, index=np.arange(data['visitorsPerDateA'].sum() - len(ordersByUsersA['orders'])), name='orders')],axis=0)\n",
    "\n",
    "sampleB = pd.concat([ordersByUsersB['orders'],pd.Series(0, index=np.arange(data['visitorsPerDateB'].sum() - len(ordersByUsersB['orders'])), name='orders')],axis=0) "
   ]
  },
  {
   "cell_type": "code",
   "execution_count": 42,
   "metadata": {},
   "outputs": [
    {
     "name": "stdout",
     "output_type": "stream",
     "text": [
      "p-value = 0.011\n",
      "0.160\n"
     ]
    }
   ],
   "source": [
    "print(f'p-value =',\"{0:.3f}\".format(stats.mannwhitneyu(sampleA, sampleB)[1]))\n",
    "\n",
    "print(\"{0:.3f}\".format(sampleB.mean() / sampleA.mean() - 1))"
   ]
  },
  {
   "cell_type": "markdown",
   "metadata": {},
   "source": [
    "<b>Вывод:</b> p-value меньше 0.05. Значит, нулевую гипотезу о том, что статистически значимых различий в среднем числе заказов между группами нет, - отвергаем.\n",
    "\n",
    "Относительный выигрыш группы B по конверсии равен 13.8%."
   ]
  },
  {
   "cell_type": "markdown",
   "metadata": {},
   "source": [
    "### Cтатистическая значимость различий в среднем чеке заказа между группами по «сырым» данным. "
   ]
  },
  {
   "cell_type": "markdown",
   "metadata": {},
   "source": [
    "Проверим гипотезы: \n",
    "- H0 - Нет различий между выборками по среднему чеку заказа без учета аномалий.\n",
    "- H1 - Есть различия между выборками по среднему чеку заказа без учета аномалий."
   ]
  },
  {
   "cell_type": "code",
   "execution_count": 43,
   "metadata": {},
   "outputs": [
    {
     "name": "stdout",
     "output_type": "stream",
     "text": [
      "p-value = 0.829\n",
      "0.287\n"
     ]
    }
   ],
   "source": [
    "print(f'p-value =','{0:.3f}'.format(stats.mannwhitneyu(orders[orders['group']=='A']['revenue'], orders[orders['group']=='B']['revenue'])[1]))\n",
    "print('{0:.3f}'.format(orders[orders['group']=='B']['revenue'].mean()/orders[orders['group']=='A']['revenue'].mean()-1)) "
   ]
  },
  {
   "cell_type": "markdown",
   "metadata": {},
   "source": [
    "<b>Вывод:</b> p-value значительно больше - соответственно, подтверждается нулевая гипотеза о том, что в средних чеках нет статистически значимой разницы. При этом относительная разница в средних чеках между группой В и группой А - 25.9%. Вероятно в разрезе общей картины - это различие не является стат.значимым."
   ]
  },
  {
   "cell_type": "markdown",
   "metadata": {},
   "source": [
    "### Статистическая значимость различий в среднем количестве заказов на посетителя между группами по «очищенным» данным."
   ]
  },
  {
   "cell_type": "markdown",
   "metadata": {},
   "source": [
    "- H0 - Нет различий между выборками по среднему кол-ву заказов на посетителя с учетом аномалий.\n",
    "- H1 - Есть различия между выборками по среднему кол-ву заказов на посетителя с учетом аномалий."
   ]
  },
  {
   "cell_type": "code",
   "execution_count": 44,
   "metadata": {},
   "outputs": [
    {
     "name": "stdout",
     "output_type": "stream",
     "text": [
      "58      611059232\n",
      "211    2108163459\n",
      "310    2988190573\n",
      "409    3908431265\n",
      "416    3967698036\n",
      "dtype: int64\n"
     ]
    }
   ],
   "source": [
    "usersWithManyOrders = pd.concat(\n",
    " [\n",
    " ordersByUsersA[ordersByUsersA['orders'] > 2]['user'],\n",
    " ordersByUsersB[ordersByUsersB['orders'] > 2]['user'],\n",
    " ],\n",
    " axis=0,)\n",
    "usersWithExpensiveOrders = orders[orders['revenue'] > 28000]['visitorid']\n",
    "abnormalUsers = (\n",
    " pd.concat([usersWithManyOrders, usersWithExpensiveOrders], axis=0)\n",
    " .drop_duplicates())\n",
    "print(abnormalUsers.head())\n"
   ]
  },
  {
   "cell_type": "code",
   "execution_count": 45,
   "metadata": {},
   "outputs": [],
   "source": [
    "sampleAFiltered = pd.concat(\n",
    "    [\n",
    "        ordersByUsersA[\n",
    "            np.logical_not(ordersByUsersA['user'].isin(abnormalUsers))\n",
    "        ]['orders'],\n",
    "        pd.Series(\n",
    "            0,\n",
    "            index=np.arange(\n",
    "                data['visitorsPerDateA'].sum() - len(ordersByUsersA['orders'])\n",
    "            ),\n",
    "            name='orders',\n",
    "        ),\n",
    "    ],\n",
    "    axis=0,\n",
    ")\n",
    "\n",
    "sampleBFiltered = pd.concat(\n",
    "    [\n",
    "        ordersByUsersB[\n",
    "            np.logical_not(ordersByUsersB['user'].isin(abnormalUsers))\n",
    "        ]['orders'],\n",
    "        pd.Series(\n",
    "            0,\n",
    "            index=np.arange(\n",
    "                data['visitorsPerDateB'].sum() - len(ordersByUsersB['orders'])\n",
    "            ),\n",
    "            name='orders',\n",
    "        ),\n",
    "    ],\n",
    "    axis=0,\n",
    ") "
   ]
  },
  {
   "cell_type": "code",
   "execution_count": 46,
   "metadata": {},
   "outputs": [
    {
     "name": "stdout",
     "output_type": "stream",
     "text": [
      "p-value = 0.009\n",
      "0.189\n"
     ]
    }
   ],
   "source": [
    "print(f'p-value =','{0:.3f}'.format(stats.mannwhitneyu(sampleAFiltered, sampleBFiltered)[1]))\n",
    "print('{0:.3f}'.format(sampleBFiltered.mean()/sampleAFiltered.mean()-1)) "
   ]
  },
  {
   "cell_type": "markdown",
   "metadata": {},
   "source": [
    "<b>Вывод:</b> p-value меньше 0.05. Значит, нулевую гипотезу о том, что статистически значимых различий в среднем числе заказов между группами нет, - отвергаем и подтверждаем предыдущий вывод по \"сырым\" данным. Разница между группами - 17.3%"
   ]
  },
  {
   "cell_type": "markdown",
   "metadata": {},
   "source": [
    "### Статистическая значимость различий в среднем чеке заказа между группами по «очищенным» данным."
   ]
  },
  {
   "cell_type": "markdown",
   "metadata": {},
   "source": [
    "- H0 - Нет различий между выборками по среднему чеку с учетом аномалий.\n",
    "- H1 - Есть различия между выборками по среднему чеку с учетом аномалий."
   ]
  },
  {
   "cell_type": "code",
   "execution_count": 47,
   "metadata": {},
   "outputs": [
    {
     "name": "stdout",
     "output_type": "stream",
     "text": [
      "0.762\n",
      "-0.022\n"
     ]
    }
   ],
   "source": [
    "print(\n",
    "    '{0:.3f}'.format(\n",
    "        stats.mannwhitneyu(\n",
    "            orders[\n",
    "                np.logical_and(\n",
    "                    orders['group'] == 'A',\n",
    "                    np.logical_not(orders['visitorid'].isin(abnormalUsers)),\n",
    "                )\n",
    "            ]['revenue'],\n",
    "            orders[\n",
    "                np.logical_and(\n",
    "                    orders['group'] == 'B',\n",
    "                    np.logical_not(orders['visitorid'].isin(abnormalUsers)),\n",
    "                )\n",
    "            ]['revenue'],\n",
    "        )[1]\n",
    "    )\n",
    ")\n",
    "\n",
    "print(\n",
    "    \"{0:.3f}\".format(\n",
    "        orders[\n",
    "            np.logical_and(\n",
    "                orders['group'] == 'B',\n",
    "                np.logical_not(orders['visitorid'].isin(abnormalUsers)),\n",
    "            )\n",
    "        ]['revenue'].mean()\n",
    "        / orders[\n",
    "            np.logical_and(\n",
    "                orders['group'] == 'A',\n",
    "                np.logical_not(orders['visitorid'].isin(abnormalUsers)),\n",
    "            )\n",
    "        ]['revenue'].mean()\n",
    "        - 1\n",
    "    )\n",
    ") "
   ]
  },
  {
   "cell_type": "markdown",
   "metadata": {},
   "source": [
    "<b>Вывод:</b> Разница между группами изменилась - теперь группа В показывает худший результат в сравнении с группой А на 2%. Предыдущий вывод подтверждается - статистистически значимых различий в чеках нет. "
   ]
  },
  {
   "cell_type": "markdown",
   "metadata": {},
   "source": [
    "### Итоговый вывод по A/B тестированию"
   ]
  },
  {
   "cell_type": "markdown",
   "metadata": {},
   "source": [
    "- При сравнении \"сырых\" и \"очишенных\" данных по среднему кол-ву заказов выявлены статистически значимые различия в размере 17.3% в выигрыше для группы В.\n",
    "-  Отностиельные показатели средних чеков с аномалиями и без них отличаются, эти значения не влияют на общюю картину, т.к. разница в в средних чеках всего 2%. Это значение не является стат.значимым.\n",
    "\n",
    "Можно принять решение остановить тест, зафиксировав победу группы В, т.к. относительный выигрыш группы B по конверсии значителен.   "
   ]
  }
 ],
 "metadata": {
  "ExecuteTimeLog": [
   {
    "duration": 424,
    "start_time": "2024-06-20T06:56:23.864Z"
   },
   {
    "duration": 67,
    "start_time": "2024-06-20T06:56:24.291Z"
   },
   {
    "duration": 8,
    "start_time": "2024-06-20T06:56:31.629Z"
   },
   {
    "duration": 72,
    "start_time": "2024-06-20T06:56:41.568Z"
   },
   {
    "duration": 470,
    "start_time": "2024-06-28T10:19:40.531Z"
   },
   {
    "duration": 70,
    "start_time": "2024-06-28T10:19:41.003Z"
   },
   {
    "duration": 16,
    "start_time": "2024-06-28T10:19:41.578Z"
   },
   {
    "duration": 12,
    "start_time": "2024-06-28T10:19:53.597Z"
   },
   {
    "duration": 9,
    "start_time": "2024-06-28T10:20:28.120Z"
   },
   {
    "duration": 3,
    "start_time": "2024-06-28T10:21:41.894Z"
   },
   {
    "duration": 28,
    "start_time": "2024-06-28T10:21:42.370Z"
   },
   {
    "duration": 12,
    "start_time": "2024-06-28T10:21:42.542Z"
   },
   {
    "duration": 12,
    "start_time": "2024-06-28T10:21:42.798Z"
   },
   {
    "duration": 6,
    "start_time": "2024-06-28T10:28:32.877Z"
   },
   {
    "duration": 11,
    "start_time": "2024-06-28T10:31:12.918Z"
   },
   {
    "duration": 3,
    "start_time": "2024-06-28T10:35:58.735Z"
   },
   {
    "duration": 3,
    "start_time": "2024-06-28T10:36:05.368Z"
   },
   {
    "duration": 9,
    "start_time": "2024-06-28T10:36:17.471Z"
   },
   {
    "duration": 10,
    "start_time": "2024-06-28T10:36:30.864Z"
   },
   {
    "duration": 5,
    "start_time": "2024-06-28T10:40:34.835Z"
   },
   {
    "duration": 10,
    "start_time": "2024-06-28T10:40:53.451Z"
   },
   {
    "duration": 4,
    "start_time": "2024-06-28T10:48:57.041Z"
   },
   {
    "duration": 10,
    "start_time": "2024-06-28T10:48:58.805Z"
   },
   {
    "duration": 4,
    "start_time": "2024-06-28T10:49:21.788Z"
   },
   {
    "duration": 9,
    "start_time": "2024-06-28T10:49:22.378Z"
   },
   {
    "duration": 4,
    "start_time": "2024-06-28T10:49:23.516Z"
   },
   {
    "duration": 10,
    "start_time": "2024-06-28T10:49:24.041Z"
   },
   {
    "duration": 1018,
    "start_time": "2024-06-28T10:59:12.949Z"
   },
   {
    "duration": 2,
    "start_time": "2024-06-28T10:59:20.898Z"
   },
   {
    "duration": 52,
    "start_time": "2024-06-28T10:59:20.902Z"
   },
   {
    "duration": 9,
    "start_time": "2024-06-28T10:59:20.956Z"
   },
   {
    "duration": 16,
    "start_time": "2024-06-28T10:59:20.966Z"
   },
   {
    "duration": 20,
    "start_time": "2024-06-28T10:59:20.984Z"
   },
   {
    "duration": 22,
    "start_time": "2024-06-28T10:59:21.005Z"
   },
   {
    "duration": 11,
    "start_time": "2024-06-28T10:59:21.029Z"
   },
   {
    "duration": 22,
    "start_time": "2024-06-28T10:59:21.041Z"
   },
   {
    "duration": 97,
    "start_time": "2024-06-28T11:02:18.105Z"
   },
   {
    "duration": 9,
    "start_time": "2024-06-28T11:02:26.185Z"
   },
   {
    "duration": 9,
    "start_time": "2024-06-28T11:02:26.613Z"
   },
   {
    "duration": 99,
    "start_time": "2024-06-28T11:02:41.853Z"
   },
   {
    "duration": 11,
    "start_time": "2024-06-28T11:02:42.561Z"
   },
   {
    "duration": 11,
    "start_time": "2024-06-28T11:02:54.861Z"
   },
   {
    "duration": 9,
    "start_time": "2024-06-28T11:03:14.317Z"
   },
   {
    "duration": 70,
    "start_time": "2024-06-28T11:06:15.890Z"
   },
   {
    "duration": 3,
    "start_time": "2024-06-28T11:06:31.746Z"
   },
   {
    "duration": 9,
    "start_time": "2024-06-28T11:06:41.562Z"
   },
   {
    "duration": 3,
    "start_time": "2024-06-28T11:08:03.114Z"
   },
   {
    "duration": 8,
    "start_time": "2024-06-28T11:08:03.874Z"
   },
   {
    "duration": 10,
    "start_time": "2024-06-28T11:10:34.063Z"
   },
   {
    "duration": 78,
    "start_time": "2024-06-28T11:10:40.506Z"
   },
   {
    "duration": 12,
    "start_time": "2024-06-28T11:10:41.202Z"
   },
   {
    "duration": 11,
    "start_time": "2024-06-28T11:10:48.267Z"
   },
   {
    "duration": 7,
    "start_time": "2024-06-28T11:10:51.642Z"
   },
   {
    "duration": 6,
    "start_time": "2024-06-28T11:18:21.438Z"
   },
   {
    "duration": 8,
    "start_time": "2024-06-28T11:18:24.748Z"
   },
   {
    "duration": 11,
    "start_time": "2024-06-28T11:18:31.325Z"
   },
   {
    "duration": 9,
    "start_time": "2024-06-28T11:18:42.394Z"
   },
   {
    "duration": 11,
    "start_time": "2024-06-28T11:18:47.710Z"
   },
   {
    "duration": 7,
    "start_time": "2024-06-28T11:19:24.450Z"
   },
   {
    "duration": 10,
    "start_time": "2024-06-28T11:19:35.118Z"
   },
   {
    "duration": 11,
    "start_time": "2024-06-28T11:19:47.533Z"
   },
   {
    "duration": 8,
    "start_time": "2024-06-28T11:19:47.709Z"
   },
   {
    "duration": 5,
    "start_time": "2024-06-28T11:19:47.885Z"
   },
   {
    "duration": 9,
    "start_time": "2024-06-28T11:19:56.430Z"
   },
   {
    "duration": 4,
    "start_time": "2024-06-28T11:19:56.588Z"
   },
   {
    "duration": 6,
    "start_time": "2024-06-28T11:19:56.748Z"
   },
   {
    "duration": 12,
    "start_time": "2024-06-28T11:19:56.925Z"
   },
   {
    "duration": 10,
    "start_time": "2024-06-28T11:19:57.090Z"
   },
   {
    "duration": 26,
    "start_time": "2024-06-28T11:19:57.250Z"
   },
   {
    "duration": 11,
    "start_time": "2024-06-28T11:19:57.425Z"
   },
   {
    "duration": 7,
    "start_time": "2024-06-28T11:19:57.586Z"
   },
   {
    "duration": 4,
    "start_time": "2024-06-28T11:19:57.762Z"
   },
   {
    "duration": 11,
    "start_time": "2024-06-28T11:19:58.465Z"
   },
   {
    "duration": 4,
    "start_time": "2024-06-28T11:23:54.061Z"
   },
   {
    "duration": 26,
    "start_time": "2024-06-28T11:23:54.602Z"
   },
   {
    "duration": 8,
    "start_time": "2024-06-28T11:23:54.778Z"
   },
   {
    "duration": 16,
    "start_time": "2024-06-28T11:23:54.937Z"
   },
   {
    "duration": 5,
    "start_time": "2024-06-28T11:23:55.261Z"
   },
   {
    "duration": 11,
    "start_time": "2024-06-28T11:23:55.421Z"
   },
   {
    "duration": 4,
    "start_time": "2024-06-28T11:23:55.922Z"
   },
   {
    "duration": 12,
    "start_time": "2024-06-28T11:23:56.113Z"
   },
   {
    "duration": 46,
    "start_time": "2024-06-28T11:23:56.850Z"
   },
   {
    "duration": 13,
    "start_time": "2024-06-28T11:23:57.038Z"
   },
   {
    "duration": 8,
    "start_time": "2024-06-28T11:23:57.230Z"
   },
   {
    "duration": 3,
    "start_time": "2024-06-28T11:23:57.394Z"
   },
   {
    "duration": 5,
    "start_time": "2024-06-28T11:23:57.570Z"
   },
   {
    "duration": 13,
    "start_time": "2024-06-28T11:23:57.793Z"
   },
   {
    "duration": 10,
    "start_time": "2024-06-28T11:23:57.969Z"
   },
   {
    "duration": 27,
    "start_time": "2024-06-28T11:23:58.178Z"
   },
   {
    "duration": 12,
    "start_time": "2024-06-28T11:23:58.386Z"
   },
   {
    "duration": 7,
    "start_time": "2024-06-28T11:23:58.594Z"
   },
   {
    "duration": 5,
    "start_time": "2024-06-28T11:23:58.757Z"
   },
   {
    "duration": 13,
    "start_time": "2024-06-28T11:23:58.965Z"
   },
   {
    "duration": 47,
    "start_time": "2024-06-28T11:27:09.349Z"
   },
   {
    "duration": 12,
    "start_time": "2024-06-28T11:27:09.513Z"
   },
   {
    "duration": 10,
    "start_time": "2024-06-28T11:27:09.686Z"
   },
   {
    "duration": 4,
    "start_time": "2024-06-28T11:27:09.866Z"
   },
   {
    "duration": 5,
    "start_time": "2024-06-28T11:27:10.503Z"
   },
   {
    "duration": 15,
    "start_time": "2024-06-28T11:27:10.689Z"
   },
   {
    "duration": 9,
    "start_time": "2024-06-28T11:27:10.877Z"
   },
   {
    "duration": 25,
    "start_time": "2024-06-28T11:27:11.157Z"
   },
   {
    "duration": 11,
    "start_time": "2024-06-28T11:27:11.925Z"
   },
   {
    "duration": 8,
    "start_time": "2024-06-28T11:27:12.369Z"
   },
   {
    "duration": 4,
    "start_time": "2024-06-28T11:27:12.930Z"
   },
   {
    "duration": 11,
    "start_time": "2024-06-28T11:27:13.457Z"
   },
   {
    "duration": 11,
    "start_time": "2024-06-28T11:32:04.316Z"
   },
   {
    "duration": 47,
    "start_time": "2024-06-28T11:33:01.153Z"
   },
   {
    "duration": 12,
    "start_time": "2024-06-28T11:33:01.321Z"
   },
   {
    "duration": 90,
    "start_time": "2024-06-28T11:33:01.517Z"
   },
   {
    "duration": 106,
    "start_time": "2024-06-28T11:33:01.714Z"
   },
   {
    "duration": 6,
    "start_time": "2024-06-28T11:33:01.865Z"
   },
   {
    "duration": 12,
    "start_time": "2024-06-28T11:33:02.057Z"
   },
   {
    "duration": 9,
    "start_time": "2024-06-28T11:33:02.209Z"
   },
   {
    "duration": 26,
    "start_time": "2024-06-28T11:33:02.377Z"
   },
   {
    "duration": 11,
    "start_time": "2024-06-28T11:33:02.544Z"
   },
   {
    "duration": 8,
    "start_time": "2024-06-28T11:33:02.713Z"
   },
   {
    "duration": 4,
    "start_time": "2024-06-28T11:33:02.903Z"
   },
   {
    "duration": 10,
    "start_time": "2024-06-28T11:33:03.050Z"
   },
   {
    "duration": 6,
    "start_time": "2024-06-28T11:33:03.413Z"
   },
   {
    "duration": 26,
    "start_time": "2024-06-28T11:33:30.181Z"
   },
   {
    "duration": 26,
    "start_time": "2024-06-28T11:33:37.917Z"
   },
   {
    "duration": 27,
    "start_time": "2024-06-28T11:54:40.337Z"
   },
   {
    "duration": 26,
    "start_time": "2024-06-28T11:55:26.936Z"
   },
   {
    "duration": 169,
    "start_time": "2024-06-28T11:55:44.757Z"
   },
   {
    "duration": 154,
    "start_time": "2024-06-28T11:55:56.712Z"
   },
   {
    "duration": 11,
    "start_time": "2024-06-28T12:04:44.891Z"
   },
   {
    "duration": 127,
    "start_time": "2024-06-28T12:04:50.115Z"
   },
   {
    "duration": 11,
    "start_time": "2024-06-28T12:04:50.894Z"
   },
   {
    "duration": 10,
    "start_time": "2024-06-28T12:05:35.342Z"
   },
   {
    "duration": 13,
    "start_time": "2024-06-28T12:05:49.486Z"
   },
   {
    "duration": 282,
    "start_time": "2024-06-28T12:06:56.026Z"
   },
   {
    "duration": 211,
    "start_time": "2024-06-28T12:09:06.818Z"
   },
   {
    "duration": 316,
    "start_time": "2024-06-28T12:09:56.437Z"
   },
   {
    "duration": 237,
    "start_time": "2024-06-28T12:10:22.026Z"
   },
   {
    "duration": 52,
    "start_time": "2024-06-28T12:21:32.051Z"
   },
   {
    "duration": 51,
    "start_time": "2024-06-28T12:21:46.999Z"
   },
   {
    "duration": 11,
    "start_time": "2024-06-28T12:22:37.175Z"
   },
   {
    "duration": 12,
    "start_time": "2024-06-28T12:25:18.115Z"
   },
   {
    "duration": 211,
    "start_time": "2024-06-28T12:29:22.537Z"
   },
   {
    "duration": 212,
    "start_time": "2024-06-28T12:34:31.313Z"
   },
   {
    "duration": 313,
    "start_time": "2024-06-28T12:34:39.618Z"
   },
   {
    "duration": 216,
    "start_time": "2024-06-28T12:39:34.700Z"
   },
   {
    "duration": 1043,
    "start_time": "2024-06-28T12:41:57.035Z"
   },
   {
    "duration": 1569,
    "start_time": "2024-06-28T12:42:30.752Z"
   },
   {
    "duration": 293,
    "start_time": "2024-06-28T12:42:50.505Z"
   },
   {
    "duration": 351,
    "start_time": "2024-06-28T12:43:53.547Z"
   },
   {
    "duration": 369,
    "start_time": "2024-06-28T12:44:28.143Z"
   },
   {
    "duration": 300,
    "start_time": "2024-06-28T12:45:24.915Z"
   },
   {
    "duration": 245,
    "start_time": "2024-06-28T12:51:32.798Z"
   },
   {
    "duration": 202,
    "start_time": "2024-06-28T12:51:59.182Z"
   },
   {
    "duration": 207,
    "start_time": "2024-06-28T12:52:10.230Z"
   },
   {
    "duration": 248,
    "start_time": "2024-06-28T12:54:00.250Z"
   },
   {
    "duration": 238,
    "start_time": "2024-06-28T12:54:59.325Z"
   },
   {
    "duration": 344,
    "start_time": "2024-06-28T12:55:08.426Z"
   },
   {
    "duration": 378,
    "start_time": "2024-06-28T13:11:45.815Z"
   },
   {
    "duration": 313,
    "start_time": "2024-06-28T13:14:30.111Z"
   },
   {
    "duration": 393,
    "start_time": "2024-06-28T13:18:42.742Z"
   },
   {
    "duration": 356,
    "start_time": "2024-06-28T13:19:35.890Z"
   },
   {
    "duration": 17,
    "start_time": "2024-06-28T13:44:12.707Z"
   },
   {
    "duration": 10,
    "start_time": "2024-06-28T13:45:24.209Z"
   },
   {
    "duration": 187,
    "start_time": "2024-06-28T13:45:33.053Z"
   },
   {
    "duration": 14,
    "start_time": "2024-06-28T13:58:24.712Z"
   },
   {
    "duration": 17,
    "start_time": "2024-06-28T13:58:52.074Z"
   },
   {
    "duration": 20,
    "start_time": "2024-06-28T13:59:00.650Z"
   },
   {
    "duration": 25,
    "start_time": "2024-06-28T13:59:18.646Z"
   },
   {
    "duration": 154,
    "start_time": "2024-06-28T14:04:19.061Z"
   },
   {
    "duration": 112,
    "start_time": "2024-06-28T14:06:22.894Z"
   },
   {
    "duration": 148,
    "start_time": "2024-06-28T14:07:23.018Z"
   },
   {
    "duration": 137,
    "start_time": "2024-06-28T14:12:19.112Z"
   },
   {
    "duration": 14,
    "start_time": "2024-06-28T14:18:46.206Z"
   },
   {
    "duration": 17,
    "start_time": "2024-06-28T14:19:01.293Z"
   },
   {
    "duration": 18,
    "start_time": "2024-06-28T14:20:16.673Z"
   },
   {
    "duration": 16,
    "start_time": "2024-06-28T14:20:42.966Z"
   },
   {
    "duration": 140,
    "start_time": "2024-06-28T14:20:56.118Z"
   },
   {
    "duration": 139,
    "start_time": "2024-06-28T14:22:22.367Z"
   },
   {
    "duration": 243,
    "start_time": "2024-06-28T14:22:33.582Z"
   },
   {
    "duration": 155,
    "start_time": "2024-06-28T14:24:21.293Z"
   },
   {
    "duration": 165,
    "start_time": "2024-06-28T14:26:10.090Z"
   },
   {
    "duration": 152,
    "start_time": "2024-06-28T14:26:24.747Z"
   },
   {
    "duration": 5,
    "start_time": "2024-06-28T14:29:46.830Z"
   },
   {
    "duration": 1183,
    "start_time": "2024-06-28T14:32:42.811Z"
   },
   {
    "duration": 144,
    "start_time": "2024-06-28T14:32:59.227Z"
   },
   {
    "duration": 4,
    "start_time": "2024-06-28T14:33:50.551Z"
   },
   {
    "duration": 160,
    "start_time": "2024-06-28T14:40:36.764Z"
   },
   {
    "duration": 161,
    "start_time": "2024-06-28T14:47:08.740Z"
   },
   {
    "duration": 5,
    "start_time": "2024-06-28T14:50:19.471Z"
   },
   {
    "duration": 114,
    "start_time": "2024-06-28T14:58:06.558Z"
   },
   {
    "duration": 105,
    "start_time": "2024-06-28T14:59:23.878Z"
   },
   {
    "duration": 118,
    "start_time": "2024-06-28T15:00:54.586Z"
   },
   {
    "duration": 227,
    "start_time": "2024-06-28T15:02:30.984Z"
   },
   {
    "duration": 220,
    "start_time": "2024-06-28T15:02:48.250Z"
   },
   {
    "duration": 135,
    "start_time": "2024-06-28T15:04:28.548Z"
   },
   {
    "duration": 8,
    "start_time": "2024-06-28T15:04:58.594Z"
   },
   {
    "duration": 6,
    "start_time": "2024-06-28T15:07:46.365Z"
   },
   {
    "duration": 25,
    "start_time": "2024-06-28T15:09:33.296Z"
   },
   {
    "duration": 27,
    "start_time": "2024-06-28T15:20:14.749Z"
   },
   {
    "duration": 26,
    "start_time": "2024-06-28T15:21:32.684Z"
   },
   {
    "duration": 47,
    "start_time": "2024-06-28T15:23:47.111Z"
   },
   {
    "duration": 4,
    "start_time": "2024-06-28T15:27:35.548Z"
   },
   {
    "duration": 60,
    "start_time": "2024-06-28T15:27:35.555Z"
   },
   {
    "duration": 9,
    "start_time": "2024-06-28T15:27:35.617Z"
   },
   {
    "duration": 14,
    "start_time": "2024-06-28T15:27:35.628Z"
   },
   {
    "duration": 21,
    "start_time": "2024-06-28T15:27:35.644Z"
   },
   {
    "duration": 28,
    "start_time": "2024-06-28T15:27:35.667Z"
   },
   {
    "duration": 35,
    "start_time": "2024-06-28T15:27:35.697Z"
   },
   {
    "duration": 25,
    "start_time": "2024-06-28T15:27:35.734Z"
   },
   {
    "duration": 47,
    "start_time": "2024-06-28T15:27:35.761Z"
   },
   {
    "duration": 11,
    "start_time": "2024-06-28T15:27:35.810Z"
   },
   {
    "duration": 47,
    "start_time": "2024-06-28T15:27:35.822Z"
   },
   {
    "duration": 6,
    "start_time": "2024-06-28T15:27:35.871Z"
   },
   {
    "duration": 22,
    "start_time": "2024-06-28T15:27:35.878Z"
   },
   {
    "duration": 13,
    "start_time": "2024-06-28T15:27:35.903Z"
   },
   {
    "duration": 14,
    "start_time": "2024-06-28T15:27:35.917Z"
   },
   {
    "duration": 17,
    "start_time": "2024-06-28T15:27:35.932Z"
   },
   {
    "duration": 12,
    "start_time": "2024-06-28T15:27:35.950Z"
   },
   {
    "duration": 22,
    "start_time": "2024-06-28T15:27:35.963Z"
   },
   {
    "duration": 15,
    "start_time": "2024-06-28T15:27:35.986Z"
   },
   {
    "duration": 20,
    "start_time": "2024-06-28T15:27:36.002Z"
   },
   {
    "duration": 50,
    "start_time": "2024-06-28T15:27:36.024Z"
   },
   {
    "duration": 219,
    "start_time": "2024-06-28T15:27:36.076Z"
   },
   {
    "duration": 127,
    "start_time": "2024-06-28T15:27:36.297Z"
   },
   {
    "duration": 13,
    "start_time": "2024-06-28T15:27:36.426Z"
   },
   {
    "duration": 257,
    "start_time": "2024-06-28T15:27:36.441Z"
   },
   {
    "duration": 13,
    "start_time": "2024-06-28T15:27:36.700Z"
   },
   {
    "duration": 245,
    "start_time": "2024-06-28T15:27:36.716Z"
   },
   {
    "duration": 353,
    "start_time": "2024-06-28T15:27:36.962Z"
   },
   {
    "duration": 279,
    "start_time": "2024-06-28T15:27:37.317Z"
   },
   {
    "duration": 354,
    "start_time": "2024-06-28T15:27:37.598Z"
   },
   {
    "duration": 271,
    "start_time": "2024-06-28T15:27:37.962Z"
   },
   {
    "duration": 4,
    "start_time": "2024-06-28T15:27:38.235Z"
   },
   {
    "duration": 166,
    "start_time": "2024-06-28T15:27:38.240Z"
   },
   {
    "duration": 188,
    "start_time": "2024-06-28T15:27:38.408Z"
   },
   {
    "duration": 4,
    "start_time": "2024-06-28T15:27:38.598Z"
   },
   {
    "duration": 230,
    "start_time": "2024-06-28T15:27:38.604Z"
   },
   {
    "duration": 155,
    "start_time": "2024-06-28T15:27:38.836Z"
   },
   {
    "duration": 7,
    "start_time": "2024-06-28T15:27:38.992Z"
   },
   {
    "duration": 50,
    "start_time": "2024-06-28T15:27:39.001Z"
   },
   {
    "duration": 11,
    "start_time": "2024-06-28T15:29:05.543Z"
   },
   {
    "duration": 11,
    "start_time": "2024-06-28T15:29:48.842Z"
   },
   {
    "duration": 11,
    "start_time": "2024-06-28T15:29:54.271Z"
   },
   {
    "duration": 1025,
    "start_time": "2024-06-28T15:35:08.188Z"
   },
   {
    "duration": 9,
    "start_time": "2024-06-28T15:35:21.087Z"
   },
   {
    "duration": 9,
    "start_time": "2024-06-28T15:36:12.015Z"
   },
   {
    "duration": 27,
    "start_time": "2024-06-28T15:36:25.856Z"
   },
   {
    "duration": 8,
    "start_time": "2024-06-28T15:38:06.123Z"
   },
   {
    "duration": 11,
    "start_time": "2024-06-28T15:38:10.667Z"
   },
   {
    "duration": 25,
    "start_time": "2024-06-28T15:38:11.227Z"
   },
   {
    "duration": 1047,
    "start_time": "2024-06-28T15:38:56.330Z"
   },
   {
    "duration": 997,
    "start_time": "2024-06-28T15:39:22.759Z"
   },
   {
    "duration": 1034,
    "start_time": "2024-06-28T15:39:38.394Z"
   },
   {
    "duration": 14,
    "start_time": "2024-06-28T15:40:09.828Z"
   },
   {
    "duration": 8,
    "start_time": "2024-06-28T15:43:29.800Z"
   },
   {
    "duration": 10,
    "start_time": "2024-06-28T15:43:36.465Z"
   },
   {
    "duration": 8,
    "start_time": "2024-06-28T15:43:44.111Z"
   },
   {
    "duration": 9,
    "start_time": "2024-06-28T15:44:16.007Z"
   },
   {
    "duration": 7,
    "start_time": "2024-06-28T15:44:30.168Z"
   },
   {
    "duration": 26,
    "start_time": "2024-06-28T15:44:30.777Z"
   },
   {
    "duration": 26,
    "start_time": "2024-06-28T15:44:37.500Z"
   },
   {
    "duration": 20,
    "start_time": "2024-06-28T15:44:38.164Z"
   },
   {
    "duration": 4,
    "start_time": "2024-06-28T16:04:14.771Z"
   },
   {
    "duration": 81,
    "start_time": "2024-06-28T16:04:14.777Z"
   },
   {
    "duration": 11,
    "start_time": "2024-06-28T16:04:14.860Z"
   },
   {
    "duration": 18,
    "start_time": "2024-06-28T16:04:14.873Z"
   },
   {
    "duration": 29,
    "start_time": "2024-06-28T16:04:14.892Z"
   },
   {
    "duration": 31,
    "start_time": "2024-06-28T16:04:14.923Z"
   },
   {
    "duration": 29,
    "start_time": "2024-06-28T16:04:14.956Z"
   },
   {
    "duration": 48,
    "start_time": "2024-06-28T16:04:14.986Z"
   },
   {
    "duration": 103,
    "start_time": "2024-06-28T16:04:15.035Z"
   },
   {
    "duration": 11,
    "start_time": "2024-06-28T16:04:15.141Z"
   },
   {
    "duration": 50,
    "start_time": "2024-06-28T16:04:15.155Z"
   },
   {
    "duration": 51,
    "start_time": "2024-06-28T16:04:15.206Z"
   },
   {
    "duration": 37,
    "start_time": "2024-06-28T16:04:15.259Z"
   },
   {
    "duration": 86,
    "start_time": "2024-06-28T16:04:15.297Z"
   },
   {
    "duration": 46,
    "start_time": "2024-06-28T16:04:15.385Z"
   },
   {
    "duration": 40,
    "start_time": "2024-06-28T16:04:15.433Z"
   },
   {
    "duration": 23,
    "start_time": "2024-06-28T16:04:15.475Z"
   },
   {
    "duration": 8,
    "start_time": "2024-06-28T16:04:15.500Z"
   },
   {
    "duration": 17,
    "start_time": "2024-06-28T16:04:15.510Z"
   },
   {
    "duration": 28,
    "start_time": "2024-06-28T16:04:15.529Z"
   },
   {
    "duration": 20,
    "start_time": "2024-06-28T16:04:15.559Z"
   },
   {
    "duration": 170,
    "start_time": "2024-06-28T16:04:15.581Z"
   },
   {
    "duration": 135,
    "start_time": "2024-06-28T16:04:15.752Z"
   },
   {
    "duration": 18,
    "start_time": "2024-06-28T16:04:15.890Z"
   },
   {
    "duration": 257,
    "start_time": "2024-06-28T16:04:15.909Z"
   },
   {
    "duration": 12,
    "start_time": "2024-06-28T16:04:16.168Z"
   },
   {
    "duration": 255,
    "start_time": "2024-06-28T16:04:16.182Z"
   },
   {
    "duration": 368,
    "start_time": "2024-06-28T16:04:16.441Z"
   },
   {
    "duration": 268,
    "start_time": "2024-06-28T16:04:16.810Z"
   },
   {
    "duration": 374,
    "start_time": "2024-06-28T16:04:17.080Z"
   },
   {
    "duration": 164,
    "start_time": "2024-06-28T16:04:17.456Z"
   },
   {
    "duration": 6,
    "start_time": "2024-06-28T16:04:17.622Z"
   },
   {
    "duration": 173,
    "start_time": "2024-06-28T16:04:17.630Z"
   },
   {
    "duration": 190,
    "start_time": "2024-06-28T16:04:17.805Z"
   },
   {
    "duration": 6,
    "start_time": "2024-06-28T16:04:17.998Z"
   },
   {
    "duration": 265,
    "start_time": "2024-06-28T16:04:18.006Z"
   },
   {
    "duration": 164,
    "start_time": "2024-06-28T16:04:18.273Z"
   },
   {
    "duration": 24,
    "start_time": "2024-06-28T16:04:18.439Z"
   },
   {
    "duration": 26,
    "start_time": "2024-06-28T16:04:18.465Z"
   },
   {
    "duration": 13,
    "start_time": "2024-06-28T16:04:18.493Z"
   },
   {
    "duration": 10,
    "start_time": "2024-06-28T16:04:18.508Z"
   },
   {
    "duration": 43,
    "start_time": "2024-06-28T16:04:18.521Z"
   },
   {
    "duration": 27,
    "start_time": "2024-06-28T16:04:18.566Z"
   },
   {
    "duration": 16,
    "start_time": "2024-06-28T16:04:18.595Z"
   },
   {
    "duration": 1366,
    "start_time": "2024-06-28T16:21:57.130Z"
   },
   {
    "duration": 82,
    "start_time": "2024-06-28T16:21:58.498Z"
   },
   {
    "duration": 12,
    "start_time": "2024-06-28T16:21:58.581Z"
   },
   {
    "duration": 10,
    "start_time": "2024-06-28T16:21:58.595Z"
   },
   {
    "duration": 7,
    "start_time": "2024-06-28T16:21:58.607Z"
   },
   {
    "duration": 18,
    "start_time": "2024-06-28T16:21:58.615Z"
   },
   {
    "duration": 8,
    "start_time": "2024-06-28T16:21:58.635Z"
   },
   {
    "duration": 10,
    "start_time": "2024-06-28T16:21:58.645Z"
   },
   {
    "duration": 93,
    "start_time": "2024-06-28T16:21:58.656Z"
   },
   {
    "duration": 11,
    "start_time": "2024-06-28T16:21:58.752Z"
   },
   {
    "duration": 16,
    "start_time": "2024-06-28T16:21:58.764Z"
   },
   {
    "duration": 106,
    "start_time": "2024-06-28T16:21:58.782Z"
   },
   {
    "duration": 0,
    "start_time": "2024-06-28T16:21:58.890Z"
   },
   {
    "duration": 0,
    "start_time": "2024-06-28T16:21:58.892Z"
   },
   {
    "duration": 0,
    "start_time": "2024-06-28T16:21:58.893Z"
   },
   {
    "duration": 0,
    "start_time": "2024-06-28T16:21:58.894Z"
   },
   {
    "duration": 0,
    "start_time": "2024-06-28T16:21:58.895Z"
   },
   {
    "duration": 0,
    "start_time": "2024-06-28T16:21:58.896Z"
   },
   {
    "duration": 0,
    "start_time": "2024-06-28T16:21:58.897Z"
   },
   {
    "duration": 0,
    "start_time": "2024-06-28T16:21:58.898Z"
   },
   {
    "duration": 0,
    "start_time": "2024-06-28T16:21:58.899Z"
   },
   {
    "duration": 0,
    "start_time": "2024-06-28T16:21:58.900Z"
   },
   {
    "duration": 0,
    "start_time": "2024-06-28T16:21:58.901Z"
   },
   {
    "duration": 0,
    "start_time": "2024-06-28T16:21:58.902Z"
   },
   {
    "duration": 0,
    "start_time": "2024-06-28T16:21:58.904Z"
   },
   {
    "duration": 0,
    "start_time": "2024-06-28T16:21:58.905Z"
   },
   {
    "duration": 0,
    "start_time": "2024-06-28T16:21:58.906Z"
   },
   {
    "duration": 0,
    "start_time": "2024-06-28T16:21:58.907Z"
   },
   {
    "duration": 0,
    "start_time": "2024-06-28T16:21:58.908Z"
   },
   {
    "duration": 0,
    "start_time": "2024-06-28T16:21:58.909Z"
   },
   {
    "duration": 0,
    "start_time": "2024-06-28T16:21:58.910Z"
   },
   {
    "duration": 0,
    "start_time": "2024-06-28T16:21:58.912Z"
   },
   {
    "duration": 0,
    "start_time": "2024-06-28T16:21:58.913Z"
   },
   {
    "duration": 0,
    "start_time": "2024-06-28T16:21:58.914Z"
   },
   {
    "duration": 0,
    "start_time": "2024-06-28T16:21:58.915Z"
   },
   {
    "duration": 0,
    "start_time": "2024-06-28T16:21:58.956Z"
   },
   {
    "duration": 0,
    "start_time": "2024-06-28T16:21:58.957Z"
   },
   {
    "duration": 0,
    "start_time": "2024-06-28T16:21:58.959Z"
   },
   {
    "duration": 0,
    "start_time": "2024-06-28T16:21:58.960Z"
   },
   {
    "duration": 0,
    "start_time": "2024-06-28T16:21:58.961Z"
   },
   {
    "duration": 0,
    "start_time": "2024-06-28T16:21:58.962Z"
   },
   {
    "duration": 0,
    "start_time": "2024-06-28T16:21:58.964Z"
   },
   {
    "duration": 0,
    "start_time": "2024-06-28T16:21:58.965Z"
   },
   {
    "duration": 0,
    "start_time": "2024-06-28T16:21:58.966Z"
   },
   {
    "duration": 7,
    "start_time": "2024-06-28T16:22:15.297Z"
   },
   {
    "duration": 11,
    "start_time": "2024-06-28T16:22:17.355Z"
   },
   {
    "duration": 8,
    "start_time": "2024-06-28T16:22:18.003Z"
   },
   {
    "duration": 71,
    "start_time": "2024-06-28T16:22:18.193Z"
   },
   {
    "duration": 10,
    "start_time": "2024-06-28T16:22:18.361Z"
   },
   {
    "duration": 8,
    "start_time": "2024-06-28T16:22:18.535Z"
   },
   {
    "duration": 4,
    "start_time": "2024-06-28T16:22:18.712Z"
   },
   {
    "duration": 10,
    "start_time": "2024-06-28T16:22:18.880Z"
   },
   {
    "duration": 5,
    "start_time": "2024-06-28T16:22:19.556Z"
   },
   {
    "duration": 25,
    "start_time": "2024-06-28T16:22:19.723Z"
   },
   {
    "duration": 119,
    "start_time": "2024-06-28T16:22:19.887Z"
   },
   {
    "duration": 10,
    "start_time": "2024-06-28T16:22:20.055Z"
   },
   {
    "duration": 10,
    "start_time": "2024-06-28T16:22:20.296Z"
   },
   {
    "duration": 1440,
    "start_time": "2024-06-29T10:17:37.358Z"
   },
   {
    "duration": 78,
    "start_time": "2024-06-29T10:17:38.800Z"
   },
   {
    "duration": 12,
    "start_time": "2024-06-29T10:17:38.880Z"
   },
   {
    "duration": 44,
    "start_time": "2024-06-29T10:17:38.894Z"
   },
   {
    "duration": 56,
    "start_time": "2024-06-29T10:17:38.940Z"
   },
   {
    "duration": 12,
    "start_time": "2024-06-29T10:17:38.998Z"
   },
   {
    "duration": 13,
    "start_time": "2024-06-29T10:17:39.012Z"
   },
   {
    "duration": 39,
    "start_time": "2024-06-29T10:17:39.027Z"
   },
   {
    "duration": 80,
    "start_time": "2024-06-29T10:17:39.068Z"
   },
   {
    "duration": 11,
    "start_time": "2024-06-29T10:17:39.151Z"
   },
   {
    "duration": 9,
    "start_time": "2024-06-29T10:17:39.163Z"
   },
   {
    "duration": 105,
    "start_time": "2024-06-29T10:17:39.174Z"
   },
   {
    "duration": 0,
    "start_time": "2024-06-29T10:17:39.282Z"
   },
   {
    "duration": 0,
    "start_time": "2024-06-29T10:17:39.283Z"
   },
   {
    "duration": 0,
    "start_time": "2024-06-29T10:17:39.284Z"
   },
   {
    "duration": 0,
    "start_time": "2024-06-29T10:17:39.285Z"
   },
   {
    "duration": 0,
    "start_time": "2024-06-29T10:17:39.291Z"
   },
   {
    "duration": 0,
    "start_time": "2024-06-29T10:17:39.292Z"
   },
   {
    "duration": 0,
    "start_time": "2024-06-29T10:17:39.294Z"
   },
   {
    "duration": 0,
    "start_time": "2024-06-29T10:17:39.295Z"
   },
   {
    "duration": 0,
    "start_time": "2024-06-29T10:17:39.296Z"
   },
   {
    "duration": 0,
    "start_time": "2024-06-29T10:17:39.297Z"
   },
   {
    "duration": 0,
    "start_time": "2024-06-29T10:17:39.298Z"
   },
   {
    "duration": 0,
    "start_time": "2024-06-29T10:17:39.299Z"
   },
   {
    "duration": 0,
    "start_time": "2024-06-29T10:17:39.300Z"
   },
   {
    "duration": 0,
    "start_time": "2024-06-29T10:17:39.301Z"
   },
   {
    "duration": 0,
    "start_time": "2024-06-29T10:17:39.302Z"
   },
   {
    "duration": 0,
    "start_time": "2024-06-29T10:17:39.303Z"
   },
   {
    "duration": 0,
    "start_time": "2024-06-29T10:17:39.304Z"
   },
   {
    "duration": 0,
    "start_time": "2024-06-29T10:17:39.305Z"
   },
   {
    "duration": 0,
    "start_time": "2024-06-29T10:17:39.306Z"
   },
   {
    "duration": 0,
    "start_time": "2024-06-29T10:17:39.307Z"
   },
   {
    "duration": 0,
    "start_time": "2024-06-29T10:17:39.309Z"
   },
   {
    "duration": 0,
    "start_time": "2024-06-29T10:17:39.310Z"
   },
   {
    "duration": 0,
    "start_time": "2024-06-29T10:17:39.311Z"
   },
   {
    "duration": 0,
    "start_time": "2024-06-29T10:17:39.312Z"
   },
   {
    "duration": 0,
    "start_time": "2024-06-29T10:17:39.313Z"
   },
   {
    "duration": 0,
    "start_time": "2024-06-29T10:17:39.314Z"
   },
   {
    "duration": 1,
    "start_time": "2024-06-29T10:17:39.315Z"
   },
   {
    "duration": 0,
    "start_time": "2024-06-29T10:17:39.317Z"
   },
   {
    "duration": 0,
    "start_time": "2024-06-29T10:17:39.318Z"
   },
   {
    "duration": 0,
    "start_time": "2024-06-29T10:17:39.319Z"
   },
   {
    "duration": 0,
    "start_time": "2024-06-29T10:17:39.320Z"
   },
   {
    "duration": 0,
    "start_time": "2024-06-29T10:17:39.321Z"
   },
   {
    "duration": 4,
    "start_time": "2024-06-29T10:18:01.312Z"
   },
   {
    "duration": 4,
    "start_time": "2024-06-29T10:18:05.309Z"
   },
   {
    "duration": 8,
    "start_time": "2024-06-29T10:18:06.238Z"
   },
   {
    "duration": 11,
    "start_time": "2024-06-29T10:18:07.046Z"
   },
   {
    "duration": 10,
    "start_time": "2024-06-29T10:18:10.105Z"
   },
   {
    "duration": 66,
    "start_time": "2024-06-29T10:18:10.750Z"
   },
   {
    "duration": 12,
    "start_time": "2024-06-29T10:18:14.463Z"
   },
   {
    "duration": 7,
    "start_time": "2024-06-29T10:18:14.963Z"
   },
   {
    "duration": 4,
    "start_time": "2024-06-29T10:18:15.615Z"
   },
   {
    "duration": 13,
    "start_time": "2024-06-29T10:18:17.155Z"
   },
   {
    "duration": 6,
    "start_time": "2024-06-29T10:21:22.331Z"
   },
   {
    "duration": 1260,
    "start_time": "2024-06-29T10:21:49.406Z"
   },
   {
    "duration": 27,
    "start_time": "2024-06-29T10:21:50.668Z"
   },
   {
    "duration": 14,
    "start_time": "2024-06-29T10:21:50.697Z"
   },
   {
    "duration": 58,
    "start_time": "2024-06-29T10:21:50.713Z"
   },
   {
    "duration": 25,
    "start_time": "2024-06-29T10:21:50.774Z"
   },
   {
    "duration": 14,
    "start_time": "2024-06-29T10:21:50.801Z"
   },
   {
    "duration": 12,
    "start_time": "2024-06-29T10:21:50.817Z"
   },
   {
    "duration": 38,
    "start_time": "2024-06-29T10:21:50.831Z"
   },
   {
    "duration": 54,
    "start_time": "2024-06-29T10:21:50.871Z"
   },
   {
    "duration": 20,
    "start_time": "2024-06-29T10:21:50.928Z"
   },
   {
    "duration": 60,
    "start_time": "2024-06-29T10:21:50.954Z"
   },
   {
    "duration": 4,
    "start_time": "2024-06-29T10:21:51.016Z"
   },
   {
    "duration": 22,
    "start_time": "2024-06-29T10:21:51.022Z"
   },
   {
    "duration": 32,
    "start_time": "2024-06-29T10:21:51.046Z"
   },
   {
    "duration": 27,
    "start_time": "2024-06-29T10:21:51.079Z"
   },
   {
    "duration": 37,
    "start_time": "2024-06-29T10:21:51.108Z"
   },
   {
    "duration": 26,
    "start_time": "2024-06-29T10:21:51.148Z"
   },
   {
    "duration": 12,
    "start_time": "2024-06-29T10:21:51.176Z"
   },
   {
    "duration": 20,
    "start_time": "2024-06-29T10:21:51.190Z"
   },
   {
    "duration": 16,
    "start_time": "2024-06-29T10:21:51.211Z"
   },
   {
    "duration": 12,
    "start_time": "2024-06-29T10:21:51.229Z"
   },
   {
    "duration": 188,
    "start_time": "2024-06-29T10:21:51.242Z"
   },
   {
    "duration": 129,
    "start_time": "2024-06-29T10:21:51.432Z"
   },
   {
    "duration": 30,
    "start_time": "2024-06-29T10:21:51.562Z"
   },
   {
    "duration": 381,
    "start_time": "2024-06-29T10:21:51.594Z"
   },
   {
    "duration": 16,
    "start_time": "2024-06-29T10:21:51.977Z"
   },
   {
    "duration": 268,
    "start_time": "2024-06-29T10:21:51.995Z"
   },
   {
    "duration": 400,
    "start_time": "2024-06-29T10:21:52.267Z"
   },
   {
    "duration": 286,
    "start_time": "2024-06-29T10:21:52.669Z"
   },
   {
    "duration": 394,
    "start_time": "2024-06-29T10:21:52.957Z"
   },
   {
    "duration": 159,
    "start_time": "2024-06-29T10:21:53.353Z"
   },
   {
    "duration": 5,
    "start_time": "2024-06-29T10:21:53.514Z"
   },
   {
    "duration": 176,
    "start_time": "2024-06-29T10:21:53.520Z"
   },
   {
    "duration": 186,
    "start_time": "2024-06-29T10:21:53.698Z"
   },
   {
    "duration": 5,
    "start_time": "2024-06-29T10:21:53.891Z"
   },
   {
    "duration": 325,
    "start_time": "2024-06-29T10:21:53.897Z"
   },
   {
    "duration": 157,
    "start_time": "2024-06-29T10:21:54.223Z"
   },
   {
    "duration": 20,
    "start_time": "2024-06-29T10:21:54.382Z"
   },
   {
    "duration": 32,
    "start_time": "2024-06-29T10:21:54.404Z"
   },
   {
    "duration": 11,
    "start_time": "2024-06-29T10:21:54.438Z"
   },
   {
    "duration": 11,
    "start_time": "2024-06-29T10:21:54.451Z"
   },
   {
    "duration": 31,
    "start_time": "2024-06-29T10:21:54.464Z"
   },
   {
    "duration": 26,
    "start_time": "2024-06-29T10:21:54.497Z"
   },
   {
    "duration": 13,
    "start_time": "2024-06-29T10:21:54.525Z"
   },
   {
    "duration": 7,
    "start_time": "2024-06-29T10:22:03.790Z"
   },
   {
    "duration": 162,
    "start_time": "2024-06-29T10:22:04.290Z"
   },
   {
    "duration": 129,
    "start_time": "2024-06-29T10:22:04.969Z"
   },
   {
    "duration": 14,
    "start_time": "2024-06-29T10:22:05.480Z"
   },
   {
    "duration": 216,
    "start_time": "2024-06-29T10:22:08.970Z"
   },
   {
    "duration": 14,
    "start_time": "2024-06-29T10:22:09.738Z"
   },
   {
    "duration": 239,
    "start_time": "2024-06-29T10:22:15.084Z"
   },
   {
    "duration": 307,
    "start_time": "2024-06-29T10:22:17.334Z"
   },
   {
    "duration": 268,
    "start_time": "2024-06-29T10:22:19.437Z"
   },
   {
    "duration": 3,
    "start_time": "2024-06-29T10:22:24.836Z"
   },
   {
    "duration": 28,
    "start_time": "2024-06-29T10:22:24.841Z"
   },
   {
    "duration": 8,
    "start_time": "2024-06-29T10:22:24.871Z"
   },
   {
    "duration": 14,
    "start_time": "2024-06-29T10:22:24.880Z"
   },
   {
    "duration": 4,
    "start_time": "2024-06-29T10:22:24.896Z"
   },
   {
    "duration": 13,
    "start_time": "2024-06-29T10:22:24.902Z"
   },
   {
    "duration": 8,
    "start_time": "2024-06-29T10:22:24.917Z"
   },
   {
    "duration": 26,
    "start_time": "2024-06-29T10:22:24.927Z"
   },
   {
    "duration": 74,
    "start_time": "2024-06-29T10:22:24.955Z"
   },
   {
    "duration": 11,
    "start_time": "2024-06-29T10:22:25.031Z"
   },
   {
    "duration": 32,
    "start_time": "2024-06-29T10:22:25.044Z"
   },
   {
    "duration": 5,
    "start_time": "2024-06-29T10:22:25.077Z"
   },
   {
    "duration": 12,
    "start_time": "2024-06-29T10:22:25.084Z"
   },
   {
    "duration": 14,
    "start_time": "2024-06-29T10:22:25.100Z"
   },
   {
    "duration": 10,
    "start_time": "2024-06-29T10:22:25.115Z"
   },
   {
    "duration": 24,
    "start_time": "2024-06-29T10:22:25.127Z"
   },
   {
    "duration": 10,
    "start_time": "2024-06-29T10:22:25.153Z"
   },
   {
    "duration": 10,
    "start_time": "2024-06-29T10:22:25.165Z"
   },
   {
    "duration": 6,
    "start_time": "2024-06-29T10:22:25.177Z"
   },
   {
    "duration": 12,
    "start_time": "2024-06-29T10:22:25.191Z"
   },
   {
    "duration": 9,
    "start_time": "2024-06-29T10:22:25.205Z"
   },
   {
    "duration": 177,
    "start_time": "2024-06-29T10:22:25.216Z"
   },
   {
    "duration": 133,
    "start_time": "2024-06-29T10:22:25.395Z"
   },
   {
    "duration": 16,
    "start_time": "2024-06-29T10:22:25.530Z"
   },
   {
    "duration": 230,
    "start_time": "2024-06-29T10:22:25.548Z"
   },
   {
    "duration": 20,
    "start_time": "2024-06-29T10:22:25.780Z"
   },
   {
    "duration": 236,
    "start_time": "2024-06-29T10:22:25.802Z"
   },
   {
    "duration": 324,
    "start_time": "2024-06-29T10:22:26.040Z"
   },
   {
    "duration": 285,
    "start_time": "2024-06-29T10:22:26.366Z"
   },
   {
    "duration": 386,
    "start_time": "2024-06-29T10:22:26.653Z"
   },
   {
    "duration": 242,
    "start_time": "2024-06-29T10:22:27.041Z"
   },
   {
    "duration": 9,
    "start_time": "2024-06-29T10:22:27.284Z"
   },
   {
    "duration": 167,
    "start_time": "2024-06-29T10:22:27.295Z"
   },
   {
    "duration": 180,
    "start_time": "2024-06-29T10:22:27.464Z"
   },
   {
    "duration": 4,
    "start_time": "2024-06-29T10:22:27.645Z"
   },
   {
    "duration": 270,
    "start_time": "2024-06-29T10:22:27.651Z"
   },
   {
    "duration": 152,
    "start_time": "2024-06-29T10:22:27.924Z"
   },
   {
    "duration": 7,
    "start_time": "2024-06-29T10:22:28.078Z"
   },
   {
    "duration": 43,
    "start_time": "2024-06-29T10:22:28.087Z"
   },
   {
    "duration": 19,
    "start_time": "2024-06-29T10:22:28.132Z"
   },
   {
    "duration": 12,
    "start_time": "2024-06-29T10:22:28.156Z"
   },
   {
    "duration": 80,
    "start_time": "2024-06-29T10:22:28.170Z"
   },
   {
    "duration": 39,
    "start_time": "2024-06-29T10:22:28.251Z"
   },
   {
    "duration": 16,
    "start_time": "2024-06-29T10:22:28.292Z"
   },
   {
    "duration": 1140,
    "start_time": "2024-06-29T13:46:00.348Z"
   },
   {
    "duration": 75,
    "start_time": "2024-06-29T13:46:01.492Z"
   },
   {
    "duration": 259,
    "start_time": "2024-06-29T13:46:01.568Z"
   },
   {
    "duration": 38,
    "start_time": "2024-06-29T13:46:01.829Z"
   },
   {
    "duration": 53,
    "start_time": "2024-06-29T13:46:01.869Z"
   },
   {
    "duration": 119,
    "start_time": "2024-06-29T13:46:01.923Z"
   },
   {
    "duration": 103,
    "start_time": "2024-06-29T13:46:02.044Z"
   },
   {
    "duration": 80,
    "start_time": "2024-06-29T13:46:02.149Z"
   },
   {
    "duration": 102,
    "start_time": "2024-06-29T13:46:02.230Z"
   },
   {
    "duration": 9,
    "start_time": "2024-06-29T13:46:02.334Z"
   },
   {
    "duration": 76,
    "start_time": "2024-06-29T13:46:02.344Z"
   },
   {
    "duration": 30,
    "start_time": "2024-06-29T13:46:02.422Z"
   },
   {
    "duration": 51,
    "start_time": "2024-06-29T13:46:02.453Z"
   },
   {
    "duration": 48,
    "start_time": "2024-06-29T13:46:02.507Z"
   },
   {
    "duration": 44,
    "start_time": "2024-06-29T13:46:02.556Z"
   },
   {
    "duration": 85,
    "start_time": "2024-06-29T13:46:02.601Z"
   },
   {
    "duration": 9,
    "start_time": "2024-06-29T13:46:02.687Z"
   },
   {
    "duration": 18,
    "start_time": "2024-06-29T13:46:02.697Z"
   },
   {
    "duration": 9,
    "start_time": "2024-06-29T13:46:02.717Z"
   },
   {
    "duration": 18,
    "start_time": "2024-06-29T13:46:02.727Z"
   },
   {
    "duration": 19,
    "start_time": "2024-06-29T13:46:02.746Z"
   },
   {
    "duration": 161,
    "start_time": "2024-06-29T13:46:02.766Z"
   },
   {
    "duration": 103,
    "start_time": "2024-06-29T13:46:02.928Z"
   },
   {
    "duration": 10,
    "start_time": "2024-06-29T13:46:03.032Z"
   },
   {
    "duration": 291,
    "start_time": "2024-06-29T13:46:03.043Z"
   },
   {
    "duration": 9,
    "start_time": "2024-06-29T13:46:03.335Z"
   },
   {
    "duration": 220,
    "start_time": "2024-06-29T13:46:03.346Z"
   },
   {
    "duration": 362,
    "start_time": "2024-06-29T13:46:03.572Z"
   },
   {
    "duration": 207,
    "start_time": "2024-06-29T13:46:03.935Z"
   },
   {
    "duration": 293,
    "start_time": "2024-06-29T13:46:04.143Z"
   },
   {
    "duration": 135,
    "start_time": "2024-06-29T13:46:04.437Z"
   },
   {
    "duration": 4,
    "start_time": "2024-06-29T13:46:04.573Z"
   },
   {
    "duration": 141,
    "start_time": "2024-06-29T13:46:04.578Z"
   },
   {
    "duration": 123,
    "start_time": "2024-06-29T13:46:04.720Z"
   },
   {
    "duration": 3,
    "start_time": "2024-06-29T13:46:04.845Z"
   },
   {
    "duration": 292,
    "start_time": "2024-06-29T13:46:04.850Z"
   },
   {
    "duration": 161,
    "start_time": "2024-06-29T13:46:05.144Z"
   },
   {
    "duration": 6,
    "start_time": "2024-06-29T13:46:05.306Z"
   },
   {
    "duration": 48,
    "start_time": "2024-06-29T13:46:05.314Z"
   },
   {
    "duration": 10,
    "start_time": "2024-06-29T13:46:05.364Z"
   },
   {
    "duration": 29,
    "start_time": "2024-06-29T13:46:05.376Z"
   },
   {
    "duration": 52,
    "start_time": "2024-06-29T13:46:05.406Z"
   },
   {
    "duration": 50,
    "start_time": "2024-06-29T13:46:05.460Z"
   },
   {
    "duration": 15,
    "start_time": "2024-06-29T13:46:05.511Z"
   },
   {
    "duration": 48,
    "start_time": "2024-06-30T10:33:43.457Z"
   },
   {
    "duration": 1356,
    "start_time": "2024-06-30T10:33:50.518Z"
   },
   {
    "duration": 77,
    "start_time": "2024-06-30T10:33:51.876Z"
   },
   {
    "duration": 11,
    "start_time": "2024-06-30T10:33:51.955Z"
   },
   {
    "duration": 29,
    "start_time": "2024-06-30T10:33:51.968Z"
   },
   {
    "duration": 12,
    "start_time": "2024-06-30T10:33:52.000Z"
   },
   {
    "duration": 14,
    "start_time": "2024-06-30T10:33:52.014Z"
   },
   {
    "duration": 7,
    "start_time": "2024-06-30T10:33:52.030Z"
   },
   {
    "duration": 30,
    "start_time": "2024-06-30T10:33:52.039Z"
   },
   {
    "duration": 108,
    "start_time": "2024-06-30T10:33:52.071Z"
   },
   {
    "duration": 12,
    "start_time": "2024-06-30T10:33:52.180Z"
   },
   {
    "duration": 16,
    "start_time": "2024-06-30T10:33:52.193Z"
   },
   {
    "duration": 4,
    "start_time": "2024-06-30T10:33:52.211Z"
   },
   {
    "duration": 11,
    "start_time": "2024-06-30T10:33:52.216Z"
   },
   {
    "duration": 21,
    "start_time": "2024-06-30T10:33:52.230Z"
   },
   {
    "duration": 11,
    "start_time": "2024-06-30T10:33:52.252Z"
   },
   {
    "duration": 20,
    "start_time": "2024-06-30T10:33:52.265Z"
   },
   {
    "duration": 28,
    "start_time": "2024-06-30T10:33:52.287Z"
   },
   {
    "duration": 82,
    "start_time": "2024-06-30T10:33:52.317Z"
   },
   {
    "duration": 10,
    "start_time": "2024-06-30T10:33:52.401Z"
   },
   {
    "duration": 18,
    "start_time": "2024-06-30T10:33:52.413Z"
   },
   {
    "duration": 41,
    "start_time": "2024-06-30T10:33:52.432Z"
   },
   {
    "duration": 35,
    "start_time": "2024-06-30T10:33:52.475Z"
   },
   {
    "duration": 9,
    "start_time": "2024-06-30T10:33:52.511Z"
   },
   {
    "duration": 166,
    "start_time": "2024-06-30T10:33:52.522Z"
   },
   {
    "duration": 116,
    "start_time": "2024-06-30T10:33:52.690Z"
   },
   {
    "duration": 16,
    "start_time": "2024-06-30T10:33:52.809Z"
   },
   {
    "duration": 333,
    "start_time": "2024-06-30T10:33:52.827Z"
   },
   {
    "duration": 11,
    "start_time": "2024-06-30T10:33:53.161Z"
   },
   {
    "duration": 233,
    "start_time": "2024-06-30T10:33:53.174Z"
   },
   {
    "duration": 364,
    "start_time": "2024-06-30T10:33:53.409Z"
   },
   {
    "duration": 264,
    "start_time": "2024-06-30T10:33:53.775Z"
   },
   {
    "duration": 354,
    "start_time": "2024-06-30T10:33:54.041Z"
   },
   {
    "duration": 157,
    "start_time": "2024-06-30T10:33:54.397Z"
   },
   {
    "duration": 4,
    "start_time": "2024-06-30T10:33:54.556Z"
   },
   {
    "duration": 176,
    "start_time": "2024-06-30T10:33:54.561Z"
   },
   {
    "duration": 191,
    "start_time": "2024-06-30T10:33:54.739Z"
   },
   {
    "duration": 4,
    "start_time": "2024-06-30T10:33:54.932Z"
   },
   {
    "duration": 316,
    "start_time": "2024-06-30T10:33:54.938Z"
   },
   {
    "duration": 148,
    "start_time": "2024-06-30T10:33:55.255Z"
   },
   {
    "duration": 6,
    "start_time": "2024-06-30T10:33:55.404Z"
   },
   {
    "duration": 27,
    "start_time": "2024-06-30T10:33:55.414Z"
   },
   {
    "duration": 11,
    "start_time": "2024-06-30T10:33:55.442Z"
   },
   {
    "duration": 38,
    "start_time": "2024-06-30T10:33:55.454Z"
   },
   {
    "duration": 10,
    "start_time": "2024-06-30T10:33:55.494Z"
   },
   {
    "duration": 48,
    "start_time": "2024-06-30T10:33:55.506Z"
   },
   {
    "duration": 13,
    "start_time": "2024-06-30T10:33:55.555Z"
   },
   {
    "duration": 5,
    "start_time": "2024-06-30T10:35:16.838Z"
   },
   {
    "duration": 9,
    "start_time": "2024-06-30T10:36:34.778Z"
   },
   {
    "duration": 14,
    "start_time": "2024-06-30T10:37:36.074Z"
   },
   {
    "duration": 8,
    "start_time": "2024-06-30T10:37:58.342Z"
   },
   {
    "duration": 20,
    "start_time": "2024-06-30T10:38:26.638Z"
   },
   {
    "duration": 1386,
    "start_time": "2024-07-01T01:23:24.112Z"
   },
   {
    "duration": 80,
    "start_time": "2024-07-01T01:23:25.500Z"
   },
   {
    "duration": 12,
    "start_time": "2024-07-01T01:23:25.581Z"
   },
   {
    "duration": 16,
    "start_time": "2024-07-01T01:23:25.595Z"
   },
   {
    "duration": 14,
    "start_time": "2024-07-01T01:23:25.612Z"
   },
   {
    "duration": 11,
    "start_time": "2024-07-01T01:23:25.627Z"
   },
   {
    "duration": 7,
    "start_time": "2024-07-01T01:23:25.639Z"
   },
   {
    "duration": 26,
    "start_time": "2024-07-01T01:23:25.647Z"
   },
   {
    "duration": 103,
    "start_time": "2024-07-01T01:23:25.674Z"
   },
   {
    "duration": 10,
    "start_time": "2024-07-01T01:23:25.780Z"
   },
   {
    "duration": 9,
    "start_time": "2024-07-01T01:23:25.791Z"
   },
   {
    "duration": 10,
    "start_time": "2024-07-01T01:23:25.801Z"
   },
   {
    "duration": 20,
    "start_time": "2024-07-01T01:23:25.813Z"
   },
   {
    "duration": 6,
    "start_time": "2024-07-01T01:23:25.835Z"
   },
   {
    "duration": 11,
    "start_time": "2024-07-01T01:23:25.843Z"
   },
   {
    "duration": 32,
    "start_time": "2024-07-01T01:23:25.855Z"
   },
   {
    "duration": 9,
    "start_time": "2024-07-01T01:23:25.889Z"
   },
   {
    "duration": 67,
    "start_time": "2024-07-01T01:23:25.900Z"
   },
   {
    "duration": 11,
    "start_time": "2024-07-01T01:23:25.969Z"
   },
   {
    "duration": 13,
    "start_time": "2024-07-01T01:23:25.982Z"
   },
   {
    "duration": 12,
    "start_time": "2024-07-01T01:23:25.997Z"
   },
   {
    "duration": 17,
    "start_time": "2024-07-01T01:23:26.011Z"
   },
   {
    "duration": 5,
    "start_time": "2024-07-01T01:23:26.030Z"
   },
   {
    "duration": 171,
    "start_time": "2024-07-01T01:23:26.037Z"
   },
   {
    "duration": 125,
    "start_time": "2024-07-01T01:23:26.210Z"
   },
   {
    "duration": 12,
    "start_time": "2024-07-01T01:23:26.337Z"
   },
   {
    "duration": 325,
    "start_time": "2024-07-01T01:23:26.350Z"
   },
   {
    "duration": 12,
    "start_time": "2024-07-01T01:23:26.681Z"
   },
   {
    "duration": 239,
    "start_time": "2024-07-01T01:23:26.694Z"
   },
   {
    "duration": 406,
    "start_time": "2024-07-01T01:23:26.935Z"
   },
   {
    "duration": 267,
    "start_time": "2024-07-01T01:23:27.343Z"
   },
   {
    "duration": 368,
    "start_time": "2024-07-01T01:23:27.611Z"
   },
   {
    "duration": 163,
    "start_time": "2024-07-01T01:23:27.982Z"
   },
   {
    "duration": 4,
    "start_time": "2024-07-01T01:23:28.146Z"
   },
   {
    "duration": 197,
    "start_time": "2024-07-01T01:23:28.152Z"
   },
   {
    "duration": 186,
    "start_time": "2024-07-01T01:23:28.350Z"
   },
   {
    "duration": 4,
    "start_time": "2024-07-01T01:23:28.538Z"
   },
   {
    "duration": 347,
    "start_time": "2024-07-01T01:23:28.544Z"
   },
   {
    "duration": 149,
    "start_time": "2024-07-01T01:23:28.893Z"
   },
   {
    "duration": 7,
    "start_time": "2024-07-01T01:23:29.045Z"
   },
   {
    "duration": 49,
    "start_time": "2024-07-01T01:23:29.053Z"
   },
   {
    "duration": 11,
    "start_time": "2024-07-01T01:23:29.104Z"
   },
   {
    "duration": 25,
    "start_time": "2024-07-01T01:23:29.116Z"
   },
   {
    "duration": 9,
    "start_time": "2024-07-01T01:23:29.143Z"
   },
   {
    "duration": 43,
    "start_time": "2024-07-01T01:23:29.154Z"
   },
   {
    "duration": 16,
    "start_time": "2024-07-01T01:23:29.199Z"
   },
   {
    "duration": 58,
    "start_time": "2024-07-01T10:59:07.383Z"
   },
   {
    "duration": 5,
    "start_time": "2024-07-01T10:59:11.290Z"
   },
   {
    "duration": 1288,
    "start_time": "2024-07-01T10:59:14.095Z"
   },
   {
    "duration": 71,
    "start_time": "2024-07-01T10:59:15.385Z"
   },
   {
    "duration": 16,
    "start_time": "2024-07-01T10:59:15.458Z"
   },
   {
    "duration": 13,
    "start_time": "2024-07-01T10:59:15.476Z"
   },
   {
    "duration": 11,
    "start_time": "2024-07-01T10:59:15.491Z"
   },
   {
    "duration": 9,
    "start_time": "2024-07-01T10:59:15.503Z"
   },
   {
    "duration": 15,
    "start_time": "2024-07-01T10:59:15.514Z"
   },
   {
    "duration": 10,
    "start_time": "2024-07-01T10:59:15.530Z"
   },
   {
    "duration": 96,
    "start_time": "2024-07-01T10:59:15.541Z"
   },
   {
    "duration": 10,
    "start_time": "2024-07-01T10:59:15.638Z"
   },
   {
    "duration": 10,
    "start_time": "2024-07-01T10:59:15.650Z"
   },
   {
    "duration": 23,
    "start_time": "2024-07-01T10:59:15.661Z"
   },
   {
    "duration": 19,
    "start_time": "2024-07-01T10:59:15.685Z"
   },
   {
    "duration": 5,
    "start_time": "2024-07-01T10:59:15.707Z"
   },
   {
    "duration": 16,
    "start_time": "2024-07-01T10:59:15.713Z"
   },
   {
    "duration": 18,
    "start_time": "2024-07-01T10:59:15.731Z"
   },
   {
    "duration": 62,
    "start_time": "2024-07-01T10:59:15.751Z"
   },
   {
    "duration": 0,
    "start_time": "2024-07-01T10:59:15.814Z"
   },
   {
    "duration": 0,
    "start_time": "2024-07-01T10:59:15.815Z"
   },
   {
    "duration": 0,
    "start_time": "2024-07-01T10:59:15.817Z"
   },
   {
    "duration": 0,
    "start_time": "2024-07-01T10:59:15.818Z"
   },
   {
    "duration": 0,
    "start_time": "2024-07-01T10:59:15.819Z"
   },
   {
    "duration": 0,
    "start_time": "2024-07-01T10:59:15.819Z"
   },
   {
    "duration": 0,
    "start_time": "2024-07-01T10:59:15.837Z"
   },
   {
    "duration": 0,
    "start_time": "2024-07-01T10:59:15.839Z"
   },
   {
    "duration": 0,
    "start_time": "2024-07-01T10:59:15.840Z"
   },
   {
    "duration": 0,
    "start_time": "2024-07-01T10:59:15.841Z"
   },
   {
    "duration": 0,
    "start_time": "2024-07-01T10:59:15.842Z"
   },
   {
    "duration": 0,
    "start_time": "2024-07-01T10:59:15.843Z"
   },
   {
    "duration": 0,
    "start_time": "2024-07-01T10:59:15.844Z"
   },
   {
    "duration": 0,
    "start_time": "2024-07-01T10:59:15.845Z"
   },
   {
    "duration": 0,
    "start_time": "2024-07-01T10:59:15.846Z"
   },
   {
    "duration": 0,
    "start_time": "2024-07-01T10:59:15.847Z"
   },
   {
    "duration": 0,
    "start_time": "2024-07-01T10:59:15.848Z"
   },
   {
    "duration": 0,
    "start_time": "2024-07-01T10:59:15.849Z"
   },
   {
    "duration": 0,
    "start_time": "2024-07-01T10:59:15.850Z"
   },
   {
    "duration": 0,
    "start_time": "2024-07-01T10:59:15.851Z"
   },
   {
    "duration": 0,
    "start_time": "2024-07-01T10:59:15.852Z"
   },
   {
    "duration": 0,
    "start_time": "2024-07-01T10:59:15.853Z"
   },
   {
    "duration": 0,
    "start_time": "2024-07-01T10:59:15.854Z"
   },
   {
    "duration": 0,
    "start_time": "2024-07-01T10:59:15.855Z"
   },
   {
    "duration": 0,
    "start_time": "2024-07-01T10:59:15.856Z"
   },
   {
    "duration": 0,
    "start_time": "2024-07-01T10:59:15.857Z"
   },
   {
    "duration": 0,
    "start_time": "2024-07-01T10:59:15.858Z"
   },
   {
    "duration": 0,
    "start_time": "2024-07-01T10:59:15.859Z"
   },
   {
    "duration": 0,
    "start_time": "2024-07-01T10:59:15.860Z"
   },
   {
    "duration": 0,
    "start_time": "2024-07-01T10:59:15.861Z"
   },
   {
    "duration": 4,
    "start_time": "2024-07-01T11:02:56.910Z"
   },
   {
    "duration": 26,
    "start_time": "2024-07-01T11:02:57.246Z"
   },
   {
    "duration": 8,
    "start_time": "2024-07-01T11:02:57.422Z"
   },
   {
    "duration": 9,
    "start_time": "2024-07-01T11:02:57.602Z"
   },
   {
    "duration": 4,
    "start_time": "2024-07-01T11:02:57.958Z"
   },
   {
    "duration": 9,
    "start_time": "2024-07-01T11:02:58.150Z"
   },
   {
    "duration": 5,
    "start_time": "2024-07-01T11:03:01.363Z"
   },
   {
    "duration": 13,
    "start_time": "2024-07-01T11:03:01.551Z"
   },
   {
    "duration": 47,
    "start_time": "2024-07-01T11:03:02.686Z"
   },
   {
    "duration": 10,
    "start_time": "2024-07-01T11:03:02.878Z"
   },
   {
    "duration": 9,
    "start_time": "2024-07-01T11:03:03.074Z"
   },
   {
    "duration": 3,
    "start_time": "2024-07-01T11:03:03.267Z"
   },
   {
    "duration": 5,
    "start_time": "2024-07-01T11:03:03.862Z"
   },
   {
    "duration": 5,
    "start_time": "2024-07-01T11:03:04.050Z"
   },
   {
    "duration": 10,
    "start_time": "2024-07-01T11:03:04.258Z"
   },
   {
    "duration": 13,
    "start_time": "2024-07-01T11:03:04.662Z"
   },
   {
    "duration": 11,
    "start_time": "2024-07-01T11:03:04.934Z"
   },
   {
    "duration": 8,
    "start_time": "2024-07-01T11:03:05.126Z"
   },
   {
    "duration": 81,
    "start_time": "2024-07-01T11:03:05.446Z"
   },
   {
    "duration": 9,
    "start_time": "2024-07-01T11:03:05.782Z"
   },
   {
    "duration": 6,
    "start_time": "2024-07-01T11:03:06.102Z"
   },
   {
    "duration": 4,
    "start_time": "2024-07-01T11:03:06.358Z"
   },
   {
    "duration": 10,
    "start_time": "2024-07-01T11:03:06.946Z"
   },
   {
    "duration": 9,
    "start_time": "2024-07-01T11:06:36.734Z"
   },
   {
    "duration": 4,
    "start_time": "2024-07-01T11:21:18.045Z"
   },
   {
    "duration": 5,
    "start_time": "2024-07-01T11:21:21.149Z"
   },
   {
    "duration": 8,
    "start_time": "2024-07-01T11:21:28.244Z"
   },
   {
    "duration": 4,
    "start_time": "2024-07-01T11:21:45.508Z"
   },
   {
    "duration": 12,
    "start_time": "2024-07-01T11:35:14.471Z"
   },
   {
    "duration": 65,
    "start_time": "2024-07-01T11:36:12.755Z"
   },
   {
    "duration": 80,
    "start_time": "2024-07-01T11:36:41.082Z"
   },
   {
    "duration": 12,
    "start_time": "2024-07-01T11:36:50.194Z"
   },
   {
    "duration": 7,
    "start_time": "2024-07-01T11:38:00.686Z"
   },
   {
    "duration": 5,
    "start_time": "2024-07-01T11:38:09.518Z"
   },
   {
    "duration": 8,
    "start_time": "2024-07-01T11:38:18.274Z"
   },
   {
    "duration": 13,
    "start_time": "2024-07-01T12:24:21.377Z"
   },
   {
    "duration": 8,
    "start_time": "2024-07-01T12:24:45.416Z"
   },
   {
    "duration": 17,
    "start_time": "2024-07-01T12:26:16.947Z"
   },
   {
    "duration": 15,
    "start_time": "2024-07-01T13:42:14.532Z"
   },
   {
    "duration": 1404,
    "start_time": "2024-07-02T05:15:11.482Z"
   },
   {
    "duration": 69,
    "start_time": "2024-07-02T05:15:12.888Z"
   },
   {
    "duration": 11,
    "start_time": "2024-07-02T05:15:12.959Z"
   },
   {
    "duration": 12,
    "start_time": "2024-07-02T05:15:12.972Z"
   },
   {
    "duration": 5,
    "start_time": "2024-07-02T05:15:12.985Z"
   },
   {
    "duration": 9,
    "start_time": "2024-07-02T05:15:12.992Z"
   },
   {
    "duration": 10,
    "start_time": "2024-07-02T05:15:13.002Z"
   },
   {
    "duration": 15,
    "start_time": "2024-07-02T05:15:13.013Z"
   },
   {
    "duration": 91,
    "start_time": "2024-07-02T05:15:13.029Z"
   },
   {
    "duration": 11,
    "start_time": "2024-07-02T05:15:13.122Z"
   },
   {
    "duration": 13,
    "start_time": "2024-07-02T05:15:13.135Z"
   },
   {
    "duration": 12,
    "start_time": "2024-07-02T05:15:13.149Z"
   },
   {
    "duration": 10,
    "start_time": "2024-07-02T05:15:13.163Z"
   },
   {
    "duration": 9,
    "start_time": "2024-07-02T05:15:13.175Z"
   },
   {
    "duration": 16,
    "start_time": "2024-07-02T05:15:13.185Z"
   },
   {
    "duration": 15,
    "start_time": "2024-07-02T05:15:13.203Z"
   },
   {
    "duration": 1379,
    "start_time": "2024-07-02T05:15:13.220Z"
   },
   {
    "duration": 0,
    "start_time": "2024-07-02T05:15:14.601Z"
   },
   {
    "duration": 0,
    "start_time": "2024-07-02T05:15:14.602Z"
   },
   {
    "duration": 0,
    "start_time": "2024-07-02T05:15:14.603Z"
   },
   {
    "duration": 0,
    "start_time": "2024-07-02T05:15:14.604Z"
   },
   {
    "duration": 0,
    "start_time": "2024-07-02T05:15:14.606Z"
   },
   {
    "duration": 0,
    "start_time": "2024-07-02T05:15:14.607Z"
   },
   {
    "duration": 0,
    "start_time": "2024-07-02T05:15:14.609Z"
   },
   {
    "duration": 0,
    "start_time": "2024-07-02T05:15:14.610Z"
   },
   {
    "duration": 0,
    "start_time": "2024-07-02T05:15:14.612Z"
   },
   {
    "duration": 0,
    "start_time": "2024-07-02T05:15:14.613Z"
   },
   {
    "duration": 0,
    "start_time": "2024-07-02T05:15:14.615Z"
   },
   {
    "duration": 0,
    "start_time": "2024-07-02T05:15:14.616Z"
   },
   {
    "duration": 0,
    "start_time": "2024-07-02T05:15:14.618Z"
   },
   {
    "duration": 0,
    "start_time": "2024-07-02T05:15:14.619Z"
   },
   {
    "duration": 0,
    "start_time": "2024-07-02T05:15:14.621Z"
   },
   {
    "duration": 0,
    "start_time": "2024-07-02T05:15:14.622Z"
   },
   {
    "duration": 0,
    "start_time": "2024-07-02T05:15:14.623Z"
   },
   {
    "duration": 0,
    "start_time": "2024-07-02T05:15:14.624Z"
   },
   {
    "duration": 0,
    "start_time": "2024-07-02T05:15:14.626Z"
   },
   {
    "duration": 0,
    "start_time": "2024-07-02T05:15:14.627Z"
   },
   {
    "duration": 0,
    "start_time": "2024-07-02T05:15:14.628Z"
   },
   {
    "duration": 0,
    "start_time": "2024-07-02T05:15:14.630Z"
   },
   {
    "duration": 0,
    "start_time": "2024-07-02T05:15:14.631Z"
   },
   {
    "duration": 0,
    "start_time": "2024-07-02T05:15:14.632Z"
   },
   {
    "duration": 0,
    "start_time": "2024-07-02T05:15:14.633Z"
   },
   {
    "duration": 0,
    "start_time": "2024-07-02T05:15:14.635Z"
   },
   {
    "duration": 0,
    "start_time": "2024-07-02T05:15:14.636Z"
   },
   {
    "duration": 0,
    "start_time": "2024-07-02T05:15:14.637Z"
   },
   {
    "duration": 0,
    "start_time": "2024-07-02T05:15:14.639Z"
   },
   {
    "duration": 0,
    "start_time": "2024-07-02T05:15:14.640Z"
   },
   {
    "duration": 0,
    "start_time": "2024-07-02T05:15:14.667Z"
   },
   {
    "duration": 18,
    "start_time": "2024-07-02T05:25:38.192Z"
   },
   {
    "duration": 20,
    "start_time": "2024-07-02T05:28:08.800Z"
   },
   {
    "duration": 17,
    "start_time": "2024-07-02T05:29:12.524Z"
   },
   {
    "duration": 18,
    "start_time": "2024-07-02T05:29:22.004Z"
   },
   {
    "duration": 17,
    "start_time": "2024-07-02T05:29:28.944Z"
   },
   {
    "duration": 17,
    "start_time": "2024-07-02T05:29:29.344Z"
   },
   {
    "duration": 14,
    "start_time": "2024-07-02T06:32:42.090Z"
   },
   {
    "duration": 3,
    "start_time": "2024-07-02T06:37:51.266Z"
   },
   {
    "duration": 26,
    "start_time": "2024-07-02T06:37:51.457Z"
   },
   {
    "duration": 9,
    "start_time": "2024-07-02T06:37:51.637Z"
   },
   {
    "duration": 10,
    "start_time": "2024-07-02T06:37:51.808Z"
   },
   {
    "duration": 4,
    "start_time": "2024-07-02T06:37:52.160Z"
   },
   {
    "duration": 10,
    "start_time": "2024-07-02T06:37:52.321Z"
   },
   {
    "duration": 5,
    "start_time": "2024-07-02T06:37:53.844Z"
   },
   {
    "duration": 10,
    "start_time": "2024-07-02T06:37:54.045Z"
   },
   {
    "duration": 47,
    "start_time": "2024-07-02T06:37:55.173Z"
   },
   {
    "duration": 10,
    "start_time": "2024-07-02T06:37:55.364Z"
   },
   {
    "duration": 8,
    "start_time": "2024-07-02T06:37:55.540Z"
   },
   {
    "duration": 3,
    "start_time": "2024-07-02T06:37:55.753Z"
   },
   {
    "duration": 5,
    "start_time": "2024-07-02T06:37:56.325Z"
   },
   {
    "duration": 6,
    "start_time": "2024-07-02T06:37:56.531Z"
   },
   {
    "duration": 11,
    "start_time": "2024-07-02T06:37:56.753Z"
   },
   {
    "duration": 12,
    "start_time": "2024-07-02T06:37:57.152Z"
   },
   {
    "duration": 11,
    "start_time": "2024-07-02T06:37:57.985Z"
   },
   {
    "duration": 11,
    "start_time": "2024-07-02T06:43:18.874Z"
   },
   {
    "duration": 11,
    "start_time": "2024-07-02T06:43:59.048Z"
   },
   {
    "duration": 11,
    "start_time": "2024-07-02T08:06:19.639Z"
   },
   {
    "duration": 14,
    "start_time": "2024-07-02T08:06:46.542Z"
   },
   {
    "duration": 10,
    "start_time": "2024-07-02T08:32:15.843Z"
   },
   {
    "duration": 10,
    "start_time": "2024-07-02T08:32:32.468Z"
   },
   {
    "duration": 11,
    "start_time": "2024-07-02T08:37:09.090Z"
   },
   {
    "duration": 11,
    "start_time": "2024-07-02T08:37:13.910Z"
   },
   {
    "duration": 8,
    "start_time": "2024-07-02T08:37:14.258Z"
   },
   {
    "duration": 10,
    "start_time": "2024-07-02T08:37:15.466Z"
   },
   {
    "duration": 1150,
    "start_time": "2024-07-02T08:37:29.382Z"
   },
   {
    "duration": 27,
    "start_time": "2024-07-02T08:37:30.534Z"
   },
   {
    "duration": 49,
    "start_time": "2024-07-02T08:37:30.563Z"
   },
   {
    "duration": 31,
    "start_time": "2024-07-02T08:37:30.614Z"
   },
   {
    "duration": 41,
    "start_time": "2024-07-02T08:37:30.647Z"
   },
   {
    "duration": 34,
    "start_time": "2024-07-02T08:37:30.690Z"
   },
   {
    "duration": 33,
    "start_time": "2024-07-02T08:37:30.726Z"
   },
   {
    "duration": 50,
    "start_time": "2024-07-02T08:37:30.761Z"
   },
   {
    "duration": 80,
    "start_time": "2024-07-02T08:37:30.812Z"
   },
   {
    "duration": 18,
    "start_time": "2024-07-02T08:37:30.895Z"
   },
   {
    "duration": 56,
    "start_time": "2024-07-02T08:37:30.915Z"
   },
   {
    "duration": 41,
    "start_time": "2024-07-02T08:37:30.973Z"
   },
   {
    "duration": 52,
    "start_time": "2024-07-02T08:37:31.016Z"
   },
   {
    "duration": 34,
    "start_time": "2024-07-02T08:37:31.070Z"
   },
   {
    "duration": 43,
    "start_time": "2024-07-02T08:37:31.106Z"
   },
   {
    "duration": 55,
    "start_time": "2024-07-02T08:37:31.151Z"
   },
   {
    "duration": 45,
    "start_time": "2024-07-02T08:37:31.208Z"
   },
   {
    "duration": 90,
    "start_time": "2024-07-02T08:37:31.255Z"
   },
   {
    "duration": 11,
    "start_time": "2024-07-02T08:37:31.347Z"
   },
   {
    "duration": 65,
    "start_time": "2024-07-02T08:37:31.361Z"
   },
   {
    "duration": 44,
    "start_time": "2024-07-02T08:37:31.427Z"
   },
   {
    "duration": 56,
    "start_time": "2024-07-02T08:37:31.472Z"
   },
   {
    "duration": 17,
    "start_time": "2024-07-02T08:37:31.529Z"
   },
   {
    "duration": 171,
    "start_time": "2024-07-02T08:37:31.548Z"
   },
   {
    "duration": 123,
    "start_time": "2024-07-02T08:37:31.721Z"
   },
   {
    "duration": 12,
    "start_time": "2024-07-02T08:37:31.845Z"
   },
   {
    "duration": 319,
    "start_time": "2024-07-02T08:37:31.859Z"
   },
   {
    "duration": 12,
    "start_time": "2024-07-02T08:37:32.181Z"
   },
   {
    "duration": 254,
    "start_time": "2024-07-02T08:37:32.195Z"
   },
   {
    "duration": 370,
    "start_time": "2024-07-02T08:37:32.451Z"
   },
   {
    "duration": 256,
    "start_time": "2024-07-02T08:37:32.823Z"
   },
   {
    "duration": 361,
    "start_time": "2024-07-02T08:37:33.080Z"
   },
   {
    "duration": 152,
    "start_time": "2024-07-02T08:37:33.442Z"
   },
   {
    "duration": 5,
    "start_time": "2024-07-02T08:37:33.596Z"
   },
   {
    "duration": 179,
    "start_time": "2024-07-02T08:37:33.603Z"
   },
   {
    "duration": 193,
    "start_time": "2024-07-02T08:37:33.784Z"
   },
   {
    "duration": 5,
    "start_time": "2024-07-02T08:37:33.978Z"
   },
   {
    "duration": 63,
    "start_time": "2024-07-02T08:37:33.985Z"
   },
   {
    "duration": 0,
    "start_time": "2024-07-02T08:37:34.050Z"
   },
   {
    "duration": 0,
    "start_time": "2024-07-02T08:37:34.052Z"
   },
   {
    "duration": 0,
    "start_time": "2024-07-02T08:37:34.053Z"
   },
   {
    "duration": 0,
    "start_time": "2024-07-02T08:37:34.054Z"
   },
   {
    "duration": 0,
    "start_time": "2024-07-02T08:37:34.056Z"
   },
   {
    "duration": 0,
    "start_time": "2024-07-02T08:37:34.058Z"
   },
   {
    "duration": 0,
    "start_time": "2024-07-02T08:37:34.059Z"
   },
   {
    "duration": 0,
    "start_time": "2024-07-02T08:37:34.061Z"
   },
   {
    "duration": 0,
    "start_time": "2024-07-02T08:37:34.062Z"
   },
   {
    "duration": 116,
    "start_time": "2024-07-02T08:45:28.084Z"
   },
   {
    "duration": 12,
    "start_time": "2024-07-02T08:45:47.584Z"
   },
   {
    "duration": 72,
    "start_time": "2024-07-02T08:45:57.284Z"
   },
   {
    "duration": 66,
    "start_time": "2024-07-02T08:46:12.584Z"
   },
   {
    "duration": 167,
    "start_time": "2024-07-02T08:46:41.092Z"
   },
   {
    "duration": 67,
    "start_time": "2024-07-02T08:46:49.933Z"
   },
   {
    "duration": 67,
    "start_time": "2024-07-02T08:50:14.747Z"
   },
   {
    "duration": 71,
    "start_time": "2024-07-02T08:51:38.696Z"
   },
   {
    "duration": 82,
    "start_time": "2024-07-02T08:55:09.094Z"
   },
   {
    "duration": 91,
    "start_time": "2024-07-02T08:56:17.955Z"
   },
   {
    "duration": 72,
    "start_time": "2024-07-02T08:56:29.970Z"
   },
   {
    "duration": 1077,
    "start_time": "2024-07-02T09:17:18.973Z"
   },
   {
    "duration": 1000,
    "start_time": "2024-07-02T09:24:05.248Z"
   },
   {
    "duration": 46,
    "start_time": "2024-07-02T09:24:27.164Z"
   },
   {
    "duration": 11,
    "start_time": "2024-07-02T09:24:27.320Z"
   },
   {
    "duration": 8,
    "start_time": "2024-07-02T09:24:27.496Z"
   },
   {
    "duration": 3,
    "start_time": "2024-07-02T09:24:27.676Z"
   },
   {
    "duration": 5,
    "start_time": "2024-07-02T09:24:29.052Z"
   },
   {
    "duration": 5,
    "start_time": "2024-07-02T09:24:29.476Z"
   },
   {
    "duration": 12,
    "start_time": "2024-07-02T09:24:29.760Z"
   },
   {
    "duration": 92,
    "start_time": "2024-07-02T09:24:30.748Z"
   },
   {
    "duration": 1010,
    "start_time": "2024-07-02T09:27:50.971Z"
   },
   {
    "duration": 75,
    "start_time": "2024-07-02T09:28:27.371Z"
   },
   {
    "duration": 14,
    "start_time": "2024-07-02T09:29:03.135Z"
   },
   {
    "duration": 18,
    "start_time": "2024-07-02T09:29:45.591Z"
   },
   {
    "duration": 76,
    "start_time": "2024-07-02T09:59:23.076Z"
   },
   {
    "duration": 68,
    "start_time": "2024-07-02T10:00:07.663Z"
   },
   {
    "duration": 71,
    "start_time": "2024-07-02T10:00:37.167Z"
   },
   {
    "duration": 20,
    "start_time": "2024-07-02T10:00:52.547Z"
   },
   {
    "duration": 26,
    "start_time": "2024-07-02T10:01:20.763Z"
   },
   {
    "duration": 30,
    "start_time": "2024-07-02T10:01:44.691Z"
   },
   {
    "duration": 34,
    "start_time": "2024-07-02T10:24:41.356Z"
   },
   {
    "duration": 41,
    "start_time": "2024-07-02T10:24:51.152Z"
   },
   {
    "duration": 35,
    "start_time": "2024-07-02T10:25:04.244Z"
   },
   {
    "duration": 12,
    "start_time": "2024-07-02T10:25:30.681Z"
   },
   {
    "duration": 17,
    "start_time": "2024-07-02T10:30:08.543Z"
   },
   {
    "duration": 4797,
    "start_time": "2024-07-02T10:30:09.007Z"
   },
   {
    "duration": 16,
    "start_time": "2024-07-02T10:30:41.195Z"
   },
   {
    "duration": 1164,
    "start_time": "2024-07-02T10:31:02.441Z"
   },
   {
    "duration": 27,
    "start_time": "2024-07-02T10:31:03.607Z"
   },
   {
    "duration": 12,
    "start_time": "2024-07-02T10:31:03.635Z"
   },
   {
    "duration": 11,
    "start_time": "2024-07-02T10:31:03.649Z"
   },
   {
    "duration": 5,
    "start_time": "2024-07-02T10:31:03.662Z"
   },
   {
    "duration": 10,
    "start_time": "2024-07-02T10:31:03.668Z"
   },
   {
    "duration": 16,
    "start_time": "2024-07-02T10:31:03.680Z"
   },
   {
    "duration": 11,
    "start_time": "2024-07-02T10:31:03.697Z"
   },
   {
    "duration": 37,
    "start_time": "2024-07-02T10:31:03.709Z"
   },
   {
    "duration": 12,
    "start_time": "2024-07-02T10:31:03.749Z"
   },
   {
    "duration": 9,
    "start_time": "2024-07-02T10:31:03.763Z"
   },
   {
    "duration": 5,
    "start_time": "2024-07-02T10:31:03.774Z"
   },
   {
    "duration": 7,
    "start_time": "2024-07-02T10:31:03.780Z"
   },
   {
    "duration": 10,
    "start_time": "2024-07-02T10:31:03.789Z"
   },
   {
    "duration": 9,
    "start_time": "2024-07-02T10:31:03.801Z"
   },
   {
    "duration": 92,
    "start_time": "2024-07-02T10:31:03.812Z"
   },
   {
    "duration": 1364,
    "start_time": "2024-07-02T10:31:03.905Z"
   },
   {
    "duration": 0,
    "start_time": "2024-07-02T10:31:05.272Z"
   },
   {
    "duration": 0,
    "start_time": "2024-07-02T10:31:05.273Z"
   },
   {
    "duration": 0,
    "start_time": "2024-07-02T10:31:05.274Z"
   },
   {
    "duration": 0,
    "start_time": "2024-07-02T10:31:05.275Z"
   },
   {
    "duration": 0,
    "start_time": "2024-07-02T10:31:05.276Z"
   },
   {
    "duration": 0,
    "start_time": "2024-07-02T10:31:05.277Z"
   },
   {
    "duration": 0,
    "start_time": "2024-07-02T10:31:05.278Z"
   },
   {
    "duration": 0,
    "start_time": "2024-07-02T10:31:05.279Z"
   },
   {
    "duration": 0,
    "start_time": "2024-07-02T10:31:05.280Z"
   },
   {
    "duration": 0,
    "start_time": "2024-07-02T10:31:05.282Z"
   },
   {
    "duration": 0,
    "start_time": "2024-07-02T10:31:05.283Z"
   },
   {
    "duration": 0,
    "start_time": "2024-07-02T10:31:05.284Z"
   },
   {
    "duration": 0,
    "start_time": "2024-07-02T10:31:05.285Z"
   },
   {
    "duration": 0,
    "start_time": "2024-07-02T10:31:05.287Z"
   },
   {
    "duration": 0,
    "start_time": "2024-07-02T10:31:05.288Z"
   },
   {
    "duration": 0,
    "start_time": "2024-07-02T10:31:05.289Z"
   },
   {
    "duration": 0,
    "start_time": "2024-07-02T10:31:05.289Z"
   },
   {
    "duration": 0,
    "start_time": "2024-07-02T10:31:05.291Z"
   },
   {
    "duration": 0,
    "start_time": "2024-07-02T10:31:05.292Z"
   },
   {
    "duration": 0,
    "start_time": "2024-07-02T10:31:05.293Z"
   },
   {
    "duration": 0,
    "start_time": "2024-07-02T10:31:05.294Z"
   },
   {
    "duration": 0,
    "start_time": "2024-07-02T10:31:05.295Z"
   },
   {
    "duration": 0,
    "start_time": "2024-07-02T10:31:05.296Z"
   },
   {
    "duration": 0,
    "start_time": "2024-07-02T10:31:05.297Z"
   },
   {
    "duration": 1,
    "start_time": "2024-07-02T10:31:05.298Z"
   },
   {
    "duration": 0,
    "start_time": "2024-07-02T10:31:05.299Z"
   },
   {
    "duration": 0,
    "start_time": "2024-07-02T10:31:05.300Z"
   },
   {
    "duration": 0,
    "start_time": "2024-07-02T10:31:05.301Z"
   },
   {
    "duration": 0,
    "start_time": "2024-07-02T10:31:05.302Z"
   },
   {
    "duration": 0,
    "start_time": "2024-07-02T10:31:05.303Z"
   },
   {
    "duration": 0,
    "start_time": "2024-07-02T10:31:05.305Z"
   },
   {
    "duration": 23,
    "start_time": "2024-07-02T10:32:37.795Z"
   },
   {
    "duration": 28,
    "start_time": "2024-07-02T10:33:07.290Z"
   },
   {
    "duration": 20,
    "start_time": "2024-07-02T10:33:27.363Z"
   },
   {
    "duration": 21,
    "start_time": "2024-07-02T10:33:33.038Z"
   },
   {
    "duration": 13,
    "start_time": "2024-07-02T10:33:35.609Z"
   },
   {
    "duration": 10,
    "start_time": "2024-07-02T10:33:43.175Z"
   },
   {
    "duration": 1205,
    "start_time": "2024-07-02T10:33:54.827Z"
   },
   {
    "duration": 27,
    "start_time": "2024-07-02T10:33:56.035Z"
   },
   {
    "duration": 11,
    "start_time": "2024-07-02T10:33:56.063Z"
   },
   {
    "duration": 11,
    "start_time": "2024-07-02T10:33:56.076Z"
   },
   {
    "duration": 8,
    "start_time": "2024-07-02T10:33:56.088Z"
   },
   {
    "duration": 10,
    "start_time": "2024-07-02T10:33:56.097Z"
   },
   {
    "duration": 4,
    "start_time": "2024-07-02T10:33:56.108Z"
   },
   {
    "duration": 10,
    "start_time": "2024-07-02T10:33:56.114Z"
   },
   {
    "duration": 40,
    "start_time": "2024-07-02T10:33:56.125Z"
   },
   {
    "duration": 11,
    "start_time": "2024-07-02T10:33:56.167Z"
   },
   {
    "duration": 52,
    "start_time": "2024-07-02T10:33:56.179Z"
   },
   {
    "duration": 15,
    "start_time": "2024-07-02T10:33:56.232Z"
   },
   {
    "duration": 6,
    "start_time": "2024-07-02T10:33:56.248Z"
   },
   {
    "duration": 6,
    "start_time": "2024-07-02T10:33:56.256Z"
   },
   {
    "duration": 10,
    "start_time": "2024-07-02T10:33:56.263Z"
   },
   {
    "duration": 71,
    "start_time": "2024-07-02T10:33:56.275Z"
   },
   {
    "duration": 36,
    "start_time": "2024-07-02T10:33:56.348Z"
   },
   {
    "duration": 11,
    "start_time": "2024-07-02T10:33:56.385Z"
   },
   {
    "duration": 12,
    "start_time": "2024-07-02T10:33:56.397Z"
   },
   {
    "duration": 15,
    "start_time": "2024-07-02T10:33:56.411Z"
   },
   {
    "duration": 11,
    "start_time": "2024-07-02T10:33:56.428Z"
   },
   {
    "duration": 31,
    "start_time": "2024-07-02T10:33:56.440Z"
   },
   {
    "duration": 7,
    "start_time": "2024-07-02T10:33:56.473Z"
   },
   {
    "duration": 12,
    "start_time": "2024-07-02T10:33:56.481Z"
   },
   {
    "duration": 6,
    "start_time": "2024-07-02T10:33:56.495Z"
   },
   {
    "duration": 187,
    "start_time": "2024-07-02T10:33:56.502Z"
   },
   {
    "duration": 123,
    "start_time": "2024-07-02T10:33:56.691Z"
   },
   {
    "duration": 12,
    "start_time": "2024-07-02T10:33:56.818Z"
   },
   {
    "duration": 363,
    "start_time": "2024-07-02T10:33:56.831Z"
   },
   {
    "duration": 10,
    "start_time": "2024-07-02T10:33:57.196Z"
   },
   {
    "duration": 218,
    "start_time": "2024-07-02T10:33:57.208Z"
   },
   {
    "duration": 355,
    "start_time": "2024-07-02T10:33:57.428Z"
   },
   {
    "duration": 283,
    "start_time": "2024-07-02T10:33:57.784Z"
   },
   {
    "duration": 460,
    "start_time": "2024-07-02T10:33:58.069Z"
   },
   {
    "duration": 160,
    "start_time": "2024-07-02T10:33:58.531Z"
   },
   {
    "duration": 4,
    "start_time": "2024-07-02T10:33:58.692Z"
   },
   {
    "duration": 201,
    "start_time": "2024-07-02T10:33:58.698Z"
   },
   {
    "duration": 206,
    "start_time": "2024-07-02T10:33:58.900Z"
   },
   {
    "duration": 4,
    "start_time": "2024-07-02T10:33:59.108Z"
   },
   {
    "duration": 326,
    "start_time": "2024-07-02T10:33:59.114Z"
   },
   {
    "duration": 171,
    "start_time": "2024-07-02T10:33:59.442Z"
   },
   {
    "duration": 6,
    "start_time": "2024-07-02T10:33:59.615Z"
   },
   {
    "duration": 30,
    "start_time": "2024-07-02T10:33:59.623Z"
   },
   {
    "duration": 11,
    "start_time": "2024-07-02T10:33:59.664Z"
   },
   {
    "duration": 8,
    "start_time": "2024-07-02T10:33:59.676Z"
   },
   {
    "duration": 19,
    "start_time": "2024-07-02T10:33:59.686Z"
   },
   {
    "duration": 25,
    "start_time": "2024-07-02T10:33:59.706Z"
   },
   {
    "duration": 40,
    "start_time": "2024-07-02T10:33:59.732Z"
   },
   {
    "duration": 25,
    "start_time": "2024-07-02T10:34:42.404Z"
   },
   {
    "duration": 70,
    "start_time": "2024-07-02T10:37:24.064Z"
   },
   {
    "duration": 74,
    "start_time": "2024-07-02T10:37:41.135Z"
   },
   {
    "duration": 21,
    "start_time": "2024-07-02T10:37:49.352Z"
   },
   {
    "duration": 16,
    "start_time": "2024-07-02T10:37:51.500Z"
   },
   {
    "duration": 3,
    "start_time": "2024-07-02T10:38:01.460Z"
   },
   {
    "duration": 105,
    "start_time": "2024-07-02T10:38:01.466Z"
   },
   {
    "duration": 18,
    "start_time": "2024-07-02T10:38:01.573Z"
   },
   {
    "duration": 32,
    "start_time": "2024-07-02T10:38:01.593Z"
   },
   {
    "duration": 41,
    "start_time": "2024-07-02T10:38:01.629Z"
   },
   {
    "duration": 44,
    "start_time": "2024-07-02T10:38:01.672Z"
   },
   {
    "duration": 51,
    "start_time": "2024-07-02T10:38:01.718Z"
   },
   {
    "duration": 35,
    "start_time": "2024-07-02T10:38:01.771Z"
   },
   {
    "duration": 66,
    "start_time": "2024-07-02T10:38:01.808Z"
   },
   {
    "duration": 12,
    "start_time": "2024-07-02T10:38:01.876Z"
   },
   {
    "duration": 32,
    "start_time": "2024-07-02T10:38:01.890Z"
   },
   {
    "duration": 27,
    "start_time": "2024-07-02T10:38:01.924Z"
   },
   {
    "duration": 32,
    "start_time": "2024-07-02T10:38:01.953Z"
   },
   {
    "duration": 14,
    "start_time": "2024-07-02T10:38:01.989Z"
   },
   {
    "duration": 29,
    "start_time": "2024-07-02T10:38:02.006Z"
   },
   {
    "duration": 90,
    "start_time": "2024-07-02T10:38:02.037Z"
   },
   {
    "duration": 20,
    "start_time": "2024-07-02T10:38:02.128Z"
   },
   {
    "duration": 22,
    "start_time": "2024-07-02T10:38:02.149Z"
   },
   {
    "duration": 30,
    "start_time": "2024-07-02T10:38:02.172Z"
   },
   {
    "duration": 44,
    "start_time": "2024-07-02T10:38:02.204Z"
   },
   {
    "duration": 11,
    "start_time": "2024-07-02T10:38:02.249Z"
   },
   {
    "duration": 28,
    "start_time": "2024-07-02T10:38:02.262Z"
   },
   {
    "duration": 27,
    "start_time": "2024-07-02T10:38:02.292Z"
   },
   {
    "duration": 40,
    "start_time": "2024-07-02T10:38:02.320Z"
   },
   {
    "duration": 15,
    "start_time": "2024-07-02T10:38:02.362Z"
   },
   {
    "duration": 162,
    "start_time": "2024-07-02T10:38:02.379Z"
   },
   {
    "duration": 114,
    "start_time": "2024-07-02T10:38:02.542Z"
   },
   {
    "duration": 11,
    "start_time": "2024-07-02T10:38:02.666Z"
   },
   {
    "duration": 239,
    "start_time": "2024-07-02T10:38:02.679Z"
   },
   {
    "duration": 10,
    "start_time": "2024-07-02T10:38:02.920Z"
   },
   {
    "duration": 270,
    "start_time": "2024-07-02T10:38:02.931Z"
   },
   {
    "duration": 338,
    "start_time": "2024-07-02T10:38:03.203Z"
   },
   {
    "duration": 279,
    "start_time": "2024-07-02T10:38:03.543Z"
   },
   {
    "duration": 377,
    "start_time": "2024-07-02T10:38:03.824Z"
   },
   {
    "duration": 151,
    "start_time": "2024-07-02T10:38:04.203Z"
   },
   {
    "duration": 11,
    "start_time": "2024-07-02T10:38:04.356Z"
   },
   {
    "duration": 164,
    "start_time": "2024-07-02T10:38:04.369Z"
   },
   {
    "duration": 173,
    "start_time": "2024-07-02T10:38:04.535Z"
   },
   {
    "duration": 4,
    "start_time": "2024-07-02T10:38:04.709Z"
   },
   {
    "duration": 229,
    "start_time": "2024-07-02T10:38:04.715Z"
   },
   {
    "duration": 248,
    "start_time": "2024-07-02T10:38:04.948Z"
   },
   {
    "duration": 6,
    "start_time": "2024-07-02T10:38:05.198Z"
   },
   {
    "duration": 80,
    "start_time": "2024-07-02T10:38:05.206Z"
   },
   {
    "duration": 10,
    "start_time": "2024-07-02T10:38:05.288Z"
   },
   {
    "duration": 10,
    "start_time": "2024-07-02T10:38:05.299Z"
   },
   {
    "duration": 60,
    "start_time": "2024-07-02T10:38:05.310Z"
   },
   {
    "duration": 27,
    "start_time": "2024-07-02T10:38:05.372Z"
   },
   {
    "duration": 68,
    "start_time": "2024-07-02T10:38:05.400Z"
   },
   {
    "duration": 20,
    "start_time": "2024-07-02T10:38:24.188Z"
   },
   {
    "duration": 11,
    "start_time": "2024-07-02T10:38:25.607Z"
   },
   {
    "duration": 9,
    "start_time": "2024-07-02T10:38:27.615Z"
   },
   {
    "duration": 21,
    "start_time": "2024-07-02T10:38:36.319Z"
   },
   {
    "duration": 11,
    "start_time": "2024-07-02T10:38:37.287Z"
   },
   {
    "duration": 9,
    "start_time": "2024-07-02T10:38:38.501Z"
   },
   {
    "duration": 24,
    "start_time": "2024-07-02T10:38:45.733Z"
   },
   {
    "duration": 34,
    "start_time": "2024-07-02T10:40:04.511Z"
   },
   {
    "duration": 14,
    "start_time": "2024-07-02T10:40:04.763Z"
   },
   {
    "duration": 122,
    "start_time": "2024-07-02T10:41:36.023Z"
   },
   {
    "duration": 22,
    "start_time": "2024-07-02T10:41:50.903Z"
   },
   {
    "duration": 273,
    "start_time": "2024-07-02T10:42:38.370Z"
   },
   {
    "duration": 308,
    "start_time": "2024-07-02T10:43:23.322Z"
   },
   {
    "duration": 3,
    "start_time": "2024-07-02T10:43:40.487Z"
   },
   {
    "duration": 29,
    "start_time": "2024-07-02T10:43:40.492Z"
   },
   {
    "duration": 8,
    "start_time": "2024-07-02T10:43:40.523Z"
   },
   {
    "duration": 10,
    "start_time": "2024-07-02T10:43:40.532Z"
   },
   {
    "duration": 5,
    "start_time": "2024-07-02T10:43:40.544Z"
   },
   {
    "duration": 11,
    "start_time": "2024-07-02T10:43:40.551Z"
   },
   {
    "duration": 5,
    "start_time": "2024-07-02T10:43:40.563Z"
   },
   {
    "duration": 74,
    "start_time": "2024-07-02T10:43:40.569Z"
   },
   {
    "duration": 36,
    "start_time": "2024-07-02T10:43:40.645Z"
   },
   {
    "duration": 10,
    "start_time": "2024-07-02T10:43:40.682Z"
   },
   {
    "duration": 11,
    "start_time": "2024-07-02T10:43:40.695Z"
   },
   {
    "duration": 5,
    "start_time": "2024-07-02T10:43:40.707Z"
   },
   {
    "duration": 5,
    "start_time": "2024-07-02T10:43:40.713Z"
   },
   {
    "duration": 5,
    "start_time": "2024-07-02T10:43:40.720Z"
   },
   {
    "duration": 14,
    "start_time": "2024-07-02T10:43:40.726Z"
   },
   {
    "duration": 91,
    "start_time": "2024-07-02T10:43:40.741Z"
   },
   {
    "duration": 37,
    "start_time": "2024-07-02T10:43:40.834Z"
   },
   {
    "duration": 10,
    "start_time": "2024-07-02T10:43:40.872Z"
   },
   {
    "duration": 87,
    "start_time": "2024-07-02T10:43:40.884Z"
   },
   {
    "duration": 20,
    "start_time": "2024-07-02T10:43:40.973Z"
   },
   {
    "duration": 10,
    "start_time": "2024-07-02T10:43:40.994Z"
   },
   {
    "duration": 7,
    "start_time": "2024-07-02T10:43:41.006Z"
   },
   {
    "duration": 3,
    "start_time": "2024-07-02T10:43:41.015Z"
   },
   {
    "duration": 9,
    "start_time": "2024-07-02T10:43:41.020Z"
   },
   {
    "duration": 6,
    "start_time": "2024-07-02T10:43:41.031Z"
   },
   {
    "duration": 173,
    "start_time": "2024-07-02T10:43:41.039Z"
   },
   {
    "duration": 115,
    "start_time": "2024-07-02T10:43:41.213Z"
   },
   {
    "duration": 12,
    "start_time": "2024-07-02T10:43:41.329Z"
   },
   {
    "duration": 215,
    "start_time": "2024-07-02T10:43:41.344Z"
   },
   {
    "duration": 13,
    "start_time": "2024-07-02T10:43:41.561Z"
   },
   {
    "duration": 308,
    "start_time": "2024-07-02T10:43:41.575Z"
   },
   {
    "duration": 304,
    "start_time": "2024-07-02T10:43:41.885Z"
   },
   {
    "duration": 287,
    "start_time": "2024-07-02T10:43:42.191Z"
   },
   {
    "duration": 336,
    "start_time": "2024-07-02T10:43:42.480Z"
   },
   {
    "duration": 171,
    "start_time": "2024-07-02T10:43:42.817Z"
   },
   {
    "duration": 4,
    "start_time": "2024-07-02T10:43:42.990Z"
   },
   {
    "duration": 155,
    "start_time": "2024-07-02T10:43:42.995Z"
   },
   {
    "duration": 162,
    "start_time": "2024-07-02T10:43:43.152Z"
   },
   {
    "duration": 4,
    "start_time": "2024-07-02T10:43:43.315Z"
   },
   {
    "duration": 216,
    "start_time": "2024-07-02T10:43:43.321Z"
   },
   {
    "duration": 144,
    "start_time": "2024-07-02T10:43:43.539Z"
   },
   {
    "duration": 7,
    "start_time": "2024-07-02T10:43:43.685Z"
   },
   {
    "duration": 31,
    "start_time": "2024-07-02T10:43:43.693Z"
   },
   {
    "duration": 11,
    "start_time": "2024-07-02T10:43:43.725Z"
   },
   {
    "duration": 32,
    "start_time": "2024-07-02T10:43:43.738Z"
   },
   {
    "duration": 8,
    "start_time": "2024-07-02T10:43:43.772Z"
   },
   {
    "duration": 26,
    "start_time": "2024-07-02T10:43:43.782Z"
   },
   {
    "duration": 19,
    "start_time": "2024-07-02T10:43:43.809Z"
   },
   {
    "duration": 6,
    "start_time": "2024-07-02T10:50:37.954Z"
   },
   {
    "duration": 160,
    "start_time": "2024-07-02T10:50:38.414Z"
   },
   {
    "duration": 131,
    "start_time": "2024-07-02T10:50:39.009Z"
   },
   {
    "duration": 15,
    "start_time": "2024-07-02T10:50:39.497Z"
   },
   {
    "duration": 201,
    "start_time": "2024-07-02T10:50:41.046Z"
   },
   {
    "duration": 12,
    "start_time": "2024-07-02T10:50:41.593Z"
   },
   {
    "duration": 208,
    "start_time": "2024-07-02T10:50:44.770Z"
   },
   {
    "duration": 311,
    "start_time": "2024-07-02T10:50:48.143Z"
   },
   {
    "duration": 238,
    "start_time": "2024-07-02T10:50:50.146Z"
   },
   {
    "duration": 479,
    "start_time": "2024-07-02T10:50:52.050Z"
   },
   {
    "duration": 164,
    "start_time": "2024-07-02T10:50:59.410Z"
   },
   {
    "duration": 4,
    "start_time": "2024-07-02T10:51:15.259Z"
   },
   {
    "duration": 153,
    "start_time": "2024-07-02T10:51:26.817Z"
   },
   {
    "duration": 159,
    "start_time": "2024-07-02T10:51:31.533Z"
   },
   {
    "duration": 4,
    "start_time": "2024-07-02T10:51:38.241Z"
   },
   {
    "duration": 73,
    "start_time": "2024-07-02T11:09:14.416Z"
   },
   {
    "duration": 25,
    "start_time": "2024-07-02T11:10:14.131Z"
   },
   {
    "duration": 27,
    "start_time": "2024-07-02T11:10:32.108Z"
   },
   {
    "duration": 25,
    "start_time": "2024-07-02T11:10:37.351Z"
   },
   {
    "duration": 78,
    "start_time": "2024-07-02T11:15:06.543Z"
   },
   {
    "duration": 4,
    "start_time": "2024-07-02T11:26:44.389Z"
   },
   {
    "duration": 30,
    "start_time": "2024-07-02T11:26:44.395Z"
   },
   {
    "duration": 11,
    "start_time": "2024-07-02T11:26:44.427Z"
   },
   {
    "duration": 10,
    "start_time": "2024-07-02T11:26:44.440Z"
   },
   {
    "duration": 13,
    "start_time": "2024-07-02T11:26:44.452Z"
   },
   {
    "duration": 12,
    "start_time": "2024-07-02T11:26:44.466Z"
   },
   {
    "duration": 4,
    "start_time": "2024-07-02T11:26:44.480Z"
   },
   {
    "duration": 11,
    "start_time": "2024-07-02T11:26:44.486Z"
   },
   {
    "duration": 36,
    "start_time": "2024-07-02T11:26:44.499Z"
   },
   {
    "duration": 10,
    "start_time": "2024-07-02T11:26:44.537Z"
   },
   {
    "duration": 22,
    "start_time": "2024-07-02T11:26:44.549Z"
   },
   {
    "duration": 3,
    "start_time": "2024-07-02T11:26:44.573Z"
   },
   {
    "duration": 7,
    "start_time": "2024-07-02T11:26:44.577Z"
   },
   {
    "duration": 7,
    "start_time": "2024-07-02T11:26:44.586Z"
   },
   {
    "duration": 18,
    "start_time": "2024-07-02T11:26:44.595Z"
   },
   {
    "duration": 103,
    "start_time": "2024-07-02T11:26:44.614Z"
   },
   {
    "duration": 22,
    "start_time": "2024-07-02T11:26:44.719Z"
   },
   {
    "duration": 41,
    "start_time": "2024-07-02T11:26:44.742Z"
   },
   {
    "duration": 37,
    "start_time": "2024-07-02T11:26:44.785Z"
   },
   {
    "duration": 10,
    "start_time": "2024-07-02T11:26:44.823Z"
   },
   {
    "duration": 8,
    "start_time": "2024-07-02T11:26:44.835Z"
   },
   {
    "duration": 6,
    "start_time": "2024-07-02T11:26:44.845Z"
   },
   {
    "duration": 14,
    "start_time": "2024-07-02T11:26:44.852Z"
   },
   {
    "duration": 17,
    "start_time": "2024-07-02T11:26:44.870Z"
   },
   {
    "duration": 163,
    "start_time": "2024-07-02T11:26:44.888Z"
   },
   {
    "duration": 118,
    "start_time": "2024-07-02T11:26:45.053Z"
   },
   {
    "duration": 12,
    "start_time": "2024-07-02T11:26:45.172Z"
   },
   {
    "duration": 231,
    "start_time": "2024-07-02T11:26:45.186Z"
   },
   {
    "duration": 11,
    "start_time": "2024-07-02T11:26:45.419Z"
   },
   {
    "duration": 233,
    "start_time": "2024-07-02T11:26:45.432Z"
   },
   {
    "duration": 325,
    "start_time": "2024-07-02T11:26:45.667Z"
   },
   {
    "duration": 243,
    "start_time": "2024-07-02T11:26:45.994Z"
   },
   {
    "duration": 392,
    "start_time": "2024-07-02T11:26:46.239Z"
   },
   {
    "duration": 181,
    "start_time": "2024-07-02T11:26:46.633Z"
   },
   {
    "duration": 4,
    "start_time": "2024-07-02T11:26:46.816Z"
   },
   {
    "duration": 258,
    "start_time": "2024-07-02T11:26:46.821Z"
   },
   {
    "duration": 164,
    "start_time": "2024-07-02T11:26:47.081Z"
   },
   {
    "duration": 4,
    "start_time": "2024-07-02T11:26:47.247Z"
   },
   {
    "duration": 233,
    "start_time": "2024-07-02T11:26:47.266Z"
   },
   {
    "duration": 139,
    "start_time": "2024-07-02T11:26:47.501Z"
   },
   {
    "duration": 24,
    "start_time": "2024-07-02T11:26:47.642Z"
   },
   {
    "duration": 29,
    "start_time": "2024-07-02T11:26:47.668Z"
   },
   {
    "duration": 10,
    "start_time": "2024-07-02T11:26:47.699Z"
   },
   {
    "duration": 10,
    "start_time": "2024-07-02T11:26:47.710Z"
   },
   {
    "duration": 9,
    "start_time": "2024-07-02T11:26:47.721Z"
   },
   {
    "duration": 59,
    "start_time": "2024-07-02T11:26:47.732Z"
   },
   {
    "duration": 17,
    "start_time": "2024-07-02T11:26:47.793Z"
   },
   {
    "duration": 1162,
    "start_time": "2024-07-02T11:27:01.483Z"
   },
   {
    "duration": 26,
    "start_time": "2024-07-02T11:27:02.647Z"
   },
   {
    "duration": 12,
    "start_time": "2024-07-02T11:27:02.675Z"
   },
   {
    "duration": 12,
    "start_time": "2024-07-02T11:27:02.689Z"
   },
   {
    "duration": 71,
    "start_time": "2024-07-02T11:27:02.702Z"
   },
   {
    "duration": 12,
    "start_time": "2024-07-02T11:27:02.775Z"
   },
   {
    "duration": 20,
    "start_time": "2024-07-02T11:27:02.789Z"
   },
   {
    "duration": 22,
    "start_time": "2024-07-02T11:27:02.811Z"
   },
   {
    "duration": 41,
    "start_time": "2024-07-02T11:27:02.835Z"
   },
   {
    "duration": 11,
    "start_time": "2024-07-02T11:27:02.878Z"
   },
   {
    "duration": 18,
    "start_time": "2024-07-02T11:27:02.891Z"
   },
   {
    "duration": 3,
    "start_time": "2024-07-02T11:27:02.910Z"
   },
   {
    "duration": 10,
    "start_time": "2024-07-02T11:27:02.915Z"
   },
   {
    "duration": 11,
    "start_time": "2024-07-02T11:27:02.927Z"
   },
   {
    "duration": 23,
    "start_time": "2024-07-02T11:27:02.940Z"
   },
   {
    "duration": 84,
    "start_time": "2024-07-02T11:27:02.966Z"
   },
   {
    "duration": 25,
    "start_time": "2024-07-02T11:27:03.065Z"
   },
   {
    "duration": 13,
    "start_time": "2024-07-02T11:27:03.092Z"
   },
   {
    "duration": 91,
    "start_time": "2024-07-02T11:27:03.107Z"
   },
   {
    "duration": 12,
    "start_time": "2024-07-02T11:27:03.199Z"
   },
   {
    "duration": 11,
    "start_time": "2024-07-02T11:27:03.212Z"
   },
   {
    "duration": 8,
    "start_time": "2024-07-02T11:27:03.225Z"
   },
   {
    "duration": 16,
    "start_time": "2024-07-02T11:27:03.234Z"
   },
   {
    "duration": 11,
    "start_time": "2024-07-02T11:27:03.252Z"
   },
   {
    "duration": 180,
    "start_time": "2024-07-02T11:27:03.264Z"
   },
   {
    "duration": 128,
    "start_time": "2024-07-02T11:27:03.446Z"
   },
   {
    "duration": 13,
    "start_time": "2024-07-02T11:27:03.575Z"
   },
   {
    "duration": 317,
    "start_time": "2024-07-02T11:27:03.591Z"
   },
   {
    "duration": 12,
    "start_time": "2024-07-02T11:27:03.910Z"
   },
   {
    "duration": 231,
    "start_time": "2024-07-02T11:27:03.923Z"
   },
   {
    "duration": 311,
    "start_time": "2024-07-02T11:27:04.156Z"
   },
   {
    "duration": 242,
    "start_time": "2024-07-02T11:27:04.469Z"
   },
   {
    "duration": 355,
    "start_time": "2024-07-02T11:27:04.712Z"
   },
   {
    "duration": 179,
    "start_time": "2024-07-02T11:27:05.075Z"
   },
   {
    "duration": 5,
    "start_time": "2024-07-02T11:27:05.265Z"
   },
   {
    "duration": 162,
    "start_time": "2024-07-02T11:27:05.271Z"
   },
   {
    "duration": 165,
    "start_time": "2024-07-02T11:27:05.434Z"
   },
   {
    "duration": 4,
    "start_time": "2024-07-02T11:27:05.601Z"
   },
   {
    "duration": 319,
    "start_time": "2024-07-02T11:27:05.606Z"
   },
   {
    "duration": 119,
    "start_time": "2024-07-02T11:27:05.927Z"
   },
   {
    "duration": 6,
    "start_time": "2024-07-02T11:27:06.048Z"
   },
   {
    "duration": 27,
    "start_time": "2024-07-02T11:27:06.064Z"
   },
   {
    "duration": 9,
    "start_time": "2024-07-02T11:27:06.093Z"
   },
   {
    "duration": 8,
    "start_time": "2024-07-02T11:27:06.104Z"
   },
   {
    "duration": 12,
    "start_time": "2024-07-02T11:27:06.113Z"
   },
   {
    "duration": 72,
    "start_time": "2024-07-02T11:27:06.126Z"
   },
   {
    "duration": 14,
    "start_time": "2024-07-02T11:27:06.200Z"
   },
   {
    "duration": 1063,
    "start_time": "2024-07-02T14:33:48.957Z"
   },
   {
    "duration": 68,
    "start_time": "2024-07-02T14:33:50.022Z"
   },
   {
    "duration": 12,
    "start_time": "2024-07-02T14:33:50.091Z"
   },
   {
    "duration": 10,
    "start_time": "2024-07-02T14:33:50.105Z"
   },
   {
    "duration": 5,
    "start_time": "2024-07-02T14:33:50.117Z"
   },
   {
    "duration": 9,
    "start_time": "2024-07-02T14:33:50.123Z"
   },
   {
    "duration": 9,
    "start_time": "2024-07-02T14:33:50.133Z"
   },
   {
    "duration": 9,
    "start_time": "2024-07-02T14:33:50.143Z"
   },
   {
    "duration": 90,
    "start_time": "2024-07-02T14:33:50.153Z"
   },
   {
    "duration": 9,
    "start_time": "2024-07-02T14:33:50.246Z"
   },
   {
    "duration": 14,
    "start_time": "2024-07-02T14:33:50.257Z"
   },
   {
    "duration": 8,
    "start_time": "2024-07-02T14:33:50.273Z"
   },
   {
    "duration": 7,
    "start_time": "2024-07-02T14:33:50.282Z"
   },
   {
    "duration": 7,
    "start_time": "2024-07-02T14:33:50.290Z"
   },
   {
    "duration": 11,
    "start_time": "2024-07-02T14:33:50.298Z"
   },
   {
    "duration": 77,
    "start_time": "2024-07-02T14:33:50.310Z"
   },
   {
    "duration": 26,
    "start_time": "2024-07-02T14:33:50.389Z"
   },
   {
    "duration": 27,
    "start_time": "2024-07-02T14:33:50.417Z"
   },
   {
    "duration": 82,
    "start_time": "2024-07-02T14:33:50.445Z"
   },
   {
    "duration": 9,
    "start_time": "2024-07-02T14:33:50.528Z"
   },
   {
    "duration": 10,
    "start_time": "2024-07-02T14:33:50.539Z"
   },
   {
    "duration": 12,
    "start_time": "2024-07-02T14:33:50.551Z"
   },
   {
    "duration": 17,
    "start_time": "2024-07-02T14:33:50.564Z"
   },
   {
    "duration": 27,
    "start_time": "2024-07-02T14:33:50.582Z"
   },
   {
    "duration": 149,
    "start_time": "2024-07-02T14:33:50.610Z"
   },
   {
    "duration": 109,
    "start_time": "2024-07-02T14:33:50.761Z"
   },
   {
    "duration": 10,
    "start_time": "2024-07-02T14:33:50.871Z"
   },
   {
    "duration": 284,
    "start_time": "2024-07-02T14:33:50.884Z"
   },
   {
    "duration": 10,
    "start_time": "2024-07-02T14:33:51.169Z"
   },
   {
    "duration": 205,
    "start_time": "2024-07-02T14:33:51.180Z"
   },
   {
    "duration": 305,
    "start_time": "2024-07-02T14:33:51.386Z"
   },
   {
    "duration": 220,
    "start_time": "2024-07-02T14:33:51.692Z"
   },
   {
    "duration": 328,
    "start_time": "2024-07-02T14:33:51.913Z"
   },
   {
    "duration": 154,
    "start_time": "2024-07-02T14:33:52.242Z"
   },
   {
    "duration": 4,
    "start_time": "2024-07-02T14:33:52.398Z"
   },
   {
    "duration": 139,
    "start_time": "2024-07-02T14:33:52.403Z"
   },
   {
    "duration": 149,
    "start_time": "2024-07-02T14:33:52.543Z"
   },
   {
    "duration": 4,
    "start_time": "2024-07-02T14:33:52.693Z"
   },
   {
    "duration": 260,
    "start_time": "2024-07-02T14:33:52.698Z"
   },
   {
    "duration": 125,
    "start_time": "2024-07-02T14:33:52.959Z"
   },
   {
    "duration": 5,
    "start_time": "2024-07-02T14:33:53.085Z"
   },
   {
    "duration": 39,
    "start_time": "2024-07-02T14:33:53.091Z"
   },
   {
    "duration": 9,
    "start_time": "2024-07-02T14:33:53.131Z"
   },
   {
    "duration": 7,
    "start_time": "2024-07-02T14:33:53.142Z"
   },
   {
    "duration": 28,
    "start_time": "2024-07-02T14:33:53.151Z"
   },
   {
    "duration": 43,
    "start_time": "2024-07-02T14:33:53.180Z"
   },
   {
    "duration": 12,
    "start_time": "2024-07-02T14:33:53.224Z"
   }
  ],
  "kernelspec": {
   "display_name": "Python 3 (ipykernel)",
   "language": "python",
   "name": "python3"
  },
  "language_info": {
   "codemirror_mode": {
    "name": "ipython",
    "version": 3
   },
   "file_extension": ".py",
   "mimetype": "text/x-python",
   "name": "python",
   "nbconvert_exporter": "python",
   "pygments_lexer": "ipython3",
   "version": "3.9.5"
  },
  "toc": {
   "base_numbering": 1,
   "nav_menu": {},
   "number_sections": true,
   "sideBar": true,
   "skip_h1_title": true,
   "title_cell": "Table of Contents",
   "title_sidebar": "Contents",
   "toc_cell": false,
   "toc_position": {},
   "toc_section_display": true,
   "toc_window_display": true
  }
 },
 "nbformat": 4,
 "nbformat_minor": 2
}
