{
 "cells": [
  {
   "cell_type": "markdown",
   "id": "173c17a1",
   "metadata": {},
   "source": [
    "# Исследование сервиса аренды самокатов GoFast"
   ]
  },
  {
   "cell_type": "markdown",
   "id": "fb81605c",
   "metadata": {},
   "source": [
    "Проводим анализ сервиса аренды самокатов GoFast на основе данных о некоторых пользователях из нескольких городов, а также об их поездках. Анализируем данные и проверяем некоторые гипотезы, которые могут помочь бизнесу вырасти.\\\n",
    "Чтобы совершать поездки по городу, пользователи сервиса GoFast пользуются мобильным приложением.\\\n",
    "Сервисом можно пользоваться:\\\n",
    "• без подписки\n",
    "- абонентская плата отсутствует;\n",
    "- стоимость одной минуты поездки — 8 рублей;\n",
    "- стоимость старта (начала поездки) — 50 рублей;\n",
    "\n",
    "• с подпиской Ultra\n",
    "- абонентская плата — 199 рублей в месяц;\n",
    "- стоимость одной минуты поездки — 6 рублей;\n",
    "- стоимость старта — бесплатно.\n",
    "\\\n",
    "<b> Цели исследования: </b>\\\n",
    "    1) Определяем целевые аудитории клиентов и расспределение их по городам.\n",
    "    2) Рассмотрим соотношение пользователей с разными типами подписки и их показатели. \n",
    "    3) Проверим гипотезы, которые могут помочь в развитии бизнеса. \n",
    "    \n",
    "    \"Сырые данные\" представлены в виде 3 таблиц, и неизвестно какого качества информация в них содержиться. Поэтому, план работы будет следующим:\\\n",
    "    <b>Исследование пройдет в 7 этапов:</b>\n",
    "    - Обзор данных\n",
    "    - Предобработка\n",
    "    - Исследовательский анализ данных\n",
    "    - Объединение таблиц в одну, а так же разделение ее на 2 датафрейма по типам подписки для визуализации их соотношения к друг другу.\n",
    "    - Подсчет и анализ помесячной выручки.\n",
    "    - Проверка гипотез. \n",
    "    - Общий вывод. \n"
   ]
  },
  {
   "cell_type": "code",
   "execution_count": 423,
   "id": "d2013ac0",
   "metadata": {},
   "outputs": [],
   "source": [
    "import pandas as pd"
   ]
  },
  {
   "cell_type": "code",
   "execution_count": 424,
   "id": "1e10dcdc",
   "metadata": {},
   "outputs": [],
   "source": [
    "import matplotlib.pyplot as plt"
   ]
  },
  {
   "cell_type": "code",
   "execution_count": 425,
   "id": "3ba25075",
   "metadata": {},
   "outputs": [],
   "source": [
    "import numpy as np"
   ]
  },
  {
   "cell_type": "code",
   "execution_count": 426,
   "id": "189566b0",
   "metadata": {},
   "outputs": [],
   "source": [
    "from scipy import stats as st"
   ]
  },
  {
   "cell_type": "code",
   "execution_count": 427,
   "id": "20b4d9e3",
   "metadata": {},
   "outputs": [],
   "source": [
    "from scipy.stats import binom, poisson"
   ]
  },
  {
   "cell_type": "code",
   "execution_count": 428,
   "id": "d8b5b413",
   "metadata": {},
   "outputs": [],
   "source": [
    "from math import sqrt"
   ]
  },
  {
   "cell_type": "markdown",
   "id": "c42cbe00",
   "metadata": {},
   "source": [
    "#### Загрузка данных"
   ]
  },
  {
   "cell_type": "code",
   "execution_count": 429,
   "id": "eff9f206",
   "metadata": {},
   "outputs": [
    {
     "data": {
      "text/html": [
       "<div>\n",
       "<style scoped>\n",
       "    .dataframe tbody tr th:only-of-type {\n",
       "        vertical-align: middle;\n",
       "    }\n",
       "\n",
       "    .dataframe tbody tr th {\n",
       "        vertical-align: top;\n",
       "    }\n",
       "\n",
       "    .dataframe thead th {\n",
       "        text-align: right;\n",
       "    }\n",
       "</style>\n",
       "<table border=\"1\" class=\"dataframe\">\n",
       "  <thead>\n",
       "    <tr style=\"text-align: right;\">\n",
       "      <th></th>\n",
       "      <th>user_id</th>\n",
       "      <th>name</th>\n",
       "      <th>age</th>\n",
       "      <th>city</th>\n",
       "      <th>subscription_type</th>\n",
       "    </tr>\n",
       "  </thead>\n",
       "  <tbody>\n",
       "    <tr>\n",
       "      <th>0</th>\n",
       "      <td>1</td>\n",
       "      <td>Кира</td>\n",
       "      <td>22</td>\n",
       "      <td>Тюмень</td>\n",
       "      <td>ultra</td>\n",
       "    </tr>\n",
       "    <tr>\n",
       "      <th>1</th>\n",
       "      <td>2</td>\n",
       "      <td>Станислав</td>\n",
       "      <td>31</td>\n",
       "      <td>Омск</td>\n",
       "      <td>ultra</td>\n",
       "    </tr>\n",
       "    <tr>\n",
       "      <th>2</th>\n",
       "      <td>3</td>\n",
       "      <td>Алексей</td>\n",
       "      <td>20</td>\n",
       "      <td>Москва</td>\n",
       "      <td>ultra</td>\n",
       "    </tr>\n",
       "    <tr>\n",
       "      <th>3</th>\n",
       "      <td>4</td>\n",
       "      <td>Константин</td>\n",
       "      <td>26</td>\n",
       "      <td>Ростов-на-Дону</td>\n",
       "      <td>ultra</td>\n",
       "    </tr>\n",
       "    <tr>\n",
       "      <th>4</th>\n",
       "      <td>5</td>\n",
       "      <td>Адель</td>\n",
       "      <td>28</td>\n",
       "      <td>Омск</td>\n",
       "      <td>ultra</td>\n",
       "    </tr>\n",
       "  </tbody>\n",
       "</table>\n",
       "</div>"
      ],
      "text/plain": [
       "   user_id        name  age            city subscription_type\n",
       "0        1        Кира   22          Тюмень             ultra\n",
       "1        2   Станислав   31            Омск             ultra\n",
       "2        3     Алексей   20          Москва             ultra\n",
       "3        4  Константин   26  Ростов-на-Дону             ultra\n",
       "4        5       Адель   28            Омск             ultra"
      ]
     },
     "metadata": {},
     "output_type": "display_data"
    }
   ],
   "source": [
    "df_users=pd.read_csv('/datasets/users_go.csv')\n",
    "display(df_users.head())"
   ]
  },
  {
   "cell_type": "code",
   "execution_count": 430,
   "id": "32279ab5",
   "metadata": {},
   "outputs": [
    {
     "name": "stdout",
     "output_type": "stream",
     "text": [
      "<class 'pandas.core.frame.DataFrame'>\n",
      "RangeIndex: 1565 entries, 0 to 1564\n",
      "Data columns (total 5 columns):\n",
      " #   Column             Non-Null Count  Dtype \n",
      "---  ------             --------------  ----- \n",
      " 0   user_id            1565 non-null   int64 \n",
      " 1   name               1565 non-null   object\n",
      " 2   age                1565 non-null   int64 \n",
      " 3   city               1565 non-null   object\n",
      " 4   subscription_type  1565 non-null   object\n",
      "dtypes: int64(2), object(3)\n",
      "memory usage: 61.3+ KB\n"
     ]
    }
   ],
   "source": [
    "df_users.info()"
   ]
  },
  {
   "cell_type": "code",
   "execution_count": 431,
   "id": "72d5e330",
   "metadata": {},
   "outputs": [
    {
     "data": {
      "text/html": [
       "<div>\n",
       "<style scoped>\n",
       "    .dataframe tbody tr th:only-of-type {\n",
       "        vertical-align: middle;\n",
       "    }\n",
       "\n",
       "    .dataframe tbody tr th {\n",
       "        vertical-align: top;\n",
       "    }\n",
       "\n",
       "    .dataframe thead th {\n",
       "        text-align: right;\n",
       "    }\n",
       "</style>\n",
       "<table border=\"1\" class=\"dataframe\">\n",
       "  <thead>\n",
       "    <tr style=\"text-align: right;\">\n",
       "      <th></th>\n",
       "      <th>user_id</th>\n",
       "      <th>distance</th>\n",
       "      <th>duration</th>\n",
       "      <th>date</th>\n",
       "    </tr>\n",
       "  </thead>\n",
       "  <tbody>\n",
       "    <tr>\n",
       "      <th>0</th>\n",
       "      <td>1</td>\n",
       "      <td>4409.919140</td>\n",
       "      <td>25.599769</td>\n",
       "      <td>2021-01-01</td>\n",
       "    </tr>\n",
       "    <tr>\n",
       "      <th>1</th>\n",
       "      <td>1</td>\n",
       "      <td>2617.592153</td>\n",
       "      <td>15.816871</td>\n",
       "      <td>2021-01-18</td>\n",
       "    </tr>\n",
       "    <tr>\n",
       "      <th>2</th>\n",
       "      <td>1</td>\n",
       "      <td>754.159807</td>\n",
       "      <td>6.232113</td>\n",
       "      <td>2021-04-20</td>\n",
       "    </tr>\n",
       "    <tr>\n",
       "      <th>3</th>\n",
       "      <td>1</td>\n",
       "      <td>2694.783254</td>\n",
       "      <td>18.511000</td>\n",
       "      <td>2021-08-11</td>\n",
       "    </tr>\n",
       "    <tr>\n",
       "      <th>4</th>\n",
       "      <td>1</td>\n",
       "      <td>4028.687306</td>\n",
       "      <td>26.265803</td>\n",
       "      <td>2021-08-28</td>\n",
       "    </tr>\n",
       "  </tbody>\n",
       "</table>\n",
       "</div>"
      ],
      "text/plain": [
       "   user_id     distance   duration        date\n",
       "0        1  4409.919140  25.599769  2021-01-01\n",
       "1        1  2617.592153  15.816871  2021-01-18\n",
       "2        1   754.159807   6.232113  2021-04-20\n",
       "3        1  2694.783254  18.511000  2021-08-11\n",
       "4        1  4028.687306  26.265803  2021-08-28"
      ]
     },
     "metadata": {},
     "output_type": "display_data"
    }
   ],
   "source": [
    "df_rides=pd.read_csv('/datasets/rides_go.csv')\n",
    "display(df_rides.head())"
   ]
  },
  {
   "cell_type": "code",
   "execution_count": 432,
   "id": "a055d715",
   "metadata": {},
   "outputs": [
    {
     "name": "stdout",
     "output_type": "stream",
     "text": [
      "<class 'pandas.core.frame.DataFrame'>\n",
      "RangeIndex: 18068 entries, 0 to 18067\n",
      "Data columns (total 4 columns):\n",
      " #   Column    Non-Null Count  Dtype  \n",
      "---  ------    --------------  -----  \n",
      " 0   user_id   18068 non-null  int64  \n",
      " 1   distance  18068 non-null  float64\n",
      " 2   duration  18068 non-null  float64\n",
      " 3   date      18068 non-null  object \n",
      "dtypes: float64(2), int64(1), object(1)\n",
      "memory usage: 564.8+ KB\n"
     ]
    }
   ],
   "source": [
    "df_rides.info()"
   ]
  },
  {
   "cell_type": "code",
   "execution_count": 433,
   "id": "25f0d730",
   "metadata": {},
   "outputs": [
    {
     "data": {
      "text/html": [
       "<div>\n",
       "<style scoped>\n",
       "    .dataframe tbody tr th:only-of-type {\n",
       "        vertical-align: middle;\n",
       "    }\n",
       "\n",
       "    .dataframe tbody tr th {\n",
       "        vertical-align: top;\n",
       "    }\n",
       "\n",
       "    .dataframe thead th {\n",
       "        text-align: right;\n",
       "    }\n",
       "</style>\n",
       "<table border=\"1\" class=\"dataframe\">\n",
       "  <thead>\n",
       "    <tr style=\"text-align: right;\">\n",
       "      <th></th>\n",
       "      <th>subscription_type</th>\n",
       "      <th>minute_price</th>\n",
       "      <th>start_ride_price</th>\n",
       "      <th>subscription_fee</th>\n",
       "    </tr>\n",
       "  </thead>\n",
       "  <tbody>\n",
       "    <tr>\n",
       "      <th>0</th>\n",
       "      <td>free</td>\n",
       "      <td>8</td>\n",
       "      <td>50</td>\n",
       "      <td>0</td>\n",
       "    </tr>\n",
       "    <tr>\n",
       "      <th>1</th>\n",
       "      <td>ultra</td>\n",
       "      <td>6</td>\n",
       "      <td>0</td>\n",
       "      <td>199</td>\n",
       "    </tr>\n",
       "  </tbody>\n",
       "</table>\n",
       "</div>"
      ],
      "text/plain": [
       "  subscription_type  minute_price  start_ride_price  subscription_fee\n",
       "0              free             8                50                 0\n",
       "1             ultra             6                 0               199"
      ]
     },
     "metadata": {},
     "output_type": "display_data"
    }
   ],
   "source": [
    "df_subscriptions=pd.read_csv('/datasets/subscriptions_go.csv')\n",
    "display(df_subscriptions.head())"
   ]
  },
  {
   "cell_type": "code",
   "execution_count": 434,
   "id": "89508830",
   "metadata": {},
   "outputs": [
    {
     "name": "stdout",
     "output_type": "stream",
     "text": [
      "<class 'pandas.core.frame.DataFrame'>\n",
      "RangeIndex: 2 entries, 0 to 1\n",
      "Data columns (total 4 columns):\n",
      " #   Column             Non-Null Count  Dtype \n",
      "---  ------             --------------  ----- \n",
      " 0   subscription_type  2 non-null      object\n",
      " 1   minute_price       2 non-null      int64 \n",
      " 2   start_ride_price   2 non-null      int64 \n",
      " 3   subscription_fee   2 non-null      int64 \n",
      "dtypes: int64(3), object(1)\n",
      "memory usage: 192.0+ bytes\n"
     ]
    }
   ],
   "source": [
    "df_subscriptions.info()"
   ]
  },
  {
   "cell_type": "markdown",
   "id": "2e74c0ea",
   "metadata": {},
   "source": [
    "Загружено 3 таблицы с информацией о пользователях, их данных и типе подписки; информацией о продолжительности и длине поездки; таблица со стоимостью услуг и тарифом подписки. Все таблицы можно объединить в 1. "
   ]
  },
  {
   "cell_type": "markdown",
   "id": "e95ebca7",
   "metadata": {},
   "source": [
    "####  Предобработка данных"
   ]
  },
  {
   "cell_type": "code",
   "execution_count": 435,
   "id": "af6d202c",
   "metadata": {},
   "outputs": [
    {
     "data": {
      "text/html": [
       "<div>\n",
       "<style scoped>\n",
       "    .dataframe tbody tr th:only-of-type {\n",
       "        vertical-align: middle;\n",
       "    }\n",
       "\n",
       "    .dataframe tbody tr th {\n",
       "        vertical-align: top;\n",
       "    }\n",
       "\n",
       "    .dataframe thead th {\n",
       "        text-align: right;\n",
       "    }\n",
       "</style>\n",
       "<table border=\"1\" class=\"dataframe\">\n",
       "  <thead>\n",
       "    <tr style=\"text-align: right;\">\n",
       "      <th></th>\n",
       "      <th>user_id</th>\n",
       "      <th>distance</th>\n",
       "      <th>duration</th>\n",
       "      <th>date</th>\n",
       "    </tr>\n",
       "  </thead>\n",
       "  <tbody>\n",
       "    <tr>\n",
       "      <th>0</th>\n",
       "      <td>1</td>\n",
       "      <td>4409.919140</td>\n",
       "      <td>25.599769</td>\n",
       "      <td>2021-01-01</td>\n",
       "    </tr>\n",
       "    <tr>\n",
       "      <th>1</th>\n",
       "      <td>1</td>\n",
       "      <td>2617.592153</td>\n",
       "      <td>15.816871</td>\n",
       "      <td>2021-01-18</td>\n",
       "    </tr>\n",
       "    <tr>\n",
       "      <th>2</th>\n",
       "      <td>1</td>\n",
       "      <td>754.159807</td>\n",
       "      <td>6.232113</td>\n",
       "      <td>2021-04-20</td>\n",
       "    </tr>\n",
       "    <tr>\n",
       "      <th>3</th>\n",
       "      <td>1</td>\n",
       "      <td>2694.783254</td>\n",
       "      <td>18.511000</td>\n",
       "      <td>2021-08-11</td>\n",
       "    </tr>\n",
       "    <tr>\n",
       "      <th>4</th>\n",
       "      <td>1</td>\n",
       "      <td>4028.687306</td>\n",
       "      <td>26.265803</td>\n",
       "      <td>2021-08-28</td>\n",
       "    </tr>\n",
       "  </tbody>\n",
       "</table>\n",
       "</div>"
      ],
      "text/plain": [
       "   user_id     distance   duration       date\n",
       "0        1  4409.919140  25.599769 2021-01-01\n",
       "1        1  2617.592153  15.816871 2021-01-18\n",
       "2        1   754.159807   6.232113 2021-04-20\n",
       "3        1  2694.783254  18.511000 2021-08-11\n",
       "4        1  4028.687306  26.265803 2021-08-28"
      ]
     },
     "metadata": {},
     "output_type": "display_data"
    }
   ],
   "source": [
    "df_rides['date'] = pd.to_datetime(df_rides['date'],format='%Y-%m-%d')\n",
    "display(df_rides.head())"
   ]
  },
  {
   "cell_type": "code",
   "execution_count": 436,
   "id": "70c8825d",
   "metadata": {},
   "outputs": [
    {
     "name": "stdout",
     "output_type": "stream",
     "text": [
      "<class 'pandas.core.frame.DataFrame'>\n",
      "RangeIndex: 18068 entries, 0 to 18067\n",
      "Data columns (total 4 columns):\n",
      " #   Column    Non-Null Count  Dtype         \n",
      "---  ------    --------------  -----         \n",
      " 0   user_id   18068 non-null  int64         \n",
      " 1   distance  18068 non-null  float64       \n",
      " 2   duration  18068 non-null  float64       \n",
      " 3   date      18068 non-null  datetime64[ns]\n",
      "dtypes: datetime64[ns](1), float64(2), int64(1)\n",
      "memory usage: 564.8 KB\n"
     ]
    }
   ],
   "source": [
    "df_rides.info()"
   ]
  },
  {
   "cell_type": "markdown",
   "id": "9cbbbf6c",
   "metadata": {},
   "source": [
    "Данные в колонке \"date\" приведены к корректному формату даты. "
   ]
  },
  {
   "cell_type": "code",
   "execution_count": 437,
   "id": "fcc0332b",
   "metadata": {},
   "outputs": [
    {
     "data": {
      "text/html": [
       "<div>\n",
       "<style scoped>\n",
       "    .dataframe tbody tr th:only-of-type {\n",
       "        vertical-align: middle;\n",
       "    }\n",
       "\n",
       "    .dataframe tbody tr th {\n",
       "        vertical-align: top;\n",
       "    }\n",
       "\n",
       "    .dataframe thead th {\n",
       "        text-align: right;\n",
       "    }\n",
       "</style>\n",
       "<table border=\"1\" class=\"dataframe\">\n",
       "  <thead>\n",
       "    <tr style=\"text-align: right;\">\n",
       "      <th></th>\n",
       "      <th>user_id</th>\n",
       "      <th>distance</th>\n",
       "      <th>duration</th>\n",
       "      <th>date</th>\n",
       "      <th>month</th>\n",
       "    </tr>\n",
       "  </thead>\n",
       "  <tbody>\n",
       "    <tr>\n",
       "      <th>0</th>\n",
       "      <td>1</td>\n",
       "      <td>4409.919140</td>\n",
       "      <td>25.599769</td>\n",
       "      <td>2021-01-01</td>\n",
       "      <td>1</td>\n",
       "    </tr>\n",
       "    <tr>\n",
       "      <th>1</th>\n",
       "      <td>1</td>\n",
       "      <td>2617.592153</td>\n",
       "      <td>15.816871</td>\n",
       "      <td>2021-01-18</td>\n",
       "      <td>1</td>\n",
       "    </tr>\n",
       "    <tr>\n",
       "      <th>2</th>\n",
       "      <td>1</td>\n",
       "      <td>754.159807</td>\n",
       "      <td>6.232113</td>\n",
       "      <td>2021-04-20</td>\n",
       "      <td>4</td>\n",
       "    </tr>\n",
       "    <tr>\n",
       "      <th>3</th>\n",
       "      <td>1</td>\n",
       "      <td>2694.783254</td>\n",
       "      <td>18.511000</td>\n",
       "      <td>2021-08-11</td>\n",
       "      <td>8</td>\n",
       "    </tr>\n",
       "    <tr>\n",
       "      <th>4</th>\n",
       "      <td>1</td>\n",
       "      <td>4028.687306</td>\n",
       "      <td>26.265803</td>\n",
       "      <td>2021-08-28</td>\n",
       "      <td>8</td>\n",
       "    </tr>\n",
       "    <tr>\n",
       "      <th>...</th>\n",
       "      <td>...</td>\n",
       "      <td>...</td>\n",
       "      <td>...</td>\n",
       "      <td>...</td>\n",
       "      <td>...</td>\n",
       "    </tr>\n",
       "    <tr>\n",
       "      <th>18063</th>\n",
       "      <td>1534</td>\n",
       "      <td>3781.098080</td>\n",
       "      <td>19.822962</td>\n",
       "      <td>2021-11-04</td>\n",
       "      <td>11</td>\n",
       "    </tr>\n",
       "    <tr>\n",
       "      <th>18064</th>\n",
       "      <td>1534</td>\n",
       "      <td>2840.423057</td>\n",
       "      <td>21.409799</td>\n",
       "      <td>2021-11-16</td>\n",
       "      <td>11</td>\n",
       "    </tr>\n",
       "    <tr>\n",
       "      <th>18065</th>\n",
       "      <td>1534</td>\n",
       "      <td>3826.185507</td>\n",
       "      <td>18.435051</td>\n",
       "      <td>2021-11-18</td>\n",
       "      <td>11</td>\n",
       "    </tr>\n",
       "    <tr>\n",
       "      <th>18066</th>\n",
       "      <td>1534</td>\n",
       "      <td>2902.308661</td>\n",
       "      <td>16.674362</td>\n",
       "      <td>2021-11-27</td>\n",
       "      <td>11</td>\n",
       "    </tr>\n",
       "    <tr>\n",
       "      <th>18067</th>\n",
       "      <td>1534</td>\n",
       "      <td>2371.711192</td>\n",
       "      <td>15.893917</td>\n",
       "      <td>2021-12-29</td>\n",
       "      <td>12</td>\n",
       "    </tr>\n",
       "  </tbody>\n",
       "</table>\n",
       "<p>18068 rows × 5 columns</p>\n",
       "</div>"
      ],
      "text/plain": [
       "       user_id     distance   duration       date  month\n",
       "0            1  4409.919140  25.599769 2021-01-01      1\n",
       "1            1  2617.592153  15.816871 2021-01-18      1\n",
       "2            1   754.159807   6.232113 2021-04-20      4\n",
       "3            1  2694.783254  18.511000 2021-08-11      8\n",
       "4            1  4028.687306  26.265803 2021-08-28      8\n",
       "...        ...          ...        ...        ...    ...\n",
       "18063     1534  3781.098080  19.822962 2021-11-04     11\n",
       "18064     1534  2840.423057  21.409799 2021-11-16     11\n",
       "18065     1534  3826.185507  18.435051 2021-11-18     11\n",
       "18066     1534  2902.308661  16.674362 2021-11-27     11\n",
       "18067     1534  2371.711192  15.893917 2021-12-29     12\n",
       "\n",
       "[18068 rows x 5 columns]"
      ]
     },
     "metadata": {},
     "output_type": "display_data"
    }
   ],
   "source": [
    "df_rides['month'] = pd.DatetimeIndex(df_rides['date']).month\n",
    "display(df_rides)"
   ]
  },
  {
   "cell_type": "code",
   "execution_count": 438,
   "id": "dc76aa8a",
   "metadata": {},
   "outputs": [],
   "source": [
    "#df_rides['year'] = pd.DatetimeIndex(df_rides['date']).year\n",
    "#df_rides['year'].unique()\n"
   ]
  },
  {
   "cell_type": "markdown",
   "id": "4268fe62",
   "metadata": {},
   "source": [
    "Данные представлены только за 2021 год, поэтому каждый месяц будет уникален. Для дальнейших расчетов выделена отдельная колонка с номером месяца. "
   ]
  },
  {
   "cell_type": "markdown",
   "id": "ea2e98a2",
   "metadata": {},
   "source": [
    "Проверим данные на пропуски и дубликаты:"
   ]
  },
  {
   "cell_type": "code",
   "execution_count": 439,
   "id": "383c33ad",
   "metadata": {},
   "outputs": [
    {
     "data": {
      "text/plain": [
       "user_id              0\n",
       "name                 0\n",
       "age                  0\n",
       "city                 0\n",
       "subscription_type    0\n",
       "dtype: int64"
      ]
     },
     "execution_count": 439,
     "metadata": {},
     "output_type": "execute_result"
    }
   ],
   "source": [
    "df_users.isna().sum()"
   ]
  },
  {
   "cell_type": "markdown",
   "id": "2522c1c1",
   "metadata": {},
   "source": [
    "Пропусков нет."
   ]
  },
  {
   "cell_type": "code",
   "execution_count": 440,
   "id": "5dee9813",
   "metadata": {},
   "outputs": [
    {
     "data": {
      "text/plain": [
       "31"
      ]
     },
     "execution_count": 440,
     "metadata": {},
     "output_type": "execute_result"
    }
   ],
   "source": [
    "df_users.duplicated().sum()"
   ]
  },
  {
   "cell_type": "code",
   "execution_count": 441,
   "id": "cd240607",
   "metadata": {},
   "outputs": [
    {
     "data": {
      "text/plain": [
       "0"
      ]
     },
     "execution_count": 441,
     "metadata": {},
     "output_type": "execute_result"
    }
   ],
   "source": [
    "df_users=df_users.drop_duplicates()\n",
    "df_users.duplicated().sum()"
   ]
  },
  {
   "cell_type": "markdown",
   "id": "2f719117",
   "metadata": {},
   "source": [
    "Был найден 31 полный дубликат и удален. "
   ]
  },
  {
   "cell_type": "code",
   "execution_count": 442,
   "id": "5fb8f203",
   "metadata": {},
   "outputs": [
    {
     "data": {
      "text/plain": [
       "user_id     0\n",
       "distance    0\n",
       "duration    0\n",
       "date        0\n",
       "month       0\n",
       "dtype: int64"
      ]
     },
     "execution_count": 442,
     "metadata": {},
     "output_type": "execute_result"
    }
   ],
   "source": [
    "df_rides.isna().sum()"
   ]
  },
  {
   "cell_type": "code",
   "execution_count": 443,
   "id": "ed2d9557",
   "metadata": {},
   "outputs": [
    {
     "data": {
      "text/plain": [
       "0"
      ]
     },
     "execution_count": 443,
     "metadata": {},
     "output_type": "execute_result"
    }
   ],
   "source": [
    "df_rides.duplicated().sum()"
   ]
  },
  {
   "cell_type": "code",
   "execution_count": 444,
   "id": "8bd316ac",
   "metadata": {},
   "outputs": [
    {
     "data": {
      "text/plain": [
       "subscription_type    0\n",
       "minute_price         0\n",
       "start_ride_price     0\n",
       "subscription_fee     0\n",
       "dtype: int64"
      ]
     },
     "execution_count": 444,
     "metadata": {},
     "output_type": "execute_result"
    }
   ],
   "source": [
    "df_subscriptions.isna().sum()"
   ]
  },
  {
   "cell_type": "code",
   "execution_count": 445,
   "id": "5bc9d66a",
   "metadata": {},
   "outputs": [
    {
     "data": {
      "text/plain": [
       "0"
      ]
     },
     "execution_count": 445,
     "metadata": {},
     "output_type": "execute_result"
    }
   ],
   "source": [
    "df_subscriptions.duplicated().sum()"
   ]
  },
  {
   "cell_type": "markdown",
   "id": "70c4981b",
   "metadata": {},
   "source": [
    "В остальных данных пропусков и дубликатов найдено не было. "
   ]
  },
  {
   "cell_type": "markdown",
   "id": "4ac651a7",
   "metadata": {},
   "source": [
    "Вывод: Данные собираются очень качественно - нет пропусков, кол-во дубликатов минимальное. "
   ]
  },
  {
   "cell_type": "markdown",
   "id": "212593c7",
   "metadata": {},
   "source": [
    "####  Исследовательский анализ данных"
   ]
  },
  {
   "cell_type": "markdown",
   "id": "de977e07",
   "metadata": {},
   "source": [
    "##### Исследование частоты встречаемости городов"
   ]
  },
  {
   "cell_type": "code",
   "execution_count": 446,
   "id": "d9794aa5",
   "metadata": {},
   "outputs": [
    {
     "data": {
      "text/plain": [
       "Пятигорск         219\n",
       "Екатеринбург      204\n",
       "Ростов-на-Дону    198\n",
       "Краснодар         193\n",
       "Сочи              189\n",
       "Омск              183\n",
       "Тюмень            180\n",
       "Москва            168\n",
       "Name: city, dtype: int64"
      ]
     },
     "metadata": {},
     "output_type": "display_data"
    },
    {
     "data": {
      "image/png": "[encoded data removed]",
      "text/plain": [
       "<Figure size 864x432 with 1 Axes>"
      ]
     },
     "metadata": {
      "needs_background": "light"
     },
     "output_type": "display_data"
    }
   ],
   "source": [
    "display(df_users['city'].value_counts()) \n",
    "(df_users.pivot_table(index='city', values='user_id', aggfunc='count').sort_values(by='user_id')\n",
    "    .plot(kind='barh', grid=True, figsize=(12, 6))\n",
    ")\n",
    "plt.title('Количество пользователей по городам')\n",
    "plt.ylabel('Города')\n",
    "plt.xlabel('Количество пользователей')\n",
    "plt.show()"
   ]
  },
  {
   "cell_type": "markdown",
   "id": "4b3290b1",
   "metadata": {},
   "source": [
    "Больше всего пользователей в Пятигорске, после него самый многочисленный - Екатеринбург. Меньше всего пользователей в Москве. Возможно, это связано с высокой конкуренцией в этом сегменте в столице. "
   ]
  },
  {
   "cell_type": "markdown",
   "id": "dd20d1a0",
   "metadata": {},
   "source": [
    "##### Cоотношение пользователей с подпиской и без подписки"
   ]
  },
  {
   "cell_type": "code",
   "execution_count": 447,
   "id": "0b07c081",
   "metadata": {},
   "outputs": [
    {
     "data": {
      "text/plain": [
       "free     835\n",
       "ultra    699\n",
       "Name: subscription_type, dtype: int64"
      ]
     },
     "metadata": {},
     "output_type": "display_data"
    },
    {
     "data": {
      "image/png": "[encoded data removed]",
      "text/plain": [
       "<Figure size 864x432 with 1 Axes>"
      ]
     },
     "metadata": {},
     "output_type": "display_data"
    }
   ],
   "source": [
    "display(df_users['subscription_type'].value_counts()) \n",
    "(df_users.pivot_table(index='subscription_type', values='user_id', aggfunc='count')\n",
    "    .plot(kind='pie', y= 'user_id', autopct='%1.1f%%', figsize=(12,6))\n",
    ")\n",
    "plt.title('Cоотношение пользователей с подпиской и без подписки')\n",
    "plt.ylabel('Количество пользователей')\n",
    "plt.show()"
   ]
  },
  {
   "cell_type": "markdown",
   "id": "4f7e3b91",
   "metadata": {},
   "source": [
    "Пользователей с подпиской - 54.4%, без подписки - 45.6%"
   ]
  },
  {
   "cell_type": "markdown",
   "id": "c93393b5",
   "metadata": {},
   "source": [
    "#####  Исследование возраста пользователей"
   ]
  },
  {
   "cell_type": "code",
   "execution_count": 448,
   "id": "dd7f0955",
   "metadata": {},
   "outputs": [
    {
     "name": "stdout",
     "output_type": "stream",
     "text": [
      "Средний возраст клиентов: 24.9\n"
     ]
    },
    {
     "data": {
      "image/png": "[encoded data removed]",
      "text/plain": [
       "<Figure size 864x432 with 1 Axes>"
      ]
     },
     "metadata": {
      "needs_background": "light"
     },
     "output_type": "display_data"
    }
   ],
   "source": [
    "#display(df_users['age'].value_counts())\n",
    "print('Средний возраст клиентов:', round(df_users['age'].mean(), 1))\n",
    "(df_users.pivot_table(index='age', values='user_id', aggfunc='count').sort_values(by='age')\n",
    "    .plot(kind='bar', figsize=(12, 6))\n",
    ")\n",
    "plt.title('Распределение возраста клиентов')\n",
    "plt.xlabel('Возраст, лет')\n",
    "plt.ylabel('Количество пользователей')\n",
    "plt.show()"
   ]
  },
  {
   "cell_type": "markdown",
   "id": "bb7e4f4a",
   "metadata": {},
   "source": [
    "Средний возраст клиентов равен 24.9 лет. Самая многочисленная группа пользователей от 21 до 28 лет. Их можно выделить как целевую аудиторию. "
   ]
  },
  {
   "cell_type": "markdown",
   "id": "2274f135",
   "metadata": {},
   "source": [
    "##### Исcледование расстояния, которое пользователь преодолел за одну поездку"
   ]
  },
  {
   "cell_type": "code",
   "execution_count": 449,
   "id": "079b481f",
   "metadata": {},
   "outputs": [
    {
     "data": {
      "image/png": "[encoded data removed]",
      "text/plain": [
       "<Figure size 864x432 with 1 Axes>"
      ]
     },
     "metadata": {
      "needs_background": "light"
     },
     "output_type": "display_data"
    },
    {
     "name": "stdout",
     "output_type": "stream",
     "text": [
      "Средняя дальность поездки: 3133.61 метров\n"
     ]
    }
   ],
   "source": [
    "df_rides['distance'].plot(kind='hist', bins=500, range=(0, 6500), figsize=(12, 6))\n",
    "plt.ylim(0, 125)\n",
    "plt.title('Расстояние, которое пользователь преодолел за одну поездку')\n",
    "plt.xlabel('Расстояние, метров')\n",
    "plt.ylabel('Количество поездок')\n",
    "plt.show()\n",
    "print('Средняя дальность поездки:', round(df_rides['distance'].median(), 2), 'метров')"
   ]
  },
  {
   "cell_type": "code",
   "execution_count": 450,
   "id": "bb1338ee",
   "metadata": {},
   "outputs": [
    {
     "data": {
      "image/png": "[encoded data removed]",
      "text/plain": [
       "<Figure size 432x288 with 1 Axes>"
      ]
     },
     "metadata": {
      "needs_background": "light"
     },
     "output_type": "display_data"
    }
   ],
   "source": [
    "df_rides.boxplot('distance')\n",
    "plt.show()"
   ]
  },
  {
   "cell_type": "markdown",
   "id": "92acccb3",
   "metadata": {},
   "source": [
    "На графике видно, что есть 2 пика популярноости: кол-во поездок увеличивается к показателю 700 метров и после снижается к 1.5 км, потом начинается резкий рост с пиком около 3 км. Поездок больше 6 км практически нет. Среднее растояние поездок - 3,133 км. Это подтверждается диаграммой размаха. "
   ]
  },
  {
   "cell_type": "markdown",
   "id": "781eccb7",
   "metadata": {},
   "source": [
    "#####  Исследование продолжительности поездок"
   ]
  },
  {
   "cell_type": "code",
   "execution_count": 451,
   "id": "a1f1d5ec",
   "metadata": {},
   "outputs": [
    {
     "data": {
      "image/png": "[encoded data removed]",
      "text/plain": [
       "<Figure size 864x432 with 1 Axes>"
      ]
     },
     "metadata": {
      "needs_background": "light"
     },
     "output_type": "display_data"
    },
    {
     "name": "stdout",
     "output_type": "stream",
     "text": [
      "Средняя длительность поездки: 17.68 минут\n"
     ]
    }
   ],
   "source": [
    "df_rides['duration'].plot(kind='hist', bins=120, figsize=(12, 6))\n",
    "plt.title('Распределение длительности поездок пользователей')\n",
    "plt.xlabel('Продолжительность поездки, минут')\n",
    "plt.ylabel('Количество поездок')\n",
    "plt.show()\n",
    "print('Средняя длительность поездки:', round(df_rides['duration'].median(), 2), 'минут')"
   ]
  },
  {
   "cell_type": "code",
   "execution_count": 452,
   "id": "46164ef4",
   "metadata": {},
   "outputs": [
    {
     "data": {
      "image/png": "[encoded data removed]",
      "text/plain": [
       "<Figure size 432x288 with 1 Axes>"
      ]
     },
     "metadata": {
      "needs_background": "light"
     },
     "output_type": "display_data"
    }
   ],
   "source": [
    "df_rides.boxplot('duration')\n",
    "plt.show()"
   ]
  },
  {
   "cell_type": "markdown",
   "id": "886b4596",
   "metadata": {},
   "source": [
    "На графике видно, что рапределение близко к нормальному, есть только один явный выброс рядом с 0 - почти 100 очень коротких поездок. Скорее всего они связаны с пиком около 700 м. на предыдущем графике. Пользователи проезжали очень короткое растояние очень быстро. Это может быть связано с необходимостью быстро добраться до необходимой точки из-за опоздания, или пользователи, которые воспользовались услугами остались чем-либо недовольны и прекратили поездку. Этот вопрос можно исследовать дополнительно.\\\n",
    "Средняя длительность поездок - примерно 17,5 минут.\\\n",
    "Поездок дольше 35 минут практически нет. "
   ]
  },
  {
   "cell_type": "markdown",
   "id": "4ef51331",
   "metadata": {},
   "source": [
    "####  Объединение данных"
   ]
  },
  {
   "cell_type": "markdown",
   "id": "50abe409",
   "metadata": {},
   "source": [
    "Для дальнейших вычислений объединим три таблицы в одну:"
   ]
  },
  {
   "cell_type": "code",
   "execution_count": 453,
   "id": "95ba156a",
   "metadata": {
    "scrolled": true
   },
   "outputs": [
    {
     "data": {
      "text/plain": [
       "(1534, 5)"
      ]
     },
     "execution_count": 453,
     "metadata": {},
     "output_type": "execute_result"
    }
   ],
   "source": [
    "df_users.shape"
   ]
  },
  {
   "cell_type": "code",
   "execution_count": 454,
   "id": "462f3ec9",
   "metadata": {},
   "outputs": [
    {
     "data": {
      "text/plain": [
       "(18068, 5)"
      ]
     },
     "execution_count": 454,
     "metadata": {},
     "output_type": "execute_result"
    }
   ],
   "source": [
    "df_rides.shape"
   ]
  },
  {
   "cell_type": "code",
   "execution_count": 455,
   "id": "0f1ea148",
   "metadata": {},
   "outputs": [
    {
     "data": {
      "text/plain": [
       "(2, 4)"
      ]
     },
     "execution_count": 455,
     "metadata": {},
     "output_type": "execute_result"
    }
   ],
   "source": [
    "df_subscriptions.shape"
   ]
  },
  {
   "cell_type": "code",
   "execution_count": 456,
   "id": "ae4236a1",
   "metadata": {},
   "outputs": [
    {
     "data": {
      "text/html": [
       "<div>\n",
       "<style scoped>\n",
       "    .dataframe tbody tr th:only-of-type {\n",
       "        vertical-align: middle;\n",
       "    }\n",
       "\n",
       "    .dataframe tbody tr th {\n",
       "        vertical-align: top;\n",
       "    }\n",
       "\n",
       "    .dataframe thead th {\n",
       "        text-align: right;\n",
       "    }\n",
       "</style>\n",
       "<table border=\"1\" class=\"dataframe\">\n",
       "  <thead>\n",
       "    <tr style=\"text-align: right;\">\n",
       "      <th></th>\n",
       "      <th>user_id</th>\n",
       "      <th>name</th>\n",
       "      <th>age</th>\n",
       "      <th>city</th>\n",
       "      <th>subscription_type</th>\n",
       "      <th>distance</th>\n",
       "      <th>duration</th>\n",
       "      <th>date</th>\n",
       "      <th>month</th>\n",
       "      <th>minute_price</th>\n",
       "      <th>start_ride_price</th>\n",
       "      <th>subscription_fee</th>\n",
       "    </tr>\n",
       "  </thead>\n",
       "  <tbody>\n",
       "    <tr>\n",
       "      <th>0</th>\n",
       "      <td>1</td>\n",
       "      <td>Кира</td>\n",
       "      <td>22</td>\n",
       "      <td>Тюмень</td>\n",
       "      <td>ultra</td>\n",
       "      <td>4409.919140</td>\n",
       "      <td>25.599769</td>\n",
       "      <td>2021-01-01</td>\n",
       "      <td>1</td>\n",
       "      <td>6</td>\n",
       "      <td>0</td>\n",
       "      <td>199</td>\n",
       "    </tr>\n",
       "    <tr>\n",
       "      <th>1</th>\n",
       "      <td>1</td>\n",
       "      <td>Кира</td>\n",
       "      <td>22</td>\n",
       "      <td>Тюмень</td>\n",
       "      <td>ultra</td>\n",
       "      <td>2617.592153</td>\n",
       "      <td>15.816871</td>\n",
       "      <td>2021-01-18</td>\n",
       "      <td>1</td>\n",
       "      <td>6</td>\n",
       "      <td>0</td>\n",
       "      <td>199</td>\n",
       "    </tr>\n",
       "    <tr>\n",
       "      <th>2</th>\n",
       "      <td>1</td>\n",
       "      <td>Кира</td>\n",
       "      <td>22</td>\n",
       "      <td>Тюмень</td>\n",
       "      <td>ultra</td>\n",
       "      <td>754.159807</td>\n",
       "      <td>6.232113</td>\n",
       "      <td>2021-04-20</td>\n",
       "      <td>4</td>\n",
       "      <td>6</td>\n",
       "      <td>0</td>\n",
       "      <td>199</td>\n",
       "    </tr>\n",
       "    <tr>\n",
       "      <th>3</th>\n",
       "      <td>1</td>\n",
       "      <td>Кира</td>\n",
       "      <td>22</td>\n",
       "      <td>Тюмень</td>\n",
       "      <td>ultra</td>\n",
       "      <td>2694.783254</td>\n",
       "      <td>18.511000</td>\n",
       "      <td>2021-08-11</td>\n",
       "      <td>8</td>\n",
       "      <td>6</td>\n",
       "      <td>0</td>\n",
       "      <td>199</td>\n",
       "    </tr>\n",
       "    <tr>\n",
       "      <th>4</th>\n",
       "      <td>1</td>\n",
       "      <td>Кира</td>\n",
       "      <td>22</td>\n",
       "      <td>Тюмень</td>\n",
       "      <td>ultra</td>\n",
       "      <td>4028.687306</td>\n",
       "      <td>26.265803</td>\n",
       "      <td>2021-08-28</td>\n",
       "      <td>8</td>\n",
       "      <td>6</td>\n",
       "      <td>0</td>\n",
       "      <td>199</td>\n",
       "    </tr>\n",
       "  </tbody>\n",
       "</table>\n",
       "</div>"
      ],
      "text/plain": [
       "   user_id  name  age    city subscription_type     distance   duration  \\\n",
       "0        1  Кира   22  Тюмень             ultra  4409.919140  25.599769   \n",
       "1        1  Кира   22  Тюмень             ultra  2617.592153  15.816871   \n",
       "2        1  Кира   22  Тюмень             ultra   754.159807   6.232113   \n",
       "3        1  Кира   22  Тюмень             ultra  2694.783254  18.511000   \n",
       "4        1  Кира   22  Тюмень             ultra  4028.687306  26.265803   \n",
       "\n",
       "        date  month  minute_price  start_ride_price  subscription_fee  \n",
       "0 2021-01-01      1             6                 0               199  \n",
       "1 2021-01-18      1             6                 0               199  \n",
       "2 2021-04-20      4             6                 0               199  \n",
       "3 2021-08-11      8             6                 0               199  \n",
       "4 2021-08-28      8             6                 0               199  "
      ]
     },
     "metadata": {},
     "output_type": "display_data"
    }
   ],
   "source": [
    "df_total = df_users.merge(\n",
    "    df_rides,\n",
    "    on='user_id',\n",
    "    how='inner'\n",
    ")\n",
    "df_total = df_total.merge(\n",
    "    df_subscriptions,\n",
    "    on='subscription_type',\n",
    "    how='inner'\n",
    ")\n",
    "display(df_total.head())"
   ]
  },
  {
   "cell_type": "code",
   "execution_count": 457,
   "id": "29fc5a7b",
   "metadata": {},
   "outputs": [
    {
     "data": {
      "text/plain": [
       "(18068, 12)"
      ]
     },
     "execution_count": 457,
     "metadata": {},
     "output_type": "execute_result"
    }
   ],
   "source": [
    "df_total.shape"
   ]
  },
  {
   "cell_type": "markdown",
   "id": "88de928a",
   "metadata": {},
   "source": [
    "Новый датафрейм создан корректно - кол-во колонок и строк совпадает с ожидаемым. "
   ]
  },
  {
   "cell_type": "markdown",
   "id": "058ef811",
   "metadata": {},
   "source": [
    "##### Создание отдельных датафреймов для групп пользлвателей по типу подписки"
   ]
  },
  {
   "cell_type": "code",
   "execution_count": 458,
   "id": "50647e99",
   "metadata": {},
   "outputs": [
    {
     "data": {
      "text/html": [
       "<div>\n",
       "<style scoped>\n",
       "    .dataframe tbody tr th:only-of-type {\n",
       "        vertical-align: middle;\n",
       "    }\n",
       "\n",
       "    .dataframe tbody tr th {\n",
       "        vertical-align: top;\n",
       "    }\n",
       "\n",
       "    .dataframe thead th {\n",
       "        text-align: right;\n",
       "    }\n",
       "</style>\n",
       "<table border=\"1\" class=\"dataframe\">\n",
       "  <thead>\n",
       "    <tr style=\"text-align: right;\">\n",
       "      <th></th>\n",
       "      <th>user_id</th>\n",
       "      <th>name</th>\n",
       "      <th>age</th>\n",
       "      <th>city</th>\n",
       "      <th>subscription_type</th>\n",
       "      <th>distance</th>\n",
       "      <th>duration</th>\n",
       "      <th>date</th>\n",
       "      <th>month</th>\n",
       "      <th>minute_price</th>\n",
       "      <th>start_ride_price</th>\n",
       "      <th>subscription_fee</th>\n",
       "    </tr>\n",
       "  </thead>\n",
       "  <tbody>\n",
       "    <tr>\n",
       "      <th>6500</th>\n",
       "      <td>700</td>\n",
       "      <td>Айдар</td>\n",
       "      <td>22</td>\n",
       "      <td>Омск</td>\n",
       "      <td>free</td>\n",
       "      <td>2515.690719</td>\n",
       "      <td>14.944286</td>\n",
       "      <td>2021-01-02</td>\n",
       "      <td>1</td>\n",
       "      <td>8</td>\n",
       "      <td>50</td>\n",
       "      <td>0</td>\n",
       "    </tr>\n",
       "    <tr>\n",
       "      <th>6501</th>\n",
       "      <td>700</td>\n",
       "      <td>Айдар</td>\n",
       "      <td>22</td>\n",
       "      <td>Омск</td>\n",
       "      <td>free</td>\n",
       "      <td>846.932642</td>\n",
       "      <td>16.234663</td>\n",
       "      <td>2021-02-01</td>\n",
       "      <td>2</td>\n",
       "      <td>8</td>\n",
       "      <td>50</td>\n",
       "      <td>0</td>\n",
       "    </tr>\n",
       "    <tr>\n",
       "      <th>6502</th>\n",
       "      <td>700</td>\n",
       "      <td>Айдар</td>\n",
       "      <td>22</td>\n",
       "      <td>Омск</td>\n",
       "      <td>free</td>\n",
       "      <td>4004.434142</td>\n",
       "      <td>20.016628</td>\n",
       "      <td>2021-02-04</td>\n",
       "      <td>2</td>\n",
       "      <td>8</td>\n",
       "      <td>50</td>\n",
       "      <td>0</td>\n",
       "    </tr>\n",
       "    <tr>\n",
       "      <th>6503</th>\n",
       "      <td>700</td>\n",
       "      <td>Айдар</td>\n",
       "      <td>22</td>\n",
       "      <td>Омск</td>\n",
       "      <td>free</td>\n",
       "      <td>1205.911290</td>\n",
       "      <td>9.782872</td>\n",
       "      <td>2021-02-10</td>\n",
       "      <td>2</td>\n",
       "      <td>8</td>\n",
       "      <td>50</td>\n",
       "      <td>0</td>\n",
       "    </tr>\n",
       "    <tr>\n",
       "      <th>6504</th>\n",
       "      <td>700</td>\n",
       "      <td>Айдар</td>\n",
       "      <td>22</td>\n",
       "      <td>Омск</td>\n",
       "      <td>free</td>\n",
       "      <td>3047.379435</td>\n",
       "      <td>17.427673</td>\n",
       "      <td>2021-02-14</td>\n",
       "      <td>2</td>\n",
       "      <td>8</td>\n",
       "      <td>50</td>\n",
       "      <td>0</td>\n",
       "    </tr>\n",
       "  </tbody>\n",
       "</table>\n",
       "</div>"
      ],
      "text/plain": [
       "      user_id   name  age  city subscription_type     distance   duration  \\\n",
       "6500      700  Айдар   22  Омск              free  2515.690719  14.944286   \n",
       "6501      700  Айдар   22  Омск              free   846.932642  16.234663   \n",
       "6502      700  Айдар   22  Омск              free  4004.434142  20.016628   \n",
       "6503      700  Айдар   22  Омск              free  1205.911290   9.782872   \n",
       "6504      700  Айдар   22  Омск              free  3047.379435  17.427673   \n",
       "\n",
       "           date  month  minute_price  start_ride_price  subscription_fee  \n",
       "6500 2021-01-02      1             8                50                 0  \n",
       "6501 2021-02-01      2             8                50                 0  \n",
       "6502 2021-02-04      2             8                50                 0  \n",
       "6503 2021-02-10      2             8                50                 0  \n",
       "6504 2021-02-14      2             8                50                 0  "
      ]
     },
     "metadata": {},
     "output_type": "display_data"
    }
   ],
   "source": [
    "cusomer_free = df_total.query('subscription_type == \"free\"')\n",
    "display(cusomer_free.head())"
   ]
  },
  {
   "cell_type": "markdown",
   "id": "c3e0394a",
   "metadata": {},
   "source": [
    "Датафрейм для пользователей без подписки создан. "
   ]
  },
  {
   "cell_type": "code",
   "execution_count": 459,
   "id": "cf5585d6",
   "metadata": {},
   "outputs": [
    {
     "data": {
      "text/html": [
       "<div>\n",
       "<style scoped>\n",
       "    .dataframe tbody tr th:only-of-type {\n",
       "        vertical-align: middle;\n",
       "    }\n",
       "\n",
       "    .dataframe tbody tr th {\n",
       "        vertical-align: top;\n",
       "    }\n",
       "\n",
       "    .dataframe thead th {\n",
       "        text-align: right;\n",
       "    }\n",
       "</style>\n",
       "<table border=\"1\" class=\"dataframe\">\n",
       "  <thead>\n",
       "    <tr style=\"text-align: right;\">\n",
       "      <th></th>\n",
       "      <th>user_id</th>\n",
       "      <th>name</th>\n",
       "      <th>age</th>\n",
       "      <th>city</th>\n",
       "      <th>subscription_type</th>\n",
       "      <th>distance</th>\n",
       "      <th>duration</th>\n",
       "      <th>date</th>\n",
       "      <th>month</th>\n",
       "      <th>minute_price</th>\n",
       "      <th>start_ride_price</th>\n",
       "      <th>subscription_fee</th>\n",
       "    </tr>\n",
       "  </thead>\n",
       "  <tbody>\n",
       "    <tr>\n",
       "      <th>0</th>\n",
       "      <td>1</td>\n",
       "      <td>Кира</td>\n",
       "      <td>22</td>\n",
       "      <td>Тюмень</td>\n",
       "      <td>ultra</td>\n",
       "      <td>4409.919140</td>\n",
       "      <td>25.599769</td>\n",
       "      <td>2021-01-01</td>\n",
       "      <td>1</td>\n",
       "      <td>6</td>\n",
       "      <td>0</td>\n",
       "      <td>199</td>\n",
       "    </tr>\n",
       "    <tr>\n",
       "      <th>1</th>\n",
       "      <td>1</td>\n",
       "      <td>Кира</td>\n",
       "      <td>22</td>\n",
       "      <td>Тюмень</td>\n",
       "      <td>ultra</td>\n",
       "      <td>2617.592153</td>\n",
       "      <td>15.816871</td>\n",
       "      <td>2021-01-18</td>\n",
       "      <td>1</td>\n",
       "      <td>6</td>\n",
       "      <td>0</td>\n",
       "      <td>199</td>\n",
       "    </tr>\n",
       "    <tr>\n",
       "      <th>2</th>\n",
       "      <td>1</td>\n",
       "      <td>Кира</td>\n",
       "      <td>22</td>\n",
       "      <td>Тюмень</td>\n",
       "      <td>ultra</td>\n",
       "      <td>754.159807</td>\n",
       "      <td>6.232113</td>\n",
       "      <td>2021-04-20</td>\n",
       "      <td>4</td>\n",
       "      <td>6</td>\n",
       "      <td>0</td>\n",
       "      <td>199</td>\n",
       "    </tr>\n",
       "    <tr>\n",
       "      <th>3</th>\n",
       "      <td>1</td>\n",
       "      <td>Кира</td>\n",
       "      <td>22</td>\n",
       "      <td>Тюмень</td>\n",
       "      <td>ultra</td>\n",
       "      <td>2694.783254</td>\n",
       "      <td>18.511000</td>\n",
       "      <td>2021-08-11</td>\n",
       "      <td>8</td>\n",
       "      <td>6</td>\n",
       "      <td>0</td>\n",
       "      <td>199</td>\n",
       "    </tr>\n",
       "    <tr>\n",
       "      <th>4</th>\n",
       "      <td>1</td>\n",
       "      <td>Кира</td>\n",
       "      <td>22</td>\n",
       "      <td>Тюмень</td>\n",
       "      <td>ultra</td>\n",
       "      <td>4028.687306</td>\n",
       "      <td>26.265803</td>\n",
       "      <td>2021-08-28</td>\n",
       "      <td>8</td>\n",
       "      <td>6</td>\n",
       "      <td>0</td>\n",
       "      <td>199</td>\n",
       "    </tr>\n",
       "  </tbody>\n",
       "</table>\n",
       "</div>"
      ],
      "text/plain": [
       "   user_id  name  age    city subscription_type     distance   duration  \\\n",
       "0        1  Кира   22  Тюмень             ultra  4409.919140  25.599769   \n",
       "1        1  Кира   22  Тюмень             ultra  2617.592153  15.816871   \n",
       "2        1  Кира   22  Тюмень             ultra   754.159807   6.232113   \n",
       "3        1  Кира   22  Тюмень             ultra  2694.783254  18.511000   \n",
       "4        1  Кира   22  Тюмень             ultra  4028.687306  26.265803   \n",
       "\n",
       "        date  month  minute_price  start_ride_price  subscription_fee  \n",
       "0 2021-01-01      1             6                 0               199  \n",
       "1 2021-01-18      1             6                 0               199  \n",
       "2 2021-04-20      4             6                 0               199  \n",
       "3 2021-08-11      8             6                 0               199  \n",
       "4 2021-08-28      8             6                 0               199  "
      ]
     },
     "metadata": {},
     "output_type": "display_data"
    }
   ],
   "source": [
    "cusomer_ultra = df_total.query('subscription_type == \"ultra\"')\n",
    "display(cusomer_ultra.head())"
   ]
  },
  {
   "cell_type": "markdown",
   "id": "b3cf6e80",
   "metadata": {},
   "source": [
    "Датафрейм для пользователей с подпиской создан. "
   ]
  },
  {
   "cell_type": "markdown",
   "id": "f54a3843",
   "metadata": {},
   "source": [
    "#####  Визуализируем информацию о расстоянии и времени поездок для пользователей обеих категорий."
   ]
  },
  {
   "cell_type": "code",
   "execution_count": 460,
   "id": "ef11ed82",
   "metadata": {},
   "outputs": [
    {
     "data": {
      "image/png": "[encoded data removed]",
      "text/plain": [
       "<Figure size 864x432 with 1 Axes>"
      ]
     },
     "metadata": {
      "needs_background": "light"
     },
     "output_type": "display_data"
    },
    {
     "data": {
      "text/plain": [
       "count    11568.000000\n",
       "mean      3045.495282\n",
       "std       1246.173806\n",
       "min          0.855683\n",
       "25%       2366.562689\n",
       "50%       3114.648465\n",
       "75%       3905.697894\n",
       "max       7211.007745\n",
       "Name: distance, dtype: float64"
      ]
     },
     "metadata": {},
     "output_type": "display_data"
    },
    {
     "data": {
      "text/plain": [
       "count    6500.000000\n",
       "mean     3115.445388\n",
       "std       836.895330\n",
       "min       244.210438\n",
       "25%      2785.444017\n",
       "50%      3148.637229\n",
       "75%      3560.574425\n",
       "max      5699.769662\n",
       "Name: distance, dtype: float64"
      ]
     },
     "metadata": {},
     "output_type": "display_data"
    }
   ],
   "source": [
    "cusomer_free['distance'].plot(kind='hist', bins=100, alpha=0.5, grid='True', label='Пользователи без подписки', figsize=(12, 6))\n",
    "cusomer_ultra['distance'].plot(kind='hist',bins=100, alpha=0.5, grid='True', label='Пользователи с подпиской', figsize=(12, 6))\n",
    "plt.legend() \n",
    "plt.title('Расстояние поездок для пользователей разных категорий')\n",
    "plt.xlabel('Расстояние поездки, метров')\n",
    "plt.ylabel('Количество поездок')\n",
    "plt.show()\n",
    "display(cusomer_free['distance'].describe())\n",
    "display(cusomer_ultra['distance'].describe())\n"
   ]
  },
  {
   "cell_type": "markdown",
   "id": "8af39c94",
   "metadata": {},
   "source": [
    "Среднее и медиана двух наборов данных находятся достаточно близко друг к другу, но размах диаграмм показывает, что пользователи без подписки совершают больше поезок и на более длительные расстояния. И, также, у пользователей без подписки больше поездок на короткие расстояния. "
   ]
  },
  {
   "cell_type": "code",
   "execution_count": 461,
   "id": "5fb655e1",
   "metadata": {},
   "outputs": [
    {
     "data": {
      "image/png": "[encoded data removed]",
      "text/plain": [
       "<Figure size 864x432 with 1 Axes>"
      ]
     },
     "metadata": {
      "needs_background": "light"
     },
     "output_type": "display_data"
    },
    {
     "data": {
      "text/plain": [
       "count    11568.000000\n",
       "mean        17.390909\n",
       "std          6.326803\n",
       "min          0.500000\n",
       "25%         12.958437\n",
       "50%         17.326890\n",
       "75%         21.594071\n",
       "max         34.948498\n",
       "Name: duration, dtype: float64"
      ]
     },
     "metadata": {},
     "output_type": "display_data"
    },
    {
     "data": {
      "text/plain": [
       "count    6500.000000\n",
       "mean       18.541985\n",
       "std         5.572048\n",
       "min         3.760353\n",
       "25%        14.524654\n",
       "50%        18.178153\n",
       "75%        21.884129\n",
       "max        40.823963\n",
       "Name: duration, dtype: float64"
      ]
     },
     "metadata": {},
     "output_type": "display_data"
    }
   ],
   "source": [
    "cusomer_free['duration'].plot(kind='hist', bins=100, alpha=0.5, grid='True', label='Пользователи без подписки', figsize=(12, 6))\n",
    "cusomer_ultra['duration'].plot(kind='hist',bins=100, alpha=0.5, grid='True', label='Пользователи с подпиской', figsize=(12, 6))\n",
    "plt.legend() \n",
    "plt.title('Расстояние поездок для пользователей разных категорий')\n",
    "plt.xlabel('Длительность поездки, минут')\n",
    "plt.ylabel('Количество поездок')\n",
    "plt.show()\n",
    "\n",
    "display(cusomer_free['duration'].describe())\n",
    "display(cusomer_ultra['duration'].describe())"
   ]
  },
  {
   "cell_type": "markdown",
   "id": "7a2b2270",
   "metadata": {},
   "source": [
    "Среднее и медиана двух наборов данных на эом графике вновь расположены очень близко друг к другу. Но при этом минимальная длительность поездок у пользователей с подпиской выше, чем у тех, кто пользуется приложением без подписки: 3,7 минут и 0,5 минут. Максимальная длительность тоже меняется - пользователи без подписки ограничиваются длительностью поездки в 35 минут, когда пользователи с подпиской - 41 минуту. "
   ]
  },
  {
   "cell_type": "markdown",
   "id": "402d620f",
   "metadata": {},
   "source": [
    "####  Подсчёт выручки"
   ]
  },
  {
   "cell_type": "markdown",
   "id": "0e8ac8af",
   "metadata": {},
   "source": [
    "##### Создаем  датафрейм с агрегированными данными о поездках на основе датафрейма с объединёнными данными из шага 4: найдем суммарное расстояние, количество поездок и суммарное время для каждого пользователя за каждый месяц."
   ]
  },
  {
   "cell_type": "code",
   "execution_count": 462,
   "id": "53049e0a",
   "metadata": {},
   "outputs": [
    {
     "data": {
      "text/html": [
       "<div>\n",
       "<style scoped>\n",
       "    .dataframe tbody tr th:only-of-type {\n",
       "        vertical-align: middle;\n",
       "    }\n",
       "\n",
       "    .dataframe tbody tr th {\n",
       "        vertical-align: top;\n",
       "    }\n",
       "\n",
       "    .dataframe thead th {\n",
       "        text-align: right;\n",
       "    }\n",
       "</style>\n",
       "<table border=\"1\" class=\"dataframe\">\n",
       "  <thead>\n",
       "    <tr style=\"text-align: right;\">\n",
       "      <th></th>\n",
       "      <th></th>\n",
       "      <th>date</th>\n",
       "      <th>distance</th>\n",
       "      <th>duration</th>\n",
       "      <th>minute_price</th>\n",
       "      <th>start_ride_price</th>\n",
       "      <th>subscription_fee</th>\n",
       "    </tr>\n",
       "    <tr>\n",
       "      <th>user_id</th>\n",
       "      <th>month</th>\n",
       "      <th></th>\n",
       "      <th></th>\n",
       "      <th></th>\n",
       "      <th></th>\n",
       "      <th></th>\n",
       "      <th></th>\n",
       "    </tr>\n",
       "  </thead>\n",
       "  <tbody>\n",
       "    <tr>\n",
       "      <th rowspan=\"5\" valign=\"top\">1</th>\n",
       "      <th>1</th>\n",
       "      <td>2</td>\n",
       "      <td>7027.511294</td>\n",
       "      <td>42.0</td>\n",
       "      <td>6</td>\n",
       "      <td>0</td>\n",
       "      <td>199</td>\n",
       "    </tr>\n",
       "    <tr>\n",
       "      <th>4</th>\n",
       "      <td>1</td>\n",
       "      <td>754.159807</td>\n",
       "      <td>7.0</td>\n",
       "      <td>6</td>\n",
       "      <td>0</td>\n",
       "      <td>199</td>\n",
       "    </tr>\n",
       "    <tr>\n",
       "      <th>8</th>\n",
       "      <td>2</td>\n",
       "      <td>6723.470560</td>\n",
       "      <td>46.0</td>\n",
       "      <td>6</td>\n",
       "      <td>0</td>\n",
       "      <td>199</td>\n",
       "    </tr>\n",
       "    <tr>\n",
       "      <th>10</th>\n",
       "      <td>2</td>\n",
       "      <td>5809.911100</td>\n",
       "      <td>32.0</td>\n",
       "      <td>6</td>\n",
       "      <td>0</td>\n",
       "      <td>199</td>\n",
       "    </tr>\n",
       "    <tr>\n",
       "      <th>11</th>\n",
       "      <td>3</td>\n",
       "      <td>7003.499363</td>\n",
       "      <td>56.0</td>\n",
       "      <td>6</td>\n",
       "      <td>0</td>\n",
       "      <td>199</td>\n",
       "    </tr>\n",
       "  </tbody>\n",
       "</table>\n",
       "</div>"
      ],
      "text/plain": [
       "               date     distance  duration  minute_price  start_ride_price  \\\n",
       "user_id month                                                                \n",
       "1       1         2  7027.511294      42.0             6                 0   \n",
       "        4         1   754.159807       7.0             6                 0   \n",
       "        8         2  6723.470560      46.0             6                 0   \n",
       "        10        2  5809.911100      32.0             6                 0   \n",
       "        11        3  7003.499363      56.0             6                 0   \n",
       "\n",
       "               subscription_fee  \n",
       "user_id month                    \n",
       "1       1                   199  \n",
       "        4                   199  \n",
       "        8                   199  \n",
       "        10                  199  \n",
       "        11                  199  "
      ]
     },
     "metadata": {},
     "output_type": "display_data"
    }
   ],
   "source": [
    "df_total['duration'] = np.ceil(df_total['duration'])  \n",
    "agg_df = df_total.pivot_table(\n",
    "    index=['user_id', 'month'],\n",
    "    values=['distance', 'date', 'duration','minute_price', 'start_ride_price', 'subscription_fee'],\n",
    "    aggfunc={'distance':sum, 'date':'count', 'duration':sum, 'minute_price': 'mean',\\\n",
    "             'start_ride_price':'mean','subscription_fee':'mean'}\n",
    ")\n",
    "display(agg_df.head())"
   ]
  },
  {
   "cell_type": "code",
   "execution_count": 463,
   "id": "35bbe53b",
   "metadata": {},
   "outputs": [
    {
     "data": {
      "text/html": [
       "<div>\n",
       "<style scoped>\n",
       "    .dataframe tbody tr th:only-of-type {\n",
       "        vertical-align: middle;\n",
       "    }\n",
       "\n",
       "    .dataframe tbody tr th {\n",
       "        vertical-align: top;\n",
       "    }\n",
       "\n",
       "    .dataframe thead th {\n",
       "        text-align: right;\n",
       "    }\n",
       "</style>\n",
       "<table border=\"1\" class=\"dataframe\">\n",
       "  <thead>\n",
       "    <tr style=\"text-align: right;\">\n",
       "      <th></th>\n",
       "      <th>user_id</th>\n",
       "      <th>month</th>\n",
       "      <th>count</th>\n",
       "      <th>total_distance</th>\n",
       "      <th>total_duration</th>\n",
       "      <th>minute_price</th>\n",
       "      <th>start_ride_price</th>\n",
       "      <th>subscription_fee</th>\n",
       "    </tr>\n",
       "  </thead>\n",
       "  <tbody>\n",
       "    <tr>\n",
       "      <th>0</th>\n",
       "      <td>1</td>\n",
       "      <td>1</td>\n",
       "      <td>2</td>\n",
       "      <td>7027.511294</td>\n",
       "      <td>42.0</td>\n",
       "      <td>6</td>\n",
       "      <td>0</td>\n",
       "      <td>199</td>\n",
       "    </tr>\n",
       "    <tr>\n",
       "      <th>1</th>\n",
       "      <td>1</td>\n",
       "      <td>4</td>\n",
       "      <td>1</td>\n",
       "      <td>754.159807</td>\n",
       "      <td>7.0</td>\n",
       "      <td>6</td>\n",
       "      <td>0</td>\n",
       "      <td>199</td>\n",
       "    </tr>\n",
       "    <tr>\n",
       "      <th>2</th>\n",
       "      <td>1</td>\n",
       "      <td>8</td>\n",
       "      <td>2</td>\n",
       "      <td>6723.470560</td>\n",
       "      <td>46.0</td>\n",
       "      <td>6</td>\n",
       "      <td>0</td>\n",
       "      <td>199</td>\n",
       "    </tr>\n",
       "    <tr>\n",
       "      <th>3</th>\n",
       "      <td>1</td>\n",
       "      <td>10</td>\n",
       "      <td>2</td>\n",
       "      <td>5809.911100</td>\n",
       "      <td>32.0</td>\n",
       "      <td>6</td>\n",
       "      <td>0</td>\n",
       "      <td>199</td>\n",
       "    </tr>\n",
       "    <tr>\n",
       "      <th>4</th>\n",
       "      <td>1</td>\n",
       "      <td>11</td>\n",
       "      <td>3</td>\n",
       "      <td>7003.499363</td>\n",
       "      <td>56.0</td>\n",
       "      <td>6</td>\n",
       "      <td>0</td>\n",
       "      <td>199</td>\n",
       "    </tr>\n",
       "    <tr>\n",
       "      <th>...</th>\n",
       "      <td>...</td>\n",
       "      <td>...</td>\n",
       "      <td>...</td>\n",
       "      <td>...</td>\n",
       "      <td>...</td>\n",
       "      <td>...</td>\n",
       "      <td>...</td>\n",
       "      <td>...</td>\n",
       "    </tr>\n",
       "    <tr>\n",
       "      <th>11326</th>\n",
       "      <td>1534</td>\n",
       "      <td>6</td>\n",
       "      <td>2</td>\n",
       "      <td>3409.468534</td>\n",
       "      <td>26.0</td>\n",
       "      <td>8</td>\n",
       "      <td>50</td>\n",
       "      <td>0</td>\n",
       "    </tr>\n",
       "    <tr>\n",
       "      <th>11327</th>\n",
       "      <td>1534</td>\n",
       "      <td>8</td>\n",
       "      <td>2</td>\n",
       "      <td>7622.453034</td>\n",
       "      <td>48.0</td>\n",
       "      <td>8</td>\n",
       "      <td>50</td>\n",
       "      <td>0</td>\n",
       "    </tr>\n",
       "    <tr>\n",
       "      <th>11328</th>\n",
       "      <td>1534</td>\n",
       "      <td>9</td>\n",
       "      <td>1</td>\n",
       "      <td>4928.173852</td>\n",
       "      <td>23.0</td>\n",
       "      <td>8</td>\n",
       "      <td>50</td>\n",
       "      <td>0</td>\n",
       "    </tr>\n",
       "    <tr>\n",
       "      <th>11329</th>\n",
       "      <td>1534</td>\n",
       "      <td>11</td>\n",
       "      <td>4</td>\n",
       "      <td>13350.015305</td>\n",
       "      <td>78.0</td>\n",
       "      <td>8</td>\n",
       "      <td>50</td>\n",
       "      <td>0</td>\n",
       "    </tr>\n",
       "    <tr>\n",
       "      <th>11330</th>\n",
       "      <td>1534</td>\n",
       "      <td>12</td>\n",
       "      <td>1</td>\n",
       "      <td>2371.711192</td>\n",
       "      <td>16.0</td>\n",
       "      <td>8</td>\n",
       "      <td>50</td>\n",
       "      <td>0</td>\n",
       "    </tr>\n",
       "  </tbody>\n",
       "</table>\n",
       "<p>11331 rows × 8 columns</p>\n",
       "</div>"
      ],
      "text/plain": [
       "       user_id  month  count  total_distance  total_duration  minute_price  \\\n",
       "0            1      1      2     7027.511294            42.0             6   \n",
       "1            1      4      1      754.159807             7.0             6   \n",
       "2            1      8      2     6723.470560            46.0             6   \n",
       "3            1     10      2     5809.911100            32.0             6   \n",
       "4            1     11      3     7003.499363            56.0             6   \n",
       "...        ...    ...    ...             ...             ...           ...   \n",
       "11326     1534      6      2     3409.468534            26.0             8   \n",
       "11327     1534      8      2     7622.453034            48.0             8   \n",
       "11328     1534      9      1     4928.173852            23.0             8   \n",
       "11329     1534     11      4    13350.015305            78.0             8   \n",
       "11330     1534     12      1     2371.711192            16.0             8   \n",
       "\n",
       "       start_ride_price  subscription_fee  \n",
       "0                     0               199  \n",
       "1                     0               199  \n",
       "2                     0               199  \n",
       "3                     0               199  \n",
       "4                     0               199  \n",
       "...                 ...               ...  \n",
       "11326                50                 0  \n",
       "11327                50                 0  \n",
       "11328                50                 0  \n",
       "11329                50                 0  \n",
       "11330                50                 0  \n",
       "\n",
       "[11331 rows x 8 columns]"
      ]
     },
     "execution_count": 463,
     "metadata": {},
     "output_type": "execute_result"
    }
   ],
   "source": [
    "agg_df.columns = ['count','total_distance', 'total_duration', 'minute_price', 'start_ride_price', 'subscription_fee']\n",
    "agg_df.reset_index()"
   ]
  },
  {
   "cell_type": "code",
   "execution_count": 464,
   "id": "066153fb",
   "metadata": {},
   "outputs": [
    {
     "data": {
      "text/plain": [
       "count               0\n",
       "total_distance      0\n",
       "total_duration      0\n",
       "minute_price        0\n",
       "start_ride_price    0\n",
       "subscription_fee    0\n",
       "dtype: int64"
      ]
     },
     "execution_count": 464,
     "metadata": {},
     "output_type": "execute_result"
    }
   ],
   "source": [
    "agg_df.isna().sum()"
   ]
  },
  {
   "cell_type": "markdown",
   "id": "8f2d6782",
   "metadata": {},
   "source": [
    "Успешно создан датафрейм с суммарными расстоянием и длительностью поездки, кол-вом поездок для каждого пользователя помесячно. "
   ]
  },
  {
   "cell_type": "markdown",
   "id": "f04b1f48",
   "metadata": {},
   "source": [
    "##### Добавление столбцов с помесячной выручкой для каждого пользователя"
   ]
  },
  {
   "cell_type": "code",
   "execution_count": 465,
   "id": "fdda4196",
   "metadata": {},
   "outputs": [
    {
     "data": {
      "text/html": [
       "<div>\n",
       "<style scoped>\n",
       "    .dataframe tbody tr th:only-of-type {\n",
       "        vertical-align: middle;\n",
       "    }\n",
       "\n",
       "    .dataframe tbody tr th {\n",
       "        vertical-align: top;\n",
       "    }\n",
       "\n",
       "    .dataframe thead th {\n",
       "        text-align: right;\n",
       "    }\n",
       "</style>\n",
       "<table border=\"1\" class=\"dataframe\">\n",
       "  <thead>\n",
       "    <tr style=\"text-align: right;\">\n",
       "      <th></th>\n",
       "      <th></th>\n",
       "      <th>count</th>\n",
       "      <th>total_distance</th>\n",
       "      <th>total_duration</th>\n",
       "      <th>minute_price</th>\n",
       "      <th>start_ride_price</th>\n",
       "      <th>subscription_fee</th>\n",
       "      <th>revenue</th>\n",
       "    </tr>\n",
       "    <tr>\n",
       "      <th>user_id</th>\n",
       "      <th>month</th>\n",
       "      <th></th>\n",
       "      <th></th>\n",
       "      <th></th>\n",
       "      <th></th>\n",
       "      <th></th>\n",
       "      <th></th>\n",
       "      <th></th>\n",
       "    </tr>\n",
       "  </thead>\n",
       "  <tbody>\n",
       "    <tr>\n",
       "      <th rowspan=\"5\" valign=\"top\">1</th>\n",
       "      <th>1</th>\n",
       "      <td>2</td>\n",
       "      <td>7027.511294</td>\n",
       "      <td>42.0</td>\n",
       "      <td>6</td>\n",
       "      <td>0</td>\n",
       "      <td>199</td>\n",
       "      <td>451.0</td>\n",
       "    </tr>\n",
       "    <tr>\n",
       "      <th>4</th>\n",
       "      <td>1</td>\n",
       "      <td>754.159807</td>\n",
       "      <td>7.0</td>\n",
       "      <td>6</td>\n",
       "      <td>0</td>\n",
       "      <td>199</td>\n",
       "      <td>241.0</td>\n",
       "    </tr>\n",
       "    <tr>\n",
       "      <th>8</th>\n",
       "      <td>2</td>\n",
       "      <td>6723.470560</td>\n",
       "      <td>46.0</td>\n",
       "      <td>6</td>\n",
       "      <td>0</td>\n",
       "      <td>199</td>\n",
       "      <td>475.0</td>\n",
       "    </tr>\n",
       "    <tr>\n",
       "      <th>10</th>\n",
       "      <td>2</td>\n",
       "      <td>5809.911100</td>\n",
       "      <td>32.0</td>\n",
       "      <td>6</td>\n",
       "      <td>0</td>\n",
       "      <td>199</td>\n",
       "      <td>391.0</td>\n",
       "    </tr>\n",
       "    <tr>\n",
       "      <th>11</th>\n",
       "      <td>3</td>\n",
       "      <td>7003.499363</td>\n",
       "      <td>56.0</td>\n",
       "      <td>6</td>\n",
       "      <td>0</td>\n",
       "      <td>199</td>\n",
       "      <td>535.0</td>\n",
       "    </tr>\n",
       "  </tbody>\n",
       "</table>\n",
       "</div>"
      ],
      "text/plain": [
       "               count  total_distance  total_duration  minute_price  \\\n",
       "user_id month                                                        \n",
       "1       1          2     7027.511294            42.0             6   \n",
       "        4          1      754.159807             7.0             6   \n",
       "        8          2     6723.470560            46.0             6   \n",
       "        10         2     5809.911100            32.0             6   \n",
       "        11         3     7003.499363            56.0             6   \n",
       "\n",
       "               start_ride_price  subscription_fee  revenue  \n",
       "user_id month                                               \n",
       "1       1                     0               199    451.0  \n",
       "        4                     0               199    241.0  \n",
       "        8                     0               199    475.0  \n",
       "        10                    0               199    391.0  \n",
       "        11                    0               199    535.0  "
      ]
     },
     "metadata": {},
     "output_type": "display_data"
    }
   ],
   "source": [
    "agg_df['revenue'] = agg_df['start_ride_price']* agg_df['count']\\\n",
    "+ agg_df['minute_price'] * agg_df['total_duration'] + agg_df['subscription_fee']\n",
    "display(agg_df.head())"
   ]
  },
  {
   "cell_type": "markdown",
   "id": "05cc35a4",
   "metadata": {},
   "source": [
    "Добавлен столбец \"revenue\" с выручкой для каждого пользователя помесячно. "
   ]
  },
  {
   "cell_type": "markdown",
   "id": "41545ac0",
   "metadata": {},
   "source": [
    "#### Проверка гипотез"
   ]
  },
  {
   "cell_type": "markdown",
   "id": "06440ba9",
   "metadata": {},
   "source": [
    "Продакт-менеджеры сервиса хотят увеличить количество пользователей с подпиской. Для этого они будут проводить различные акции, но сначала нужно выяснить несколько важных моментов."
   ]
  },
  {
   "cell_type": "markdown",
   "id": "68b2290a",
   "metadata": {},
   "source": [
    "##### Гипотеза 1: тратят ли пользователи с подпиской больше времени на поездки, чем пользователи без подписки."
   ]
  },
  {
   "cell_type": "markdown",
   "id": "24a44b01",
   "metadata": {},
   "source": [
    "Важно понять, тратят ли пользователи с подпиской больше времени на поездки? Если да, то пользователи с подпиской могут быть «выгоднее» для компании.\\\n",
    "Нулевая гипотеза(H0): Длительность поездок пользователей с подпиской равно длитильности поездок у пользователей без подписки (cusomer_ultra['duration'] = cusomer_free['duration']).\\\n",
    "Альтернативная гипотеза(H1): Длительность поездок пользователей с подпиской больше длитильности поездок у пользователей без подписки (cusomer_ultra['duration']>cusomer_free['duration'])."
   ]
  },
  {
   "cell_type": "code",
   "execution_count": 466,
   "id": "f9b92159",
   "metadata": {},
   "outputs": [
    {
     "name": "stdout",
     "output_type": "stream",
     "text": [
      "p-значение: 1.2804098316645618e-34\n",
      "Отвергаем нулевую гипотезу\n"
     ]
    }
   ],
   "source": [
    "alpha = 0.05\n",
    "\n",
    "results = st.ttest_ind(\n",
    "    cusomer_ultra['duration'], \n",
    "    cusomer_free['duration'], \n",
    "    equal_var=True, \n",
    "    alternative='greater')\n",
    "print('p-значение:', results.pvalue)\n",
    "\n",
    "if results.pvalue < alpha:\n",
    "    print('Отвергаем нулевую гипотезу')\n",
    "else:\n",
    "    print('Не получилось отвергнуть нулевую гипотезу')"
   ]
  },
  {
   "cell_type": "markdown",
   "id": "365ab58f",
   "metadata": {},
   "source": [
    "Тест показал, что нулевая гипотеза отвергнута в пользу альтернативной, т.е. длительность поездок пользователей с подпиской больше чем длительность поездок клиентов без подписки. "
   ]
  },
  {
   "cell_type": "markdown",
   "id": "0b01dfe7",
   "metadata": {},
   "source": [
    "##### Гипотеза 2: Среднее растояние, которое проезжают пользователи с подпиской за одну поездку, не превышает 3130 метров."
   ]
  },
  {
   "cell_type": "markdown",
   "id": "395052cf",
   "metadata": {},
   "source": [
    "Расстояние одной поездки в 3130 метров — оптимальное с точки зрения износа самоката. Можно ли сказать, что среднее расстояние, которое проезжают пользователи с подпиской за одну поездку, не превышает 3130 метров?"
   ]
  },
  {
   "cell_type": "markdown",
   "id": "43fc9930",
   "metadata": {},
   "source": [
    "Нулевая гипотеза(H0): Среднее растояние, которое проезжают пользователи с подпиской за одну поездку равно 3130 метров. cusomer_ultra['distance']=3130\\\n",
    "Альтернативная гипотеза(H1): Среднее растояние, которое проезжают пользователи с подпиской за одну поездку ,больше 3130 метров.  cusomer_ultra['distance']>3130"
   ]
  },
  {
   "cell_type": "code",
   "execution_count": 467,
   "id": "90a34e5b",
   "metadata": {},
   "outputs": [
    {
     "name": "stdout",
     "output_type": "stream",
     "text": [
      "p-значение: 0.9195368847849785\n",
      "Не получилось отвергнуть нулевую гипотезу\n"
     ]
    }
   ],
   "source": [
    "alpha = 0.05\n",
    "prev_distance_value = 3130\n",
    "results = st.ttest_1samp(\n",
    "    cusomer_ultra['distance'],\n",
    "    prev_distance_value,\n",
    "    alternative='greater')\n",
    "print('p-значение:', results.pvalue)\n",
    "\n",
    "if results.pvalue < alpha:\n",
    "    print('Отвергаем нулевую гипотезу')\n",
    "else:\n",
    "    print('Не получилось отвергнуть нулевую гипотезу')"
   ]
  },
  {
   "cell_type": "markdown",
   "id": "b858a811",
   "metadata": {},
   "source": [
    "Нулевую гипотезу не отвергли, соответственно можно сказать, что среднее расстояние, которое проезжают пользователи с подпиской за одну поездку, не превышает 3130 метров. "
   ]
  },
  {
   "cell_type": "markdown",
   "id": "be3797d3",
   "metadata": {},
   "source": [
    "##### Гипотеза 3: будет ли помесячная выручка от пользователей с подпиской по месяцам выше, чем выручка от пользователей без подписки"
   ]
  },
  {
   "cell_type": "markdown",
   "id": "8a0c8252",
   "metadata": {},
   "source": [
    "Проверяем гипотезу о том, будет ли помесячная выручка от пользователей с подпиской по месяцам выше, чем выручка от пользователей без подписки. "
   ]
  },
  {
   "cell_type": "markdown",
   "id": "7493e07f",
   "metadata": {},
   "source": [
    "Нулевая гипотеза(H0): Помесячная выручка от пользователей с подпиской по месяцам равна выручке от пользователей без подписки (agg_df.query('subscription_fee == 199')['revenue']=agg_df.query('subscription_fee == 0')['revenue'])\\\n",
    "Альтернативная гипотеза(H1): Помесячная выручка от пользователей с подпиской по месяцам превышает выручку от пользователей без подписки (agg_df.query('subscription_fee == 199')['revenue']>agg_df.query('subscription_fee == 0')['revenue'])"
   ]
  },
  {
   "cell_type": "code",
   "execution_count": 468,
   "id": "91902d5f",
   "metadata": {},
   "outputs": [
    {
     "name": "stdout",
     "output_type": "stream",
     "text": [
      "p-значение: 1.8850394384715216e-31\n",
      "Отвергаем нулевую гипотезу\n"
     ]
    }
   ],
   "source": [
    "alpha = 0.05\n",
    "\n",
    "results = st.ttest_ind(\n",
    "    agg_df.query('subscription_fee == 199')['revenue'], \n",
    "    agg_df.query('subscription_fee == 0')['revenue'], \n",
    "    equal_var=True, \n",
    "    alternative='greater')\n",
    "print('p-значение:', results.pvalue)\n",
    "\n",
    "if results.pvalue < alpha:\n",
    "    print('Отвергаем нулевую гипотезу')\n",
    "else:\n",
    "    print('Не получилось отвергнуть нулевую гипотезу')"
   ]
  },
  {
   "cell_type": "markdown",
   "id": "65c6e957",
   "metadata": {},
   "source": [
    "Нулевая гипотеза отвергута, соответственно можно сделать вывод о том, что помесячная выручка от пользователей с подпиской по месяцам выше, чем выручка от пользователей без подписки."
   ]
  },
  {
   "cell_type": "markdown",
   "id": "8b038977",
   "metadata": {},
   "source": [
    "##### Представьте такую ситуацию: техническая команда сервиса обновила сервера, с которыми взаимодействует мобильное приложение. Она надеется, что из-за этого количество обращений в техподдержку значимо снизилось. Некоторый файл содержит для каждого пользователя данные о количестве обращений до обновления и после него. Какой тест вам понадобился бы для проверки этой гипотезы?"
   ]
  },
  {
   "cell_type": "markdown",
   "id": "38e42418",
   "metadata": {},
   "source": [
    "Т.к. дана одна генеральная совокупность, которую изучаем - база данных клиентов сервиса и 2 связанных показателя, то нужно использовать тест scipy.stats.ttest_rel. Аргументы: наборы данных — парные выборки до и после изменения. "
   ]
  },
  {
   "cell_type": "markdown",
   "id": "977368ee",
   "metadata": {},
   "source": [
    "#### Вывод: "
   ]
  },
  {
   "cell_type": "markdown",
   "id": "edce0fa9",
   "metadata": {},
   "source": [
    "1. На предобработке данных не было обнаружено пропусков и были найдено небольшое кол-во дубликатов - это говорит о хороших алгоритмах сбора информации. \n",
    "2. Больше всего пользователей в Пятигорске, после него самый многочисленный - Екатеринбург. Меньше всего пользователей в Москве. Возможно, это связано с высокой конкуренцией в этом сегменте в столице.\n",
    "3. Соотношение пользователей с подпиской - 54.4%, к без подписки - 45.6%\n",
    "4. Средний возраст клиентов равен 24.9 лет. Самая многочисленная группа пользователей от 21 до 28 лет. Их можно выделить как целевую аудиторию.\n",
    "5. Средняя дальность 1 поездки: 3133.61 метров. На графике видно, что есть 2 пика популярноости: кол-во поездок увеличивается к показателю 700 метров и после снижается к 1.5 км, потом начинается резкий рост с пиком около 3 км. Поездок больше 6 км практически нет. Среднее растояние поездок - 3,133 км.\n",
    "6. Средняя длительность поездки: 17.68 минут\n",
    "7. На графике видно, что рапределение близко к нормальному, есть только один явный выброс рядом с 0 - почти 100 очень коротких поездок. Скорее всего они связаны с пиком около 700 м. на предыдущем графике. Пользователи проезжали очень короткое растояние очень быстро. Это может быть связано с необходимостью быстро добраться до необходимой точки из-за опоздания, или пользователи, которые воспользовались услугами остались чем-либо недовольны и прекратили поездку. Этот вопрос можно исследовать дополнительно. Средняя длительность поездок - примерно 17,5 минут. Поездок дольше 35 минут практически нет.\n",
    "8. При изучении данных пользователей с подпиской и без нее по длительности и расстоянию поездок, выявили: Среднее и медиана двух наборов данных на этом графике расположены очень близко друг к другу. Но при этом минимальная длительность поездок у пользователей с подпиской выше, чем у тех, кто пользуется приложением без подписки: 3,7 минут и 0,5 минут. Максимальная длительность тоже меняется - пользователи без подписки ограничиваются длительностью поездки в 35 минут, когда пользователи с подпиской - 41 минуту. Пользователи без подписки совершают больше поезок и на более длительные расстояния. И, также, у пользователей без подписки больше поездок на короткие расстояния.\n",
    "9. При проверке гипотез определено: \n",
    "- длительность поездок пользователей с подпиской больше чем длительность поездок клиентов без подписки.\n",
    "- среднее расстояние, которое проезжают пользователи с подпиской за одну поездку, не превышает 3130 метров.\n",
    "- помесячная выручка от пользователей с подпиской по месяцам выше, чем выручка от пользователей без подписки.\\\n",
    "\\\n",
    "<b>Рекомендации:</b>\\\n",
    "- В ходе исследования была выявлено, что клиенты с подпиской приносят больший доход. Поэтому предлагаю сфокусироваться на привлечении новых подписчиков. Для этого можно проводить промоакции для пользователей без подписки, а так же повысить узнаваемость приложения среди потенциальных пользователей приложения. Целевая аудитория - от 21 до 28 лет.\\\n",
    "- Рекомендуется провести конкурентный анализ и выяснить, почему в самом большом городе (Москве) так мало пользователей.\\\n",
    "- При изучении данных было отнаружено множество очень коротких поездок среди пользователей без подписки - это может быть связано с неудовлетворенностью клиентов в услуге или другими причинами. Для предотвращения рисков, необходимо дополнительно исучить эти показатели (возможно провести тестирование). "
   ]
  }
 ],
 "metadata": {
  "ExecuteTimeLog": [
   {
    "duration": 47,
    "start_time": "2024-03-22T04:47:52.243Z"
   },
   {
    "duration": 457,
    "start_time": "2024-03-22T04:47:57.514Z"
   },
   {
    "duration": 34,
    "start_time": "2024-03-22T04:47:59.810Z"
   },
   {
    "duration": 89,
    "start_time": "2024-03-22T04:50:44.988Z"
   },
   {
    "duration": 293,
    "start_time": "2024-03-22T04:58:47.236Z"
   },
   {
    "duration": 34,
    "start_time": "2024-03-22T05:00:26.573Z"
   },
   {
    "duration": 51,
    "start_time": "2024-03-22T05:00:28.381Z"
   },
   {
    "duration": 31,
    "start_time": "2024-03-22T05:00:30.270Z"
   },
   {
    "duration": 2,
    "start_time": "2024-03-22T05:06:13.528Z"
   },
   {
    "duration": 48,
    "start_time": "2024-03-22T05:06:13.533Z"
   },
   {
    "duration": 42,
    "start_time": "2024-03-22T05:06:13.583Z"
   },
   {
    "duration": 27,
    "start_time": "2024-03-22T05:06:13.626Z"
   },
   {
    "duration": 19,
    "start_time": "2024-03-22T05:20:32.234Z"
   },
   {
    "duration": 59,
    "start_time": "2024-03-22T05:20:46.120Z"
   },
   {
    "duration": 1746,
    "start_time": "2024-03-22T05:22:46.738Z"
   },
   {
    "duration": 1783,
    "start_time": "2024-03-22T05:23:58.299Z"
   },
   {
    "duration": 11,
    "start_time": "2024-03-22T05:24:21.331Z"
   },
   {
    "duration": 6,
    "start_time": "2024-03-22T05:27:19.500Z"
   },
   {
    "duration": 7,
    "start_time": "2024-03-22T05:27:40.819Z"
   },
   {
    "duration": 6,
    "start_time": "2024-03-22T05:28:35.867Z"
   },
   {
    "duration": 7,
    "start_time": "2024-03-22T05:30:16.738Z"
   },
   {
    "duration": 7,
    "start_time": "2024-03-22T05:30:25.267Z"
   },
   {
    "duration": 7,
    "start_time": "2024-03-22T05:30:46.219Z"
   },
   {
    "duration": 7,
    "start_time": "2024-03-22T05:31:23.685Z"
   },
   {
    "duration": 8,
    "start_time": "2024-03-22T05:33:00.372Z"
   },
   {
    "duration": 5,
    "start_time": "2024-03-22T05:33:23.908Z"
   },
   {
    "duration": 6,
    "start_time": "2024-03-22T05:34:59.500Z"
   },
   {
    "duration": 7,
    "start_time": "2024-03-22T05:35:16.812Z"
   },
   {
    "duration": 5,
    "start_time": "2024-03-22T05:42:20.416Z"
   },
   {
    "duration": 8,
    "start_time": "2024-03-22T05:42:30.669Z"
   },
   {
    "duration": 3,
    "start_time": "2024-03-22T05:54:46.929Z"
   },
   {
    "duration": 386,
    "start_time": "2024-03-22T05:54:46.934Z"
   },
   {
    "duration": 44,
    "start_time": "2024-03-22T05:54:47.322Z"
   },
   {
    "duration": 42,
    "start_time": "2024-03-22T05:54:47.368Z"
   },
   {
    "duration": 26,
    "start_time": "2024-03-22T05:54:47.413Z"
   },
   {
    "duration": 18,
    "start_time": "2024-03-22T05:54:47.441Z"
   },
   {
    "duration": 20,
    "start_time": "2024-03-22T05:54:47.460Z"
   },
   {
    "duration": 6,
    "start_time": "2024-03-22T05:54:47.481Z"
   },
   {
    "duration": 9,
    "start_time": "2024-03-22T05:54:47.488Z"
   },
   {
    "duration": 9,
    "start_time": "2024-03-22T05:54:47.499Z"
   },
   {
    "duration": 7,
    "start_time": "2024-03-22T05:54:47.509Z"
   },
   {
    "duration": 10,
    "start_time": "2024-03-22T05:54:47.517Z"
   },
   {
    "duration": 6,
    "start_time": "2024-03-22T05:54:47.528Z"
   },
   {
    "duration": 8,
    "start_time": "2024-03-22T05:54:47.537Z"
   },
   {
    "duration": 17,
    "start_time": "2024-03-22T06:09:48.933Z"
   },
   {
    "duration": 8,
    "start_time": "2024-03-22T06:10:03.824Z"
   },
   {
    "duration": 156,
    "start_time": "2024-03-22T06:10:13.469Z"
   },
   {
    "duration": 14,
    "start_time": "2024-03-22T06:16:37.871Z"
   },
   {
    "duration": 13,
    "start_time": "2024-03-22T06:17:53.862Z"
   },
   {
    "duration": 152,
    "start_time": "2024-03-22T06:18:20.487Z"
   },
   {
    "duration": 196,
    "start_time": "2024-03-22T06:20:40.224Z"
   },
   {
    "duration": 153,
    "start_time": "2024-03-22T06:21:28.032Z"
   },
   {
    "duration": 21,
    "start_time": "2024-03-22T06:25:22.761Z"
   },
   {
    "duration": 175,
    "start_time": "2024-03-22T06:25:43.849Z"
   },
   {
    "duration": 4,
    "start_time": "2024-03-22T06:32:50.163Z"
   },
   {
    "duration": 134,
    "start_time": "2024-03-22T06:33:08.714Z"
   },
   {
    "duration": 157,
    "start_time": "2024-03-22T06:35:25.650Z"
   },
   {
    "duration": 150,
    "start_time": "2024-03-22T06:35:34.922Z"
   },
   {
    "duration": 154,
    "start_time": "2024-03-22T06:38:27.818Z"
   },
   {
    "duration": 153,
    "start_time": "2024-03-22T06:41:51.506Z"
   },
   {
    "duration": 162,
    "start_time": "2024-03-22T06:42:31.947Z"
   },
   {
    "duration": 133,
    "start_time": "2024-03-22T06:51:17.372Z"
   },
   {
    "duration": 23,
    "start_time": "2024-03-22T07:36:23.078Z"
   },
   {
    "duration": 26,
    "start_time": "2024-03-22T07:38:03.275Z"
   },
   {
    "duration": 24,
    "start_time": "2024-03-22T07:38:12.438Z"
   },
   {
    "duration": 22,
    "start_time": "2024-03-22T07:45:36.007Z"
   },
   {
    "duration": 17,
    "start_time": "2024-03-22T07:46:03.807Z"
   },
   {
    "duration": 370,
    "start_time": "2024-03-25T00:35:22.356Z"
   },
   {
    "duration": 411,
    "start_time": "2024-03-25T00:35:22.728Z"
   },
   {
    "duration": 115,
    "start_time": "2024-03-25T00:35:23.141Z"
   },
   {
    "duration": 143,
    "start_time": "2024-03-25T00:35:23.258Z"
   },
   {
    "duration": 75,
    "start_time": "2024-03-25T00:35:23.403Z"
   },
   {
    "duration": 17,
    "start_time": "2024-03-25T00:35:23.480Z"
   },
   {
    "duration": 9,
    "start_time": "2024-03-25T00:35:23.498Z"
   },
   {
    "duration": 7,
    "start_time": "2024-03-25T00:35:23.509Z"
   },
   {
    "duration": 14,
    "start_time": "2024-03-25T00:35:23.518Z"
   },
   {
    "duration": 8,
    "start_time": "2024-03-25T00:35:23.534Z"
   },
   {
    "duration": 11,
    "start_time": "2024-03-25T00:35:23.543Z"
   },
   {
    "duration": 8,
    "start_time": "2024-03-25T00:35:23.556Z"
   },
   {
    "duration": 9,
    "start_time": "2024-03-25T00:35:23.566Z"
   },
   {
    "duration": 28,
    "start_time": "2024-03-25T00:35:23.577Z"
   },
   {
    "duration": 169,
    "start_time": "2024-03-25T00:35:23.607Z"
   },
   {
    "duration": 123,
    "start_time": "2024-03-25T00:35:23.777Z"
   },
   {
    "duration": 145,
    "start_time": "2024-03-25T00:35:23.902Z"
   },
   {
    "duration": 79,
    "start_time": "2024-03-25T00:35:24.049Z"
   },
   {
    "duration": 0,
    "start_time": "2024-03-25T00:35:24.129Z"
   },
   {
    "duration": 0,
    "start_time": "2024-03-25T00:35:24.130Z"
   },
   {
    "duration": 0,
    "start_time": "2024-03-25T00:35:24.131Z"
   },
   {
    "duration": 206,
    "start_time": "2024-03-25T00:49:55.964Z"
   },
   {
    "duration": 97,
    "start_time": "2024-03-25T00:51:13.095Z"
   },
   {
    "duration": 79,
    "start_time": "2024-03-25T00:51:36.016Z"
   },
   {
    "duration": 83,
    "start_time": "2024-03-25T00:51:52.127Z"
   },
   {
    "duration": 81,
    "start_time": "2024-03-25T00:52:05.880Z"
   },
   {
    "duration": 83,
    "start_time": "2024-03-25T00:52:14.829Z"
   },
   {
    "duration": 82,
    "start_time": "2024-03-25T00:52:28.013Z"
   },
   {
    "duration": 230,
    "start_time": "2024-03-25T00:53:41.782Z"
   },
   {
    "duration": 17910,
    "start_time": "2024-03-25T01:02:43.079Z"
   },
   {
    "duration": 17,
    "start_time": "2024-03-25T01:07:34.368Z"
   },
   {
    "duration": 18,
    "start_time": "2024-03-25T01:07:49.256Z"
   },
   {
    "duration": 180,
    "start_time": "2024-03-25T01:08:12.728Z"
   },
   {
    "duration": 5,
    "start_time": "2024-03-25T01:09:20.425Z"
   },
   {
    "duration": 19,
    "start_time": "2024-03-25T01:15:53.922Z"
   },
   {
    "duration": 17,
    "start_time": "2024-03-25T01:16:05.810Z"
   },
   {
    "duration": 24,
    "start_time": "2024-03-25T01:25:53.852Z"
   },
   {
    "duration": 17,
    "start_time": "2024-03-25T01:25:57.252Z"
   },
   {
    "duration": 15,
    "start_time": "2024-03-25T01:25:59.076Z"
   },
   {
    "duration": 147,
    "start_time": "2024-03-25T01:51:13.173Z"
   },
   {
    "duration": 13,
    "start_time": "2024-03-25T01:56:34.533Z"
   },
   {
    "duration": 9,
    "start_time": "2024-03-25T02:05:32.998Z"
   },
   {
    "duration": 823,
    "start_time": "2024-03-25T02:06:56.903Z"
   },
   {
    "duration": 644,
    "start_time": "2024-03-25T02:07:23.223Z"
   },
   {
    "duration": 835,
    "start_time": "2024-03-25T02:08:19.711Z"
   },
   {
    "duration": 713,
    "start_time": "2024-03-25T02:13:06.592Z"
   },
   {
    "duration": 732,
    "start_time": "2024-03-25T02:14:56.872Z"
   },
   {
    "duration": 991,
    "start_time": "2024-03-25T02:15:28.512Z"
   },
   {
    "duration": 757,
    "start_time": "2024-03-25T02:16:37.272Z"
   },
   {
    "duration": 724,
    "start_time": "2024-03-25T02:23:48.041Z"
   },
   {
    "duration": 569,
    "start_time": "2024-03-25T02:24:03.905Z"
   },
   {
    "duration": 167,
    "start_time": "2024-03-25T02:25:00.953Z"
   },
   {
    "duration": 169,
    "start_time": "2024-03-25T02:25:15.961Z"
   },
   {
    "duration": 178,
    "start_time": "2024-03-25T02:25:27.881Z"
   },
   {
    "duration": 168,
    "start_time": "2024-03-25T02:25:39.952Z"
   },
   {
    "duration": 187,
    "start_time": "2024-03-25T02:30:49.704Z"
   },
   {
    "duration": 197,
    "start_time": "2024-03-25T02:31:02.249Z"
   },
   {
    "duration": 136,
    "start_time": "2024-03-25T02:31:15.937Z"
   },
   {
    "duration": 148,
    "start_time": "2024-03-25T02:31:51.545Z"
   },
   {
    "duration": 156,
    "start_time": "2024-03-25T02:39:03.532Z"
   },
   {
    "duration": 659,
    "start_time": "2024-03-25T02:39:52.005Z"
   },
   {
    "duration": 235,
    "start_time": "2024-03-25T02:40:18.965Z"
   },
   {
    "duration": 452,
    "start_time": "2024-03-25T02:40:55.191Z"
   },
   {
    "duration": 405,
    "start_time": "2024-03-25T02:41:09.903Z"
   },
   {
    "duration": 419,
    "start_time": "2024-03-25T02:41:15.839Z"
   },
   {
    "duration": 585,
    "start_time": "2024-03-25T02:43:58.253Z"
   },
   {
    "duration": 3,
    "start_time": "2024-03-25T03:01:12.035Z"
   },
   {
    "duration": 9,
    "start_time": "2024-03-25T03:01:12.041Z"
   },
   {
    "duration": 11,
    "start_time": "2024-03-25T03:01:12.052Z"
   },
   {
    "duration": 80,
    "start_time": "2024-03-25T03:01:12.065Z"
   },
   {
    "duration": 39,
    "start_time": "2024-03-25T03:01:12.147Z"
   },
   {
    "duration": 25,
    "start_time": "2024-03-25T03:01:12.188Z"
   },
   {
    "duration": 20,
    "start_time": "2024-03-25T03:01:12.215Z"
   },
   {
    "duration": 11,
    "start_time": "2024-03-25T03:01:12.237Z"
   },
   {
    "duration": 14,
    "start_time": "2024-03-25T03:01:12.250Z"
   },
   {
    "duration": 24,
    "start_time": "2024-03-25T03:01:12.265Z"
   },
   {
    "duration": 84,
    "start_time": "2024-03-25T03:01:12.291Z"
   },
   {
    "duration": 27,
    "start_time": "2024-03-25T03:01:12.378Z"
   },
   {
    "duration": 28,
    "start_time": "2024-03-25T03:01:12.407Z"
   },
   {
    "duration": 6,
    "start_time": "2024-03-25T03:01:12.439Z"
   },
   {
    "duration": 7,
    "start_time": "2024-03-25T03:01:12.446Z"
   },
   {
    "duration": 160,
    "start_time": "2024-03-25T03:01:12.455Z"
   },
   {
    "duration": 155,
    "start_time": "2024-03-25T03:01:12.617Z"
   },
   {
    "duration": 153,
    "start_time": "2024-03-25T03:01:12.773Z"
   },
   {
    "duration": 816,
    "start_time": "2024-03-25T03:01:12.929Z"
   },
   {
    "duration": 228,
    "start_time": "2024-03-25T03:01:13.747Z"
   },
   {
    "duration": 33,
    "start_time": "2024-03-25T03:01:13.977Z"
   },
   {
    "duration": 30,
    "start_time": "2024-03-25T03:01:14.011Z"
   },
   {
    "duration": 21,
    "start_time": "2024-03-25T03:01:14.043Z"
   },
   {
    "duration": 620,
    "start_time": "2024-03-25T03:01:14.065Z"
   },
   {
    "duration": 482,
    "start_time": "2024-03-25T03:01:14.687Z"
   },
   {
    "duration": 428,
    "start_time": "2024-03-25T03:24:51.919Z"
   },
   {
    "duration": 436,
    "start_time": "2024-03-25T03:25:00.999Z"
   },
   {
    "duration": 2,
    "start_time": "2024-03-25T03:27:32.449Z"
   },
   {
    "duration": 63,
    "start_time": "2024-03-25T03:27:32.453Z"
   },
   {
    "duration": 70,
    "start_time": "2024-03-25T03:27:32.517Z"
   },
   {
    "duration": 125,
    "start_time": "2024-03-25T03:27:32.588Z"
   },
   {
    "duration": 57,
    "start_time": "2024-03-25T03:27:32.715Z"
   },
   {
    "duration": 34,
    "start_time": "2024-03-25T03:27:32.774Z"
   },
   {
    "duration": 18,
    "start_time": "2024-03-25T03:27:32.809Z"
   },
   {
    "duration": 14,
    "start_time": "2024-03-25T03:27:32.828Z"
   },
   {
    "duration": 41,
    "start_time": "2024-03-25T03:27:32.844Z"
   },
   {
    "duration": 18,
    "start_time": "2024-03-25T03:27:32.886Z"
   },
   {
    "duration": 224,
    "start_time": "2024-03-25T03:27:32.905Z"
   },
   {
    "duration": 7,
    "start_time": "2024-03-25T03:27:33.130Z"
   },
   {
    "duration": 21,
    "start_time": "2024-03-25T03:27:33.138Z"
   },
   {
    "duration": 20,
    "start_time": "2024-03-25T03:27:33.162Z"
   },
   {
    "duration": 29,
    "start_time": "2024-03-25T03:27:33.183Z"
   },
   {
    "duration": 148,
    "start_time": "2024-03-25T03:27:33.213Z"
   },
   {
    "duration": 120,
    "start_time": "2024-03-25T03:27:33.363Z"
   },
   {
    "duration": 140,
    "start_time": "2024-03-25T03:27:33.485Z"
   },
   {
    "duration": 738,
    "start_time": "2024-03-25T03:27:33.626Z"
   },
   {
    "duration": 228,
    "start_time": "2024-03-25T03:27:34.366Z"
   },
   {
    "duration": 24,
    "start_time": "2024-03-25T03:27:34.595Z"
   },
   {
    "duration": 18,
    "start_time": "2024-03-25T03:27:34.620Z"
   },
   {
    "duration": 56,
    "start_time": "2024-03-25T03:27:34.639Z"
   },
   {
    "duration": 442,
    "start_time": "2024-03-25T03:27:34.697Z"
   },
   {
    "duration": 620,
    "start_time": "2024-03-25T03:27:35.141Z"
   },
   {
    "duration": 8,
    "start_time": "2024-03-25T03:59:35.312Z"
   },
   {
    "duration": 16,
    "start_time": "2024-03-25T03:59:50.383Z"
   },
   {
    "duration": 21,
    "start_time": "2024-03-25T04:00:24.751Z"
   },
   {
    "duration": 25,
    "start_time": "2024-03-25T04:56:02.066Z"
   },
   {
    "duration": 9,
    "start_time": "2024-03-25T04:56:05.793Z"
   },
   {
    "duration": 4,
    "start_time": "2024-03-25T05:21:13.828Z"
   },
   {
    "duration": 11,
    "start_time": "2024-03-25T05:27:13.620Z"
   },
   {
    "duration": 23,
    "start_time": "2024-03-25T05:27:29.252Z"
   },
   {
    "duration": 25,
    "start_time": "2024-03-25T05:28:43.837Z"
   },
   {
    "duration": 14,
    "start_time": "2024-03-25T05:29:14.302Z"
   },
   {
    "duration": 14,
    "start_time": "2024-03-25T06:34:25.473Z"
   },
   {
    "duration": 10,
    "start_time": "2024-03-25T06:39:54.225Z"
   },
   {
    "duration": 3,
    "start_time": "2024-03-25T06:40:34.426Z"
   },
   {
    "duration": 21,
    "start_time": "2024-03-25T06:40:34.430Z"
   },
   {
    "duration": 43,
    "start_time": "2024-03-25T06:40:34.453Z"
   },
   {
    "duration": 42,
    "start_time": "2024-03-25T06:40:34.497Z"
   },
   {
    "duration": 71,
    "start_time": "2024-03-25T06:40:34.541Z"
   },
   {
    "duration": 38,
    "start_time": "2024-03-25T06:40:34.614Z"
   },
   {
    "duration": 26,
    "start_time": "2024-03-25T06:40:34.653Z"
   },
   {
    "duration": 24,
    "start_time": "2024-03-25T06:40:34.681Z"
   },
   {
    "duration": 22,
    "start_time": "2024-03-25T06:40:34.707Z"
   },
   {
    "duration": 44,
    "start_time": "2024-03-25T06:40:34.730Z"
   },
   {
    "duration": 24,
    "start_time": "2024-03-25T06:40:34.775Z"
   },
   {
    "duration": 23,
    "start_time": "2024-03-25T06:40:34.800Z"
   },
   {
    "duration": 21,
    "start_time": "2024-03-25T06:40:34.825Z"
   },
   {
    "duration": 39,
    "start_time": "2024-03-25T06:40:34.849Z"
   },
   {
    "duration": 29,
    "start_time": "2024-03-25T06:40:34.890Z"
   },
   {
    "duration": 64,
    "start_time": "2024-03-25T06:40:34.920Z"
   },
   {
    "duration": 159,
    "start_time": "2024-03-25T06:40:34.985Z"
   },
   {
    "duration": 137,
    "start_time": "2024-03-25T06:40:35.146Z"
   },
   {
    "duration": 155,
    "start_time": "2024-03-25T06:40:35.284Z"
   },
   {
    "duration": 726,
    "start_time": "2024-03-25T06:40:35.440Z"
   },
   {
    "duration": 198,
    "start_time": "2024-03-25T06:40:36.167Z"
   },
   {
    "duration": 31,
    "start_time": "2024-03-25T06:40:36.367Z"
   },
   {
    "duration": 15,
    "start_time": "2024-03-25T06:40:36.400Z"
   },
   {
    "duration": 43,
    "start_time": "2024-03-25T06:40:36.417Z"
   },
   {
    "duration": 656,
    "start_time": "2024-03-25T06:40:36.462Z"
   },
   {
    "duration": 442,
    "start_time": "2024-03-25T06:40:37.119Z"
   },
   {
    "duration": 22,
    "start_time": "2024-03-25T06:40:37.563Z"
   },
   {
    "duration": 11,
    "start_time": "2024-03-25T06:40:37.595Z"
   },
   {
    "duration": 11,
    "start_time": "2024-03-25T06:40:37.608Z"
   },
   {
    "duration": 3788,
    "start_time": "2024-03-25T06:40:37.621Z"
   },
   {
    "duration": 14,
    "start_time": "2024-03-25T06:42:53.064Z"
   },
   {
    "duration": 3130,
    "start_time": "2024-03-25T06:43:06.231Z"
   },
   {
    "duration": 3,
    "start_time": "2024-03-25T06:43:57.103Z"
   },
   {
    "duration": 19,
    "start_time": "2024-03-25T06:43:57.108Z"
   },
   {
    "duration": 18,
    "start_time": "2024-03-25T06:43:57.129Z"
   },
   {
    "duration": 62,
    "start_time": "2024-03-25T06:43:57.149Z"
   },
   {
    "duration": 83,
    "start_time": "2024-03-25T06:43:57.213Z"
   },
   {
    "duration": 42,
    "start_time": "2024-03-25T06:43:57.298Z"
   },
   {
    "duration": 30,
    "start_time": "2024-03-25T06:43:57.342Z"
   },
   {
    "duration": 85,
    "start_time": "2024-03-25T06:43:57.374Z"
   },
   {
    "duration": 30,
    "start_time": "2024-03-25T06:43:57.461Z"
   },
   {
    "duration": 8,
    "start_time": "2024-03-25T06:43:57.492Z"
   },
   {
    "duration": 89,
    "start_time": "2024-03-25T06:43:57.502Z"
   },
   {
    "duration": 42,
    "start_time": "2024-03-25T06:43:57.593Z"
   },
   {
    "duration": 19,
    "start_time": "2024-03-25T06:43:57.639Z"
   },
   {
    "duration": 45,
    "start_time": "2024-03-25T06:43:57.660Z"
   },
   {
    "duration": 11,
    "start_time": "2024-03-25T06:43:57.707Z"
   },
   {
    "duration": 25,
    "start_time": "2024-03-25T06:43:57.720Z"
   },
   {
    "duration": 201,
    "start_time": "2024-03-25T06:43:57.746Z"
   },
   {
    "duration": 160,
    "start_time": "2024-03-25T06:43:57.948Z"
   },
   {
    "duration": 153,
    "start_time": "2024-03-25T06:43:58.110Z"
   },
   {
    "duration": 1012,
    "start_time": "2024-03-25T06:43:58.265Z"
   },
   {
    "duration": 247,
    "start_time": "2024-03-25T06:43:59.278Z"
   },
   {
    "duration": 24,
    "start_time": "2024-03-25T06:43:59.526Z"
   },
   {
    "duration": 18,
    "start_time": "2024-03-25T06:43:59.551Z"
   },
   {
    "duration": 41,
    "start_time": "2024-03-25T06:43:59.571Z"
   },
   {
    "duration": 505,
    "start_time": "2024-03-25T06:43:59.614Z"
   },
   {
    "duration": 467,
    "start_time": "2024-03-25T06:44:00.121Z"
   },
   {
    "duration": 20,
    "start_time": "2024-03-25T06:44:00.594Z"
   },
   {
    "duration": 119,
    "start_time": "2024-03-25T06:44:00.616Z"
   },
   {
    "duration": 9053,
    "start_time": "2024-03-25T06:44:00.736Z"
   },
   {
    "duration": 48,
    "start_time": "2024-03-25T06:51:18.134Z"
   },
   {
    "duration": 8,
    "start_time": "2024-03-25T06:55:42.204Z"
   },
   {
    "duration": 9,
    "start_time": "2024-03-25T07:07:24.638Z"
   },
   {
    "duration": 7,
    "start_time": "2024-03-25T07:14:15.579Z"
   },
   {
    "duration": 7,
    "start_time": "2024-03-25T07:14:30.956Z"
   },
   {
    "duration": 6,
    "start_time": "2024-03-25T07:14:51.220Z"
   },
   {
    "duration": 428,
    "start_time": "2024-03-25T07:15:01.246Z"
   },
   {
    "duration": 276,
    "start_time": "2024-03-25T07:15:01.676Z"
   },
   {
    "duration": 196,
    "start_time": "2024-03-25T07:15:01.953Z"
   },
   {
    "duration": 214,
    "start_time": "2024-03-25T07:15:02.151Z"
   },
   {
    "duration": 491,
    "start_time": "2024-03-25T07:15:02.368Z"
   },
   {
    "duration": 318,
    "start_time": "2024-03-25T07:15:02.862Z"
   },
   {
    "duration": 289,
    "start_time": "2024-03-25T07:15:03.181Z"
   },
   {
    "duration": 294,
    "start_time": "2024-03-25T07:15:03.472Z"
   },
   {
    "duration": 93,
    "start_time": "2024-03-25T07:15:03.768Z"
   },
   {
    "duration": 20,
    "start_time": "2024-03-25T07:15:03.862Z"
   },
   {
    "duration": 24,
    "start_time": "2024-03-25T07:15:03.884Z"
   },
   {
    "duration": 18,
    "start_time": "2024-03-25T07:15:03.910Z"
   },
   {
    "duration": 16,
    "start_time": "2024-03-25T07:15:03.930Z"
   },
   {
    "duration": 20,
    "start_time": "2024-03-25T07:15:03.949Z"
   },
   {
    "duration": 106,
    "start_time": "2024-03-25T07:15:03.971Z"
   },
   {
    "duration": 15,
    "start_time": "2024-03-25T07:15:04.078Z"
   },
   {
    "duration": 188,
    "start_time": "2024-03-25T07:15:04.095Z"
   },
   {
    "duration": 140,
    "start_time": "2024-03-25T07:15:04.285Z"
   },
   {
    "duration": 147,
    "start_time": "2024-03-25T07:15:04.427Z"
   },
   {
    "duration": 878,
    "start_time": "2024-03-25T07:15:04.575Z"
   },
   {
    "duration": 239,
    "start_time": "2024-03-25T07:15:05.455Z"
   },
   {
    "duration": 24,
    "start_time": "2024-03-25T07:15:05.696Z"
   },
   {
    "duration": 33,
    "start_time": "2024-03-25T07:15:05.721Z"
   },
   {
    "duration": 45,
    "start_time": "2024-03-25T07:15:05.755Z"
   },
   {
    "duration": 515,
    "start_time": "2024-03-25T07:15:05.802Z"
   },
   {
    "duration": 549,
    "start_time": "2024-03-25T07:15:06.319Z"
   },
   {
    "duration": 31,
    "start_time": "2024-03-25T07:15:06.870Z"
   },
   {
    "duration": 68,
    "start_time": "2024-03-25T07:15:06.903Z"
   },
   {
    "duration": 54,
    "start_time": "2024-03-25T07:15:06.972Z"
   },
   {
    "duration": 1451,
    "start_time": "2024-03-25T07:16:35.225Z"
   },
   {
    "duration": 14,
    "start_time": "2024-03-25T08:04:33.455Z"
   },
   {
    "duration": 21,
    "start_time": "2024-03-25T08:04:54.998Z"
   },
   {
    "duration": 433,
    "start_time": "2024-03-25T12:16:44.790Z"
   },
   {
    "duration": 439,
    "start_time": "2024-03-25T12:16:45.225Z"
   },
   {
    "duration": 3,
    "start_time": "2024-03-25T12:16:45.665Z"
   },
   {
    "duration": 132,
    "start_time": "2024-03-25T12:16:45.681Z"
   },
   {
    "duration": 148,
    "start_time": "2024-03-25T12:16:45.816Z"
   },
   {
    "duration": 79,
    "start_time": "2024-03-25T12:16:45.966Z"
   },
   {
    "duration": 20,
    "start_time": "2024-03-25T12:16:46.047Z"
   },
   {
    "duration": 63,
    "start_time": "2024-03-25T12:16:46.068Z"
   },
   {
    "duration": 6,
    "start_time": "2024-03-25T12:16:46.132Z"
   },
   {
    "duration": 6,
    "start_time": "2024-03-25T12:16:46.139Z"
   },
   {
    "duration": 10,
    "start_time": "2024-03-25T12:16:46.147Z"
   },
   {
    "duration": 11,
    "start_time": "2024-03-25T12:16:46.159Z"
   },
   {
    "duration": 15,
    "start_time": "2024-03-25T12:16:46.171Z"
   },
   {
    "duration": 8,
    "start_time": "2024-03-25T12:16:46.188Z"
   },
   {
    "duration": 12,
    "start_time": "2024-03-25T12:16:46.198Z"
   },
   {
    "duration": 215,
    "start_time": "2024-03-25T12:16:46.211Z"
   },
   {
    "duration": 139,
    "start_time": "2024-03-25T12:16:46.427Z"
   },
   {
    "duration": 152,
    "start_time": "2024-03-25T12:16:46.568Z"
   },
   {
    "duration": 900,
    "start_time": "2024-03-25T12:16:46.722Z"
   },
   {
    "duration": 231,
    "start_time": "2024-03-25T12:16:47.624Z"
   },
   {
    "duration": 37,
    "start_time": "2024-03-25T12:16:47.857Z"
   },
   {
    "duration": 18,
    "start_time": "2024-03-25T12:16:47.896Z"
   },
   {
    "duration": 16,
    "start_time": "2024-03-25T12:16:47.916Z"
   },
   {
    "duration": 547,
    "start_time": "2024-03-25T12:16:47.934Z"
   },
   {
    "duration": 656,
    "start_time": "2024-03-25T12:16:48.482Z"
   },
   {
    "duration": 42,
    "start_time": "2024-03-25T12:16:49.140Z"
   },
   {
    "duration": 429,
    "start_time": "2024-03-25T12:16:49.184Z"
   },
   {
    "duration": 0,
    "start_time": "2024-03-25T12:16:49.615Z"
   },
   {
    "duration": 16,
    "start_time": "2024-03-25T12:19:45.302Z"
   },
   {
    "duration": 18,
    "start_time": "2024-03-25T12:22:35.689Z"
   },
   {
    "duration": 15,
    "start_time": "2024-03-25T12:46:50.880Z"
   },
   {
    "duration": 2,
    "start_time": "2024-03-25T12:48:30.101Z"
   },
   {
    "duration": 54,
    "start_time": "2024-03-25T12:48:30.106Z"
   },
   {
    "duration": 99,
    "start_time": "2024-03-25T12:48:30.162Z"
   },
   {
    "duration": 460,
    "start_time": "2024-03-25T12:48:30.263Z"
   },
   {
    "duration": 41,
    "start_time": "2024-03-25T12:48:30.726Z"
   },
   {
    "duration": 49,
    "start_time": "2024-03-25T12:48:30.769Z"
   },
   {
    "duration": 27,
    "start_time": "2024-03-25T12:48:30.819Z"
   },
   {
    "duration": 35,
    "start_time": "2024-03-25T12:48:30.847Z"
   },
   {
    "duration": 63,
    "start_time": "2024-03-25T12:48:30.884Z"
   },
   {
    "duration": 70,
    "start_time": "2024-03-25T12:48:30.948Z"
   },
   {
    "duration": 88,
    "start_time": "2024-03-25T12:48:31.020Z"
   },
   {
    "duration": 61,
    "start_time": "2024-03-25T12:48:31.109Z"
   },
   {
    "duration": 58,
    "start_time": "2024-03-25T12:48:31.172Z"
   },
   {
    "duration": 90,
    "start_time": "2024-03-25T12:48:31.232Z"
   },
   {
    "duration": 31,
    "start_time": "2024-03-25T12:48:31.323Z"
   },
   {
    "duration": 50,
    "start_time": "2024-03-25T12:48:31.355Z"
   },
   {
    "duration": 201,
    "start_time": "2024-03-25T12:48:31.406Z"
   },
   {
    "duration": 150,
    "start_time": "2024-03-25T12:48:31.608Z"
   },
   {
    "duration": 156,
    "start_time": "2024-03-25T12:48:31.760Z"
   },
   {
    "duration": 885,
    "start_time": "2024-03-25T12:48:31.917Z"
   },
   {
    "duration": 230,
    "start_time": "2024-03-25T12:48:32.803Z"
   },
   {
    "duration": 24,
    "start_time": "2024-03-25T12:48:33.034Z"
   },
   {
    "duration": 40,
    "start_time": "2024-03-25T12:48:33.059Z"
   },
   {
    "duration": 18,
    "start_time": "2024-03-25T12:48:33.101Z"
   },
   {
    "duration": 498,
    "start_time": "2024-03-25T12:48:33.120Z"
   },
   {
    "duration": 583,
    "start_time": "2024-03-25T12:48:33.619Z"
   },
   {
    "duration": 41,
    "start_time": "2024-03-25T12:48:34.204Z"
   },
   {
    "duration": 16,
    "start_time": "2024-03-25T12:48:34.246Z"
   },
   {
    "duration": 46,
    "start_time": "2024-03-25T12:48:34.264Z"
   },
   {
    "duration": 28,
    "start_time": "2024-03-25T12:48:34.312Z"
   },
   {
    "duration": 35,
    "start_time": "2024-03-25T13:06:14.410Z"
   },
   {
    "duration": 10,
    "start_time": "2024-03-25T13:06:29.391Z"
   },
   {
    "duration": 23,
    "start_time": "2024-03-25T13:06:41.373Z"
   },
   {
    "duration": 10,
    "start_time": "2024-03-25T13:19:35.690Z"
   },
   {
    "duration": 5,
    "start_time": "2024-03-25T13:22:40.038Z"
   },
   {
    "duration": 5,
    "start_time": "2024-03-25T13:43:20.253Z"
   },
   {
    "duration": 14,
    "start_time": "2024-03-25T14:02:59.896Z"
   },
   {
    "duration": 9,
    "start_time": "2024-03-25T14:03:52.234Z"
   },
   {
    "duration": 12,
    "start_time": "2024-03-25T14:04:01.600Z"
   },
   {
    "duration": 42,
    "start_time": "2024-03-26T00:20:29.240Z"
   },
   {
    "duration": 393,
    "start_time": "2024-03-26T00:20:32.285Z"
   },
   {
    "duration": 350,
    "start_time": "2024-03-26T00:20:32.679Z"
   },
   {
    "duration": 3,
    "start_time": "2024-03-26T00:20:33.030Z"
   },
   {
    "duration": 437,
    "start_time": "2024-03-26T00:20:33.034Z"
   },
   {
    "duration": 92,
    "start_time": "2024-03-26T00:20:33.473Z"
   },
   {
    "duration": 89,
    "start_time": "2024-03-26T00:20:33.566Z"
   },
   {
    "duration": 72,
    "start_time": "2024-03-26T00:20:33.657Z"
   },
   {
    "duration": 17,
    "start_time": "2024-03-26T00:20:33.731Z"
   },
   {
    "duration": 9,
    "start_time": "2024-03-26T00:20:33.749Z"
   },
   {
    "duration": 9,
    "start_time": "2024-03-26T00:20:33.759Z"
   },
   {
    "duration": 34,
    "start_time": "2024-03-26T00:20:33.769Z"
   },
   {
    "duration": 20,
    "start_time": "2024-03-26T00:20:33.804Z"
   },
   {
    "duration": 6,
    "start_time": "2024-03-26T00:20:33.826Z"
   },
   {
    "duration": 18,
    "start_time": "2024-03-26T00:20:33.836Z"
   },
   {
    "duration": 6,
    "start_time": "2024-03-26T00:20:33.856Z"
   },
   {
    "duration": 8,
    "start_time": "2024-03-26T00:20:33.863Z"
   },
   {
    "duration": 149,
    "start_time": "2024-03-26T00:20:33.873Z"
   },
   {
    "duration": 119,
    "start_time": "2024-03-26T00:20:34.024Z"
   },
   {
    "duration": 123,
    "start_time": "2024-03-26T00:20:34.144Z"
   },
   {
    "duration": 587,
    "start_time": "2024-03-26T00:20:34.268Z"
   },
   {
    "duration": 239,
    "start_time": "2024-03-26T00:20:34.856Z"
   },
   {
    "duration": 27,
    "start_time": "2024-03-26T00:20:35.096Z"
   },
   {
    "duration": 19,
    "start_time": "2024-03-26T00:20:35.124Z"
   },
   {
    "duration": 13,
    "start_time": "2024-03-26T00:20:35.144Z"
   },
   {
    "duration": 363,
    "start_time": "2024-03-26T00:20:35.158Z"
   },
   {
    "duration": 344,
    "start_time": "2024-03-26T00:20:35.522Z"
   },
   {
    "duration": 24,
    "start_time": "2024-03-26T00:20:35.868Z"
   },
   {
    "duration": 18,
    "start_time": "2024-03-26T00:20:35.893Z"
   },
   {
    "duration": 30,
    "start_time": "2024-03-26T00:20:35.912Z"
   },
   {
    "duration": 4,
    "start_time": "2024-03-26T00:20:35.944Z"
   },
   {
    "duration": 10,
    "start_time": "2024-03-26T00:20:35.950Z"
   },
   {
    "duration": 39,
    "start_time": "2024-03-26T00:20:35.962Z"
   },
   {
    "duration": 192,
    "start_time": "2024-03-26T01:11:29.610Z"
   },
   {
    "duration": 157,
    "start_time": "2024-03-26T01:12:03.270Z"
   },
   {
    "duration": 151,
    "start_time": "2024-03-26T01:22:44.618Z"
   },
   {
    "duration": 154,
    "start_time": "2024-03-26T01:23:39.641Z"
   },
   {
    "duration": 203,
    "start_time": "2024-03-26T01:23:46.779Z"
   },
   {
    "duration": 159,
    "start_time": "2024-03-26T01:23:55.179Z"
   },
   {
    "duration": 279,
    "start_time": "2024-03-26T01:32:41.051Z"
   },
   {
    "duration": 16,
    "start_time": "2024-03-26T01:34:18.349Z"
   },
   {
    "duration": 905,
    "start_time": "2024-03-26T01:39:57.992Z"
   },
   {
    "duration": 12,
    "start_time": "2024-03-26T01:40:17.488Z"
   },
   {
    "duration": 107,
    "start_time": "2024-03-26T01:40:40.583Z"
   },
   {
    "duration": 159,
    "start_time": "2024-03-26T01:41:43.152Z"
   },
   {
    "duration": 96,
    "start_time": "2024-03-26T01:42:23.488Z"
   },
   {
    "duration": 59,
    "start_time": "2024-03-26T01:44:33.918Z"
   },
   {
    "duration": 114,
    "start_time": "2024-03-26T01:45:17.011Z"
   },
   {
    "duration": 131,
    "start_time": "2024-03-26T01:46:05.513Z"
   },
   {
    "duration": 129,
    "start_time": "2024-03-26T01:46:38.955Z"
   },
   {
    "duration": 129,
    "start_time": "2024-03-26T01:46:50.185Z"
   },
   {
    "duration": 124,
    "start_time": "2024-03-26T01:48:08.897Z"
   },
   {
    "duration": 111,
    "start_time": "2024-03-26T01:48:38.129Z"
   },
   {
    "duration": 639,
    "start_time": "2024-03-26T01:49:33.081Z"
   },
   {
    "duration": 126,
    "start_time": "2024-03-26T01:50:55.114Z"
   },
   {
    "duration": 235,
    "start_time": "2024-03-26T01:51:44.129Z"
   },
   {
    "duration": 131,
    "start_time": "2024-03-26T01:53:12.714Z"
   },
   {
    "duration": 148,
    "start_time": "2024-03-26T01:54:07.070Z"
   },
   {
    "duration": 11,
    "start_time": "2024-03-26T01:54:32.385Z"
   },
   {
    "duration": 183,
    "start_time": "2024-03-26T01:55:29.066Z"
   },
   {
    "duration": 248,
    "start_time": "2024-03-26T01:56:49.826Z"
   },
   {
    "duration": 237,
    "start_time": "2024-03-26T01:57:11.802Z"
   },
   {
    "duration": 267,
    "start_time": "2024-03-26T02:00:58.102Z"
   },
   {
    "duration": 225,
    "start_time": "2024-03-26T02:01:07.603Z"
   },
   {
    "duration": 231,
    "start_time": "2024-03-26T02:01:35.298Z"
   },
   {
    "duration": 632,
    "start_time": "2024-03-26T02:09:01.579Z"
   },
   {
    "duration": 587,
    "start_time": "2024-03-26T02:09:12.547Z"
   },
   {
    "duration": 670,
    "start_time": "2024-03-26T02:14:13.477Z"
   },
   {
    "duration": 595,
    "start_time": "2024-03-26T02:14:20.308Z"
   },
   {
    "duration": 655,
    "start_time": "2024-03-26T02:14:38.068Z"
   },
   {
    "duration": 651,
    "start_time": "2024-03-26T02:15:16.845Z"
   },
   {
    "duration": 592,
    "start_time": "2024-03-26T02:15:40.556Z"
   },
   {
    "duration": 667,
    "start_time": "2024-03-26T02:15:52.149Z"
   },
   {
    "duration": 576,
    "start_time": "2024-03-26T02:16:08.284Z"
   },
   {
    "duration": 8,
    "start_time": "2024-03-26T02:25:35.264Z"
   },
   {
    "duration": 652,
    "start_time": "2024-03-26T02:25:55.151Z"
   },
   {
    "duration": 193,
    "start_time": "2024-03-26T02:27:28.839Z"
   },
   {
    "duration": 181,
    "start_time": "2024-03-26T02:27:40.447Z"
   },
   {
    "duration": 558,
    "start_time": "2024-03-26T02:34:07.435Z"
   },
   {
    "duration": 273,
    "start_time": "2024-03-26T02:34:49.026Z"
   },
   {
    "duration": 168,
    "start_time": "2024-03-26T02:36:28.570Z"
   },
   {
    "duration": 189,
    "start_time": "2024-03-26T02:37:15.075Z"
   },
   {
    "duration": 225,
    "start_time": "2024-03-26T02:37:20.700Z"
   },
   {
    "duration": 255,
    "start_time": "2024-03-26T02:37:30.083Z"
   },
   {
    "duration": 24,
    "start_time": "2024-03-26T02:46:34.156Z"
   },
   {
    "duration": 377,
    "start_time": "2024-03-26T03:01:55.057Z"
   },
   {
    "duration": 451,
    "start_time": "2024-03-26T03:03:32.713Z"
   },
   {
    "duration": 375,
    "start_time": "2024-03-26T03:03:51.681Z"
   },
   {
    "duration": 379,
    "start_time": "2024-03-26T03:07:19.234Z"
   },
   {
    "duration": 382,
    "start_time": "2024-03-26T03:08:39.675Z"
   },
   {
    "duration": 486,
    "start_time": "2024-03-26T03:16:06.213Z"
   },
   {
    "duration": 392,
    "start_time": "2024-03-26T03:17:44.629Z"
   },
   {
    "duration": 1466,
    "start_time": "2024-03-26T03:18:23.445Z"
   },
   {
    "duration": 500,
    "start_time": "2024-03-26T03:18:40.065Z"
   },
   {
    "duration": 390,
    "start_time": "2024-03-26T03:34:23.945Z"
   },
   {
    "duration": 420,
    "start_time": "2024-03-26T03:35:19.153Z"
   },
   {
    "duration": 394,
    "start_time": "2024-03-26T03:35:22.712Z"
   },
   {
    "duration": 8,
    "start_time": "2024-03-26T05:12:54.109Z"
   },
   {
    "duration": 8,
    "start_time": "2024-03-26T05:13:52.462Z"
   },
   {
    "duration": 9,
    "start_time": "2024-03-26T05:28:01.240Z"
   },
   {
    "duration": 2,
    "start_time": "2024-03-26T05:28:06.744Z"
   },
   {
    "duration": 1110,
    "start_time": "2024-03-26T05:28:07.961Z"
   },
   {
    "duration": 8,
    "start_time": "2024-03-26T05:28:22.833Z"
   },
   {
    "duration": 2,
    "start_time": "2024-03-26T05:29:03.089Z"
   },
   {
    "duration": 373,
    "start_time": "2024-03-26T05:29:04.969Z"
   },
   {
    "duration": 10,
    "start_time": "2024-03-26T05:32:08.986Z"
   },
   {
    "duration": 2,
    "start_time": "2024-03-26T05:32:26.498Z"
   },
   {
    "duration": 2,
    "start_time": "2024-03-26T05:32:43.474Z"
   },
   {
    "duration": 1158,
    "start_time": "2024-03-26T05:32:45.033Z"
   },
   {
    "duration": 158,
    "start_time": "2024-03-26T05:32:56.271Z"
   },
   {
    "duration": 269,
    "start_time": "2024-03-26T05:33:06.146Z"
   },
   {
    "duration": 903,
    "start_time": "2024-03-26T06:49:15.679Z"
   },
   {
    "duration": 8,
    "start_time": "2024-03-26T06:59:52.208Z"
   },
   {
    "duration": 8,
    "start_time": "2024-03-26T07:00:03.376Z"
   },
   {
    "duration": 9,
    "start_time": "2024-03-26T07:22:20.375Z"
   },
   {
    "duration": 7,
    "start_time": "2024-03-26T07:24:11.832Z"
   },
   {
    "duration": 15,
    "start_time": "2024-03-26T07:24:35.039Z"
   },
   {
    "duration": 7,
    "start_time": "2024-03-26T07:24:53.576Z"
   },
   {
    "duration": 7,
    "start_time": "2024-03-26T07:25:45.487Z"
   },
   {
    "duration": 7,
    "start_time": "2024-03-26T07:26:07.223Z"
   },
   {
    "duration": 6,
    "start_time": "2024-03-26T07:26:41.433Z"
   },
   {
    "duration": 7,
    "start_time": "2024-03-26T07:27:05.048Z"
   },
   {
    "duration": 5,
    "start_time": "2024-03-26T07:29:09.921Z"
   },
   {
    "duration": 6,
    "start_time": "2024-03-26T07:29:19.960Z"
   },
   {
    "duration": 7924,
    "start_time": "2024-03-26T07:53:05.433Z"
   },
   {
    "duration": 50,
    "start_time": "2024-03-26T08:04:58.427Z"
   },
   {
    "duration": 9,
    "start_time": "2024-03-26T08:05:22.842Z"
   },
   {
    "duration": 7,
    "start_time": "2024-03-26T08:08:04.316Z"
   },
   {
    "duration": 1306,
    "start_time": "2024-03-26T08:08:29.637Z"
   },
   {
    "duration": 1312,
    "start_time": "2024-03-26T08:08:49.109Z"
   },
   {
    "duration": 799,
    "start_time": "2024-03-26T08:11:48.895Z"
   },
   {
    "duration": 1796,
    "start_time": "2024-03-26T08:11:56.527Z"
   },
   {
    "duration": 2091,
    "start_time": "2024-03-26T08:12:10.711Z"
   },
   {
    "duration": 1930,
    "start_time": "2024-03-26T08:12:25.007Z"
   },
   {
    "duration": 1826,
    "start_time": "2024-03-26T08:12:58.247Z"
   },
   {
    "duration": 1880,
    "start_time": "2024-03-26T08:13:13.736Z"
   },
   {
    "duration": 1767,
    "start_time": "2024-03-26T08:13:31.760Z"
   },
   {
    "duration": 1298,
    "start_time": "2024-03-26T08:17:10.307Z"
   },
   {
    "duration": 1480,
    "start_time": "2024-03-26T08:38:35.088Z"
   },
   {
    "duration": 1692,
    "start_time": "2024-03-26T08:39:00.432Z"
   },
   {
    "duration": 12,
    "start_time": "2024-03-26T08:41:13.186Z"
   },
   {
    "duration": 2,
    "start_time": "2024-03-26T08:41:36.465Z"
   },
   {
    "duration": 119,
    "start_time": "2024-03-26T08:41:38.226Z"
   },
   {
    "duration": 2,
    "start_time": "2024-03-26T08:41:59.233Z"
   },
   {
    "duration": 2,
    "start_time": "2024-03-26T08:42:54.965Z"
   },
   {
    "duration": 26617,
    "start_time": "2024-03-26T08:42:54.969Z"
   },
   {
    "duration": 227,
    "start_time": "2024-03-26T08:46:52.909Z"
   },
   {
    "duration": 59,
    "start_time": "2024-03-26T13:40:34.637Z"
   },
   {
    "duration": 83,
    "start_time": "2024-03-26T13:40:46.897Z"
   },
   {
    "duration": 1258,
    "start_time": "2024-03-26T13:42:54.712Z"
   },
   {
    "duration": 1313,
    "start_time": "2024-03-26T13:43:05.044Z"
   },
   {
    "duration": 858,
    "start_time": "2024-03-26T13:44:03.953Z"
   },
   {
    "duration": 1040,
    "start_time": "2024-03-26T13:44:16.225Z"
   },
   {
    "duration": 837,
    "start_time": "2024-03-26T13:44:36.876Z"
   },
   {
    "duration": 1141,
    "start_time": "2024-03-26T13:45:11.709Z"
   },
   {
    "duration": 864,
    "start_time": "2024-03-26T14:10:33.712Z"
   },
   {
    "duration": 1592,
    "start_time": "2024-03-26T14:10:55.227Z"
   },
   {
    "duration": 1406,
    "start_time": "2024-03-26T14:11:09.587Z"
   },
   {
    "duration": 1267,
    "start_time": "2024-03-26T14:11:21.984Z"
   },
   {
    "duration": 1522,
    "start_time": "2024-03-26T14:11:38.047Z"
   },
   {
    "duration": 1296,
    "start_time": "2024-03-26T14:12:24.815Z"
   },
   {
    "duration": 1410,
    "start_time": "2024-03-26T14:12:48.851Z"
   },
   {
    "duration": 1066,
    "start_time": "2024-03-26T14:13:03.443Z"
   },
   {
    "duration": 1435,
    "start_time": "2024-03-26T14:13:18.623Z"
   },
   {
    "duration": 1308,
    "start_time": "2024-03-26T14:13:40.723Z"
   },
   {
    "duration": 1476,
    "start_time": "2024-03-26T14:38:44.129Z"
   },
   {
    "duration": 1241,
    "start_time": "2024-03-26T14:39:04.537Z"
   },
   {
    "duration": 3,
    "start_time": "2024-03-26T14:52:25.838Z"
   },
   {
    "duration": 8,
    "start_time": "2024-03-26T14:52:25.842Z"
   },
   {
    "duration": 5,
    "start_time": "2024-03-26T14:52:25.851Z"
   },
   {
    "duration": 8,
    "start_time": "2024-03-26T14:52:25.857Z"
   },
   {
    "duration": 42,
    "start_time": "2024-03-26T14:52:25.866Z"
   },
   {
    "duration": 42,
    "start_time": "2024-03-26T14:52:25.909Z"
   },
   {
    "duration": 23,
    "start_time": "2024-03-26T14:52:25.953Z"
   },
   {
    "duration": 15,
    "start_time": "2024-03-26T14:52:25.977Z"
   },
   {
    "duration": 9,
    "start_time": "2024-03-26T14:52:25.993Z"
   },
   {
    "duration": 12,
    "start_time": "2024-03-26T14:52:26.003Z"
   },
   {
    "duration": 7,
    "start_time": "2024-03-26T14:52:26.016Z"
   },
   {
    "duration": 6,
    "start_time": "2024-03-26T14:52:26.024Z"
   },
   {
    "duration": 4,
    "start_time": "2024-03-26T14:52:26.031Z"
   },
   {
    "duration": 18,
    "start_time": "2024-03-26T14:52:26.036Z"
   },
   {
    "duration": 5,
    "start_time": "2024-03-26T14:52:26.056Z"
   },
   {
    "duration": 7,
    "start_time": "2024-03-26T14:52:26.062Z"
   },
   {
    "duration": 165,
    "start_time": "2024-03-26T14:52:26.070Z"
   },
   {
    "duration": 124,
    "start_time": "2024-03-26T14:52:26.236Z"
   },
   {
    "duration": 235,
    "start_time": "2024-03-26T14:52:26.361Z"
   },
   {
    "duration": 793,
    "start_time": "2024-03-26T14:52:26.601Z"
   },
   {
    "duration": 252,
    "start_time": "2024-03-26T14:52:27.395Z"
   },
   {
    "duration": 18,
    "start_time": "2024-03-26T14:52:27.648Z"
   },
   {
    "duration": 14,
    "start_time": "2024-03-26T14:52:27.668Z"
   },
   {
    "duration": 21,
    "start_time": "2024-03-26T14:52:27.683Z"
   },
   {
    "duration": 404,
    "start_time": "2024-03-26T14:52:27.705Z"
   },
   {
    "duration": 399,
    "start_time": "2024-03-26T14:52:28.110Z"
   },
   {
    "duration": 22,
    "start_time": "2024-03-26T14:52:28.510Z"
   },
   {
    "duration": 12,
    "start_time": "2024-03-26T14:52:28.533Z"
   },
   {
    "duration": 75,
    "start_time": "2024-03-26T14:52:28.546Z"
   },
   {
    "duration": 101,
    "start_time": "2024-03-26T14:52:28.622Z"
   },
   {
    "duration": 44,
    "start_time": "2024-03-26T14:52:28.724Z"
   },
   {
    "duration": 26,
    "start_time": "2024-03-26T14:52:28.769Z"
   },
   {
    "duration": 8,
    "start_time": "2024-03-26T14:52:28.796Z"
   },
   {
    "duration": 1191,
    "start_time": "2024-03-26T14:52:28.805Z"
   },
   {
    "duration": 1362,
    "start_time": "2024-03-26T14:52:29.997Z"
   },
   {
    "duration": 3,
    "start_time": "2024-03-26T14:52:31.360Z"
   },
   {
    "duration": 26673,
    "start_time": "2024-03-26T14:52:31.364Z"
   },
   {
    "duration": 25944,
    "start_time": "2024-03-26T14:53:02.963Z"
   },
   {
    "duration": 26057,
    "start_time": "2024-03-26T14:54:22.883Z"
   },
   {
    "duration": 11,
    "start_time": "2024-03-26T14:57:35.596Z"
   },
   {
    "duration": 397,
    "start_time": "2024-03-26T16:07:31.919Z"
   },
   {
    "duration": 211,
    "start_time": "2024-03-26T16:07:32.318Z"
   },
   {
    "duration": 3,
    "start_time": "2024-03-26T16:07:32.530Z"
   },
   {
    "duration": 444,
    "start_time": "2024-03-26T16:07:32.534Z"
   },
   {
    "duration": 44,
    "start_time": "2024-03-26T16:07:32.980Z"
   },
   {
    "duration": 40,
    "start_time": "2024-03-26T16:07:33.025Z"
   },
   {
    "duration": 24,
    "start_time": "2024-03-26T16:07:33.066Z"
   },
   {
    "duration": 94,
    "start_time": "2024-03-26T16:07:33.092Z"
   },
   {
    "duration": 101,
    "start_time": "2024-03-26T16:07:33.188Z"
   },
   {
    "duration": 104,
    "start_time": "2024-03-26T16:07:33.290Z"
   },
   {
    "duration": 21,
    "start_time": "2024-03-26T16:07:33.396Z"
   },
   {
    "duration": 7,
    "start_time": "2024-03-26T16:07:33.419Z"
   },
   {
    "duration": 6,
    "start_time": "2024-03-26T16:07:33.428Z"
   },
   {
    "duration": 10,
    "start_time": "2024-03-26T16:07:33.437Z"
   },
   {
    "duration": 12,
    "start_time": "2024-03-26T16:07:33.449Z"
   },
   {
    "duration": 24,
    "start_time": "2024-03-26T16:07:33.462Z"
   },
   {
    "duration": 207,
    "start_time": "2024-03-26T16:07:33.488Z"
   },
   {
    "duration": 141,
    "start_time": "2024-03-26T16:07:33.697Z"
   },
   {
    "duration": 262,
    "start_time": "2024-03-26T16:07:33.840Z"
   },
   {
    "duration": 727,
    "start_time": "2024-03-26T16:07:34.103Z"
   },
   {
    "duration": 278,
    "start_time": "2024-03-26T16:07:34.831Z"
   },
   {
    "duration": 21,
    "start_time": "2024-03-26T16:07:35.110Z"
   },
   {
    "duration": 25,
    "start_time": "2024-03-26T16:07:35.132Z"
   },
   {
    "duration": 12,
    "start_time": "2024-03-26T16:07:35.159Z"
   },
   {
    "duration": 462,
    "start_time": "2024-03-26T16:07:35.173Z"
   },
   {
    "duration": 468,
    "start_time": "2024-03-26T16:07:35.636Z"
   },
   {
    "duration": 25,
    "start_time": "2024-03-26T16:07:36.105Z"
   },
   {
    "duration": 28,
    "start_time": "2024-03-26T16:07:36.131Z"
   },
   {
    "duration": 31,
    "start_time": "2024-03-26T16:07:36.161Z"
   },
   {
    "duration": 59,
    "start_time": "2024-03-26T16:07:36.194Z"
   },
   {
    "duration": 33,
    "start_time": "2024-03-26T16:07:36.255Z"
   },
   {
    "duration": 36,
    "start_time": "2024-03-26T16:07:36.290Z"
   },
   {
    "duration": 16,
    "start_time": "2024-03-26T16:09:23.220Z"
   },
   {
    "duration": 399,
    "start_time": "2024-03-27T00:22:05.582Z"
   },
   {
    "duration": 359,
    "start_time": "2024-03-27T00:22:05.982Z"
   },
   {
    "duration": 3,
    "start_time": "2024-03-27T00:22:06.343Z"
   },
   {
    "duration": 494,
    "start_time": "2024-03-27T00:22:06.347Z"
   },
   {
    "duration": 84,
    "start_time": "2024-03-27T00:22:06.843Z"
   },
   {
    "duration": 8,
    "start_time": "2024-03-27T00:22:06.929Z"
   },
   {
    "duration": 95,
    "start_time": "2024-03-27T00:22:06.939Z"
   },
   {
    "duration": 71,
    "start_time": "2024-03-27T00:22:07.035Z"
   },
   {
    "duration": 15,
    "start_time": "2024-03-27T00:22:07.107Z"
   },
   {
    "duration": 8,
    "start_time": "2024-03-27T00:22:07.124Z"
   },
   {
    "duration": 9,
    "start_time": "2024-03-27T00:22:07.133Z"
   },
   {
    "duration": 15,
    "start_time": "2024-03-27T00:22:07.143Z"
   },
   {
    "duration": 17,
    "start_time": "2024-03-27T00:22:07.159Z"
   },
   {
    "duration": 6,
    "start_time": "2024-03-27T00:22:07.180Z"
   },
   {
    "duration": 20,
    "start_time": "2024-03-27T00:22:07.188Z"
   },
   {
    "duration": 12,
    "start_time": "2024-03-27T00:22:07.210Z"
   },
   {
    "duration": 7,
    "start_time": "2024-03-27T00:22:07.224Z"
   },
   {
    "duration": 182,
    "start_time": "2024-03-27T00:22:07.233Z"
   },
   {
    "duration": 133,
    "start_time": "2024-03-27T00:22:07.417Z"
   },
   {
    "duration": 251,
    "start_time": "2024-03-27T00:22:07.551Z"
   },
   {
    "duration": 627,
    "start_time": "2024-03-27T00:22:07.804Z"
   },
   {
    "duration": 251,
    "start_time": "2024-03-27T00:22:08.432Z"
   },
   {
    "duration": 26,
    "start_time": "2024-03-27T00:22:08.684Z"
   },
   {
    "duration": 15,
    "start_time": "2024-03-27T00:22:08.711Z"
   },
   {
    "duration": 11,
    "start_time": "2024-03-27T00:22:08.727Z"
   },
   {
    "duration": 403,
    "start_time": "2024-03-27T00:22:08.740Z"
   },
   {
    "duration": 422,
    "start_time": "2024-03-27T00:22:09.145Z"
   },
   {
    "duration": 21,
    "start_time": "2024-03-27T00:22:09.568Z"
   },
   {
    "duration": 21,
    "start_time": "2024-03-27T00:22:09.590Z"
   },
   {
    "duration": 15,
    "start_time": "2024-03-27T00:22:09.613Z"
   },
   {
    "duration": 4,
    "start_time": "2024-03-27T00:22:09.630Z"
   },
   {
    "duration": 31,
    "start_time": "2024-03-27T00:22:09.636Z"
   },
   {
    "duration": 18,
    "start_time": "2024-03-27T00:22:09.669Z"
   },
   {
    "duration": 122,
    "start_time": "2024-03-27T01:45:55.664Z"
   },
   {
    "duration": 86,
    "start_time": "2024-03-27T01:48:10.916Z"
   },
   {
    "duration": 3,
    "start_time": "2024-03-27T01:52:50.605Z"
   },
   {
    "duration": 3,
    "start_time": "2024-03-27T01:52:55.264Z"
   },
   {
    "duration": 8,
    "start_time": "2024-03-27T01:52:55.268Z"
   },
   {
    "duration": 5,
    "start_time": "2024-03-27T01:52:55.277Z"
   },
   {
    "duration": 3,
    "start_time": "2024-03-27T01:52:55.283Z"
   },
   {
    "duration": 8,
    "start_time": "2024-03-27T01:52:55.287Z"
   },
   {
    "duration": 32,
    "start_time": "2024-03-27T01:52:55.296Z"
   },
   {
    "duration": 7,
    "start_time": "2024-03-27T01:52:55.345Z"
   },
   {
    "duration": 34,
    "start_time": "2024-03-27T01:52:55.354Z"
   },
   {
    "duration": 23,
    "start_time": "2024-03-27T01:52:55.389Z"
   },
   {
    "duration": 15,
    "start_time": "2024-03-27T01:52:55.413Z"
   },
   {
    "duration": 10,
    "start_time": "2024-03-27T01:52:55.430Z"
   },
   {
    "duration": 4,
    "start_time": "2024-03-27T01:52:55.441Z"
   },
   {
    "duration": 5,
    "start_time": "2024-03-27T01:52:55.446Z"
   },
   {
    "duration": 7,
    "start_time": "2024-03-27T01:52:55.452Z"
   },
   {
    "duration": 5,
    "start_time": "2024-03-27T01:52:55.460Z"
   },
   {
    "duration": 43,
    "start_time": "2024-03-27T01:52:55.467Z"
   },
   {
    "duration": 20,
    "start_time": "2024-03-27T01:52:55.511Z"
   },
   {
    "duration": 5,
    "start_time": "2024-03-27T01:52:55.532Z"
   },
   {
    "duration": 152,
    "start_time": "2024-03-27T01:52:55.538Z"
   },
   {
    "duration": 119,
    "start_time": "2024-03-27T01:52:55.692Z"
   },
   {
    "duration": 302,
    "start_time": "2024-03-27T01:52:55.812Z"
   },
   {
    "duration": 545,
    "start_time": "2024-03-27T01:52:56.115Z"
   },
   {
    "duration": 256,
    "start_time": "2024-03-27T01:52:56.661Z"
   },
   {
    "duration": 23,
    "start_time": "2024-03-27T01:52:56.919Z"
   },
   {
    "duration": 14,
    "start_time": "2024-03-27T01:52:56.944Z"
   },
   {
    "duration": 11,
    "start_time": "2024-03-27T01:52:56.960Z"
   },
   {
    "duration": 468,
    "start_time": "2024-03-27T01:52:56.973Z"
   },
   {
    "duration": 400,
    "start_time": "2024-03-27T01:52:57.443Z"
   },
   {
    "duration": 21,
    "start_time": "2024-03-27T01:52:57.844Z"
   },
   {
    "duration": 12,
    "start_time": "2024-03-27T01:52:57.866Z"
   },
   {
    "duration": 25,
    "start_time": "2024-03-27T01:52:57.879Z"
   },
   {
    "duration": 4,
    "start_time": "2024-03-27T01:52:57.905Z"
   },
   {
    "duration": 6,
    "start_time": "2024-03-27T01:52:57.910Z"
   },
   {
    "duration": 21,
    "start_time": "2024-03-27T01:52:57.917Z"
   },
   {
    "duration": 2,
    "start_time": "2024-03-27T01:52:57.939Z"
   },
   {
    "duration": 4,
    "start_time": "2024-03-27T01:52:57.942Z"
   },
   {
    "duration": 3,
    "start_time": "2024-03-27T01:53:37.203Z"
   },
   {
    "duration": 4,
    "start_time": "2024-03-27T01:54:02.801Z"
   },
   {
    "duration": 4,
    "start_time": "2024-03-27T01:54:17.225Z"
   },
   {
    "duration": 62,
    "start_time": "2024-03-27T02:14:03.122Z"
   },
   {
    "duration": 50,
    "start_time": "2024-03-27T02:14:09.402Z"
   },
   {
    "duration": 10,
    "start_time": "2024-03-27T02:14:22.633Z"
   },
   {
    "duration": 7,
    "start_time": "2024-03-27T02:20:06.756Z"
   },
   {
    "duration": 17,
    "start_time": "2024-03-27T02:20:14.956Z"
   },
   {
    "duration": 4,
    "start_time": "2024-03-27T02:20:32.835Z"
   },
   {
    "duration": 15,
    "start_time": "2024-03-27T02:21:26.820Z"
   },
   {
    "duration": 9,
    "start_time": "2024-03-27T02:25:29.208Z"
   },
   {
    "duration": 6,
    "start_time": "2024-03-27T02:25:44.008Z"
   },
   {
    "duration": 9,
    "start_time": "2024-03-27T02:27:59.273Z"
   },
   {
    "duration": 113,
    "start_time": "2024-03-27T02:29:08.841Z"
   },
   {
    "duration": 141,
    "start_time": "2024-03-27T02:29:59.841Z"
   },
   {
    "duration": 85,
    "start_time": "2024-03-27T02:54:30.214Z"
   },
   {
    "duration": 94,
    "start_time": "2024-03-27T02:54:59.464Z"
   },
   {
    "duration": 104,
    "start_time": "2024-03-27T02:55:15.974Z"
   },
   {
    "duration": 9,
    "start_time": "2024-03-27T02:55:40.688Z"
   },
   {
    "duration": 9,
    "start_time": "2024-03-27T02:55:54.095Z"
   },
   {
    "duration": 8,
    "start_time": "2024-03-27T02:56:01.095Z"
   },
   {
    "duration": 9,
    "start_time": "2024-03-27T02:56:31.159Z"
   },
   {
    "duration": 8,
    "start_time": "2024-03-27T02:56:41.728Z"
   },
   {
    "duration": 84,
    "start_time": "2024-03-27T02:57:08.369Z"
   },
   {
    "duration": 88,
    "start_time": "2024-03-27T02:57:31.161Z"
   },
   {
    "duration": 11,
    "start_time": "2024-03-27T03:01:08.571Z"
   },
   {
    "duration": 9,
    "start_time": "2024-03-27T03:01:21.885Z"
   },
   {
    "duration": 10,
    "start_time": "2024-03-27T03:01:48.978Z"
   },
   {
    "duration": 9,
    "start_time": "2024-03-27T03:02:27.476Z"
   },
   {
    "duration": 9,
    "start_time": "2024-03-27T03:02:48.356Z"
   },
   {
    "duration": 12,
    "start_time": "2024-03-27T03:03:01.212Z"
   },
   {
    "duration": 3,
    "start_time": "2024-03-27T03:09:21.407Z"
   },
   {
    "duration": 5,
    "start_time": "2024-03-27T03:09:21.412Z"
   },
   {
    "duration": 14,
    "start_time": "2024-03-27T03:09:21.418Z"
   },
   {
    "duration": 4,
    "start_time": "2024-03-27T03:09:21.434Z"
   },
   {
    "duration": 4,
    "start_time": "2024-03-27T03:09:21.439Z"
   },
   {
    "duration": 35,
    "start_time": "2024-03-27T03:09:21.444Z"
   },
   {
    "duration": 70,
    "start_time": "2024-03-27T03:09:21.480Z"
   },
   {
    "duration": 30,
    "start_time": "2024-03-27T03:09:21.551Z"
   },
   {
    "duration": 8,
    "start_time": "2024-03-27T03:09:21.582Z"
   },
   {
    "duration": 17,
    "start_time": "2024-03-27T03:09:21.601Z"
   },
   {
    "duration": 8,
    "start_time": "2024-03-27T03:09:21.619Z"
   },
   {
    "duration": 17,
    "start_time": "2024-03-27T03:09:21.628Z"
   },
   {
    "duration": 7,
    "start_time": "2024-03-27T03:09:21.646Z"
   },
   {
    "duration": 5,
    "start_time": "2024-03-27T03:09:21.654Z"
   },
   {
    "duration": 7,
    "start_time": "2024-03-27T03:09:21.660Z"
   },
   {
    "duration": 8,
    "start_time": "2024-03-27T03:09:21.668Z"
   },
   {
    "duration": 28,
    "start_time": "2024-03-27T03:09:21.677Z"
   },
   {
    "duration": 6,
    "start_time": "2024-03-27T03:09:21.706Z"
   },
   {
    "duration": 4,
    "start_time": "2024-03-27T03:09:21.713Z"
   },
   {
    "duration": 7,
    "start_time": "2024-03-27T03:09:21.718Z"
   },
   {
    "duration": 196,
    "start_time": "2024-03-27T03:09:21.726Z"
   },
   {
    "duration": 126,
    "start_time": "2024-03-27T03:09:21.923Z"
   },
   {
    "duration": 377,
    "start_time": "2024-03-27T03:09:22.050Z"
   },
   {
    "duration": 598,
    "start_time": "2024-03-27T03:09:22.428Z"
   },
   {
    "duration": 325,
    "start_time": "2024-03-27T03:09:23.028Z"
   },
   {
    "duration": 27,
    "start_time": "2024-03-27T03:09:23.355Z"
   },
   {
    "duration": 26,
    "start_time": "2024-03-27T03:09:23.383Z"
   },
   {
    "duration": 17,
    "start_time": "2024-03-27T03:09:23.413Z"
   },
   {
    "duration": 407,
    "start_time": "2024-03-27T03:09:23.432Z"
   },
   {
    "duration": 396,
    "start_time": "2024-03-27T03:09:23.840Z"
   },
   {
    "duration": 21,
    "start_time": "2024-03-27T03:09:24.237Z"
   },
   {
    "duration": 12,
    "start_time": "2024-03-27T03:09:24.260Z"
   },
   {
    "duration": 30,
    "start_time": "2024-03-27T03:09:24.273Z"
   },
   {
    "duration": 5,
    "start_time": "2024-03-27T03:09:24.304Z"
   },
   {
    "duration": 4,
    "start_time": "2024-03-27T03:09:24.311Z"
   },
   {
    "duration": 12,
    "start_time": "2024-03-27T03:09:24.316Z"
   },
   {
    "duration": 3,
    "start_time": "2024-03-27T03:09:24.329Z"
   },
   {
    "duration": 12,
    "start_time": "2024-03-27T03:09:24.333Z"
   },
   {
    "duration": 13,
    "start_time": "2024-03-27T03:11:38.496Z"
   },
   {
    "duration": 9,
    "start_time": "2024-03-27T03:11:45.184Z"
   },
   {
    "duration": 92,
    "start_time": "2024-03-27T03:24:09.419Z"
   },
   {
    "duration": 93,
    "start_time": "2024-03-27T03:24:30.626Z"
   },
   {
    "duration": 115,
    "start_time": "2024-03-27T03:25:50.797Z"
   },
   {
    "duration": 117,
    "start_time": "2024-03-27T03:27:21.642Z"
   },
   {
    "duration": 7,
    "start_time": "2024-03-27T03:28:28.916Z"
   },
   {
    "duration": 2,
    "start_time": "2024-03-27T03:28:38.382Z"
   },
   {
    "duration": 10,
    "start_time": "2024-03-27T03:28:38.386Z"
   },
   {
    "duration": 6,
    "start_time": "2024-03-27T03:28:38.397Z"
   },
   {
    "duration": 8,
    "start_time": "2024-03-27T03:28:38.404Z"
   },
   {
    "duration": 6,
    "start_time": "2024-03-27T03:28:38.413Z"
   },
   {
    "duration": 34,
    "start_time": "2024-03-27T03:28:38.420Z"
   },
   {
    "duration": 9,
    "start_time": "2024-03-27T03:28:38.461Z"
   },
   {
    "duration": 35,
    "start_time": "2024-03-27T03:28:38.471Z"
   },
   {
    "duration": 8,
    "start_time": "2024-03-27T03:28:38.508Z"
   },
   {
    "duration": 17,
    "start_time": "2024-03-27T03:28:38.518Z"
   },
   {
    "duration": 7,
    "start_time": "2024-03-27T03:28:38.537Z"
   },
   {
    "duration": 8,
    "start_time": "2024-03-27T03:28:38.546Z"
   },
   {
    "duration": 7,
    "start_time": "2024-03-27T03:28:38.556Z"
   },
   {
    "duration": 8,
    "start_time": "2024-03-27T03:28:38.564Z"
   },
   {
    "duration": 4,
    "start_time": "2024-03-27T03:28:38.573Z"
   },
   {
    "duration": 24,
    "start_time": "2024-03-27T03:28:38.578Z"
   },
   {
    "duration": 82,
    "start_time": "2024-03-27T03:28:38.604Z"
   },
   {
    "duration": 5,
    "start_time": "2024-03-27T03:28:38.687Z"
   },
   {
    "duration": 6,
    "start_time": "2024-03-27T03:28:38.701Z"
   },
   {
    "duration": 4,
    "start_time": "2024-03-27T03:28:38.710Z"
   },
   {
    "duration": 7,
    "start_time": "2024-03-27T03:28:38.715Z"
   },
   {
    "duration": 169,
    "start_time": "2024-03-27T03:28:38.723Z"
   },
   {
    "duration": 132,
    "start_time": "2024-03-27T03:28:38.893Z"
   },
   {
    "duration": 247,
    "start_time": "2024-03-27T03:28:39.026Z"
   },
   {
    "duration": 551,
    "start_time": "2024-03-27T03:28:39.275Z"
   },
   {
    "duration": 95,
    "start_time": "2024-03-27T03:28:39.827Z"
   },
   {
    "duration": 334,
    "start_time": "2024-03-27T03:28:39.923Z"
   },
   {
    "duration": 130,
    "start_time": "2024-03-27T03:28:40.258Z"
   },
   {
    "duration": 18,
    "start_time": "2024-03-27T03:28:40.389Z"
   },
   {
    "duration": 0,
    "start_time": "2024-03-27T03:28:40.409Z"
   },
   {
    "duration": 0,
    "start_time": "2024-03-27T03:28:40.411Z"
   },
   {
    "duration": 0,
    "start_time": "2024-03-27T03:28:40.412Z"
   },
   {
    "duration": 0,
    "start_time": "2024-03-27T03:28:40.413Z"
   },
   {
    "duration": 0,
    "start_time": "2024-03-27T03:28:40.414Z"
   },
   {
    "duration": 0,
    "start_time": "2024-03-27T03:28:40.415Z"
   },
   {
    "duration": 0,
    "start_time": "2024-03-27T03:28:40.417Z"
   },
   {
    "duration": 0,
    "start_time": "2024-03-27T03:28:40.419Z"
   },
   {
    "duration": 0,
    "start_time": "2024-03-27T03:28:40.420Z"
   },
   {
    "duration": 0,
    "start_time": "2024-03-27T03:28:40.421Z"
   },
   {
    "duration": 0,
    "start_time": "2024-03-27T03:28:40.423Z"
   },
   {
    "duration": 0,
    "start_time": "2024-03-27T03:28:40.424Z"
   },
   {
    "duration": 0,
    "start_time": "2024-03-27T03:28:40.424Z"
   },
   {
    "duration": 6,
    "start_time": "2024-03-27T03:33:54.182Z"
   },
   {
    "duration": 3,
    "start_time": "2024-03-27T03:35:45.599Z"
   },
   {
    "duration": 4,
    "start_time": "2024-03-27T03:36:11.942Z"
   },
   {
    "duration": 3,
    "start_time": "2024-03-27T03:36:54.200Z"
   },
   {
    "duration": 4,
    "start_time": "2024-03-27T03:37:18.096Z"
   },
   {
    "duration": 2,
    "start_time": "2024-03-27T03:53:32.209Z"
   },
   {
    "duration": 4,
    "start_time": "2024-03-27T03:53:32.212Z"
   },
   {
    "duration": 3,
    "start_time": "2024-03-27T03:53:32.218Z"
   },
   {
    "duration": 2,
    "start_time": "2024-03-27T03:53:32.222Z"
   },
   {
    "duration": 5,
    "start_time": "2024-03-27T03:53:32.226Z"
   },
   {
    "duration": 32,
    "start_time": "2024-03-27T03:53:32.233Z"
   },
   {
    "duration": 10,
    "start_time": "2024-03-27T03:53:32.290Z"
   },
   {
    "duration": 31,
    "start_time": "2024-03-27T03:53:32.302Z"
   },
   {
    "duration": 9,
    "start_time": "2024-03-27T03:53:32.334Z"
   },
   {
    "duration": 20,
    "start_time": "2024-03-27T03:53:32.344Z"
   },
   {
    "duration": 8,
    "start_time": "2024-03-27T03:53:32.366Z"
   },
   {
    "duration": 11,
    "start_time": "2024-03-27T03:53:32.376Z"
   },
   {
    "duration": 14,
    "start_time": "2024-03-27T03:53:32.389Z"
   },
   {
    "duration": 9,
    "start_time": "2024-03-27T03:53:32.404Z"
   },
   {
    "duration": 5,
    "start_time": "2024-03-27T03:53:32.415Z"
   },
   {
    "duration": 5,
    "start_time": "2024-03-27T03:53:32.422Z"
   },
   {
    "duration": 7,
    "start_time": "2024-03-27T03:53:32.428Z"
   },
   {
    "duration": 5,
    "start_time": "2024-03-27T03:53:32.437Z"
   },
   {
    "duration": 13,
    "start_time": "2024-03-27T03:53:32.443Z"
   },
   {
    "duration": 5,
    "start_time": "2024-03-27T03:53:32.459Z"
   },
   {
    "duration": 40,
    "start_time": "2024-03-27T03:53:32.465Z"
   },
   {
    "duration": 163,
    "start_time": "2024-03-27T03:53:32.506Z"
   },
   {
    "duration": 128,
    "start_time": "2024-03-27T03:53:32.670Z"
   },
   {
    "duration": 233,
    "start_time": "2024-03-27T03:53:32.799Z"
   },
   {
    "duration": 650,
    "start_time": "2024-03-27T03:53:33.033Z"
   },
   {
    "duration": 100,
    "start_time": "2024-03-27T03:53:33.685Z"
   },
   {
    "duration": 250,
    "start_time": "2024-03-27T03:53:33.787Z"
   },
   {
    "duration": 97,
    "start_time": "2024-03-27T03:53:34.038Z"
   },
   {
    "duration": 3,
    "start_time": "2024-03-27T03:53:34.136Z"
   },
   {
    "duration": 9,
    "start_time": "2024-03-27T03:53:34.140Z"
   },
   {
    "duration": 8,
    "start_time": "2024-03-27T03:53:34.150Z"
   },
   {
    "duration": 19,
    "start_time": "2024-03-27T03:53:34.159Z"
   },
   {
    "duration": 2,
    "start_time": "2024-03-27T03:53:34.179Z"
   },
   {
    "duration": 29,
    "start_time": "2024-03-27T03:53:34.182Z"
   },
   {
    "duration": 12,
    "start_time": "2024-03-27T03:53:34.212Z"
   },
   {
    "duration": 419,
    "start_time": "2024-03-27T03:53:34.226Z"
   },
   {
    "duration": 490,
    "start_time": "2024-03-27T03:53:34.646Z"
   },
   {
    "duration": 23,
    "start_time": "2024-03-27T03:53:35.137Z"
   },
   {
    "duration": 12,
    "start_time": "2024-03-27T03:53:35.161Z"
   },
   {
    "duration": 29,
    "start_time": "2024-03-27T03:53:35.174Z"
   },
   {
    "duration": 5,
    "start_time": "2024-03-27T03:53:35.204Z"
   },
   {
    "duration": 7,
    "start_time": "2024-03-27T03:53:35.210Z"
   },
   {
    "duration": 21,
    "start_time": "2024-03-27T03:53:35.219Z"
   },
   {
    "duration": 3,
    "start_time": "2024-03-27T03:53:35.241Z"
   },
   {
    "duration": 17,
    "start_time": "2024-03-27T03:53:35.245Z"
   },
   {
    "duration": 5,
    "start_time": "2024-03-27T03:55:36.308Z"
   },
   {
    "duration": 5,
    "start_time": "2024-03-27T05:13:31.192Z"
   },
   {
    "duration": 4,
    "start_time": "2024-03-27T05:24:12.385Z"
   },
   {
    "duration": 7,
    "start_time": "2024-03-27T05:50:47.959Z"
   },
   {
    "duration": 9,
    "start_time": "2024-03-27T06:10:00.197Z"
   },
   {
    "duration": 10,
    "start_time": "2024-03-27T06:10:12.572Z"
   },
   {
    "duration": 9,
    "start_time": "2024-03-27T06:10:50.914Z"
   },
   {
    "duration": 8,
    "start_time": "2024-03-27T06:10:59.026Z"
   },
   {
    "duration": 8,
    "start_time": "2024-03-27T06:16:31.133Z"
   },
   {
    "duration": 4,
    "start_time": "2024-03-27T06:16:57.008Z"
   },
   {
    "duration": 4,
    "start_time": "2024-03-27T06:17:01.232Z"
   },
   {
    "duration": 7,
    "start_time": "2024-03-27T06:17:03.318Z"
   },
   {
    "duration": 8,
    "start_time": "2024-03-27T06:17:22.914Z"
   },
   {
    "duration": 4,
    "start_time": "2024-03-27T06:17:32.547Z"
   },
   {
    "duration": 7,
    "start_time": "2024-03-27T06:17:35.898Z"
   },
   {
    "duration": 7,
    "start_time": "2024-03-27T06:18:46.939Z"
   },
   {
    "duration": 8,
    "start_time": "2024-03-27T06:19:01.110Z"
   },
   {
    "duration": 9,
    "start_time": "2024-03-27T06:20:48.436Z"
   },
   {
    "duration": 5,
    "start_time": "2024-03-27T06:26:10.946Z"
   },
   {
    "duration": 6,
    "start_time": "2024-03-27T06:26:30.540Z"
   },
   {
    "duration": 3,
    "start_time": "2024-03-27T06:27:05.586Z"
   },
   {
    "duration": 5,
    "start_time": "2024-03-27T06:27:14.122Z"
   },
   {
    "duration": 9,
    "start_time": "2024-03-27T06:27:25.841Z"
   },
   {
    "duration": 9,
    "start_time": "2024-03-27T06:27:32.220Z"
   },
   {
    "duration": 8,
    "start_time": "2024-03-27T06:28:14.303Z"
   },
   {
    "duration": 4,
    "start_time": "2024-03-27T06:28:37.791Z"
   },
   {
    "duration": 3,
    "start_time": "2024-03-27T06:28:53.606Z"
   },
   {
    "duration": 7,
    "start_time": "2024-03-27T06:28:56.417Z"
   },
   {
    "duration": 127,
    "start_time": "2024-03-27T06:30:02.884Z"
   },
   {
    "duration": 117,
    "start_time": "2024-03-27T06:32:33.916Z"
   },
   {
    "duration": 108,
    "start_time": "2024-03-27T06:32:52.367Z"
   },
   {
    "duration": 3,
    "start_time": "2024-03-27T06:37:49.976Z"
   },
   {
    "duration": 21,
    "start_time": "2024-03-27T06:37:49.980Z"
   },
   {
    "duration": 5,
    "start_time": "2024-03-27T06:37:50.002Z"
   },
   {
    "duration": 6,
    "start_time": "2024-03-27T06:37:50.009Z"
   },
   {
    "duration": 5,
    "start_time": "2024-03-27T06:37:50.016Z"
   },
   {
    "duration": 17,
    "start_time": "2024-03-27T06:37:50.022Z"
   },
   {
    "duration": 38,
    "start_time": "2024-03-27T06:37:50.060Z"
   },
   {
    "duration": 9,
    "start_time": "2024-03-27T06:37:50.100Z"
   },
   {
    "duration": 44,
    "start_time": "2024-03-27T06:37:50.110Z"
   },
   {
    "duration": 10,
    "start_time": "2024-03-27T06:37:50.156Z"
   },
   {
    "duration": 27,
    "start_time": "2024-03-27T06:37:50.169Z"
   },
   {
    "duration": 8,
    "start_time": "2024-03-27T06:37:50.197Z"
   },
   {
    "duration": 16,
    "start_time": "2024-03-27T06:37:50.206Z"
   },
   {
    "duration": 8,
    "start_time": "2024-03-27T06:37:50.223Z"
   },
   {
    "duration": 9,
    "start_time": "2024-03-27T06:37:50.233Z"
   },
   {
    "duration": 6,
    "start_time": "2024-03-27T06:37:50.243Z"
   },
   {
    "duration": 32,
    "start_time": "2024-03-27T06:37:50.251Z"
   },
   {
    "duration": 20,
    "start_time": "2024-03-27T06:37:50.284Z"
   },
   {
    "duration": 10,
    "start_time": "2024-03-27T06:37:50.306Z"
   },
   {
    "duration": 12,
    "start_time": "2024-03-27T06:37:50.319Z"
   },
   {
    "duration": 8,
    "start_time": "2024-03-27T06:37:50.332Z"
   },
   {
    "duration": 8,
    "start_time": "2024-03-27T06:37:50.341Z"
   },
   {
    "duration": 176,
    "start_time": "2024-03-27T06:37:50.351Z"
   },
   {
    "duration": 122,
    "start_time": "2024-03-27T06:37:50.528Z"
   },
   {
    "duration": 243,
    "start_time": "2024-03-27T06:37:50.652Z"
   },
   {
    "duration": 662,
    "start_time": "2024-03-27T06:37:50.896Z"
   },
   {
    "duration": 97,
    "start_time": "2024-03-27T06:37:51.559Z"
   },
   {
    "duration": 254,
    "start_time": "2024-03-27T06:37:51.657Z"
   },
   {
    "duration": 96,
    "start_time": "2024-03-27T06:37:51.912Z"
   },
   {
    "duration": 4,
    "start_time": "2024-03-27T06:37:52.009Z"
   },
   {
    "duration": 6,
    "start_time": "2024-03-27T06:37:52.014Z"
   },
   {
    "duration": 37,
    "start_time": "2024-03-27T06:37:52.021Z"
   },
   {
    "duration": 60,
    "start_time": "2024-03-27T06:37:52.060Z"
   },
   {
    "duration": 18,
    "start_time": "2024-03-27T06:37:52.121Z"
   },
   {
    "duration": 49,
    "start_time": "2024-03-27T06:37:52.140Z"
   },
   {
    "duration": 33,
    "start_time": "2024-03-27T06:37:52.190Z"
   },
   {
    "duration": 390,
    "start_time": "2024-03-27T06:37:52.224Z"
   },
   {
    "duration": 482,
    "start_time": "2024-03-27T06:37:52.616Z"
   },
   {
    "duration": 22,
    "start_time": "2024-03-27T06:37:53.102Z"
   },
   {
    "duration": 12,
    "start_time": "2024-03-27T06:37:53.125Z"
   },
   {
    "duration": 5,
    "start_time": "2024-03-27T06:37:53.138Z"
   },
   {
    "duration": 12,
    "start_time": "2024-03-27T06:37:53.144Z"
   },
   {
    "duration": 5,
    "start_time": "2024-03-27T06:37:53.157Z"
   },
   {
    "duration": 4,
    "start_time": "2024-03-27T06:37:53.164Z"
   },
   {
    "duration": 9,
    "start_time": "2024-03-27T06:37:53.201Z"
   },
   {
    "duration": 3,
    "start_time": "2024-03-27T06:37:53.211Z"
   },
   {
    "duration": 8,
    "start_time": "2024-03-27T06:37:53.217Z"
   },
   {
    "duration": 19,
    "start_time": "2024-03-27T06:37:53.226Z"
   },
   {
    "duration": 0,
    "start_time": "2024-03-27T06:37:53.246Z"
   },
   {
    "duration": 0,
    "start_time": "2024-03-27T06:37:53.248Z"
   },
   {
    "duration": 8,
    "start_time": "2024-03-27T06:38:44.764Z"
   },
   {
    "duration": 7,
    "start_time": "2024-03-27T06:39:13.781Z"
   },
   {
    "duration": 5,
    "start_time": "2024-03-27T06:43:31.031Z"
   },
   {
    "duration": 4,
    "start_time": "2024-03-27T06:43:41.046Z"
   },
   {
    "duration": 7,
    "start_time": "2024-03-27T06:44:05.461Z"
   },
   {
    "duration": 149,
    "start_time": "2024-03-27T06:45:14.347Z"
   },
   {
    "duration": 8,
    "start_time": "2024-03-27T06:47:18.956Z"
   },
   {
    "duration": 4,
    "start_time": "2024-03-27T06:47:25.823Z"
   },
   {
    "duration": 8,
    "start_time": "2024-03-27T06:47:33.943Z"
   },
   {
    "duration": 4,
    "start_time": "2024-03-27T06:47:49.569Z"
   },
   {
    "duration": 153,
    "start_time": "2024-03-27T06:48:11.689Z"
   },
   {
    "duration": 92,
    "start_time": "2024-03-27T06:48:43.610Z"
   },
   {
    "duration": 224,
    "start_time": "2024-03-27T06:56:55.702Z"
   },
   {
    "duration": 7,
    "start_time": "2024-03-27T06:59:06.986Z"
   },
   {
    "duration": 8,
    "start_time": "2024-03-27T07:00:30.683Z"
   },
   {
    "duration": 8,
    "start_time": "2024-03-27T07:00:55.786Z"
   },
   {
    "duration": 4,
    "start_time": "2024-03-27T07:01:06.738Z"
   },
   {
    "duration": 7,
    "start_time": "2024-03-27T07:02:22.314Z"
   },
   {
    "duration": 49,
    "start_time": "2024-03-27T07:04:07.558Z"
   },
   {
    "duration": 167,
    "start_time": "2024-03-27T07:04:20.693Z"
   },
   {
    "duration": 156,
    "start_time": "2024-03-27T07:04:33.668Z"
   },
   {
    "duration": 156,
    "start_time": "2024-03-27T07:04:43.758Z"
   },
   {
    "duration": 156,
    "start_time": "2024-03-27T07:05:11.423Z"
   },
   {
    "duration": 109,
    "start_time": "2024-03-27T07:15:19.592Z"
   },
   {
    "duration": 5,
    "start_time": "2024-03-27T07:17:00.911Z"
   },
   {
    "duration": 69,
    "start_time": "2024-03-27T07:20:46.879Z"
   },
   {
    "duration": 5,
    "start_time": "2024-03-27T07:21:00.104Z"
   },
   {
    "duration": 118,
    "start_time": "2024-03-27T07:21:02.609Z"
   },
   {
    "duration": 2,
    "start_time": "2024-03-27T07:21:19.777Z"
   },
   {
    "duration": 10,
    "start_time": "2024-03-27T07:21:21.228Z"
   },
   {
    "duration": 4,
    "start_time": "2024-03-27T07:21:22.304Z"
   },
   {
    "duration": 6,
    "start_time": "2024-03-27T07:21:22.777Z"
   },
   {
    "duration": 406,
    "start_time": "2024-03-27T07:21:24.505Z"
   },
   {
    "duration": 5,
    "start_time": "2024-03-27T07:21:44.913Z"
   },
   {
    "duration": 2,
    "start_time": "2024-03-27T07:23:06.033Z"
   },
   {
    "duration": 19,
    "start_time": "2024-03-27T07:23:06.036Z"
   },
   {
    "duration": 4,
    "start_time": "2024-03-27T07:23:06.056Z"
   },
   {
    "duration": 15,
    "start_time": "2024-03-27T07:23:06.061Z"
   },
   {
    "duration": 8,
    "start_time": "2024-03-27T07:23:06.077Z"
   },
   {
    "duration": 11,
    "start_time": "2024-03-27T07:23:06.086Z"
   },
   {
    "duration": 50,
    "start_time": "2024-03-27T07:23:06.098Z"
   },
   {
    "duration": 9,
    "start_time": "2024-03-27T07:23:06.149Z"
   },
   {
    "duration": 33,
    "start_time": "2024-03-27T07:23:06.160Z"
   },
   {
    "duration": 9,
    "start_time": "2024-03-27T07:23:06.194Z"
   },
   {
    "duration": 36,
    "start_time": "2024-03-27T07:23:06.205Z"
   },
   {
    "duration": 9,
    "start_time": "2024-03-27T07:23:06.243Z"
   },
   {
    "duration": 19,
    "start_time": "2024-03-27T07:23:06.253Z"
   },
   {
    "duration": 8,
    "start_time": "2024-03-27T07:23:06.274Z"
   },
   {
    "duration": 9,
    "start_time": "2024-03-27T07:23:06.284Z"
   },
   {
    "duration": 6,
    "start_time": "2024-03-27T07:23:06.294Z"
   },
   {
    "duration": 17,
    "start_time": "2024-03-27T07:23:06.301Z"
   },
   {
    "duration": 10,
    "start_time": "2024-03-27T07:23:06.319Z"
   },
   {
    "duration": 9,
    "start_time": "2024-03-27T07:23:06.331Z"
   },
   {
    "duration": 9,
    "start_time": "2024-03-27T07:23:06.341Z"
   },
   {
    "duration": 5,
    "start_time": "2024-03-27T07:23:06.351Z"
   },
   {
    "duration": 12,
    "start_time": "2024-03-27T07:23:06.357Z"
   },
   {
    "duration": 173,
    "start_time": "2024-03-27T07:23:06.370Z"
   },
   {
    "duration": 135,
    "start_time": "2024-03-27T07:23:06.545Z"
   },
   {
    "duration": 346,
    "start_time": "2024-03-27T07:23:06.702Z"
   },
   {
    "duration": 570,
    "start_time": "2024-03-27T07:23:07.049Z"
   },
   {
    "duration": 101,
    "start_time": "2024-03-27T07:23:07.622Z"
   },
   {
    "duration": 384,
    "start_time": "2024-03-27T07:23:07.725Z"
   },
   {
    "duration": 101,
    "start_time": "2024-03-27T07:23:08.111Z"
   },
   {
    "duration": 3,
    "start_time": "2024-03-27T07:23:08.213Z"
   },
   {
    "duration": 20,
    "start_time": "2024-03-27T07:23:08.217Z"
   },
   {
    "duration": 6,
    "start_time": "2024-03-27T07:23:08.238Z"
   },
   {
    "duration": 27,
    "start_time": "2024-03-27T07:23:08.245Z"
   },
   {
    "duration": 3,
    "start_time": "2024-03-27T07:23:08.274Z"
   },
   {
    "duration": 25,
    "start_time": "2024-03-27T07:23:08.278Z"
   },
   {
    "duration": 13,
    "start_time": "2024-03-27T07:23:08.304Z"
   },
   {
    "duration": 412,
    "start_time": "2024-03-27T07:23:08.318Z"
   },
   {
    "duration": 391,
    "start_time": "2024-03-27T07:23:08.731Z"
   },
   {
    "duration": 21,
    "start_time": "2024-03-27T07:23:09.123Z"
   },
   {
    "duration": 14,
    "start_time": "2024-03-27T07:23:09.145Z"
   },
   {
    "duration": 18,
    "start_time": "2024-03-27T07:23:09.160Z"
   },
   {
    "duration": 23,
    "start_time": "2024-03-27T07:23:09.179Z"
   },
   {
    "duration": 4,
    "start_time": "2024-03-27T07:23:09.204Z"
   },
   {
    "duration": 19,
    "start_time": "2024-03-27T07:23:09.209Z"
   },
   {
    "duration": 42,
    "start_time": "2024-03-27T07:23:09.230Z"
   },
   {
    "duration": 3,
    "start_time": "2024-03-27T07:23:09.273Z"
   },
   {
    "duration": 16,
    "start_time": "2024-03-27T07:23:09.277Z"
   },
   {
    "duration": 7,
    "start_time": "2024-03-27T07:23:09.294Z"
   },
   {
    "duration": 22,
    "start_time": "2024-03-27T07:23:09.302Z"
   },
   {
    "duration": 368,
    "start_time": "2024-03-27T07:23:09.325Z"
   },
   {
    "duration": 7,
    "start_time": "2024-03-27T07:23:09.695Z"
   },
   {
    "duration": 26086,
    "start_time": "2024-03-27T07:23:09.703Z"
   },
   {
    "duration": 25959,
    "start_time": "2024-03-27T07:28:06.087Z"
   },
   {
    "duration": 147,
    "start_time": "2024-03-27T07:30:45.755Z"
   },
   {
    "duration": 164,
    "start_time": "2024-03-27T07:34:42.897Z"
   },
   {
    "duration": 94,
    "start_time": "2024-03-27T07:35:06.129Z"
   },
   {
    "duration": 162,
    "start_time": "2024-03-27T07:35:43.833Z"
   },
   {
    "duration": 156,
    "start_time": "2024-03-27T07:36:03.714Z"
   },
   {
    "duration": 173,
    "start_time": "2024-03-27T07:37:45.064Z"
   },
   {
    "duration": 379,
    "start_time": "2024-03-27T07:38:04.112Z"
   },
   {
    "duration": 176,
    "start_time": "2024-03-27T07:38:50.136Z"
   },
   {
    "duration": 172,
    "start_time": "2024-03-27T07:41:17.448Z"
   },
   {
    "duration": 178,
    "start_time": "2024-03-27T07:47:55.519Z"
   },
   {
    "duration": 165,
    "start_time": "2024-03-27T07:48:07.952Z"
   },
   {
    "duration": 195,
    "start_time": "2024-03-27T07:51:25.119Z"
   },
   {
    "duration": 167,
    "start_time": "2024-03-27T07:52:14.072Z"
   },
   {
    "duration": 92,
    "start_time": "2024-03-27T07:53:18.376Z"
   },
   {
    "duration": 89,
    "start_time": "2024-03-27T07:53:40.744Z"
   },
   {
    "duration": 161,
    "start_time": "2024-03-27T07:54:25.823Z"
   },
   {
    "duration": 195,
    "start_time": "2024-03-27T08:01:18.627Z"
   },
   {
    "duration": 179,
    "start_time": "2024-03-27T08:01:30.692Z"
   },
   {
    "duration": 203,
    "start_time": "2024-03-27T08:01:55.044Z"
   },
   {
    "duration": 4,
    "start_time": "2024-03-27T08:14:02.793Z"
   },
   {
    "duration": 8,
    "start_time": "2024-03-27T08:14:29.394Z"
   },
   {
    "duration": 52,
    "start_time": "2024-03-27T08:16:01.394Z"
   },
   {
    "duration": 985,
    "start_time": "2024-03-27T08:55:53.860Z"
   },
   {
    "duration": 7,
    "start_time": "2024-03-27T08:56:04.348Z"
   },
   {
    "duration": 14,
    "start_time": "2024-03-27T08:59:01.606Z"
   },
   {
    "duration": 5,
    "start_time": "2024-03-27T09:00:01.541Z"
   },
   {
    "duration": 2,
    "start_time": "2024-03-27T09:01:33.141Z"
   },
   {
    "duration": 19,
    "start_time": "2024-03-27T09:01:33.145Z"
   },
   {
    "duration": 14,
    "start_time": "2024-03-27T09:01:33.165Z"
   },
   {
    "duration": 6,
    "start_time": "2024-03-27T09:01:33.180Z"
   },
   {
    "duration": 3,
    "start_time": "2024-03-27T09:01:33.187Z"
   },
   {
    "duration": 4,
    "start_time": "2024-03-27T09:01:33.192Z"
   },
   {
    "duration": 31,
    "start_time": "2024-03-27T09:01:33.222Z"
   },
   {
    "duration": 8,
    "start_time": "2024-03-27T09:01:33.255Z"
   },
   {
    "duration": 29,
    "start_time": "2024-03-27T09:01:33.264Z"
   },
   {
    "duration": 8,
    "start_time": "2024-03-27T09:01:33.294Z"
   },
   {
    "duration": 18,
    "start_time": "2024-03-27T09:01:33.304Z"
   },
   {
    "duration": 8,
    "start_time": "2024-03-27T09:01:33.323Z"
   },
   {
    "duration": 14,
    "start_time": "2024-03-27T09:01:33.332Z"
   },
   {
    "duration": 8,
    "start_time": "2024-03-27T09:01:33.347Z"
   },
   {
    "duration": 10,
    "start_time": "2024-03-27T09:01:33.356Z"
   },
   {
    "duration": 2,
    "start_time": "2024-03-27T09:01:33.367Z"
   },
   {
    "duration": 8,
    "start_time": "2024-03-27T09:01:33.370Z"
   },
   {
    "duration": 7,
    "start_time": "2024-03-27T09:01:33.401Z"
   },
   {
    "duration": 13,
    "start_time": "2024-03-27T09:01:33.409Z"
   },
   {
    "duration": 5,
    "start_time": "2024-03-27T09:01:33.425Z"
   },
   {
    "duration": 13,
    "start_time": "2024-03-27T09:01:33.432Z"
   },
   {
    "duration": 5,
    "start_time": "2024-03-27T09:01:33.446Z"
   },
   {
    "duration": 4,
    "start_time": "2024-03-27T09:01:33.452Z"
   },
   {
    "duration": 168,
    "start_time": "2024-03-27T09:01:33.458Z"
   },
   {
    "duration": 122,
    "start_time": "2024-03-27T09:01:33.627Z"
   },
   {
    "duration": 261,
    "start_time": "2024-03-27T09:01:33.750Z"
   },
   {
    "duration": 745,
    "start_time": "2024-03-27T09:01:34.012Z"
   },
   {
    "duration": 105,
    "start_time": "2024-03-27T09:01:34.758Z"
   },
   {
    "duration": 254,
    "start_time": "2024-03-27T09:01:34.864Z"
   },
   {
    "duration": 104,
    "start_time": "2024-03-27T09:01:35.120Z"
   },
   {
    "duration": 4,
    "start_time": "2024-03-27T09:01:35.225Z"
   },
   {
    "duration": 6,
    "start_time": "2024-03-27T09:01:35.231Z"
   },
   {
    "duration": 7,
    "start_time": "2024-03-27T09:01:35.238Z"
   },
   {
    "duration": 30,
    "start_time": "2024-03-27T09:01:35.246Z"
   },
   {
    "duration": 3,
    "start_time": "2024-03-27T09:01:35.278Z"
   },
   {
    "duration": 30,
    "start_time": "2024-03-27T09:01:35.283Z"
   },
   {
    "duration": 11,
    "start_time": "2024-03-27T09:01:35.315Z"
   },
   {
    "duration": 490,
    "start_time": "2024-03-27T09:01:35.328Z"
   },
   {
    "duration": 408,
    "start_time": "2024-03-27T09:01:35.819Z"
   },
   {
    "duration": 22,
    "start_time": "2024-03-27T09:01:36.228Z"
   },
   {
    "duration": 11,
    "start_time": "2024-03-27T09:01:36.251Z"
   },
   {
    "duration": 5,
    "start_time": "2024-03-27T09:01:36.264Z"
   },
   {
    "duration": 35,
    "start_time": "2024-03-27T09:01:36.270Z"
   },
   {
    "duration": 10,
    "start_time": "2024-03-27T09:01:36.306Z"
   },
   {
    "duration": 5,
    "start_time": "2024-03-27T09:01:36.317Z"
   },
   {
    "duration": 11,
    "start_time": "2024-03-27T09:01:36.324Z"
   },
   {
    "duration": 2,
    "start_time": "2024-03-27T09:01:36.339Z"
   },
   {
    "duration": 13,
    "start_time": "2024-03-27T09:01:36.342Z"
   },
   {
    "duration": 7,
    "start_time": "2024-03-27T09:01:36.356Z"
   },
   {
    "duration": 7,
    "start_time": "2024-03-27T09:01:36.364Z"
   },
   {
    "duration": 198,
    "start_time": "2024-03-27T09:01:36.373Z"
   },
   {
    "duration": 7,
    "start_time": "2024-03-27T09:01:36.573Z"
   },
   {
    "duration": 219,
    "start_time": "2024-03-27T09:01:36.582Z"
   }
  ],
  "kernelspec": {
   "display_name": "Python 3 (ipykernel)",
   "language": "python",
   "name": "python3"
  },
  "language_info": {
   "codemirror_mode": {
    "name": "ipython",
    "version": 3
   },
   "file_extension": ".py",
   "mimetype": "text/x-python",
   "name": "python",
   "nbconvert_exporter": "python",
   "pygments_lexer": "ipython3",
   "version": "3.9.5"
  },
  "toc": {
   "base_numbering": 1,
   "nav_menu": {},
   "number_sections": true,
   "sideBar": true,
   "skip_h1_title": true,
   "title_cell": "Table of Contents",
   "title_sidebar": "Contents",
   "toc_cell": false,
   "toc_position": {},
   "toc_section_display": true,
   "toc_window_display": true
  }
 },
 "nbformat": 4,
 "nbformat_minor": 5
}
