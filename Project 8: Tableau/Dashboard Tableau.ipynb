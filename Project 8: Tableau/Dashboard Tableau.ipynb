{
 "cells": [
  {
   "cell_type": "markdown",
   "id": "bbde8a56",
   "metadata": {},
   "source": [
    "# Проект \"Построение дашборда в Tableau\""
   ]
  },
  {
   "cell_type": "markdown",
   "id": "786531c3",
   "metadata": {},
   "source": [
    "***Описание проекта***\n",
    "TED (от англ. technology, education, design — «технологии, образование, дизайн») — некоммерческий фонд, который проводит популярные конференции. На них выступают специалисты из разных областей и читают лекции на актуальные социальные, культурные и научные темы. \n",
    "В разное время на TED-конференциях выступали математик Бенуа Мандельброт, теоретик искусственного интеллекта Марвин Минский, спортсменка Дана Ньяд и основатель Google Ларри Пейдж. В истории TED также были неоднозначные и даже скандальные выступления. Например, в 2010 году на конференции выступил Рэнди Пауэлл с рассказом о псевдонаучной «вихревой математике», а в 2014 году в конференции TEDMED участвовала Элизабет Холмс — основательница печально известного стартапа Theranos."
   ]
  },
  {
   "cell_type": "markdown",
   "id": "467c8ba2",
   "metadata": {},
   "source": [
    "***Описание данных***\n",
    "\n",
    "Файлы tableau_project_data_1.csv, tableau_project_data_2.csv, tableau_project_data_3.csv хранят данные выступлений. У них одинаковая структура:\n",
    "\n",
    "talk_id — идентификатор выступления;\\\n",
    "url — ссылка на запись выступления;\\\n",
    "title — название выступления;\\\n",
    "description — краткое описание;\\\n",
    "film_date — дата записи выступления;\\\n",
    "duration — длительность в секундах;\\\n",
    "views — количество просмотров;\\\n",
    "main_tag — основная категория, к которой относится выступление;\\\n",
    "speaker_id — уникальный идентификатор автора выступления;\\\n",
    "laughter_count — количество раз, когда аудитория смеялась в ходе выступления;\\\n",
    "applause_count — количество раз, когда аудитория аплодировала в ходе выступления;\\\n",
    "language — язык, на котором велось выступление;\\\n",
    "event_id — уникальный идентификатор конференции.\n",
    "\n",
    "Файл tableau_project_event_dict.csv — справочник конференций.\\\n",
    "Описание таблицы:\\\n",
    "conf_id — уникальный идентификатор конференции;\\\n",
    "event — название конференции;\\\n",
    "country — страна проведения конференции.\n",
    "\n",
    "Файл tableau_project_speakers_dict.csv — справочник авторов выступления. \\\n",
    "Описание таблицы:\\\n",
    "author_id — уникальный идентификатор автора выступления;\\\n",
    "speaker_name — имя автора;\\\n",
    "speaker_occupation — профессиональная область автора;\\\n",
    "speaker_description — описание профессиональной деятельности автора.\n",
    "\n",
    "Набор данных проекта мог вам напомнить известный датасет TED Talks, размещённый в библиотеке Kaggle. Он не является его копией: мы собрали данные на основе материалов сайта TED с помощью специальной программы."
   ]
  },
  {
   "cell_type": "markdown",
   "id": "48931a2a",
   "metadata": {},
   "source": [
    "Проект https://public.tableau.com/views/_17228628365170/Story1?:language=en-US&:sid=&:redirect=auth&:display_count=n&:origin=viz_share_link"
   ]
  }
 ],
 "metadata": {
  "ExecuteTimeLog": [
   {
    "duration": 77,
    "start_time": "2024-08-07T00:21:57.221Z"
   }
  ],
  "kernelspec": {
   "display_name": "Python 3 (ipykernel)",
   "language": "python",
   "name": "python3"
  },
  "language_info": {
   "codemirror_mode": {
    "name": "ipython",
    "version": 3
   },
   "file_extension": ".py",
   "mimetype": "text/x-python",
   "name": "python",
   "nbconvert_exporter": "python",
   "pygments_lexer": "ipython3",
   "version": "3.9.5"
  },
  "toc": {
   "base_numbering": 1,
   "nav_menu": {},
   "number_sections": true,
   "sideBar": true,
   "skip_h1_title": true,
   "title_cell": "Table of Contents",
   "title_sidebar": "Contents",
   "toc_cell": false,
   "toc_position": {},
   "toc_section_display": true,
   "toc_window_display": false
  }
 },
 "nbformat": 4,
 "nbformat_minor": 5
}
